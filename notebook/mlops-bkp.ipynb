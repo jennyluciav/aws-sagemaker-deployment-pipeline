{
 "cells": [
  {
   "cell_type": "markdown",
   "metadata": {},
   "source": [
    "# MLOps Deployment Pipeline\n",
    "\n",
    "\n",
    "## Overview\n",
    "\n",
    "En este notebook, iremos paso a paso por un pipeline de MLOps para construir, entrenar, implementar y monitorear un modelo de regresión XGBoost que predice la tarifa de taxi esperada usando el [dataset](https://registry.opendata.aws/nyc-tlc-trip-records-pds/) \"New York City Taxi\". Este pipeline presenta una estrategia de [implementación canaria](https://docs.aws.amazon.com/wellarchitected/latest/machine-learning-lens/canary-deployment.html) con reversión en caso de error. La idea es poder entender cómo activar y monitorear el pipeline, inspeccionar el flujo de trabajo de entrenamiento, usar model monitor para configurar alertas y crear una implementación canary.\n",
    "\n",
    "### Contenido\n",
    "\n",
    "Este notebook contiene las siguientes secciones:\n",
    "\n",
    "1. [Data Prep](#Data-Prep)\n",
    "2. [Build](#Build)\n",
    "3. [Train Model](#Train-Model)\n",
    "4. [Deploy Dev](#Deploy-Dev)\n",
    "5. [Deploy Prod](#Deploy-Prod)\n",
    "6. [Monitor](#Monitor)\n",
    "6. [Cleanup](#Cleanup)\n",
    "\n",
    "### Arquitectura\n",
    "\n",
    "El diagrama de arquitectura a continuación muestra todo el pipeline de MLOps a un alto nivel.\n",
    "\n",
    "Usaremos la plantilla de CloudFormation proporcionada en este repositorio (`pipeline.yml`) para crear una demo en su propia cuenta de AWS. CloudFormation implementa varios recursos:\n",
    "   \n",
    "1. Una clave de cifrado administrada por el cliente en Amazon KMS para cifrar datos y artefactos.\n",
    "1. Un secreto en Amazon Secrets Manager para almacenar de forma segura su token de acceso de GitHub.\n",
    "1. Varias funciones de AWS IAM para que CloudFormation, SageMaker y otros servicios de AWS puedan realizar acciones en su cuenta de AWS, siguiendo el principio de [mínimo privilegio](https://docs.aws.amazon.com/IAM/latest/UserGuide/best-practices.html#grant-least-privilege)⇗.\n",
    "1. Un servicio de mensajería en Amazon SNS para notificarle cuando CodeDeploy ha implementado correctamente la API y para recibir alertas de reentrenamiento y detección de desviaciones (registrarse para recibir estas notificaciones es opcional).\n",
    "1. Dos reglas de eventos de Amazon CloudWatch: una que programa la ejecución del pipeline todos los meses y otra que activa la ejecución del pipeline cuando SageMaker Model Monitor detecta determinadas métricas.\n",
    "1. Un notebook de Jupyter de Amazon SageMaker con el contenido de esta demo precargado.\n",
    "1. Una instancia de AWS CodePipeline con varias etapas predefinidas.\n",
    "\n",
    "Tomemos un momento para ver todos estos recursos ahora implementados en la cuenta.\n",
    "\n",
    "![MLOps pipeline architecture](../docs/mlops-architecture.png)\n",
    "\n",
    "En este notebook, trabajaremos a través de una instancia de CodePipeline creada por la plantilla de CloudFormation. Tiene varias etapas:\n",
    "\n",
    "1. **Source** - El pipeline ya está configurado con dos fuentes. Si carga un nuevo conjunto de datos en una ubicación específica en el bucket de S3, esto activará la ejecución del pipeline. La fuente de Git puede ser GitHub o CodeCommit si no proporciona su token de acceso. Si envías código nuevo a tu repositorio, esto activará la ejecución del pipeline.\n",
    "1. **Build** - En esta etapa, CodeBuild configurado por el archivo `model/buildspec.yml` ejecutará ` model/run.py` para generar plantillas de AWS CloudFormation para crear un Step Function (incluidos los recursos personalizados de AWS Lambda) y las plantillas de implementación utilizadas en las siguientes etapas según los conjuntos de datos y los hiperparámetros especificados para esta ejecución del pipeline.\n",
    "1. **Train** El workflow de Step Functions creado en la etapa Build se ejecuta en esta etapa. El flujo de trabajo crea un baseline para el monitor de modelo usando un trabajo de procesamiento de SageMaker y entrena un modelo XGBoost en el dataset usando un job de entrenamiento de SageMaker.\n",
    "1. **Deploy Dev** En esta etapa, una plantilla de CloudFormation creada en la etapa de Build (de `assets/deploy-model-dev.yml`) implementa un endpoint de desarrollo. Esto le permitirá ejecutar pruebas en el modelo y decidir si el modelo es de calidad suficiente para implementarlo en producción.\n",
    "1. **Deploy Production** La etapa final del pipeline es la única etapa que no se ejecuta automáticamente tan pronto como se completa la etapa anterior. Espera a que un usuario apruebe manualmente el modelo que se implementó previamente en dev. Tan pronto como se aprueba el modelo, una plantilla de CloudFormation (empaquetada desde `assets/deploy-model-prod.yml` para incluir las funciones Lambda guardadas y cargadas como archivos ZIP en S3) implementa el endpoiny de producción. Configura el ajuste de escala automático y habilita la captura de datos. Crea un programa de monitoreo de modelos y establece alarmas de CloudWatch para ciertas métricas. También configura una instancia de AWS CodeDeploy que implementa un conjunto de funciones de AWS Lambda y un API Gateway para ubicarse frente al endpoint de SageMaker. Esta etapa puede hacer uso de la implementación de canary para cambiar de forma segura de un modelo antiguo a un modelo nuevo."
   ]
  },
  {
   "cell_type": "code",
   "execution_count": 1,
   "metadata": {},
   "outputs": [
    {
     "name": "stdout",
     "output_type": "stream",
     "text": [
      "Requirement already satisfied: pip in /home/ec2-user/anaconda3/envs/python3/lib/python3.6/site-packages (21.2.4)\n",
      "\u001b[31mERROR: pip's dependency resolver does not currently take into account all the packages that are installed. This behaviour is the source of the following dependency conflicts.\n",
      "aiobotocore 1.3.0 requires botocore<1.20.50,>=1.20.49, but you have botocore 1.21.44 which is incompatible.\u001b[0m\n",
      "Name: sagemaker\n",
      "Version: 2.59.2\n",
      "Summary: Open source library for training and deploying models on Amazon SageMaker.\n",
      "Home-page: https://github.com/aws/sagemaker-python-sdk/\n",
      "Author: Amazon Web Services\n",
      "Author-email: \n",
      "License: Apache License 2.0\n",
      "Location: /home/ec2-user/anaconda3/envs/python3/lib/python3.6/site-packages\n",
      "Requires: numpy, boto3, pandas, smdebug-rulesconfig, protobuf, importlib-metadata, protobuf3-to-dict, pathos, attrs, google-pasta, packaging\n",
      "Required-by: stepfunctions\n",
      "---\n",
      "Name: stepfunctions\n",
      "Version: 2.0.0\n",
      "Summary: Open source library for develping data science workflows on AWS Step Functions.\n",
      "Home-page: https://github.com/aws/aws-step-functions-data-science-sdk-python\n",
      "Author: Amazon Web Services\n",
      "Author-email: \n",
      "License: Apache License 2.0\n",
      "Location: /home/ec2-user/anaconda3/envs/python3/lib/python3.6/site-packages\n",
      "Requires: pyyaml, sagemaker, boto3\n",
      "Required-by: \n"
     ]
    }
   ],
   "source": [
    "# Importamos las librerías necesarias\n",
    "import sys\n",
    "!{sys.executable} -m pip install --upgrade pip\n",
    "!{sys.executable} -m pip install -qU awscli boto3 \"sagemaker>=2.1.0<3\" tqdm\n",
    "!{sys.executable} -m pip install -qU \"stepfunctions==2.0.0\"\n",
    "!{sys.executable} -m pip show sagemaker stepfunctions"
   ]
  },
  {
   "cell_type": "markdown",
   "metadata": {},
   "source": [
    "Podría ser necesario reiniciar el kernel de Sagemaker para continuar."
   ]
  },
  {
   "cell_type": "markdown",
   "metadata": {},
   "source": [
    "## Data Prep\n",
    "\n",
    "En esta sección del cuaderno, descargaremos el dataset disponible públicamente como preparación para cargarlo en S3.\n",
    "\n",
    "### Descargar Dataset\n",
    "\n",
    "Primero, descargamos una muestra del [dataset](https://registry.opendata.aws/nyc-tlc-trip-records-pds/)⇗. This dataset contains information on trips taken by taxis and for-hire vehicles in New York City, including pick-up and drop-off times and locations, fares, distance traveled, and more. "
   ]
  },
  {
   "cell_type": "code",
   "execution_count": 2,
   "metadata": {},
   "outputs": [
    {
     "name": "stdout",
     "output_type": "stream",
     "text": [
      "download: s3://nyc-tlc/trip data/green_tripdata_2018-02.csv to ./nyc-tlc.csv\n"
     ]
    }
   ],
   "source": [
    "!aws s3 cp 's3://nyc-tlc/trip data/green_tripdata_2018-02.csv' 'nyc-tlc.csv'"
   ]
  },
  {
   "cell_type": "markdown",
   "metadata": {},
   "source": [
    "Cargamos el dataset en un dataframe de pandas, teniendo cuidado de parsear correctamente las fechas."
   ]
  },
  {
   "cell_type": "code",
   "execution_count": 3,
   "metadata": {},
   "outputs": [
    {
     "data": {
      "text/html": [
       "<div>\n",
       "<style scoped>\n",
       "    .dataframe tbody tr th:only-of-type {\n",
       "        vertical-align: middle;\n",
       "    }\n",
       "\n",
       "    .dataframe tbody tr th {\n",
       "        vertical-align: top;\n",
       "    }\n",
       "\n",
       "    .dataframe thead th {\n",
       "        text-align: right;\n",
       "    }\n",
       "</style>\n",
       "<table border=\"1\" class=\"dataframe\">\n",
       "  <thead>\n",
       "    <tr style=\"text-align: right;\">\n",
       "      <th></th>\n",
       "      <th>VendorID</th>\n",
       "      <th>lpep_pickup_datetime</th>\n",
       "      <th>lpep_dropoff_datetime</th>\n",
       "      <th>store_and_fwd_flag</th>\n",
       "      <th>RatecodeID</th>\n",
       "      <th>PULocationID</th>\n",
       "      <th>DOLocationID</th>\n",
       "      <th>passenger_count</th>\n",
       "      <th>trip_distance</th>\n",
       "      <th>fare_amount</th>\n",
       "      <th>extra</th>\n",
       "      <th>mta_tax</th>\n",
       "      <th>tip_amount</th>\n",
       "      <th>tolls_amount</th>\n",
       "      <th>ehail_fee</th>\n",
       "      <th>improvement_surcharge</th>\n",
       "      <th>total_amount</th>\n",
       "      <th>payment_type</th>\n",
       "      <th>trip_type</th>\n",
       "    </tr>\n",
       "  </thead>\n",
       "  <tbody>\n",
       "    <tr>\n",
       "      <th>0</th>\n",
       "      <td>2</td>\n",
       "      <td>2018-02-01 00:39:38</td>\n",
       "      <td>2018-02-01 00:39:41</td>\n",
       "      <td>N</td>\n",
       "      <td>5</td>\n",
       "      <td>97</td>\n",
       "      <td>65</td>\n",
       "      <td>1</td>\n",
       "      <td>0.00</td>\n",
       "      <td>20.0</td>\n",
       "      <td>0.0</td>\n",
       "      <td>0.0</td>\n",
       "      <td>3.00</td>\n",
       "      <td>0.0</td>\n",
       "      <td>NaN</td>\n",
       "      <td>0.0</td>\n",
       "      <td>23.00</td>\n",
       "      <td>1</td>\n",
       "      <td>2</td>\n",
       "    </tr>\n",
       "    <tr>\n",
       "      <th>1</th>\n",
       "      <td>2</td>\n",
       "      <td>2018-02-01 00:58:28</td>\n",
       "      <td>2018-02-01 01:05:35</td>\n",
       "      <td>N</td>\n",
       "      <td>1</td>\n",
       "      <td>256</td>\n",
       "      <td>80</td>\n",
       "      <td>5</td>\n",
       "      <td>1.60</td>\n",
       "      <td>7.5</td>\n",
       "      <td>0.5</td>\n",
       "      <td>0.5</td>\n",
       "      <td>0.88</td>\n",
       "      <td>0.0</td>\n",
       "      <td>NaN</td>\n",
       "      <td>0.3</td>\n",
       "      <td>9.68</td>\n",
       "      <td>1</td>\n",
       "      <td>1</td>\n",
       "    </tr>\n",
       "    <tr>\n",
       "      <th>2</th>\n",
       "      <td>2</td>\n",
       "      <td>2018-02-01 00:56:05</td>\n",
       "      <td>2018-02-01 01:18:54</td>\n",
       "      <td>N</td>\n",
       "      <td>1</td>\n",
       "      <td>25</td>\n",
       "      <td>95</td>\n",
       "      <td>1</td>\n",
       "      <td>9.60</td>\n",
       "      <td>28.5</td>\n",
       "      <td>0.5</td>\n",
       "      <td>0.5</td>\n",
       "      <td>5.96</td>\n",
       "      <td>0.0</td>\n",
       "      <td>NaN</td>\n",
       "      <td>0.3</td>\n",
       "      <td>35.76</td>\n",
       "      <td>1</td>\n",
       "      <td>1</td>\n",
       "    </tr>\n",
       "    <tr>\n",
       "      <th>3</th>\n",
       "      <td>2</td>\n",
       "      <td>2018-02-01 00:12:40</td>\n",
       "      <td>2018-02-01 00:15:50</td>\n",
       "      <td>N</td>\n",
       "      <td>1</td>\n",
       "      <td>61</td>\n",
       "      <td>61</td>\n",
       "      <td>1</td>\n",
       "      <td>0.73</td>\n",
       "      <td>4.5</td>\n",
       "      <td>0.5</td>\n",
       "      <td>0.5</td>\n",
       "      <td>0.00</td>\n",
       "      <td>0.0</td>\n",
       "      <td>NaN</td>\n",
       "      <td>0.3</td>\n",
       "      <td>5.80</td>\n",
       "      <td>2</td>\n",
       "      <td>1</td>\n",
       "    </tr>\n",
       "    <tr>\n",
       "      <th>4</th>\n",
       "      <td>2</td>\n",
       "      <td>2018-02-01 00:45:18</td>\n",
       "      <td>2018-02-01 00:51:56</td>\n",
       "      <td>N</td>\n",
       "      <td>1</td>\n",
       "      <td>65</td>\n",
       "      <td>17</td>\n",
       "      <td>2</td>\n",
       "      <td>1.87</td>\n",
       "      <td>8.0</td>\n",
       "      <td>0.5</td>\n",
       "      <td>0.5</td>\n",
       "      <td>0.00</td>\n",
       "      <td>0.0</td>\n",
       "      <td>NaN</td>\n",
       "      <td>0.3</td>\n",
       "      <td>9.30</td>\n",
       "      <td>2</td>\n",
       "      <td>1</td>\n",
       "    </tr>\n",
       "  </tbody>\n",
       "</table>\n",
       "</div>"
      ],
      "text/plain": [
       "   VendorID lpep_pickup_datetime lpep_dropoff_datetime store_and_fwd_flag  \\\n",
       "0         2  2018-02-01 00:39:38   2018-02-01 00:39:41                  N   \n",
       "1         2  2018-02-01 00:58:28   2018-02-01 01:05:35                  N   \n",
       "2         2  2018-02-01 00:56:05   2018-02-01 01:18:54                  N   \n",
       "3         2  2018-02-01 00:12:40   2018-02-01 00:15:50                  N   \n",
       "4         2  2018-02-01 00:45:18   2018-02-01 00:51:56                  N   \n",
       "\n",
       "   RatecodeID  PULocationID  DOLocationID  passenger_count  trip_distance  \\\n",
       "0           5            97            65                1           0.00   \n",
       "1           1           256            80                5           1.60   \n",
       "2           1            25            95                1           9.60   \n",
       "3           1            61            61                1           0.73   \n",
       "4           1            65            17                2           1.87   \n",
       "\n",
       "   fare_amount  extra  mta_tax  tip_amount  tolls_amount  ehail_fee  \\\n",
       "0         20.0    0.0      0.0        3.00           0.0        NaN   \n",
       "1          7.5    0.5      0.5        0.88           0.0        NaN   \n",
       "2         28.5    0.5      0.5        5.96           0.0        NaN   \n",
       "3          4.5    0.5      0.5        0.00           0.0        NaN   \n",
       "4          8.0    0.5      0.5        0.00           0.0        NaN   \n",
       "\n",
       "   improvement_surcharge  total_amount  payment_type  trip_type  \n",
       "0                    0.0         23.00             1          2  \n",
       "1                    0.3          9.68             1          1  \n",
       "2                    0.3         35.76             1          1  \n",
       "3                    0.3          5.80             2          1  \n",
       "4                    0.3          9.30             2          1  "
      ]
     },
     "execution_count": 3,
     "metadata": {},
     "output_type": "execute_result"
    }
   ],
   "source": [
    "import pandas as pd\n",
    "\n",
    "parse_dates= ['lpep_dropoff_datetime', 'lpep_pickup_datetime']\n",
    "trip_df = pd.read_csv('nyc-tlc.csv', parse_dates=parse_dates)\n",
    "\n",
    "trip_df.head()"
   ]
  },
  {
   "cell_type": "markdown",
   "metadata": {},
   "source": [
    "### Data manipulation\n",
    "\n",
    "En lugar de usar las fechas y horas de recojo y llegada, usaremos estos features para calcular el tiempo total del viaje en minutos, los cuáles serám fáciles de trabajar con nuestor modelo."
   ]
  },
  {
   "cell_type": "code",
   "execution_count": 4,
   "metadata": {},
   "outputs": [],
   "source": [
    "trip_df['duration_minutes'] = (trip_df['lpep_dropoff_datetime'] - trip_df['lpep_pickup_datetime']).dt.seconds/60"
   ]
  },
  {
   "cell_type": "markdown",
   "metadata": {},
   "source": [
    "El dataset contiene un monton de columnas que no necesitamos, vamos a seleccionar una muestra de las columnas para nuestro modelo de ML. Mantenemos sólo `total_amount` (fare), `duration_minutes`, `passenger_count`, y `trip_distance`."
   ]
  },
  {
   "cell_type": "code",
   "execution_count": 5,
   "metadata": {},
   "outputs": [
    {
     "name": "stdout",
     "output_type": "stream",
     "text": [
      "(769940, 4)\n"
     ]
    },
    {
     "data": {
      "text/html": [
       "<div>\n",
       "<style scoped>\n",
       "    .dataframe tbody tr th:only-of-type {\n",
       "        vertical-align: middle;\n",
       "    }\n",
       "\n",
       "    .dataframe tbody tr th {\n",
       "        vertical-align: top;\n",
       "    }\n",
       "\n",
       "    .dataframe thead th {\n",
       "        text-align: right;\n",
       "    }\n",
       "</style>\n",
       "<table border=\"1\" class=\"dataframe\">\n",
       "  <thead>\n",
       "    <tr style=\"text-align: right;\">\n",
       "      <th></th>\n",
       "      <th>total_amount</th>\n",
       "      <th>duration_minutes</th>\n",
       "      <th>passenger_count</th>\n",
       "      <th>trip_distance</th>\n",
       "    </tr>\n",
       "  </thead>\n",
       "  <tbody>\n",
       "    <tr>\n",
       "      <th>0</th>\n",
       "      <td>23.00</td>\n",
       "      <td>0.050000</td>\n",
       "      <td>1</td>\n",
       "      <td>0.00</td>\n",
       "    </tr>\n",
       "    <tr>\n",
       "      <th>1</th>\n",
       "      <td>9.68</td>\n",
       "      <td>7.116667</td>\n",
       "      <td>5</td>\n",
       "      <td>1.60</td>\n",
       "    </tr>\n",
       "    <tr>\n",
       "      <th>2</th>\n",
       "      <td>35.76</td>\n",
       "      <td>22.816667</td>\n",
       "      <td>1</td>\n",
       "      <td>9.60</td>\n",
       "    </tr>\n",
       "    <tr>\n",
       "      <th>3</th>\n",
       "      <td>5.80</td>\n",
       "      <td>3.166667</td>\n",
       "      <td>1</td>\n",
       "      <td>0.73</td>\n",
       "    </tr>\n",
       "    <tr>\n",
       "      <th>4</th>\n",
       "      <td>9.30</td>\n",
       "      <td>6.633333</td>\n",
       "      <td>2</td>\n",
       "      <td>1.87</td>\n",
       "    </tr>\n",
       "  </tbody>\n",
       "</table>\n",
       "</div>"
      ],
      "text/plain": [
       "   total_amount  duration_minutes  passenger_count  trip_distance\n",
       "0         23.00          0.050000                1           0.00\n",
       "1          9.68          7.116667                5           1.60\n",
       "2         35.76         22.816667                1           9.60\n",
       "3          5.80          3.166667                1           0.73\n",
       "4          9.30          6.633333                2           1.87"
      ]
     },
     "execution_count": 5,
     "metadata": {},
     "output_type": "execute_result"
    }
   ],
   "source": [
    "cols = ['total_amount', 'duration_minutes', 'passenger_count', 'trip_distance']\n",
    "data_df = trip_df[cols]\n",
    "print(data_df.shape)\n",
    "data_df.head()"
   ]
  },
  {
   "cell_type": "markdown",
   "metadata": {},
   "source": [
    "Generamos algunas estadísticas del dataset para entender la calidad."
   ]
  },
  {
   "cell_type": "code",
   "execution_count": 6,
   "metadata": {},
   "outputs": [
    {
     "data": {
      "text/html": [
       "<div>\n",
       "<style scoped>\n",
       "    .dataframe tbody tr th:only-of-type {\n",
       "        vertical-align: middle;\n",
       "    }\n",
       "\n",
       "    .dataframe tbody tr th {\n",
       "        vertical-align: top;\n",
       "    }\n",
       "\n",
       "    .dataframe thead th {\n",
       "        text-align: right;\n",
       "    }\n",
       "</style>\n",
       "<table border=\"1\" class=\"dataframe\">\n",
       "  <thead>\n",
       "    <tr style=\"text-align: right;\">\n",
       "      <th></th>\n",
       "      <th>total_amount</th>\n",
       "      <th>duration_minutes</th>\n",
       "      <th>passenger_count</th>\n",
       "      <th>trip_distance</th>\n",
       "    </tr>\n",
       "  </thead>\n",
       "  <tbody>\n",
       "    <tr>\n",
       "      <th>count</th>\n",
       "      <td>769940.000000</td>\n",
       "      <td>769940.000000</td>\n",
       "      <td>769940.000000</td>\n",
       "      <td>769940.000000</td>\n",
       "    </tr>\n",
       "    <tr>\n",
       "      <th>mean</th>\n",
       "      <td>14.156694</td>\n",
       "      <td>19.536958</td>\n",
       "      <td>1.356391</td>\n",
       "      <td>2.725387</td>\n",
       "    </tr>\n",
       "    <tr>\n",
       "      <th>std</th>\n",
       "      <td>10.707214</td>\n",
       "      <td>93.847137</td>\n",
       "      <td>1.033778</td>\n",
       "      <td>2.882936</td>\n",
       "    </tr>\n",
       "    <tr>\n",
       "      <th>min</th>\n",
       "      <td>-400.000000</td>\n",
       "      <td>0.000000</td>\n",
       "      <td>0.000000</td>\n",
       "      <td>0.000000</td>\n",
       "    </tr>\n",
       "    <tr>\n",
       "      <th>25%</th>\n",
       "      <td>7.800000</td>\n",
       "      <td>6.016667</td>\n",
       "      <td>1.000000</td>\n",
       "      <td>1.000000</td>\n",
       "    </tr>\n",
       "    <tr>\n",
       "      <th>50%</th>\n",
       "      <td>11.150000</td>\n",
       "      <td>10.116667</td>\n",
       "      <td>1.000000</td>\n",
       "      <td>1.750000</td>\n",
       "    </tr>\n",
       "    <tr>\n",
       "      <th>75%</th>\n",
       "      <td>17.000000</td>\n",
       "      <td>16.850000</td>\n",
       "      <td>1.000000</td>\n",
       "      <td>3.370000</td>\n",
       "    </tr>\n",
       "    <tr>\n",
       "      <th>max</th>\n",
       "      <td>2626.300000</td>\n",
       "      <td>1439.883333</td>\n",
       "      <td>9.000000</td>\n",
       "      <td>120.470000</td>\n",
       "    </tr>\n",
       "  </tbody>\n",
       "</table>\n",
       "</div>"
      ],
      "text/plain": [
       "        total_amount  duration_minutes  passenger_count  trip_distance\n",
       "count  769940.000000     769940.000000    769940.000000  769940.000000\n",
       "mean       14.156694         19.536958         1.356391       2.725387\n",
       "std        10.707214         93.847137         1.033778       2.882936\n",
       "min      -400.000000          0.000000         0.000000       0.000000\n",
       "25%         7.800000          6.016667         1.000000       1.000000\n",
       "50%        11.150000         10.116667         1.000000       1.750000\n",
       "75%        17.000000         16.850000         1.000000       3.370000\n",
       "max      2626.300000       1439.883333         9.000000     120.470000"
      ]
     },
     "execution_count": 6,
     "metadata": {},
     "output_type": "execute_result"
    }
   ],
   "source": [
    "data_df.describe()"
   ]
  },
  {
   "cell_type": "markdown",
   "metadata": {},
   "source": [
    "La tabla de arriba muestra algunos outliers, por ejemplo -400 o 2626 como tarifa, o 0 pasajeros. Hay muchos métodos inteligemtes para identificar y remover outliers pero la limpieza de datos no es el foco de este notebook, asi que solo removemos los outliers configurando valores mínimos y máximos los cuáles parecen más razonables. Eliminando los outliers obtenermos 754,671 filas en el dataset final."
   ]
  },
  {
   "cell_type": "code",
   "execution_count": 7,
   "metadata": {},
   "outputs": [
    {
     "name": "stdout",
     "output_type": "stream",
     "text": [
      "(754671, 4)\n"
     ]
    }
   ],
   "source": [
    "data_df = data_df[(data_df.total_amount > 0) & (data_df.total_amount < 200) & \n",
    "                  (data_df.duration_minutes > 0) & (data_df.duration_minutes < 120) & \n",
    "                  (data_df.trip_distance > 0) & (data_df.trip_distance < 121) & \n",
    "                  (data_df.passenger_count > 0)].dropna()\n",
    "print(data_df.shape)"
   ]
  },
  {
   "cell_type": "markdown",
   "metadata": {},
   "source": [
    "### Data visualization\n",
    "\n",
    "Dado que este notebook creará un modelo de regresión para el dataset, es una buena idea comprobar si existe alguna correlación entre las variables de nuestros datos. Utilizamos diagramas de dispersión en una muestra de los datos para comparar la distancia del viaje con la duración en minutos y la cantidad total (tarifa) con la duración en minutos."
   ]
  },
  {
   "cell_type": "code",
   "execution_count": 8,
   "metadata": {},
   "outputs": [
    {
     "data": {
      "text/plain": [
       "<AxesSubplot:xlabel='duration_minutes', ylabel='trip_distance'>"
      ]
     },
     "execution_count": 8,
     "metadata": {},
     "output_type": "execute_result"
    },
    {
     "data": {
      "image/png": "[encoded data removed]",
      "text/plain": [
       "<Figure size 432x288 with 1 Axes>"
      ]
     },
     "metadata": {
      "needs_background": "light"
     },
     "output_type": "display_data"
    }
   ],
   "source": [
    "import seaborn as sns \n",
    "\n",
    "sample_df = data_df.sample(1000)\n",
    "sns.scatterplot(data=sample_df, x='duration_minutes', y='trip_distance')"
   ]
  },
  {
   "cell_type": "code",
   "execution_count": 9,
   "metadata": {},
   "outputs": [
    {
     "data": {
      "text/plain": [
       "<AxesSubplot:xlabel='duration_minutes', ylabel='total_amount'>"
      ]
     },
     "execution_count": 9,
     "metadata": {},
     "output_type": "execute_result"
    },
    {
     "data": {
      "image/png": "[encoded data removed]",
      "text/plain": [
       "<Figure size 432x288 with 1 Axes>"
      ]
     },
     "metadata": {
      "needs_background": "light"
     },
     "output_type": "display_data"
    }
   ],
   "source": [
    "sns.scatterplot(data=sample_df, x='duration_minutes', y='total_amount')"
   ]
  },
  {
   "cell_type": "markdown",
   "metadata": {},
   "source": [
    "Estos gráficos de dispersión se ven bien y muestran al menos alguna correlación entre nuestras variables.\n",
    "\n",
    "### Data splitting and saving\n",
    "\n",
    "Ahora estamos listos para dividir el conjunto de datos en conjuntos de entrenamiento, validación y prueba."
   ]
  },
  {
   "cell_type": "code",
   "execution_count": 10,
   "metadata": {},
   "outputs": [
    {
     "name": "stdout",
     "output_type": "stream",
     "text": [
      "Size of\n",
      " train: 603736,\n",
      " val: 143388,\n",
      " test: 7547 \n"
     ]
    }
   ],
   "source": [
    "from sklearn.model_selection import train_test_split\n",
    "train_df, val_df = train_test_split(data_df, test_size=0.20, random_state=42)\n",
    "val_df, test_df = train_test_split(val_df, test_size=0.05, random_state=42)\n",
    "\n",
    "# Reset the index for our test dataframe\n",
    "test_df.reset_index(inplace=True, drop=True)\n",
    "\n",
    "print('Size of\\n train: {},\\n val: {},\\n test: {} '.format(train_df.shape[0], val_df.shape[0], test_df.shape[0]))"
   ]
  },
  {
   "cell_type": "markdown",
   "metadata": {},
   "source": [
    "Guardamos los archivos de entrenamiento, validación y prueba como CSV localmente en esta instancia de notebook. Observe que guardamos el archivo de entrenamiento dos veces: una como archivo de datos de entrenamiento y otra como archivo de datos de referencia. [SageMaker Model Monitor](https://docs.aws.amazon.com/sagemaker/latest/dg/model-monitor.html) utilizará el archivo de datos de referencia para detectar la data drift (deriva de datos). La deriva de datos ocurre cuando la naturaleza estadística de los datos que recibe su modelo mientras está en producción se aleja de la naturaleza de los datos de línea base en los que fue entrenado, lo que significa que el modelo comienza a perder precisión en sus predicciones."
   ]
  },
  {
   "cell_type": "code",
   "execution_count": 11,
   "metadata": {},
   "outputs": [],
   "source": [
    "train_cols = ['total_amount', 'duration_minutes','passenger_count','trip_distance']\n",
    "train_df.to_csv('train.csv', index=False, header=False)\n",
    "val_df.to_csv('validation.csv', index=False, header=False)\n",
    "test_df.to_csv('test.csv', index=False, header=False)\n",
    "\n",
    "# Save test and baseline with headers\n",
    "train_df.to_csv('baseline.csv', index=False, header=True)"
   ]
  },
  {
   "cell_type": "markdown",
   "metadata": {},
   "source": [
    "Ahora cargamos estos archivos CSV en el backet SageMaker S3 predeterminado."
   ]
  },
  {
   "cell_type": "code",
   "execution_count": 12,
   "metadata": {},
   "outputs": [],
   "source": [
    "import sagemaker\n",
    "\n",
    "# Get the session and default bucket\n",
    "session = sagemaker.session.Session()\n",
    "bucket = session.default_bucket()\n",
    "\n",
    "# Specify data prefix and version\n",
    "prefix = 'nyc-tlc/v1'\n",
    "\n",
    "s3_train_uri = session.upload_data('train.csv', bucket, prefix + '/data/training')\n",
    "s3_val_uri = session.upload_data('validation.csv', bucket, prefix + '/data/validation')\n",
    "s3_test_uri = session.upload_data('test.csv', bucket, prefix + '/data/test')\n",
    "s3_baseline_uri = session.upload_data('baseline.csv', bucket, prefix + '/data/baseline')"
   ]
  },
  {
   "cell_type": "markdown",
   "metadata": {},
   "source": [
    "Usaremos los datasets que hemos preparado y guardado en esta sección para activar el pipeline para entrenar e implementar un modelo en la siguiente sección."
   ]
  },
  {
   "cell_type": "markdown",
   "metadata": {},
   "source": [
    "## Build\n",
    "\n",
    "Si vamos a CodePipeline, notaremos que la etapa \"Source\" está inicialmente en un estado \"Fallido\". Esto sucede porque el conjunto de datos, que es una de las fuentes que pueden desencadenar el pipeline, aún no se ha cargado en la ubicación S3 esperada.\n",
    "\n",
    "![Failed code pipeline](../docs/pipeline_failed.png)\n",
    "\n",
    "### Trigger Build\n",
    " \n",
    "En esta sección, iniciaremos un pipeline de implementación y compilación de modelos empaquetando los datasets que preparamos en la sección anterior y cargándolos en la ubicación de origen de S3 que activa la instancia de CodePipeline creada.\n",
    "\n",
    "Primero, importamos algunas librerías y cargaremos algunas variables de entorno que se van a necesitar. Estas variables de entorno se han establecido a través de un script de [lifecycle configuration](https://docs.aws.amazon.com/sagemaker/latest/dg/notebook-lifecycle-config.html)⇗ adjunto a este notebook."
   ]
  },
  {
   "cell_type": "code",
   "execution_count": 14,
   "metadata": {},
   "outputs": [
    {
     "name": "stdout",
     "output_type": "stream",
     "text": [
      "region: us-east-1\n",
      "artifact bucket: mlops-nyctaxi-artifact-us-east-1-962542737140\n",
      "pipeline: nyctaxi\n",
      "model name: nyctaxi\n",
      "workflow: arn:aws:states:us-east-1:962542737140:stateMachine:nyctaxi\n"
     ]
    }
   ],
   "source": [
    "import boto3\n",
    "from botocore.exceptions import ClientError\n",
    "import os\n",
    "import time\n",
    "\n",
    "region = boto3.Session().region_name\n",
    "artifact_bucket = os.environ['ARTIFACT_BUCKET']\n",
    "pipeline_name = os.environ['PIPELINE_NAME']\n",
    "model_name = os.environ['MODEL_NAME']\n",
    "workflow_pipeline_arn = os.environ['WORKFLOW_PIPELINE_ARN']\n",
    "\n",
    "print('region: {}'.format(region))\n",
    "print('artifact bucket: {}'.format(artifact_bucket))\n",
    "print('pipeline: {}'.format(pipeline_name))\n",
    "print('model name: {}'.format(model_name))\n",
    "print('workflow: {}'.format(workflow_pipeline_arn))"
   ]
  },
  {
   "cell_type": "markdown",
   "metadata": {},
   "source": [
    "From the AWS CodePipeline [documentation](https://docs.aws.amazon.com/codepipeline/latest/userguide/tutorials-simple-s3.html)⇗:\n",
    "\n",
    "> Cuando Amazon S3 es el proveedor de origen de un pipeline, puede comprimir un archivo o archivos de origen en un solo .zip y cargar el .zip en el backet de origen. También puede cargar un solo archivo descomprimido; sin embargo, las acciones posteriores que esperan un archivo .zip fallarán.\n",
    "\n",
    "Para entrenar un modelo, necesitaremos varios datasets (entrenamiento, validación y prueba) junto con un archivo que especifica los hiperparámetros. En este ejemplo, crearemos un archivo JSON que contiene las ubicaciones de los datasets en S3 y un archivo JSON que contiene los valores de los hiperparámetros. Luego, comprimiremos ambos archivos en un zip que se utilizará como entrada para la ejecución del pipeline."
   ]
  },
  {
   "cell_type": "code",
   "execution_count": 15,
   "metadata": {},
   "outputs": [],
   "source": [
    "from io import BytesIO\n",
    "import zipfile\n",
    "import json\n",
    "\n",
    "input_data = {\n",
    "    'TrainingUri': s3_train_uri,\n",
    "    'ValidationUri': s3_val_uri,\n",
    "    'TestUri': s3_test_uri,\n",
    "    'BaselineUri': s3_baseline_uri\n",
    "}\n",
    "\n",
    "hyperparameters = {\n",
    "    'num_round': 50\n",
    "}\n",
    "\n",
    "zip_buffer = BytesIO()\n",
    "with zipfile.ZipFile(zip_buffer, 'a') as zf:\n",
    "    zf.writestr('inputData.json', json.dumps(input_data))\n",
    "    zf.writestr('hyperparameters.json', json.dumps(hyperparameters))\n",
    "zip_buffer.seek(0)\n",
    "\n",
    "data_source_key = '{}/data-source.zip'.format(pipeline_name)"
   ]
  },
  {
   "cell_type": "markdown",
   "metadata": {},
   "source": [
    "Ahora cargamos el zip en el backet de artefactos S3; esta acción activará el pipeline para entrenar e implementar un modelo."
   ]
  },
  {
   "cell_type": "code",
   "execution_count": 16,
   "metadata": {},
   "outputs": [
    {
     "data": {
      "text/plain": [
       "{'ResponseMetadata': {'RequestId': 'AZ03A41GCC21GEN3',\n",
       "  'HostId': 'SGq7gPosDio4qbJg21crTl9kWpSODP20lL3Eg1TwfU8nmBJjvp8a6T4j5S+OurndyRf1HXsfydE=',\n",
       "  'HTTPStatusCode': 200,\n",
       "  'HTTPHeaders': {'x-amz-id-2': 'SGq7gPosDio4qbJg21crTl9kWpSODP20lL3Eg1TwfU8nmBJjvp8a6T4j5S+OurndyRf1HXsfydE=',\n",
       "   'x-amz-request-id': 'AZ03A41GCC21GEN3',\n",
       "   'date': 'Sat, 18 Sep 2021 03:05:05 GMT',\n",
       "   'x-amz-version-id': 'TqfszOmVfvNFjCVgaND_Rjk4280XWcKS',\n",
       "   'etag': '\"7e42d8857e8b437d5513732ccc387602\"',\n",
       "   'server': 'AmazonS3',\n",
       "   'content-length': '0'},\n",
       "  'RetryAttempts': 0},\n",
       " 'ETag': '\"7e42d8857e8b437d5513732ccc387602\"',\n",
       " 'VersionId': 'TqfszOmVfvNFjCVgaND_Rjk4280XWcKS'}"
      ]
     },
     "execution_count": 16,
     "metadata": {},
     "output_type": "execute_result"
    }
   ],
   "source": [
    "s3 = boto3.client('s3')\n",
    "s3.put_object(Bucket=artifact_bucket, Key=data_source_key, Body=bytearray(zip_buffer.read()))"
   ]
  },
  {
   "cell_type": "markdown",
   "metadata": {},
   "source": [
    "Hacemos clic en el enlace a continuación para abrir la consola de AWS en Code Pipeline si no la tiene abierta en otra pestaña.\n",
    "\n",
    "<div class=\"alert alert-block alert-info\">\n",
    "    Tip: Es posible que deba esperar un minuto para que la etapa DataSource se ponga verde. La página se actualizará automáticamente.\n",
    "</div>\n",
    "\n",
    "![Source Green](../docs/datasource-after.png)"
   ]
  },
  {
   "cell_type": "code",
   "execution_count": 17,
   "metadata": {},
   "outputs": [
    {
     "data": {
      "text/html": [
       "<a target=\"_blank\" href=\"https://us-east-1.console.aws.amazon.com/codesuite/codepipeline/pipelines/nyctaxi/view?region=us-east-1\">Code Pipeline</a>"
      ],
      "text/plain": [
       "<IPython.core.display.HTML object>"
      ]
     },
     "execution_count": 17,
     "metadata": {},
     "output_type": "execute_result"
    }
   ],
   "source": [
    "from IPython.core.display import HTML\n",
    "\n",
    "HTML('<a target=\"_blank\" href=\"https://{0}.console.aws.amazon.com/codesuite/codepipeline/pipelines/{1}/view?region={0}\">Code Pipeline</a>'.format(region, pipeline_name))"
   ]
  },
  {
   "cell_type": "markdown",
   "metadata": {},
   "source": [
    "### Inspect Build Logs\n",
    "\n",
    "Una vez que se esté ejecutando la etapa de compilación o Build, verá que el trabajo de AWS CodeBuild se vuelve azul con un estado de **En progreso**.\n",
    "\n",
    "![Failed code pipeline](../docs/codebuild-inprogress.png)"
   ]
  },
  {
   "cell_type": "markdown",
   "metadata": {},
   "source": [
    "Puede hacer clic en el enlace **Detalles** que se muestra en la interfaz de usuario de CodePipeline o hacer clic en el enlace a continuación para ir directamente a los registros de CodeBuild.\n",
    "\n",
    "<div class=\"alert alert-block alert-info\">\n",
    "    Tip: Es posible que deba esperar unos segundos para que el pipeline pase al estado activo (azul) y para que comience la compilación.\n",
    "</div>"
   ]
  },
  {
   "cell_type": "code",
   "execution_count": 18,
   "metadata": {},
   "outputs": [
    {
     "data": {
      "text/html": [
       "<a target=\"_blank\" href=\"https://console.aws.amazon.com/codebuild/home?region=us-east-1#/builds/nyctaxi-build:da918504-8807-4cd4-88af-179c4b1ac725/view/new\">Code Build Logs</a>"
      ],
      "text/plain": [
       "<IPython.core.display.HTML object>"
      ]
     },
     "execution_count": 18,
     "metadata": {},
     "output_type": "execute_result"
    }
   ],
   "source": [
    "codepipeline = boto3.client('codepipeline')\n",
    "\n",
    "def get_pipeline_stage(pipeline_name, stage_name):\n",
    "    response = codepipeline.get_pipeline_state(name=pipeline_name)\n",
    "    for stage in response['stageStates']:\n",
    "        if stage['stageName'] == stage_name:\n",
    "            return stage\n",
    "\n",
    "# Get last execution id\n",
    "build_stage = get_pipeline_stage(pipeline_name, 'Build')    \n",
    "if not 'latestExecution' in build_stage:\n",
    "    raise(Exception('Please wait.  Build not started'))\n",
    "\n",
    "build_url = build_stage['actionStates'][0]['latestExecution']['externalExecutionUrl']\n",
    "\n",
    "# Out a link to the code build logs\n",
    "HTML('<a target=\"_blank\" href=\"{0}\">Code Build Logs</a>'.format(build_url))"
   ]
  },
  {
   "cell_type": "markdown",
   "metadata": {},
   "source": [
    "El proceso de AWS CodeBuild es responsable de crear una serie de plantillas de AWS CloudFormation que exploraremos con más detalle en la siguiente sección. Dos de estas plantillas se utilizan para configurar el paso **Entrenar** mediante la creación de un workflow de AWS Step Functions y las funciones personalizadas de AWS Lambda que se utilizan en este workflow."
   ]
  },
  {
   "cell_type": "markdown",
   "metadata": {},
   "source": [
    "## Train Model\n",
    "\n",
    "### Inspect Training Job\n",
    "\n",
    "Esperamos hasta que el pípeline haya comenzado a ejecutar el paso de entrenamiento (vea la captura de pantalla) antes de continuar con las siguientes celdas de este noteboook.\n",
    "\n",
    "![Training in progress](../docs/train-in-progress.png)\n",
    "\n",
    "Cuando el pipeline ha comenzado a ejecutar el paso de entrenamiento, puede hacer clic en el enlace **Detalles** que se muestra en la interfaz de usuario de CodePipeline (vea la captura de pantalla anterior) para ver el flujo de trabajo de Step Functions que está ejecutando el trabajo de entrenamiento.\n",
    "\n",
    "Alternativamente, puede hacer clic en el enlace Workflow de la salida de la celda a continuación una vez que esté disponible."
   ]
  },
  {
   "cell_type": "code",
   "execution_count": 19,
   "metadata": {},
   "outputs": [
    {
     "data": {
      "text/html": [
       "Workflow: <a target=\"_blank\" href=\"https://console.aws.amazon.com/states/home?region=us-east-1#/statemachines/view/arn:aws:states:us-east-1:962542737140:stateMachine:nyctaxi\">arn:aws:states:us-east-1:962542737140:stateMachine:nyctaxi</a>"
      ],
      "text/plain": [
       "Workflow(name='nyctaxi', role='arn:aws:iam::962542737140:role/mlops-nyctaxi-sfn-execution-role', state_machine_arn='arn:aws:states:us-east-1:962542737140:stateMachine:nyctaxi')"
      ]
     },
     "execution_count": 19,
     "metadata": {},
     "output_type": "execute_result"
    }
   ],
   "source": [
    "from stepfunctions.workflow import Workflow\n",
    "while True:\n",
    "    try:\n",
    "        workflow = Workflow.attach(workflow_pipeline_arn)\n",
    "        break\n",
    "    except ClientError as e:\n",
    "        print(e.response[\"Error\"][\"Message\"])\n",
    "    time.sleep(10)\n",
    "\n",
    "workflow"
   ]
  },
  {
   "cell_type": "markdown",
   "metadata": {},
   "source": [
    "O simplemente ejecute la celda a continuación para mostrar el workflow de Step Functions y vuelva a ejecutarlo después de unos minutos para ver el progreso."
   ]
  },
  {
   "cell_type": "code",
   "execution_count": 24,
   "metadata": {},
   "outputs": [
    {
     "data": {
      "text/html": [
       "\n",
       "<link rel=\"stylesheet\" type=\"text/css\" href=\"https://do0of8uwbahzz.cloudfront.net/graph.css\">\n",
       "<div id=\"graph-790\" class=\"workflowgraph\">\n",
       "    \n",
       "    <style>\n",
       "        .graph-legend ul {\n",
       "            list-style-type: none;\n",
       "            padding: 10px;\n",
       "            padding-left: 0;\n",
       "            margin: 0;\n",
       "            position: absolute;\n",
       "            top: 0;\n",
       "            background: transparent;\n",
       "        }\n",
       "\n",
       "        .graph-legend li {\n",
       "            margin-left: 10px;\n",
       "            display: inline-block;\n",
       "        }\n",
       "\n",
       "        .graph-legend li > div {\n",
       "            width: 10px;\n",
       "            height: 10px;\n",
       "            display: inline-block;\n",
       "        }\n",
       "\n",
       "        .graph-legend .success { background-color: #2BD62E }\n",
       "        .graph-legend .failed { background-color: #DE322F }\n",
       "        .graph-legend .cancelled { background-color: #DDDDDD }\n",
       "        .graph-legend .in-progress { background-color: #53C9ED }\n",
       "        .graph-legend .caught-error { background-color: #FFA500 }\n",
       "    </style>\n",
       "    <div class=\"graph-legend\">\n",
       "        <ul>\n",
       "            <li>\n",
       "                <div class=\"success\"></div>\n",
       "                <span>Success</span>\n",
       "            </li>\n",
       "            <li>\n",
       "                <div class=\"failed\"></div>\n",
       "                <span>Failed</span>\n",
       "            </li>\n",
       "            <li>\n",
       "                <div class=\"cancelled\"></div>\n",
       "                <span>Cancelled</span>\n",
       "            </li>\n",
       "            <li>\n",
       "                <div class=\"in-progress\"></div>\n",
       "                <span>In Progress</span>\n",
       "            </li>\n",
       "            <li>\n",
       "                <div class=\"caught-error\"></div>\n",
       "                <span>Caught Error</span>\n",
       "            </li>\n",
       "        </ul>\n",
       "    </div>\n",
       "\n",
       "    <svg></svg>\n",
       "    <a href=\"https://console.aws.amazon.com/states/home?region=us-east-1#/executions/details/arn:aws:states:us-east-1:962542737140:execution:nyctaxi:00a18b30-5b93-4439-85bc-9588559a9502\" target=\"_blank\"> Inspect in AWS Step Functions </a>\n",
       "</div>\n",
       "\n",
       "<script type=\"text/javascript\">\n",
       "\n",
       "require.config({\n",
       "    paths: {\n",
       "        sfn: \"https://do0of8uwbahzz.cloudfront.net/sfn\",\n",
       "    }\n",
       "});\n",
       "\n",
       "require(['sfn'], function(sfn) {\n",
       "    var element = document.getElementById('graph-790')\n",
       "\n",
       "    var options = {\n",
       "        width: parseFloat(getComputedStyle(element, null).width.replace(\"px\", \"\")),\n",
       "        height: 1000,\n",
       "        layout: 'LR',\n",
       "        resizeHeight: true\n",
       "    };\n",
       "\n",
       "    var definition = {\"StartAt\": \"Create Experiment\", \"States\": {\"Create Experiment\": {\"Parameters\": {\"FunctionName\": \"mlops-create-experiment\", \"Payload\": {\"ExperimentName.$\": \"$.ExperimentName\", \"TrialName.$\": \"$.TrialName\"}}, \"ResultPath\": \"$.CreateTrialResults\", \"Resource\": \"arn:aws:states:::lambda:invoke\", \"Type\": \"Task\", \"Next\": \"SageMaker Jobs\"}, \"SageMaker Jobs\": {\"Type\": \"Parallel\", \"End\": true, \"Catch\": [{\"ErrorEquals\": [\"States.TaskFailed\"], \"Next\": \"SageMaker Jobs failed\"}], \"Branches\": [{\"StartAt\": \"Baseline Job\", \"States\": {\"Baseline Job\": {\"Resource\": \"arn:aws:states:::sagemaker:createProcessingJob.sync\", \"Parameters\": {\"ProcessingJobName.$\": \"$$.Execution.Input['BaselineJobName']\", \"ProcessingInputs\": [{\"InputName\": \"baseline_dataset_input\", \"AppManaged\": false, \"S3Input\": {\"S3Uri\": \"s3://sagemaker-us-east-1-962542737140/nyc-tlc/v1/data/baseline/baseline.csv\", \"LocalPath\": \"/opt/ml/processing/input/baseline_dataset_input\", \"S3DataType\": \"S3Prefix\", \"S3InputMode\": \"File\", \"S3DataDistributionType\": \"FullyReplicated\", \"S3CompressionType\": \"None\"}}], \"ProcessingOutputConfig\": {\"Outputs\": [{\"OutputName\": \"monitoring_output\", \"AppManaged\": false, \"S3Output\": {\"S3Uri.$\": \"$$.Execution.Input['BaselineOutputUri']\", \"LocalPath\": \"/opt/ml/processing/output\", \"S3UploadMode\": \"EndOfJob\"}}]}, \"AppSpecification\": {\"ImageUri\": \"156813124566.dkr.ecr.us-east-1.amazonaws.com/sagemaker-model-monitor-analyzer\"}, \"RoleArn\": \"arn:aws:iam::962542737140:role/mlops-nyctaxi-sagemaker-role\", \"Environment\": {\"dataset_format\": \"{\\\"csv\\\": {\\\"header\\\": true, \\\"output_columns_position\\\": \\\"START\\\"}}\", \"dataset_source\": \"/opt/ml/processing/input/baseline_dataset_input\", \"output_path\": \"/opt/ml/processing/output\", \"publish_cloudwatch_metrics\": \"Disabled\"}, \"ProcessingResources\": {\"ClusterConfig\": {\"InstanceCount\": 1, \"InstanceType\": \"ml.m5.xlarge\", \"VolumeSizeInGB\": 30}}, \"StoppingCondition\": {\"MaxRuntimeInSeconds\": 1800}, \"ExperimentConfig\": {\"ExperimentName.$\": \"$$.Execution.Input['ExperimentName']\", \"TrialName.$\": \"$$.Execution.Input['TrialName']\", \"TrialComponentDisplayName\": \"Baseline\"}, \"Tags\": [{\"Key\": \"GitBranch\", \"Value.$\": \"$$.Execution.Input['GitBranch']\"}, {\"Key\": \"GitCommitHash\", \"Value.$\": \"$$.Execution.Input['GitCommitHash']\"}, {\"Key\": \"DataVersionId\", \"Value.$\": \"$$.Execution.Input['DataVersionId']\"}]}, \"Type\": \"Task\", \"End\": true, \"Catch\": [{\"ErrorEquals\": [\"States.TaskFailed\"], \"Next\": \"Baseline failed\"}]}, \"Baseline failed\": {\"Cause\": \"SageMakerBaselineJobFailed\", \"Type\": \"Fail\"}}}, {\"StartAt\": \"Training Job\", \"States\": {\"Training Job\": {\"ResultPath\": \"$.TrainingResults\", \"Resource\": \"arn:aws:states:::sagemaker:createTrainingJob.sync\", \"Parameters\": {\"AlgorithmSpecification\": {\"TrainingImage\": \"811284229777.dkr.ecr.us-east-1.amazonaws.com/xgboost:latest\", \"TrainingInputMode\": \"File\"}, \"OutputDataConfig\": {\"S3OutputPath\": \"s3://sagemaker-us-east-1-962542737140/nyctaxi\"}, \"StoppingCondition\": {\"MaxRuntimeInSeconds\": 86400}, \"ResourceConfig\": {\"InstanceCount\": 1, \"InstanceType\": \"ml.m4.xlarge\", \"VolumeSizeInGB\": 30}, \"RoleArn\": \"arn:aws:iam::962542737140:role/mlops-nyctaxi-sagemaker-role\", \"InputDataConfig\": [{\"DataSource\": {\"S3DataSource\": {\"S3DataType\": \"S3Prefix\", \"S3Uri\": \"s3://sagemaker-us-east-1-962542737140/nyc-tlc/v1/data/training/train.csv\", \"S3DataDistributionType\": \"FullyReplicated\"}}, \"ContentType\": \"csv\", \"ChannelName\": \"train\"}, {\"DataSource\": {\"S3DataSource\": {\"S3DataType\": \"S3Prefix\", \"S3Uri\": \"s3://sagemaker-us-east-1-962542737140/nyc-tlc/v1/data/validation/validation.csv\", \"S3DataDistributionType\": \"FullyReplicated\"}}, \"ContentType\": \"csv\", \"ChannelName\": \"validation\"}], \"HyperParameters\": {\"max_depth\": \"9\", \"eta\": \"0.2\", \"gamma\": \"4\", \"min_child_weight\": \"300\", \"subsample\": \"0.8\", \"objective\": \"reg:linear\", \"early_stopping_rounds\": \"10\", \"num_round\": \"50\"}, \"TrainingJobName.$\": \"$$.Execution.Input['TrainingJobName']\", \"ExperimentConfig\": {\"ExperimentName.$\": \"$$.Execution.Input['ExperimentName']\", \"TrialName.$\": \"$$.Execution.Input['TrialName']\", \"TrialComponentDisplayName\": \"Training\"}, \"Tags\": [{\"Key\": \"GitBranch\", \"Value.$\": \"$$.Execution.Input['GitBranch']\"}, {\"Key\": \"GitCommitHash\", \"Value.$\": \"$$.Execution.Input['GitCommitHash']\"}, {\"Key\": \"DataVersionId\", \"Value.$\": \"$$.Execution.Input['DataVersionId']\"}]}, \"Type\": \"Task\", \"Next\": \"Save Model\", \"Catch\": [{\"ErrorEquals\": [\"States.TaskFailed\"], \"Next\": \"Training failed\"}]}, \"Save Model\": {\"InputPath\": \"$.TrainingResults\", \"ResultPath\": \"$.ModelStepResults\", \"Parameters\": {\"ExecutionRoleArn\": \"arn:aws:iam::962542737140:role/mlops-nyctaxi-sagemaker-role\", \"ModelName.$\": \"$$.Execution.Input['TrainingJobName']\", \"PrimaryContainer\": {\"Environment\": {}, \"Image\": \"811284229777.dkr.ecr.us-east-1.amazonaws.com/xgboost:latest\", \"ModelDataUrl.$\": \"$['ModelArtifacts']['S3ModelArtifacts']\"}}, \"Resource\": \"arn:aws:states:::sagemaker:createModel\", \"Type\": \"Task\", \"Next\": \"Query Training Results\"}, \"Query Training Results\": {\"Parameters\": {\"FunctionName\": \"mlops-query-training\", \"Payload\": {\"TrainingJobName.$\": \"$.TrainingJobName\"}}, \"ResultPath\": \"$.QueryTrainingResults\", \"Resource\": \"arn:aws:states:::lambda:invoke\", \"Type\": \"Task\", \"Next\": \"RMSE < 10\"}, \"RMSE < 10\": {\"Type\": \"Choice\", \"Choices\": [{\"Variable\": \"$['QueryTrainingResults']['Payload']['results']['TrainingMetrics'][0]['Value']\", \"NumericLessThan\": 10, \"Next\": \"Model Error Acceptable\"}], \"Default\": \"Model Error Too Low\"}, \"Model Error Too Low\": {\"Comment\": \"RMSE accuracy higher than threshold\", \"Type\": \"Fail\"}, \"Model Error Acceptable\": {\"Type\": \"Succeed\"}, \"Training failed\": {\"Cause\": \"SageMakerTrainingJobFailed\", \"Type\": \"Fail\"}}}]}, \"SageMaker Jobs failed\": {\"Cause\": \"SageMakerJobsFailed\", \"Type\": \"Fail\"}}};\n",
       "    var elementId = '#graph-790';\n",
       "    var events = { 'events': [{\"timestamp\": 1631934434.761, \"type\": \"ExecutionStarted\", \"id\": 1, \"previousEventId\": 0, \"executionStartedEventDetails\": {\"input\": \"{\\\"ExperimentName\\\": \\\"mlops-nyctaxi\\\", \\\"TrialName\\\": \\\"mlops-nyctaxi-8088d44e-e8ce-4936-a0c4-97e41805f817\\\", \\\"GitBranch\\\": \\\"main\\\", \\\"GitCommitHash\\\": \\\"280d7816fc2f4f79c5fd0bd7a5943d3edfc27139\\\", \\\"DataVersionId\\\": \\\"TqfszOmVfvNFjCVgaND_Rjk4280XWcKS\\\", \\\"BaselineJobName\\\": \\\"mlops-nyctaxi-pbl-8088d44e-e8ce-4936-a0c4-97e41805f817\\\", \\\"BaselineOutputUri\\\": \\\"s3://sagemaker-us-east-1-962542737140/nyctaxi/monitoring/baseline/mlops-nyctaxi-pbl-8088d44e-e8ce-4936-a0c4-97e41805f817\\\", \\\"TrainingJobName\\\": \\\"mlops-nyctaxi-8088d44e-e8ce-4936-a0c4-97e41805f817\\\"}\", \"inputDetails\": {\"truncated\": false}, \"roleArn\": \"arn:aws:iam::962542737140:role/mlops-nyctaxi-sfn-execution-role\"}}, {\"timestamp\": 1631934434.811, \"type\": \"TaskStateEntered\", \"id\": 2, \"previousEventId\": 0, \"stateEnteredEventDetails\": {\"name\": \"Create Experiment\", \"input\": \"{\\\"ExperimentName\\\": \\\"mlops-nyctaxi\\\", \\\"TrialName\\\": \\\"mlops-nyctaxi-8088d44e-e8ce-4936-a0c4-97e41805f817\\\", \\\"GitBranch\\\": \\\"main\\\", \\\"GitCommitHash\\\": \\\"280d7816fc2f4f79c5fd0bd7a5943d3edfc27139\\\", \\\"DataVersionId\\\": \\\"TqfszOmVfvNFjCVgaND_Rjk4280XWcKS\\\", \\\"BaselineJobName\\\": \\\"mlops-nyctaxi-pbl-8088d44e-e8ce-4936-a0c4-97e41805f817\\\", \\\"BaselineOutputUri\\\": \\\"s3://sagemaker-us-east-1-962542737140/nyctaxi/monitoring/baseline/mlops-nyctaxi-pbl-8088d44e-e8ce-4936-a0c4-97e41805f817\\\", \\\"TrainingJobName\\\": \\\"mlops-nyctaxi-8088d44e-e8ce-4936-a0c4-97e41805f817\\\"}\", \"inputDetails\": {\"truncated\": false}}}, {\"timestamp\": 1631934434.811, \"type\": \"TaskScheduled\", \"id\": 3, \"previousEventId\": 2, \"taskScheduledEventDetails\": {\"resourceType\": \"lambda\", \"resource\": \"invoke\", \"region\": \"us-east-1\", \"parameters\": \"{\\\"FunctionName\\\":\\\"mlops-create-experiment\\\",\\\"Payload\\\":{\\\"TrialName\\\":\\\"mlops-nyctaxi-8088d44e-e8ce-4936-a0c4-97e41805f817\\\",\\\"ExperimentName\\\":\\\"mlops-nyctaxi\\\"}}\"}}, {\"timestamp\": 1631934434.849, \"type\": \"TaskStarted\", \"id\": 4, \"previousEventId\": 3, \"taskStartedEventDetails\": {\"resourceType\": \"lambda\", \"resource\": \"invoke\"}}, {\"timestamp\": 1631934436.12, \"type\": \"TaskSucceeded\", \"id\": 5, \"previousEventId\": 4, \"taskSucceededEventDetails\": {\"resourceType\": \"lambda\", \"resource\": \"invoke\", \"output\": \"{\\\"ExecutedVersion\\\":\\\"$LATEST\\\",\\\"Payload\\\":{\\\"statusCode\\\":200,\\\"results\\\":{\\\"ExperimentCreated\\\":true,\\\"TrialCreated\\\":false}},\\\"SdkHttpMetadata\\\":{\\\"AllHttpHeaders\\\":{\\\"X-Amz-Executed-Version\\\":[\\\"$LATEST\\\"],\\\"x-amzn-Remapped-Content-Length\\\":[\\\"0\\\"],\\\"Connection\\\":[\\\"keep-alive\\\"],\\\"x-amzn-RequestId\\\":[\\\"828a4116-5af9-4b48-ac93-b6a95462021b\\\"],\\\"Content-Length\\\":[\\\"82\\\"],\\\"Date\\\":[\\\"Sat, 18 Sep 2021 03:07:16 GMT\\\"],\\\"X-Amzn-Trace-Id\\\":[\\\"root=1-614557e2-2747243f1df0ea927b5a4a9e;sampled=0\\\"],\\\"Content-Type\\\":[\\\"application/json\\\"]},\\\"HttpHeaders\\\":{\\\"Connection\\\":\\\"keep-alive\\\",\\\"Content-Length\\\":\\\"82\\\",\\\"Content-Type\\\":\\\"application/json\\\",\\\"Date\\\":\\\"Sat, 18 Sep 2021 03:07:16 GMT\\\",\\\"X-Amz-Executed-Version\\\":\\\"$LATEST\\\",\\\"x-amzn-Remapped-Content-Length\\\":\\\"0\\\",\\\"x-amzn-RequestId\\\":\\\"828a4116-5af9-4b48-ac93-b6a95462021b\\\",\\\"X-Amzn-Trace-Id\\\":\\\"root=1-614557e2-2747243f1df0ea927b5a4a9e;sampled=0\\\"},\\\"HttpStatusCode\\\":200},\\\"SdkResponseMetadata\\\":{\\\"RequestId\\\":\\\"828a4116-5af9-4b48-ac93-b6a95462021b\\\"},\\\"StatusCode\\\":200}\", \"outputDetails\": {\"truncated\": false}}}, {\"timestamp\": 1631934436.12, \"type\": \"TaskStateExited\", \"id\": 6, \"previousEventId\": 5, \"stateExitedEventDetails\": {\"name\": \"Create Experiment\", \"output\": \"{\\\"ExperimentName\\\":\\\"mlops-nyctaxi\\\",\\\"TrialName\\\":\\\"mlops-nyctaxi-8088d44e-e8ce-4936-a0c4-97e41805f817\\\",\\\"GitBranch\\\":\\\"main\\\",\\\"GitCommitHash\\\":\\\"280d7816fc2f4f79c5fd0bd7a5943d3edfc27139\\\",\\\"DataVersionId\\\":\\\"TqfszOmVfvNFjCVgaND_Rjk4280XWcKS\\\",\\\"BaselineJobName\\\":\\\"mlops-nyctaxi-pbl-8088d44e-e8ce-4936-a0c4-97e41805f817\\\",\\\"BaselineOutputUri\\\":\\\"s3://sagemaker-us-east-1-962542737140/nyctaxi/monitoring/baseline/mlops-nyctaxi-pbl-8088d44e-e8ce-4936-a0c4-97e41805f817\\\",\\\"TrainingJobName\\\":\\\"mlops-nyctaxi-8088d44e-e8ce-4936-a0c4-97e41805f817\\\",\\\"CreateTrialResults\\\":{\\\"ExecutedVersion\\\":\\\"$LATEST\\\",\\\"Payload\\\":{\\\"statusCode\\\":200,\\\"results\\\":{\\\"ExperimentCreated\\\":true,\\\"TrialCreated\\\":false}},\\\"SdkHttpMetadata\\\":{\\\"AllHttpHeaders\\\":{\\\"X-Amz-Executed-Version\\\":[\\\"$LATEST\\\"],\\\"x-amzn-Remapped-Content-Length\\\":[\\\"0\\\"],\\\"Connection\\\":[\\\"keep-alive\\\"],\\\"x-amzn-RequestId\\\":[\\\"828a4116-5af9-4b48-ac93-b6a95462021b\\\"],\\\"Content-Length\\\":[\\\"82\\\"],\\\"Date\\\":[\\\"Sat, 18 Sep 2021 03:07:16 GMT\\\"],\\\"X-Amzn-Trace-Id\\\":[\\\"root=1-614557e2-2747243f1df0ea927b5a4a9e;sampled=0\\\"],\\\"Content-Type\\\":[\\\"application/json\\\"]},\\\"HttpHeaders\\\":{\\\"Connection\\\":\\\"keep-alive\\\",\\\"Content-Length\\\":\\\"82\\\",\\\"Content-Type\\\":\\\"application/json\\\",\\\"Date\\\":\\\"Sat, 18 Sep 2021 03:07:16 GMT\\\",\\\"X-Amz-Executed-Version\\\":\\\"$LATEST\\\",\\\"x-amzn-Remapped-Content-Length\\\":\\\"0\\\",\\\"x-amzn-RequestId\\\":\\\"828a4116-5af9-4b48-ac93-b6a95462021b\\\",\\\"X-Amzn-Trace-Id\\\":\\\"root=1-614557e2-2747243f1df0ea927b5a4a9e;sampled=0\\\"},\\\"HttpStatusCode\\\":200},\\\"SdkResponseMetadata\\\":{\\\"RequestId\\\":\\\"828a4116-5af9-4b48-ac93-b6a95462021b\\\"},\\\"StatusCode\\\":200}}\", \"outputDetails\": {\"truncated\": false}}}, {\"timestamp\": 1631934436.128, \"type\": \"ParallelStateEntered\", \"id\": 7, \"previousEventId\": 6, \"stateEnteredEventDetails\": {\"name\": \"SageMaker Jobs\", \"input\": \"{\\\"ExperimentName\\\":\\\"mlops-nyctaxi\\\",\\\"TrialName\\\":\\\"mlops-nyctaxi-8088d44e-e8ce-4936-a0c4-97e41805f817\\\",\\\"GitBranch\\\":\\\"main\\\",\\\"GitCommitHash\\\":\\\"280d7816fc2f4f79c5fd0bd7a5943d3edfc27139\\\",\\\"DataVersionId\\\":\\\"TqfszOmVfvNFjCVgaND_Rjk4280XWcKS\\\",\\\"BaselineJobName\\\":\\\"mlops-nyctaxi-pbl-8088d44e-e8ce-4936-a0c4-97e41805f817\\\",\\\"BaselineOutputUri\\\":\\\"s3://sagemaker-us-east-1-962542737140/nyctaxi/monitoring/baseline/mlops-nyctaxi-pbl-8088d44e-e8ce-4936-a0c4-97e41805f817\\\",\\\"TrainingJobName\\\":\\\"mlops-nyctaxi-8088d44e-e8ce-4936-a0c4-97e41805f817\\\",\\\"CreateTrialResults\\\":{\\\"ExecutedVersion\\\":\\\"$LATEST\\\",\\\"Payload\\\":{\\\"statusCode\\\":200,\\\"results\\\":{\\\"ExperimentCreated\\\":true,\\\"TrialCreated\\\":false}},\\\"SdkHttpMetadata\\\":{\\\"AllHttpHeaders\\\":{\\\"X-Amz-Executed-Version\\\":[\\\"$LATEST\\\"],\\\"x-amzn-Remapped-Content-Length\\\":[\\\"0\\\"],\\\"Connection\\\":[\\\"keep-alive\\\"],\\\"x-amzn-RequestId\\\":[\\\"828a4116-5af9-4b48-ac93-b6a95462021b\\\"],\\\"Content-Length\\\":[\\\"82\\\"],\\\"Date\\\":[\\\"Sat, 18 Sep 2021 03:07:16 GMT\\\"],\\\"X-Amzn-Trace-Id\\\":[\\\"root=1-614557e2-2747243f1df0ea927b5a4a9e;sampled=0\\\"],\\\"Content-Type\\\":[\\\"application/json\\\"]},\\\"HttpHeaders\\\":{\\\"Connection\\\":\\\"keep-alive\\\",\\\"Content-Length\\\":\\\"82\\\",\\\"Content-Type\\\":\\\"application/json\\\",\\\"Date\\\":\\\"Sat, 18 Sep 2021 03:07:16 GMT\\\",\\\"X-Amz-Executed-Version\\\":\\\"$LATEST\\\",\\\"x-amzn-Remapped-Content-Length\\\":\\\"0\\\",\\\"x-amzn-RequestId\\\":\\\"828a4116-5af9-4b48-ac93-b6a95462021b\\\",\\\"X-Amzn-Trace-Id\\\":\\\"root=1-614557e2-2747243f1df0ea927b5a4a9e;sampled=0\\\"},\\\"HttpStatusCode\\\":200},\\\"SdkResponseMetadata\\\":{\\\"RequestId\\\":\\\"828a4116-5af9-4b48-ac93-b6a95462021b\\\"},\\\"StatusCode\\\":200}}\", \"inputDetails\": {\"truncated\": false}}}, {\"timestamp\": 1631934436.128, \"type\": \"ParallelStateStarted\", \"id\": 8, \"previousEventId\": 7}, {\"timestamp\": 1631934436.229, \"type\": \"TaskStateEntered\", \"id\": 9, \"previousEventId\": 8, \"stateEnteredEventDetails\": {\"name\": \"Baseline Job\", \"input\": \"{\\\"ExperimentName\\\":\\\"mlops-nyctaxi\\\",\\\"TrialName\\\":\\\"mlops-nyctaxi-8088d44e-e8ce-4936-a0c4-97e41805f817\\\",\\\"GitBranch\\\":\\\"main\\\",\\\"GitCommitHash\\\":\\\"280d7816fc2f4f79c5fd0bd7a5943d3edfc27139\\\",\\\"DataVersionId\\\":\\\"TqfszOmVfvNFjCVgaND_Rjk4280XWcKS\\\",\\\"BaselineJobName\\\":\\\"mlops-nyctaxi-pbl-8088d44e-e8ce-4936-a0c4-97e41805f817\\\",\\\"BaselineOutputUri\\\":\\\"s3://sagemaker-us-east-1-962542737140/nyctaxi/monitoring/baseline/mlops-nyctaxi-pbl-8088d44e-e8ce-4936-a0c4-97e41805f817\\\",\\\"TrainingJobName\\\":\\\"mlops-nyctaxi-8088d44e-e8ce-4936-a0c4-97e41805f817\\\",\\\"CreateTrialResults\\\":{\\\"ExecutedVersion\\\":\\\"$LATEST\\\",\\\"Payload\\\":{\\\"statusCode\\\":200,\\\"results\\\":{\\\"ExperimentCreated\\\":true,\\\"TrialCreated\\\":false}},\\\"SdkHttpMetadata\\\":{\\\"AllHttpHeaders\\\":{\\\"X-Amz-Executed-Version\\\":[\\\"$LATEST\\\"],\\\"x-amzn-Remapped-Content-Length\\\":[\\\"0\\\"],\\\"Connection\\\":[\\\"keep-alive\\\"],\\\"x-amzn-RequestId\\\":[\\\"828a4116-5af9-4b48-ac93-b6a95462021b\\\"],\\\"Content-Length\\\":[\\\"82\\\"],\\\"Date\\\":[\\\"Sat, 18 Sep 2021 03:07:16 GMT\\\"],\\\"X-Amzn-Trace-Id\\\":[\\\"root=1-614557e2-2747243f1df0ea927b5a4a9e;sampled=0\\\"],\\\"Content-Type\\\":[\\\"application/json\\\"]},\\\"HttpHeaders\\\":{\\\"Connection\\\":\\\"keep-alive\\\",\\\"Content-Length\\\":\\\"82\\\",\\\"Content-Type\\\":\\\"application/json\\\",\\\"Date\\\":\\\"Sat, 18 Sep 2021 03:07:16 GMT\\\",\\\"X-Amz-Executed-Version\\\":\\\"$LATEST\\\",\\\"x-amzn-Remapped-Content-Length\\\":\\\"0\\\",\\\"x-amzn-RequestId\\\":\\\"828a4116-5af9-4b48-ac93-b6a95462021b\\\",\\\"X-Amzn-Trace-Id\\\":\\\"root=1-614557e2-2747243f1df0ea927b5a4a9e;sampled=0\\\"},\\\"HttpStatusCode\\\":200},\\\"SdkResponseMetadata\\\":{\\\"RequestId\\\":\\\"828a4116-5af9-4b48-ac93-b6a95462021b\\\"},\\\"StatusCode\\\":200}}\", \"inputDetails\": {\"truncated\": false}}}, {\"timestamp\": 1631934436.229, \"type\": \"TaskScheduled\", \"id\": 10, \"previousEventId\": 9, \"taskScheduledEventDetails\": {\"resourceType\": \"sagemaker\", \"resource\": \"createProcessingJob.sync\", \"region\": \"us-east-1\", \"parameters\": \"{\\\"ProcessingInputs\\\":[{\\\"InputName\\\":\\\"baseline_dataset_input\\\",\\\"AppManaged\\\":false,\\\"S3Input\\\":{\\\"S3Uri\\\":\\\"s3://sagemaker-us-east-1-962542737140/nyc-tlc/v1/data/baseline/baseline.csv\\\",\\\"LocalPath\\\":\\\"/opt/ml/processing/input/baseline_dataset_input\\\",\\\"S3DataType\\\":\\\"S3Prefix\\\",\\\"S3InputMode\\\":\\\"File\\\",\\\"S3DataDistributionType\\\":\\\"FullyReplicated\\\",\\\"S3CompressionType\\\":\\\"None\\\"}}],\\\"ProcessingOutputConfig\\\":{\\\"Outputs\\\":[{\\\"OutputName\\\":\\\"monitoring_output\\\",\\\"AppManaged\\\":false,\\\"S3Output\\\":{\\\"LocalPath\\\":\\\"/opt/ml/processing/output\\\",\\\"S3UploadMode\\\":\\\"EndOfJob\\\",\\\"S3Uri\\\":\\\"s3://sagemaker-us-east-1-962542737140/nyctaxi/monitoring/baseline/mlops-nyctaxi-pbl-8088d44e-e8ce-4936-a0c4-97e41805f817\\\"}}]},\\\"AppSpecification\\\":{\\\"ImageUri\\\":\\\"156813124566.dkr.ecr.us-east-1.amazonaws.com/sagemaker-model-monitor-analyzer\\\"},\\\"RoleArn\\\":\\\"arn:aws:iam::962542737140:role/mlops-nyctaxi-sagemaker-role\\\",\\\"Environment\\\":{\\\"dataset_format\\\":\\\"{\\\\\\\"csv\\\\\\\": {\\\\\\\"header\\\\\\\": true, \\\\\\\"output_columns_position\\\\\\\": \\\\\\\"START\\\\\\\"}}\\\",\\\"dataset_source\\\":\\\"/opt/ml/processing/input/baseline_dataset_input\\\",\\\"output_path\\\":\\\"/opt/ml/processing/output\\\",\\\"publish_cloudwatch_metrics\\\":\\\"Disabled\\\"},\\\"ProcessingResources\\\":{\\\"ClusterConfig\\\":{\\\"InstanceCount\\\":1,\\\"InstanceType\\\":\\\"ml.m5.xlarge\\\",\\\"VolumeSizeInGB\\\":30}},\\\"StoppingCondition\\\":{\\\"MaxRuntimeInSeconds\\\":1800},\\\"ExperimentConfig\\\":{\\\"TrialComponentDisplayName\\\":\\\"Baseline\\\",\\\"TrialName\\\":\\\"mlops-nyctaxi-8088d44e-e8ce-4936-a0c4-97e41805f817\\\",\\\"ExperimentName\\\":\\\"mlops-nyctaxi\\\"},\\\"Tags\\\":[{\\\"Key\\\":\\\"MANAGED_BY_AWS\\\",\\\"Value\\\":\\\"STARTED_BY_STEP_FUNCTIONS\\\"},{\\\"Key\\\":\\\"GitBranch\\\",\\\"Value\\\":\\\"main\\\"},{\\\"Key\\\":\\\"GitCommitHash\\\",\\\"Value\\\":\\\"280d7816fc2f4f79c5fd0bd7a5943d3edfc27139\\\"},{\\\"Key\\\":\\\"DataVersionId\\\",\\\"Value\\\":\\\"TqfszOmVfvNFjCVgaND_Rjk4280XWcKS\\\"}],\\\"ProcessingJobName\\\":\\\"mlops-nyctaxi-pbl-8088d44e-e8ce-4936-a0c4-97e41805f817\\\"}\"}}, {\"timestamp\": 1631934436.249, \"type\": \"TaskStateEntered\", \"id\": 11, \"previousEventId\": 8, \"stateEnteredEventDetails\": {\"name\": \"Training Job\", \"input\": \"{\\\"ExperimentName\\\":\\\"mlops-nyctaxi\\\",\\\"TrialName\\\":\\\"mlops-nyctaxi-8088d44e-e8ce-4936-a0c4-97e41805f817\\\",\\\"GitBranch\\\":\\\"main\\\",\\\"GitCommitHash\\\":\\\"280d7816fc2f4f79c5fd0bd7a5943d3edfc27139\\\",\\\"DataVersionId\\\":\\\"TqfszOmVfvNFjCVgaND_Rjk4280XWcKS\\\",\\\"BaselineJobName\\\":\\\"mlops-nyctaxi-pbl-8088d44e-e8ce-4936-a0c4-97e41805f817\\\",\\\"BaselineOutputUri\\\":\\\"s3://sagemaker-us-east-1-962542737140/nyctaxi/monitoring/baseline/mlops-nyctaxi-pbl-8088d44e-e8ce-4936-a0c4-97e41805f817\\\",\\\"TrainingJobName\\\":\\\"mlops-nyctaxi-8088d44e-e8ce-4936-a0c4-97e41805f817\\\",\\\"CreateTrialResults\\\":{\\\"ExecutedVersion\\\":\\\"$LATEST\\\",\\\"Payload\\\":{\\\"statusCode\\\":200,\\\"results\\\":{\\\"ExperimentCreated\\\":true,\\\"TrialCreated\\\":false}},\\\"SdkHttpMetadata\\\":{\\\"AllHttpHeaders\\\":{\\\"X-Amz-Executed-Version\\\":[\\\"$LATEST\\\"],\\\"x-amzn-Remapped-Content-Length\\\":[\\\"0\\\"],\\\"Connection\\\":[\\\"keep-alive\\\"],\\\"x-amzn-RequestId\\\":[\\\"828a4116-5af9-4b48-ac93-b6a95462021b\\\"],\\\"Content-Length\\\":[\\\"82\\\"],\\\"Date\\\":[\\\"Sat, 18 Sep 2021 03:07:16 GMT\\\"],\\\"X-Amzn-Trace-Id\\\":[\\\"root=1-614557e2-2747243f1df0ea927b5a4a9e;sampled=0\\\"],\\\"Content-Type\\\":[\\\"application/json\\\"]},\\\"HttpHeaders\\\":{\\\"Connection\\\":\\\"keep-alive\\\",\\\"Content-Length\\\":\\\"82\\\",\\\"Content-Type\\\":\\\"application/json\\\",\\\"Date\\\":\\\"Sat, 18 Sep 2021 03:07:16 GMT\\\",\\\"X-Amz-Executed-Version\\\":\\\"$LATEST\\\",\\\"x-amzn-Remapped-Content-Length\\\":\\\"0\\\",\\\"x-amzn-RequestId\\\":\\\"828a4116-5af9-4b48-ac93-b6a95462021b\\\",\\\"X-Amzn-Trace-Id\\\":\\\"root=1-614557e2-2747243f1df0ea927b5a4a9e;sampled=0\\\"},\\\"HttpStatusCode\\\":200},\\\"SdkResponseMetadata\\\":{\\\"RequestId\\\":\\\"828a4116-5af9-4b48-ac93-b6a95462021b\\\"},\\\"StatusCode\\\":200}}\", \"inputDetails\": {\"truncated\": false}}}, {\"timestamp\": 1631934436.249, \"type\": \"TaskScheduled\", \"id\": 12, \"previousEventId\": 11, \"taskScheduledEventDetails\": {\"resourceType\": \"sagemaker\", \"resource\": \"createTrainingJob.sync\", \"region\": \"us-east-1\", \"parameters\": \"{\\\"AlgorithmSpecification\\\":{\\\"TrainingImage\\\":\\\"811284229777.dkr.ecr.us-east-1.amazonaws.com/xgboost:latest\\\",\\\"TrainingInputMode\\\":\\\"File\\\"},\\\"OutputDataConfig\\\":{\\\"S3OutputPath\\\":\\\"s3://sagemaker-us-east-1-962542737140/nyctaxi\\\"},\\\"StoppingCondition\\\":{\\\"MaxRuntimeInSeconds\\\":86400},\\\"ResourceConfig\\\":{\\\"InstanceCount\\\":1,\\\"InstanceType\\\":\\\"ml.m4.xlarge\\\",\\\"VolumeSizeInGB\\\":30},\\\"RoleArn\\\":\\\"arn:aws:iam::962542737140:role/mlops-nyctaxi-sagemaker-role\\\",\\\"InputDataConfig\\\":[{\\\"DataSource\\\":{\\\"S3DataSource\\\":{\\\"S3DataType\\\":\\\"S3Prefix\\\",\\\"S3Uri\\\":\\\"s3://sagemaker-us-east-1-962542737140/nyc-tlc/v1/data/training/train.csv\\\",\\\"S3DataDistributionType\\\":\\\"FullyReplicated\\\"}},\\\"ContentType\\\":\\\"csv\\\",\\\"ChannelName\\\":\\\"train\\\"},{\\\"DataSource\\\":{\\\"S3DataSource\\\":{\\\"S3DataType\\\":\\\"S3Prefix\\\",\\\"S3Uri\\\":\\\"s3://sagemaker-us-east-1-962542737140/nyc-tlc/v1/data/validation/validation.csv\\\",\\\"S3DataDistributionType\\\":\\\"FullyReplicated\\\"}},\\\"ContentType\\\":\\\"csv\\\",\\\"ChannelName\\\":\\\"validation\\\"}],\\\"HyperParameters\\\":{\\\"max_depth\\\":\\\"9\\\",\\\"eta\\\":\\\"0.2\\\",\\\"gamma\\\":\\\"4\\\",\\\"min_child_weight\\\":\\\"300\\\",\\\"subsample\\\":\\\"0.8\\\",\\\"objective\\\":\\\"reg:linear\\\",\\\"early_stopping_rounds\\\":\\\"10\\\",\\\"num_round\\\":\\\"50\\\"},\\\"ExperimentConfig\\\":{\\\"TrialComponentDisplayName\\\":\\\"Training\\\",\\\"TrialName\\\":\\\"mlops-nyctaxi-8088d44e-e8ce-4936-a0c4-97e41805f817\\\",\\\"ExperimentName\\\":\\\"mlops-nyctaxi\\\"},\\\"Tags\\\":[{\\\"Key\\\":\\\"MANAGED_BY_AWS\\\",\\\"Value\\\":\\\"STARTED_BY_STEP_FUNCTIONS\\\"},{\\\"Key\\\":\\\"GitBranch\\\",\\\"Value\\\":\\\"main\\\"},{\\\"Key\\\":\\\"GitCommitHash\\\",\\\"Value\\\":\\\"280d7816fc2f4f79c5fd0bd7a5943d3edfc27139\\\"},{\\\"Key\\\":\\\"DataVersionId\\\",\\\"Value\\\":\\\"TqfszOmVfvNFjCVgaND_Rjk4280XWcKS\\\"}],\\\"TrainingJobName\\\":\\\"mlops-nyctaxi-8088d44e-e8ce-4936-a0c4-97e41805f817\\\"}\"}}, {\"timestamp\": 1631934436.277, \"type\": \"TaskStarted\", \"id\": 13, \"previousEventId\": 10, \"taskStartedEventDetails\": {\"resourceType\": \"sagemaker\", \"resource\": \"createProcessingJob.sync\"}}, {\"timestamp\": 1631934436.292, \"type\": \"TaskStarted\", \"id\": 14, \"previousEventId\": 12, \"taskStartedEventDetails\": {\"resourceType\": \"sagemaker\", \"resource\": \"createTrainingJob.sync\"}}, {\"timestamp\": 1631934436.527, \"type\": \"TaskSubmitted\", \"id\": 15, \"previousEventId\": 13, \"taskSubmittedEventDetails\": {\"resourceType\": \"sagemaker\", \"resource\": \"createProcessingJob.sync\", \"output\": \"{\\\"ProcessingJobArn\\\":\\\"arn:aws:sagemaker:us-east-1:962542737140:processing-job/mlops-nyctaxi-pbl-8088d44e-e8ce-4936-a0c4-97e41805f817\\\",\\\"SdkHttpMetadata\\\":{\\\"AllHttpHeaders\\\":{\\\"x-amzn-RequestId\\\":[\\\"1ac101a4-892f-4f6d-9c51-8d8123d29c87\\\"],\\\"Content-Length\\\":[\\\"133\\\"],\\\"Date\\\":[\\\"Sat, 18 Sep 2021 03:07:15 GMT\\\"],\\\"Content-Type\\\":[\\\"application/x-amz-json-1.1\\\"]},\\\"HttpHeaders\\\":{\\\"Content-Length\\\":\\\"133\\\",\\\"Content-Type\\\":\\\"application/x-amz-json-1.1\\\",\\\"Date\\\":\\\"Sat, 18 Sep 2021 03:07:15 GMT\\\",\\\"x-amzn-RequestId\\\":\\\"1ac101a4-892f-4f6d-9c51-8d8123d29c87\\\"},\\\"HttpStatusCode\\\":200},\\\"SdkResponseMetadata\\\":{\\\"RequestId\\\":\\\"1ac101a4-892f-4f6d-9c51-8d8123d29c87\\\"}}\", \"outputDetails\": {\"truncated\": false}}}, {\"timestamp\": 1631934436.596, \"type\": \"TaskSubmitted\", \"id\": 16, \"previousEventId\": 14, \"taskSubmittedEventDetails\": {\"resourceType\": \"sagemaker\", \"resource\": \"createTrainingJob.sync\", \"output\": \"{\\\"SdkHttpMetadata\\\":{\\\"AllHttpHeaders\\\":{\\\"x-amzn-RequestId\\\":[\\\"8d2a380a-8413-4601-887d-10d2442af11b\\\"],\\\"Content-Length\\\":[\\\"125\\\"],\\\"Date\\\":[\\\"Sat, 18 Sep 2021 03:07:15 GMT\\\"],\\\"Content-Type\\\":[\\\"application/x-amz-json-1.1\\\"]},\\\"HttpHeaders\\\":{\\\"Content-Length\\\":\\\"125\\\",\\\"Content-Type\\\":\\\"application/x-amz-json-1.1\\\",\\\"Date\\\":\\\"Sat, 18 Sep 2021 03:07:15 GMT\\\",\\\"x-amzn-RequestId\\\":\\\"8d2a380a-8413-4601-887d-10d2442af11b\\\"},\\\"HttpStatusCode\\\":200},\\\"SdkResponseMetadata\\\":{\\\"RequestId\\\":\\\"8d2a380a-8413-4601-887d-10d2442af11b\\\"},\\\"TrainingJobArn\\\":\\\"arn:aws:sagemaker:us-east-1:962542737140:training-job/mlops-nyctaxi-8088d44e-e8ce-4936-a0c4-97e41805f817\\\"}\", \"outputDetails\": {\"truncated\": false}}}, {\"timestamp\": 1631934655.962, \"type\": \"TaskSucceeded\", \"id\": 17, \"previousEventId\": 16, \"taskSucceededEventDetails\": {\"resourceType\": \"sagemaker\", \"resource\": \"createTrainingJob.sync\", \"output\": \"{\\\"TrainingJobName\\\":\\\"mlops-nyctaxi-8088d44e-e8ce-4936-a0c4-97e41805f817\\\",\\\"TrainingJobArn\\\":\\\"arn:aws:sagemaker:us-east-1:962542737140:training-job/mlops-nyctaxi-8088d44e-e8ce-4936-a0c4-97e41805f817\\\",\\\"ModelArtifacts\\\":{\\\"S3ModelArtifacts\\\":\\\"s3://sagemaker-us-east-1-962542737140/nyctaxi/mlops-nyctaxi-8088d44e-e8ce-4936-a0c4-97e41805f817/output/model.tar.gz\\\"},\\\"TrainingJobStatus\\\":\\\"Completed\\\",\\\"SecondaryStatus\\\":\\\"Completed\\\",\\\"HyperParameters\\\":{\\\"eta\\\":\\\"0.2\\\",\\\"max_depth\\\":\\\"9\\\",\\\"early_stopping_rounds\\\":\\\"10\\\",\\\"num_round\\\":\\\"50\\\",\\\"subsample\\\":\\\"0.8\\\",\\\"gamma\\\":\\\"4\\\",\\\"min_child_weight\\\":\\\"300\\\",\\\"objective\\\":\\\"reg:linear\\\"},\\\"AlgorithmSpecification\\\":{\\\"TrainingImage\\\":\\\"811284229777.dkr.ecr.us-east-1.amazonaws.com/xgboost:latest\\\",\\\"TrainingInputMode\\\":\\\"FILE\\\"},\\\"RoleArn\\\":\\\"arn:aws:iam::962542737140:role/mlops-nyctaxi-sagemaker-role\\\",\\\"InputDataConfig\\\":[{\\\"ChannelName\\\":\\\"train\\\",\\\"DataSource\\\":{\\\"S3DataSource\\\":{\\\"S3DataType\\\":\\\"S3_PREFIX\\\",\\\"S3Uri\\\":\\\"s3://sagemaker-us-east-1-962542737140/nyc-tlc/v1/data/training/train.csv\\\",\\\"S3DataDistributionType\\\":\\\"FULLY_REPLICATED\\\"}},\\\"ContentType\\\":\\\"csv\\\",\\\"CompressionType\\\":\\\"NONE\\\",\\\"RecordWrapperType\\\":\\\"NONE\\\"},{\\\"ChannelName\\\":\\\"validation\\\",\\\"DataSource\\\":{\\\"S3DataSource\\\":{\\\"S3DataType\\\":\\\"S3_PREFIX\\\",\\\"S3Uri\\\":\\\"s3://sagemaker-us-east-1-962542737140/nyc-tlc/v1/data/validation/validation.csv\\\",\\\"S3DataDistributionType\\\":\\\"FULLY_REPLICATED\\\"}},\\\"ContentType\\\":\\\"csv\\\",\\\"CompressionType\\\":\\\"NONE\\\",\\\"RecordWrapperType\\\":\\\"NONE\\\"}],\\\"OutputDataConfig\\\":{\\\"S3OutputPath\\\":\\\"s3://sagemaker-us-east-1-962542737140/nyctaxi\\\"},\\\"ResourceConfig\\\":{\\\"InstanceType\\\":\\\"ml.m4.xlarge\\\",\\\"InstanceCount\\\":1.0,\\\"VolumeSizeInGB\\\":30.0},\\\"StoppingCondition\\\":{\\\"MaxRuntimeInSeconds\\\":86400.0},\\\"CreationTime\\\":1.631934436564E12,\\\"TrainingStartTime\\\":1.631934575938E12,\\\"TrainingEndTime\\\":1.631934653195E12,\\\"LastModifiedTime\\\":1.631934653195E12,\\\"SecondaryStatusTransitions\\\":[{\\\"Status\\\":\\\"Starting\\\",\\\"StartTime\\\":1.631934436564E12,\\\"EndTime\\\":1.631934575938E12,\\\"StatusMessage\\\":\\\"Preparing the instances for training\\\"},{\\\"Status\\\":\\\"Downloading\\\",\\\"StartTime\\\":1.631934575938E12,\\\"EndTime\\\":1.631934605897E12,\\\"StatusMessage\\\":\\\"Downloading input data\\\"},{\\\"Status\\\":\\\"Training\\\",\\\"StartTime\\\":1.631934605897E12,\\\"EndTime\\\":1.631934646025E12,\\\"StatusMessage\\\":\\\"Training image download completed. Training in progress.\\\"},{\\\"Status\\\":\\\"Uploading\\\",\\\"StartTime\\\":1.631934646025E12,\\\"EndTime\\\":1.631934653195E12,\\\"StatusMessage\\\":\\\"Uploading generated training model\\\"},{\\\"Status\\\":\\\"Completed\\\",\\\"StartTime\\\":1.631934653195E12,\\\"EndTime\\\":1.631934653195E12,\\\"StatusMessage\\\":\\\"Training job completed\\\"}],\\\"Tags\\\":{\\\"GitBranch\\\":\\\"main\\\",\\\"MANAGED_BY_AWS\\\":\\\"STARTED_BY_STEP_FUNCTIONS\\\",\\\"DataVersionId\\\":\\\"TqfszOmVfvNFjCVgaND_Rjk4280XWcKS\\\",\\\"GitCommitHash\\\":\\\"280d7816fc2f4f79c5fd0bd7a5943d3edfc27139\\\",\\\"AWS_STEP_FUNCTIONS_EXECUTION_ARN\\\":\\\"arn:aws:states:us-east-1:962542737140:execution:nyctaxi:00a18b30-5b93-4439-85bc-9588559a9502\\\"}}\", \"outputDetails\": {\"truncated\": false}}}, {\"timestamp\": 1631934655.962, \"type\": \"TaskStateExited\", \"id\": 18, \"previousEventId\": 17, \"stateExitedEventDetails\": {\"name\": \"Training Job\", \"output\": \"{\\\"ExperimentName\\\":\\\"mlops-nyctaxi\\\",\\\"TrialName\\\":\\\"mlops-nyctaxi-8088d44e-e8ce-4936-a0c4-97e41805f817\\\",\\\"GitBranch\\\":\\\"main\\\",\\\"GitCommitHash\\\":\\\"280d7816fc2f4f79c5fd0bd7a5943d3edfc27139\\\",\\\"DataVersionId\\\":\\\"TqfszOmVfvNFjCVgaND_Rjk4280XWcKS\\\",\\\"BaselineJobName\\\":\\\"mlops-nyctaxi-pbl-8088d44e-e8ce-4936-a0c4-97e41805f817\\\",\\\"BaselineOutputUri\\\":\\\"s3://sagemaker-us-east-1-962542737140/nyctaxi/monitoring/baseline/mlops-nyctaxi-pbl-8088d44e-e8ce-4936-a0c4-97e41805f817\\\",\\\"TrainingJobName\\\":\\\"mlops-nyctaxi-8088d44e-e8ce-4936-a0c4-97e41805f817\\\",\\\"CreateTrialResults\\\":{\\\"ExecutedVersion\\\":\\\"$LATEST\\\",\\\"Payload\\\":{\\\"statusCode\\\":200,\\\"results\\\":{\\\"ExperimentCreated\\\":true,\\\"TrialCreated\\\":false}},\\\"SdkHttpMetadata\\\":{\\\"AllHttpHeaders\\\":{\\\"X-Amz-Executed-Version\\\":[\\\"$LATEST\\\"],\\\"x-amzn-Remapped-Content-Length\\\":[\\\"0\\\"],\\\"Connection\\\":[\\\"keep-alive\\\"],\\\"x-amzn-RequestId\\\":[\\\"828a4116-5af9-4b48-ac93-b6a95462021b\\\"],\\\"Content-Length\\\":[\\\"82\\\"],\\\"Date\\\":[\\\"Sat, 18 Sep 2021 03:07:16 GMT\\\"],\\\"X-Amzn-Trace-Id\\\":[\\\"root=1-614557e2-2747243f1df0ea927b5a4a9e;sampled=0\\\"],\\\"Content-Type\\\":[\\\"application/json\\\"]},\\\"HttpHeaders\\\":{\\\"Connection\\\":\\\"keep-alive\\\",\\\"Content-Length\\\":\\\"82\\\",\\\"Content-Type\\\":\\\"application/json\\\",\\\"Date\\\":\\\"Sat, 18 Sep 2021 03:07:16 GMT\\\",\\\"X-Amz-Executed-Version\\\":\\\"$LATEST\\\",\\\"x-amzn-Remapped-Content-Length\\\":\\\"0\\\",\\\"x-amzn-RequestId\\\":\\\"828a4116-5af9-4b48-ac93-b6a95462021b\\\",\\\"X-Amzn-Trace-Id\\\":\\\"root=1-614557e2-2747243f1df0ea927b5a4a9e;sampled=0\\\"},\\\"HttpStatusCode\\\":200},\\\"SdkResponseMetadata\\\":{\\\"RequestId\\\":\\\"828a4116-5af9-4b48-ac93-b6a95462021b\\\"},\\\"StatusCode\\\":200},\\\"TrainingResults\\\":{\\\"TrainingJobName\\\":\\\"mlops-nyctaxi-8088d44e-e8ce-4936-a0c4-97e41805f817\\\",\\\"TrainingJobArn\\\":\\\"arn:aws:sagemaker:us-east-1:962542737140:training-job/mlops-nyctaxi-8088d44e-e8ce-4936-a0c4-97e41805f817\\\",\\\"ModelArtifacts\\\":{\\\"S3ModelArtifacts\\\":\\\"s3://sagemaker-us-east-1-962542737140/nyctaxi/mlops-nyctaxi-8088d44e-e8ce-4936-a0c4-97e41805f817/output/model.tar.gz\\\"},\\\"TrainingJobStatus\\\":\\\"Completed\\\",\\\"SecondaryStatus\\\":\\\"Completed\\\",\\\"HyperParameters\\\":{\\\"eta\\\":\\\"0.2\\\",\\\"max_depth\\\":\\\"9\\\",\\\"early_stopping_rounds\\\":\\\"10\\\",\\\"num_round\\\":\\\"50\\\",\\\"subsample\\\":\\\"0.8\\\",\\\"gamma\\\":\\\"4\\\",\\\"min_child_weight\\\":\\\"300\\\",\\\"objective\\\":\\\"reg:linear\\\"},\\\"AlgorithmSpecification\\\":{\\\"TrainingImage\\\":\\\"811284229777.dkr.ecr.us-east-1.amazonaws.com/xgboost:latest\\\",\\\"TrainingInputMode\\\":\\\"FILE\\\"},\\\"RoleArn\\\":\\\"arn:aws:iam::962542737140:role/mlops-nyctaxi-sagemaker-role\\\",\\\"InputDataConfig\\\":[{\\\"ChannelName\\\":\\\"train\\\",\\\"DataSource\\\":{\\\"S3DataSource\\\":{\\\"S3DataType\\\":\\\"S3_PREFIX\\\",\\\"S3Uri\\\":\\\"s3://sagemaker-us-east-1-962542737140/nyc-tlc/v1/data/training/train.csv\\\",\\\"S3DataDistributionType\\\":\\\"FULLY_REPLICATED\\\"}},\\\"ContentType\\\":\\\"csv\\\",\\\"CompressionType\\\":\\\"NONE\\\",\\\"RecordWrapperType\\\":\\\"NONE\\\"},{\\\"ChannelName\\\":\\\"validation\\\",\\\"DataSource\\\":{\\\"S3DataSource\\\":{\\\"S3DataType\\\":\\\"S3_PREFIX\\\",\\\"S3Uri\\\":\\\"s3://sagemaker-us-east-1-962542737140/nyc-tlc/v1/data/validation/validation.csv\\\",\\\"S3DataDistributionType\\\":\\\"FULLY_REPLICATED\\\"}},\\\"ContentType\\\":\\\"csv\\\",\\\"CompressionType\\\":\\\"NONE\\\",\\\"RecordWrapperType\\\":\\\"NONE\\\"}],\\\"OutputDataConfig\\\":{\\\"S3OutputPath\\\":\\\"s3://sagemaker-us-east-1-962542737140/nyctaxi\\\"},\\\"ResourceConfig\\\":{\\\"InstanceType\\\":\\\"ml.m4.xlarge\\\",\\\"InstanceCount\\\":1.0,\\\"VolumeSizeInGB\\\":30.0},\\\"StoppingCondition\\\":{\\\"MaxRuntimeInSeconds\\\":86400.0},\\\"CreationTime\\\":1.631934436564E12,\\\"TrainingStartTime\\\":1.631934575938E12,\\\"TrainingEndTime\\\":1.631934653195E12,\\\"LastModifiedTime\\\":1.631934653195E12,\\\"SecondaryStatusTransitions\\\":[{\\\"Status\\\":\\\"Starting\\\",\\\"StartTime\\\":1.631934436564E12,\\\"EndTime\\\":1.631934575938E12,\\\"StatusMessage\\\":\\\"Preparing the instances for training\\\"},{\\\"Status\\\":\\\"Downloading\\\",\\\"StartTime\\\":1.631934575938E12,\\\"EndTime\\\":1.631934605897E12,\\\"StatusMessage\\\":\\\"Downloading input data\\\"},{\\\"Status\\\":\\\"Training\\\",\\\"StartTime\\\":1.631934605897E12,\\\"EndTime\\\":1.631934646025E12,\\\"StatusMessage\\\":\\\"Training image download completed. Training in progress.\\\"},{\\\"Status\\\":\\\"Uploading\\\",\\\"StartTime\\\":1.631934646025E12,\\\"EndTime\\\":1.631934653195E12,\\\"StatusMessage\\\":\\\"Uploading generated training model\\\"},{\\\"Status\\\":\\\"Completed\\\",\\\"StartTime\\\":1.631934653195E12,\\\"EndTime\\\":1.631934653195E12,\\\"StatusMessage\\\":\\\"Training job completed\\\"}],\\\"Tags\\\":{\\\"GitBranch\\\":\\\"main\\\",\\\"MANAGED_BY_AWS\\\":\\\"STARTED_BY_STEP_FUNCTIONS\\\",\\\"DataVersionId\\\":\\\"TqfszOmVfvNFjCVgaND_Rjk4280XWcKS\\\",\\\"GitCommitHash\\\":\\\"280d7816fc2f4f79c5fd0bd7a5943d3edfc27139\\\",\\\"AWS_STEP_FUNCTIONS_EXECUTION_ARN\\\":\\\"arn:aws:states:us-east-1:962542737140:execution:nyctaxi:00a18b30-5b93-4439-85bc-9588559a9502\\\"}}}\", \"outputDetails\": {\"truncated\": false}}}, {\"timestamp\": 1631934655.971, \"type\": \"TaskStateEntered\", \"id\": 19, \"previousEventId\": 18, \"stateEnteredEventDetails\": {\"name\": \"Save Model\", \"input\": \"{\\\"ExperimentName\\\":\\\"mlops-nyctaxi\\\",\\\"TrialName\\\":\\\"mlops-nyctaxi-8088d44e-e8ce-4936-a0c4-97e41805f817\\\",\\\"GitBranch\\\":\\\"main\\\",\\\"GitCommitHash\\\":\\\"280d7816fc2f4f79c5fd0bd7a5943d3edfc27139\\\",\\\"DataVersionId\\\":\\\"TqfszOmVfvNFjCVgaND_Rjk4280XWcKS\\\",\\\"BaselineJobName\\\":\\\"mlops-nyctaxi-pbl-8088d44e-e8ce-4936-a0c4-97e41805f817\\\",\\\"BaselineOutputUri\\\":\\\"s3://sagemaker-us-east-1-962542737140/nyctaxi/monitoring/baseline/mlops-nyctaxi-pbl-8088d44e-e8ce-4936-a0c4-97e41805f817\\\",\\\"TrainingJobName\\\":\\\"mlops-nyctaxi-8088d44e-e8ce-4936-a0c4-97e41805f817\\\",\\\"CreateTrialResults\\\":{\\\"ExecutedVersion\\\":\\\"$LATEST\\\",\\\"Payload\\\":{\\\"statusCode\\\":200,\\\"results\\\":{\\\"ExperimentCreated\\\":true,\\\"TrialCreated\\\":false}},\\\"SdkHttpMetadata\\\":{\\\"AllHttpHeaders\\\":{\\\"X-Amz-Executed-Version\\\":[\\\"$LATEST\\\"],\\\"x-amzn-Remapped-Content-Length\\\":[\\\"0\\\"],\\\"Connection\\\":[\\\"keep-alive\\\"],\\\"x-amzn-RequestId\\\":[\\\"828a4116-5af9-4b48-ac93-b6a95462021b\\\"],\\\"Content-Length\\\":[\\\"82\\\"],\\\"Date\\\":[\\\"Sat, 18 Sep 2021 03:07:16 GMT\\\"],\\\"X-Amzn-Trace-Id\\\":[\\\"root=1-614557e2-2747243f1df0ea927b5a4a9e;sampled=0\\\"],\\\"Content-Type\\\":[\\\"application/json\\\"]},\\\"HttpHeaders\\\":{\\\"Connection\\\":\\\"keep-alive\\\",\\\"Content-Length\\\":\\\"82\\\",\\\"Content-Type\\\":\\\"application/json\\\",\\\"Date\\\":\\\"Sat, 18 Sep 2021 03:07:16 GMT\\\",\\\"X-Amz-Executed-Version\\\":\\\"$LATEST\\\",\\\"x-amzn-Remapped-Content-Length\\\":\\\"0\\\",\\\"x-amzn-RequestId\\\":\\\"828a4116-5af9-4b48-ac93-b6a95462021b\\\",\\\"X-Amzn-Trace-Id\\\":\\\"root=1-614557e2-2747243f1df0ea927b5a4a9e;sampled=0\\\"},\\\"HttpStatusCode\\\":200},\\\"SdkResponseMetadata\\\":{\\\"RequestId\\\":\\\"828a4116-5af9-4b48-ac93-b6a95462021b\\\"},\\\"StatusCode\\\":200},\\\"TrainingResults\\\":{\\\"TrainingJobName\\\":\\\"mlops-nyctaxi-8088d44e-e8ce-4936-a0c4-97e41805f817\\\",\\\"TrainingJobArn\\\":\\\"arn:aws:sagemaker:us-east-1:962542737140:training-job/mlops-nyctaxi-8088d44e-e8ce-4936-a0c4-97e41805f817\\\",\\\"ModelArtifacts\\\":{\\\"S3ModelArtifacts\\\":\\\"s3://sagemaker-us-east-1-962542737140/nyctaxi/mlops-nyctaxi-8088d44e-e8ce-4936-a0c4-97e41805f817/output/model.tar.gz\\\"},\\\"TrainingJobStatus\\\":\\\"Completed\\\",\\\"SecondaryStatus\\\":\\\"Completed\\\",\\\"HyperParameters\\\":{\\\"eta\\\":\\\"0.2\\\",\\\"max_depth\\\":\\\"9\\\",\\\"early_stopping_rounds\\\":\\\"10\\\",\\\"num_round\\\":\\\"50\\\",\\\"subsample\\\":\\\"0.8\\\",\\\"gamma\\\":\\\"4\\\",\\\"min_child_weight\\\":\\\"300\\\",\\\"objective\\\":\\\"reg:linear\\\"},\\\"AlgorithmSpecification\\\":{\\\"TrainingImage\\\":\\\"811284229777.dkr.ecr.us-east-1.amazonaws.com/xgboost:latest\\\",\\\"TrainingInputMode\\\":\\\"FILE\\\"},\\\"RoleArn\\\":\\\"arn:aws:iam::962542737140:role/mlops-nyctaxi-sagemaker-role\\\",\\\"InputDataConfig\\\":[{\\\"ChannelName\\\":\\\"train\\\",\\\"DataSource\\\":{\\\"S3DataSource\\\":{\\\"S3DataType\\\":\\\"S3_PREFIX\\\",\\\"S3Uri\\\":\\\"s3://sagemaker-us-east-1-962542737140/nyc-tlc/v1/data/training/train.csv\\\",\\\"S3DataDistributionType\\\":\\\"FULLY_REPLICATED\\\"}},\\\"ContentType\\\":\\\"csv\\\",\\\"CompressionType\\\":\\\"NONE\\\",\\\"RecordWrapperType\\\":\\\"NONE\\\"},{\\\"ChannelName\\\":\\\"validation\\\",\\\"DataSource\\\":{\\\"S3DataSource\\\":{\\\"S3DataType\\\":\\\"S3_PREFIX\\\",\\\"S3Uri\\\":\\\"s3://sagemaker-us-east-1-962542737140/nyc-tlc/v1/data/validation/validation.csv\\\",\\\"S3DataDistributionType\\\":\\\"FULLY_REPLICATED\\\"}},\\\"ContentType\\\":\\\"csv\\\",\\\"CompressionType\\\":\\\"NONE\\\",\\\"RecordWrapperType\\\":\\\"NONE\\\"}],\\\"OutputDataConfig\\\":{\\\"S3OutputPath\\\":\\\"s3://sagemaker-us-east-1-962542737140/nyctaxi\\\"},\\\"ResourceConfig\\\":{\\\"InstanceType\\\":\\\"ml.m4.xlarge\\\",\\\"InstanceCount\\\":1.0,\\\"VolumeSizeInGB\\\":30.0},\\\"StoppingCondition\\\":{\\\"MaxRuntimeInSeconds\\\":86400.0},\\\"CreationTime\\\":1.631934436564E12,\\\"TrainingStartTime\\\":1.631934575938E12,\\\"TrainingEndTime\\\":1.631934653195E12,\\\"LastModifiedTime\\\":1.631934653195E12,\\\"SecondaryStatusTransitions\\\":[{\\\"Status\\\":\\\"Starting\\\",\\\"StartTime\\\":1.631934436564E12,\\\"EndTime\\\":1.631934575938E12,\\\"StatusMessage\\\":\\\"Preparing the instances for training\\\"},{\\\"Status\\\":\\\"Downloading\\\",\\\"StartTime\\\":1.631934575938E12,\\\"EndTime\\\":1.631934605897E12,\\\"StatusMessage\\\":\\\"Downloading input data\\\"},{\\\"Status\\\":\\\"Training\\\",\\\"StartTime\\\":1.631934605897E12,\\\"EndTime\\\":1.631934646025E12,\\\"StatusMessage\\\":\\\"Training image download completed. Training in progress.\\\"},{\\\"Status\\\":\\\"Uploading\\\",\\\"StartTime\\\":1.631934646025E12,\\\"EndTime\\\":1.631934653195E12,\\\"StatusMessage\\\":\\\"Uploading generated training model\\\"},{\\\"Status\\\":\\\"Completed\\\",\\\"StartTime\\\":1.631934653195E12,\\\"EndTime\\\":1.631934653195E12,\\\"StatusMessage\\\":\\\"Training job completed\\\"}],\\\"Tags\\\":{\\\"GitBranch\\\":\\\"main\\\",\\\"MANAGED_BY_AWS\\\":\\\"STARTED_BY_STEP_FUNCTIONS\\\",\\\"DataVersionId\\\":\\\"TqfszOmVfvNFjCVgaND_Rjk4280XWcKS\\\",\\\"GitCommitHash\\\":\\\"280d7816fc2f4f79c5fd0bd7a5943d3edfc27139\\\",\\\"AWS_STEP_FUNCTIONS_EXECUTION_ARN\\\":\\\"arn:aws:states:us-east-1:962542737140:execution:nyctaxi:00a18b30-5b93-4439-85bc-9588559a9502\\\"}}}\", \"inputDetails\": {\"truncated\": false}}}, {\"timestamp\": 1631934655.971, \"type\": \"TaskScheduled\", \"id\": 20, \"previousEventId\": 19, \"taskScheduledEventDetails\": {\"resourceType\": \"sagemaker\", \"resource\": \"createModel\", \"region\": \"us-east-1\", \"parameters\": \"{\\\"ExecutionRoleArn\\\":\\\"arn:aws:iam::962542737140:role/mlops-nyctaxi-sagemaker-role\\\",\\\"PrimaryContainer\\\":{\\\"Environment\\\":{},\\\"Image\\\":\\\"811284229777.dkr.ecr.us-east-1.amazonaws.com/xgboost:latest\\\",\\\"ModelDataUrl\\\":\\\"s3://sagemaker-us-east-1-962542737140/nyctaxi/mlops-nyctaxi-8088d44e-e8ce-4936-a0c4-97e41805f817/output/model.tar.gz\\\"},\\\"ModelName\\\":\\\"mlops-nyctaxi-8088d44e-e8ce-4936-a0c4-97e41805f817\\\"}\"}}, {\"timestamp\": 1631934655.986, \"type\": \"TaskStarted\", \"id\": 21, \"previousEventId\": 20, \"taskStartedEventDetails\": {\"resourceType\": \"sagemaker\", \"resource\": \"createModel\"}}, {\"timestamp\": 1631934656.4, \"type\": \"TaskSucceeded\", \"id\": 22, \"previousEventId\": 21, \"taskSucceededEventDetails\": {\"resourceType\": \"sagemaker\", \"resource\": \"createModel\", \"output\": \"{\\\"ModelArn\\\":\\\"arn:aws:sagemaker:us-east-1:962542737140:model/mlops-nyctaxi-8088d44e-e8ce-4936-a0c4-97e41805f817\\\",\\\"SdkHttpMetadata\\\":{\\\"AllHttpHeaders\\\":{\\\"x-amzn-RequestId\\\":[\\\"cd77092e-91bc-4053-9f98-6b03a1b20050\\\"],\\\"Content-Length\\\":[\\\"112\\\"],\\\"Date\\\":[\\\"Sat, 18 Sep 2021 03:10:56 GMT\\\"],\\\"Content-Type\\\":[\\\"application/x-amz-json-1.1\\\"]},\\\"HttpHeaders\\\":{\\\"Content-Length\\\":\\\"112\\\",\\\"Content-Type\\\":\\\"application/x-amz-json-1.1\\\",\\\"Date\\\":\\\"Sat, 18 Sep 2021 03:10:56 GMT\\\",\\\"x-amzn-RequestId\\\":\\\"cd77092e-91bc-4053-9f98-6b03a1b20050\\\"},\\\"HttpStatusCode\\\":200},\\\"SdkResponseMetadata\\\":{\\\"RequestId\\\":\\\"cd77092e-91bc-4053-9f98-6b03a1b20050\\\"}}\", \"outputDetails\": {\"truncated\": false}}}, {\"timestamp\": 1631934656.4, \"type\": \"TaskStateExited\", \"id\": 23, \"previousEventId\": 22, \"stateExitedEventDetails\": {\"name\": \"Save Model\", \"output\": \"{\\\"ExperimentName\\\":\\\"mlops-nyctaxi\\\",\\\"TrialName\\\":\\\"mlops-nyctaxi-8088d44e-e8ce-4936-a0c4-97e41805f817\\\",\\\"GitBranch\\\":\\\"main\\\",\\\"GitCommitHash\\\":\\\"280d7816fc2f4f79c5fd0bd7a5943d3edfc27139\\\",\\\"DataVersionId\\\":\\\"TqfszOmVfvNFjCVgaND_Rjk4280XWcKS\\\",\\\"BaselineJobName\\\":\\\"mlops-nyctaxi-pbl-8088d44e-e8ce-4936-a0c4-97e41805f817\\\",\\\"BaselineOutputUri\\\":\\\"s3://sagemaker-us-east-1-962542737140/nyctaxi/monitoring/baseline/mlops-nyctaxi-pbl-8088d44e-e8ce-4936-a0c4-97e41805f817\\\",\\\"TrainingJobName\\\":\\\"mlops-nyctaxi-8088d44e-e8ce-4936-a0c4-97e41805f817\\\",\\\"CreateTrialResults\\\":{\\\"ExecutedVersion\\\":\\\"$LATEST\\\",\\\"Payload\\\":{\\\"statusCode\\\":200,\\\"results\\\":{\\\"ExperimentCreated\\\":true,\\\"TrialCreated\\\":false}},\\\"SdkHttpMetadata\\\":{\\\"AllHttpHeaders\\\":{\\\"X-Amz-Executed-Version\\\":[\\\"$LATEST\\\"],\\\"x-amzn-Remapped-Content-Length\\\":[\\\"0\\\"],\\\"Connection\\\":[\\\"keep-alive\\\"],\\\"x-amzn-RequestId\\\":[\\\"828a4116-5af9-4b48-ac93-b6a95462021b\\\"],\\\"Content-Length\\\":[\\\"82\\\"],\\\"Date\\\":[\\\"Sat, 18 Sep 2021 03:07:16 GMT\\\"],\\\"X-Amzn-Trace-Id\\\":[\\\"root=1-614557e2-2747243f1df0ea927b5a4a9e;sampled=0\\\"],\\\"Content-Type\\\":[\\\"application/json\\\"]},\\\"HttpHeaders\\\":{\\\"Connection\\\":\\\"keep-alive\\\",\\\"Content-Length\\\":\\\"82\\\",\\\"Content-Type\\\":\\\"application/json\\\",\\\"Date\\\":\\\"Sat, 18 Sep 2021 03:07:16 GMT\\\",\\\"X-Amz-Executed-Version\\\":\\\"$LATEST\\\",\\\"x-amzn-Remapped-Content-Length\\\":\\\"0\\\",\\\"x-amzn-RequestId\\\":\\\"828a4116-5af9-4b48-ac93-b6a95462021b\\\",\\\"X-Amzn-Trace-Id\\\":\\\"root=1-614557e2-2747243f1df0ea927b5a4a9e;sampled=0\\\"},\\\"HttpStatusCode\\\":200},\\\"SdkResponseMetadata\\\":{\\\"RequestId\\\":\\\"828a4116-5af9-4b48-ac93-b6a95462021b\\\"},\\\"StatusCode\\\":200},\\\"TrainingResults\\\":{\\\"TrainingJobName\\\":\\\"mlops-nyctaxi-8088d44e-e8ce-4936-a0c4-97e41805f817\\\",\\\"TrainingJobArn\\\":\\\"arn:aws:sagemaker:us-east-1:962542737140:training-job/mlops-nyctaxi-8088d44e-e8ce-4936-a0c4-97e41805f817\\\",\\\"ModelArtifacts\\\":{\\\"S3ModelArtifacts\\\":\\\"s3://sagemaker-us-east-1-962542737140/nyctaxi/mlops-nyctaxi-8088d44e-e8ce-4936-a0c4-97e41805f817/output/model.tar.gz\\\"},\\\"TrainingJobStatus\\\":\\\"Completed\\\",\\\"SecondaryStatus\\\":\\\"Completed\\\",\\\"HyperParameters\\\":{\\\"eta\\\":\\\"0.2\\\",\\\"max_depth\\\":\\\"9\\\",\\\"early_stopping_rounds\\\":\\\"10\\\",\\\"num_round\\\":\\\"50\\\",\\\"subsample\\\":\\\"0.8\\\",\\\"gamma\\\":\\\"4\\\",\\\"min_child_weight\\\":\\\"300\\\",\\\"objective\\\":\\\"reg:linear\\\"},\\\"AlgorithmSpecification\\\":{\\\"TrainingImage\\\":\\\"811284229777.dkr.ecr.us-east-1.amazonaws.com/xgboost:latest\\\",\\\"TrainingInputMode\\\":\\\"FILE\\\"},\\\"RoleArn\\\":\\\"arn:aws:iam::962542737140:role/mlops-nyctaxi-sagemaker-role\\\",\\\"InputDataConfig\\\":[{\\\"ChannelName\\\":\\\"train\\\",\\\"DataSource\\\":{\\\"S3DataSource\\\":{\\\"S3DataType\\\":\\\"S3_PREFIX\\\",\\\"S3Uri\\\":\\\"s3://sagemaker-us-east-1-962542737140/nyc-tlc/v1/data/training/train.csv\\\",\\\"S3DataDistributionType\\\":\\\"FULLY_REPLICATED\\\"}},\\\"ContentType\\\":\\\"csv\\\",\\\"CompressionType\\\":\\\"NONE\\\",\\\"RecordWrapperType\\\":\\\"NONE\\\"},{\\\"ChannelName\\\":\\\"validation\\\",\\\"DataSource\\\":{\\\"S3DataSource\\\":{\\\"S3DataType\\\":\\\"S3_PREFIX\\\",\\\"S3Uri\\\":\\\"s3://sagemaker-us-east-1-962542737140/nyc-tlc/v1/data/validation/validation.csv\\\",\\\"S3DataDistributionType\\\":\\\"FULLY_REPLICATED\\\"}},\\\"ContentType\\\":\\\"csv\\\",\\\"CompressionType\\\":\\\"NONE\\\",\\\"RecordWrapperType\\\":\\\"NONE\\\"}],\\\"OutputDataConfig\\\":{\\\"S3OutputPath\\\":\\\"s3://sagemaker-us-east-1-962542737140/nyctaxi\\\"},\\\"ResourceConfig\\\":{\\\"InstanceType\\\":\\\"ml.m4.xlarge\\\",\\\"InstanceCount\\\":1.0,\\\"VolumeSizeInGB\\\":30.0},\\\"StoppingCondition\\\":{\\\"MaxRuntimeInSeconds\\\":86400.0},\\\"CreationTime\\\":1.631934436564E12,\\\"TrainingStartTime\\\":1.631934575938E12,\\\"TrainingEndTime\\\":1.631934653195E12,\\\"LastModifiedTime\\\":1.631934653195E12,\\\"SecondaryStatusTransitions\\\":[{\\\"Status\\\":\\\"Starting\\\",\\\"StartTime\\\":1.631934436564E12,\\\"EndTime\\\":1.631934575938E12,\\\"StatusMessage\\\":\\\"Preparing the instances for training\\\"},{\\\"Status\\\":\\\"Downloading\\\",\\\"StartTime\\\":1.631934575938E12,\\\"EndTime\\\":1.631934605897E12,\\\"StatusMessage\\\":\\\"Downloading input data\\\"},{\\\"Status\\\":\\\"Training\\\",\\\"StartTime\\\":1.631934605897E12,\\\"EndTime\\\":1.631934646025E12,\\\"StatusMessage\\\":\\\"Training image download completed. Training in progress.\\\"},{\\\"Status\\\":\\\"Uploading\\\",\\\"StartTime\\\":1.631934646025E12,\\\"EndTime\\\":1.631934653195E12,\\\"StatusMessage\\\":\\\"Uploading generated training model\\\"},{\\\"Status\\\":\\\"Completed\\\",\\\"StartTime\\\":1.631934653195E12,\\\"EndTime\\\":1.631934653195E12,\\\"StatusMessage\\\":\\\"Training job completed\\\"}],\\\"Tags\\\":{\\\"GitBranch\\\":\\\"main\\\",\\\"MANAGED_BY_AWS\\\":\\\"STARTED_BY_STEP_FUNCTIONS\\\",\\\"DataVersionId\\\":\\\"TqfszOmVfvNFjCVgaND_Rjk4280XWcKS\\\",\\\"GitCommitHash\\\":\\\"280d7816fc2f4f79c5fd0bd7a5943d3edfc27139\\\",\\\"AWS_STEP_FUNCTIONS_EXECUTION_ARN\\\":\\\"arn:aws:states:us-east-1:962542737140:execution:nyctaxi:00a18b30-5b93-4439-85bc-9588559a9502\\\"}},\\\"ModelStepResults\\\":{\\\"ModelArn\\\":\\\"arn:aws:sagemaker:us-east-1:962542737140:model/mlops-nyctaxi-8088d44e-e8ce-4936-a0c4-97e41805f817\\\",\\\"SdkHttpMetadata\\\":{\\\"AllHttpHeaders\\\":{\\\"x-amzn-RequestId\\\":[\\\"cd77092e-91bc-4053-9f98-6b03a1b20050\\\"],\\\"Content-Length\\\":[\\\"112\\\"],\\\"Date\\\":[\\\"Sat, 18 Sep 2021 03:10:56 GMT\\\"],\\\"Content-Type\\\":[\\\"application/x-amz-json-1.1\\\"]},\\\"HttpHeaders\\\":{\\\"Content-Length\\\":\\\"112\\\",\\\"Content-Type\\\":\\\"application/x-amz-json-1.1\\\",\\\"Date\\\":\\\"Sat, 18 Sep 2021 03:10:56 GMT\\\",\\\"x-amzn-RequestId\\\":\\\"cd77092e-91bc-4053-9f98-6b03a1b20050\\\"},\\\"HttpStatusCode\\\":200},\\\"SdkResponseMetadata\\\":{\\\"RequestId\\\":\\\"cd77092e-91bc-4053-9f98-6b03a1b20050\\\"}}}\", \"outputDetails\": {\"truncated\": false}}}, {\"timestamp\": 1631934656.409, \"type\": \"TaskStateEntered\", \"id\": 24, \"previousEventId\": 23, \"stateEnteredEventDetails\": {\"name\": \"Query Training Results\", \"input\": \"{\\\"ExperimentName\\\":\\\"mlops-nyctaxi\\\",\\\"TrialName\\\":\\\"mlops-nyctaxi-8088d44e-e8ce-4936-a0c4-97e41805f817\\\",\\\"GitBranch\\\":\\\"main\\\",\\\"GitCommitHash\\\":\\\"280d7816fc2f4f79c5fd0bd7a5943d3edfc27139\\\",\\\"DataVersionId\\\":\\\"TqfszOmVfvNFjCVgaND_Rjk4280XWcKS\\\",\\\"BaselineJobName\\\":\\\"mlops-nyctaxi-pbl-8088d44e-e8ce-4936-a0c4-97e41805f817\\\",\\\"BaselineOutputUri\\\":\\\"s3://sagemaker-us-east-1-962542737140/nyctaxi/monitoring/baseline/mlops-nyctaxi-pbl-8088d44e-e8ce-4936-a0c4-97e41805f817\\\",\\\"TrainingJobName\\\":\\\"mlops-nyctaxi-8088d44e-e8ce-4936-a0c4-97e41805f817\\\",\\\"CreateTrialResults\\\":{\\\"ExecutedVersion\\\":\\\"$LATEST\\\",\\\"Payload\\\":{\\\"statusCode\\\":200,\\\"results\\\":{\\\"ExperimentCreated\\\":true,\\\"TrialCreated\\\":false}},\\\"SdkHttpMetadata\\\":{\\\"AllHttpHeaders\\\":{\\\"X-Amz-Executed-Version\\\":[\\\"$LATEST\\\"],\\\"x-amzn-Remapped-Content-Length\\\":[\\\"0\\\"],\\\"Connection\\\":[\\\"keep-alive\\\"],\\\"x-amzn-RequestId\\\":[\\\"828a4116-5af9-4b48-ac93-b6a95462021b\\\"],\\\"Content-Length\\\":[\\\"82\\\"],\\\"Date\\\":[\\\"Sat, 18 Sep 2021 03:07:16 GMT\\\"],\\\"X-Amzn-Trace-Id\\\":[\\\"root=1-614557e2-2747243f1df0ea927b5a4a9e;sampled=0\\\"],\\\"Content-Type\\\":[\\\"application/json\\\"]},\\\"HttpHeaders\\\":{\\\"Connection\\\":\\\"keep-alive\\\",\\\"Content-Length\\\":\\\"82\\\",\\\"Content-Type\\\":\\\"application/json\\\",\\\"Date\\\":\\\"Sat, 18 Sep 2021 03:07:16 GMT\\\",\\\"X-Amz-Executed-Version\\\":\\\"$LATEST\\\",\\\"x-amzn-Remapped-Content-Length\\\":\\\"0\\\",\\\"x-amzn-RequestId\\\":\\\"828a4116-5af9-4b48-ac93-b6a95462021b\\\",\\\"X-Amzn-Trace-Id\\\":\\\"root=1-614557e2-2747243f1df0ea927b5a4a9e;sampled=0\\\"},\\\"HttpStatusCode\\\":200},\\\"SdkResponseMetadata\\\":{\\\"RequestId\\\":\\\"828a4116-5af9-4b48-ac93-b6a95462021b\\\"},\\\"StatusCode\\\":200},\\\"TrainingResults\\\":{\\\"TrainingJobName\\\":\\\"mlops-nyctaxi-8088d44e-e8ce-4936-a0c4-97e41805f817\\\",\\\"TrainingJobArn\\\":\\\"arn:aws:sagemaker:us-east-1:962542737140:training-job/mlops-nyctaxi-8088d44e-e8ce-4936-a0c4-97e41805f817\\\",\\\"ModelArtifacts\\\":{\\\"S3ModelArtifacts\\\":\\\"s3://sagemaker-us-east-1-962542737140/nyctaxi/mlops-nyctaxi-8088d44e-e8ce-4936-a0c4-97e41805f817/output/model.tar.gz\\\"},\\\"TrainingJobStatus\\\":\\\"Completed\\\",\\\"SecondaryStatus\\\":\\\"Completed\\\",\\\"HyperParameters\\\":{\\\"eta\\\":\\\"0.2\\\",\\\"max_depth\\\":\\\"9\\\",\\\"early_stopping_rounds\\\":\\\"10\\\",\\\"num_round\\\":\\\"50\\\",\\\"subsample\\\":\\\"0.8\\\",\\\"gamma\\\":\\\"4\\\",\\\"min_child_weight\\\":\\\"300\\\",\\\"objective\\\":\\\"reg:linear\\\"},\\\"AlgorithmSpecification\\\":{\\\"TrainingImage\\\":\\\"811284229777.dkr.ecr.us-east-1.amazonaws.com/xgboost:latest\\\",\\\"TrainingInputMode\\\":\\\"FILE\\\"},\\\"RoleArn\\\":\\\"arn:aws:iam::962542737140:role/mlops-nyctaxi-sagemaker-role\\\",\\\"InputDataConfig\\\":[{\\\"ChannelName\\\":\\\"train\\\",\\\"DataSource\\\":{\\\"S3DataSource\\\":{\\\"S3DataType\\\":\\\"S3_PREFIX\\\",\\\"S3Uri\\\":\\\"s3://sagemaker-us-east-1-962542737140/nyc-tlc/v1/data/training/train.csv\\\",\\\"S3DataDistributionType\\\":\\\"FULLY_REPLICATED\\\"}},\\\"ContentType\\\":\\\"csv\\\",\\\"CompressionType\\\":\\\"NONE\\\",\\\"RecordWrapperType\\\":\\\"NONE\\\"},{\\\"ChannelName\\\":\\\"validation\\\",\\\"DataSource\\\":{\\\"S3DataSource\\\":{\\\"S3DataType\\\":\\\"S3_PREFIX\\\",\\\"S3Uri\\\":\\\"s3://sagemaker-us-east-1-962542737140/nyc-tlc/v1/data/validation/validation.csv\\\",\\\"S3DataDistributionType\\\":\\\"FULLY_REPLICATED\\\"}},\\\"ContentType\\\":\\\"csv\\\",\\\"CompressionType\\\":\\\"NONE\\\",\\\"RecordWrapperType\\\":\\\"NONE\\\"}],\\\"OutputDataConfig\\\":{\\\"S3OutputPath\\\":\\\"s3://sagemaker-us-east-1-962542737140/nyctaxi\\\"},\\\"ResourceConfig\\\":{\\\"InstanceType\\\":\\\"ml.m4.xlarge\\\",\\\"InstanceCount\\\":1.0,\\\"VolumeSizeInGB\\\":30.0},\\\"StoppingCondition\\\":{\\\"MaxRuntimeInSeconds\\\":86400.0},\\\"CreationTime\\\":1.631934436564E12,\\\"TrainingStartTime\\\":1.631934575938E12,\\\"TrainingEndTime\\\":1.631934653195E12,\\\"LastModifiedTime\\\":1.631934653195E12,\\\"SecondaryStatusTransitions\\\":[{\\\"Status\\\":\\\"Starting\\\",\\\"StartTime\\\":1.631934436564E12,\\\"EndTime\\\":1.631934575938E12,\\\"StatusMessage\\\":\\\"Preparing the instances for training\\\"},{\\\"Status\\\":\\\"Downloading\\\",\\\"StartTime\\\":1.631934575938E12,\\\"EndTime\\\":1.631934605897E12,\\\"StatusMessage\\\":\\\"Downloading input data\\\"},{\\\"Status\\\":\\\"Training\\\",\\\"StartTime\\\":1.631934605897E12,\\\"EndTime\\\":1.631934646025E12,\\\"StatusMessage\\\":\\\"Training image download completed. Training in progress.\\\"},{\\\"Status\\\":\\\"Uploading\\\",\\\"StartTime\\\":1.631934646025E12,\\\"EndTime\\\":1.631934653195E12,\\\"StatusMessage\\\":\\\"Uploading generated training model\\\"},{\\\"Status\\\":\\\"Completed\\\",\\\"StartTime\\\":1.631934653195E12,\\\"EndTime\\\":1.631934653195E12,\\\"StatusMessage\\\":\\\"Training job completed\\\"}],\\\"Tags\\\":{\\\"GitBranch\\\":\\\"main\\\",\\\"MANAGED_BY_AWS\\\":\\\"STARTED_BY_STEP_FUNCTIONS\\\",\\\"DataVersionId\\\":\\\"TqfszOmVfvNFjCVgaND_Rjk4280XWcKS\\\",\\\"GitCommitHash\\\":\\\"280d7816fc2f4f79c5fd0bd7a5943d3edfc27139\\\",\\\"AWS_STEP_FUNCTIONS_EXECUTION_ARN\\\":\\\"arn:aws:states:us-east-1:962542737140:execution:nyctaxi:00a18b30-5b93-4439-85bc-9588559a9502\\\"}},\\\"ModelStepResults\\\":{\\\"ModelArn\\\":\\\"arn:aws:sagemaker:us-east-1:962542737140:model/mlops-nyctaxi-8088d44e-e8ce-4936-a0c4-97e41805f817\\\",\\\"SdkHttpMetadata\\\":{\\\"AllHttpHeaders\\\":{\\\"x-amzn-RequestId\\\":[\\\"cd77092e-91bc-4053-9f98-6b03a1b20050\\\"],\\\"Content-Length\\\":[\\\"112\\\"],\\\"Date\\\":[\\\"Sat, 18 Sep 2021 03:10:56 GMT\\\"],\\\"Content-Type\\\":[\\\"application/x-amz-json-1.1\\\"]},\\\"HttpHeaders\\\":{\\\"Content-Length\\\":\\\"112\\\",\\\"Content-Type\\\":\\\"application/x-amz-json-1.1\\\",\\\"Date\\\":\\\"Sat, 18 Sep 2021 03:10:56 GMT\\\",\\\"x-amzn-RequestId\\\":\\\"cd77092e-91bc-4053-9f98-6b03a1b20050\\\"},\\\"HttpStatusCode\\\":200},\\\"SdkResponseMetadata\\\":{\\\"RequestId\\\":\\\"cd77092e-91bc-4053-9f98-6b03a1b20050\\\"}}}\", \"inputDetails\": {\"truncated\": false}}}, {\"timestamp\": 1631934656.409, \"type\": \"TaskScheduled\", \"id\": 25, \"previousEventId\": 24, \"taskScheduledEventDetails\": {\"resourceType\": \"lambda\", \"resource\": \"invoke\", \"region\": \"us-east-1\", \"parameters\": \"{\\\"FunctionName\\\":\\\"mlops-query-training\\\",\\\"Payload\\\":{\\\"TrainingJobName\\\":\\\"mlops-nyctaxi-8088d44e-e8ce-4936-a0c4-97e41805f817\\\"}}\"}}, {\"timestamp\": 1631934656.421, \"type\": \"TaskStarted\", \"id\": 26, \"previousEventId\": 25, \"taskStartedEventDetails\": {\"resourceType\": \"lambda\", \"resource\": \"invoke\"}}, {\"timestamp\": 1631934657.248, \"type\": \"TaskSucceeded\", \"id\": 27, \"previousEventId\": 26, \"taskSucceededEventDetails\": {\"resourceType\": \"lambda\", \"resource\": \"invoke\", \"output\": \"{\\\"ExecutedVersion\\\":\\\"$LATEST\\\",\\\"Payload\\\":{\\\"statusCode\\\":200,\\\"results\\\":{\\\"TrainingJobName\\\":\\\"mlops-nyctaxi-8088d44e-e8ce-4936-a0c4-97e41805f817\\\",\\\"TrainingJobStatus\\\":\\\"Completed\\\",\\\"TrainingMetrics\\\":[{\\\"MetricName\\\":\\\"train:rmse\\\",\\\"Value\\\":2.695770025253296,\\\"Timestamp\\\":1.631934643E9},{\\\"MetricName\\\":\\\"validation:rmse\\\",\\\"Value\\\":2.7403500080108643,\\\"Timestamp\\\":1.631934643E9}]}},\\\"SdkHttpMetadata\\\":{\\\"AllHttpHeaders\\\":{\\\"X-Amz-Executed-Version\\\":[\\\"$LATEST\\\"],\\\"x-amzn-Remapped-Content-Length\\\":[\\\"0\\\"],\\\"Connection\\\":[\\\"keep-alive\\\"],\\\"x-amzn-RequestId\\\":[\\\"5d2f87b5-d22d-4a59-a3e1-fc268fbf224f\\\"],\\\"Content-Length\\\":[\\\"336\\\"],\\\"Date\\\":[\\\"Sat, 18 Sep 2021 03:10:57 GMT\\\"],\\\"X-Amzn-Trace-Id\\\":[\\\"root=1-614558c0-598ca63668d088e76ef83e63;sampled=0\\\"],\\\"Content-Type\\\":[\\\"application/json\\\"]},\\\"HttpHeaders\\\":{\\\"Connection\\\":\\\"keep-alive\\\",\\\"Content-Length\\\":\\\"336\\\",\\\"Content-Type\\\":\\\"application/json\\\",\\\"Date\\\":\\\"Sat, 18 Sep 2021 03:10:57 GMT\\\",\\\"X-Amz-Executed-Version\\\":\\\"$LATEST\\\",\\\"x-amzn-Remapped-Content-Length\\\":\\\"0\\\",\\\"x-amzn-RequestId\\\":\\\"5d2f87b5-d22d-4a59-a3e1-fc268fbf224f\\\",\\\"X-Amzn-Trace-Id\\\":\\\"root=1-614558c0-598ca63668d088e76ef83e63;sampled=0\\\"},\\\"HttpStatusCode\\\":200},\\\"SdkResponseMetadata\\\":{\\\"RequestId\\\":\\\"5d2f87b5-d22d-4a59-a3e1-fc268fbf224f\\\"},\\\"StatusCode\\\":200}\", \"outputDetails\": {\"truncated\": false}}}, {\"timestamp\": 1631934657.248, \"type\": \"TaskStateExited\", \"id\": 28, \"previousEventId\": 27, \"stateExitedEventDetails\": {\"name\": \"Query Training Results\", \"output\": \"{\\\"ExperimentName\\\":\\\"mlops-nyctaxi\\\",\\\"TrialName\\\":\\\"mlops-nyctaxi-8088d44e-e8ce-4936-a0c4-97e41805f817\\\",\\\"GitBranch\\\":\\\"main\\\",\\\"GitCommitHash\\\":\\\"280d7816fc2f4f79c5fd0bd7a5943d3edfc27139\\\",\\\"DataVersionId\\\":\\\"TqfszOmVfvNFjCVgaND_Rjk4280XWcKS\\\",\\\"BaselineJobName\\\":\\\"mlops-nyctaxi-pbl-8088d44e-e8ce-4936-a0c4-97e41805f817\\\",\\\"BaselineOutputUri\\\":\\\"s3://sagemaker-us-east-1-962542737140/nyctaxi/monitoring/baseline/mlops-nyctaxi-pbl-8088d44e-e8ce-4936-a0c4-97e41805f817\\\",\\\"TrainingJobName\\\":\\\"mlops-nyctaxi-8088d44e-e8ce-4936-a0c4-97e41805f817\\\",\\\"CreateTrialResults\\\":{\\\"ExecutedVersion\\\":\\\"$LATEST\\\",\\\"Payload\\\":{\\\"statusCode\\\":200,\\\"results\\\":{\\\"ExperimentCreated\\\":true,\\\"TrialCreated\\\":false}},\\\"SdkHttpMetadata\\\":{\\\"AllHttpHeaders\\\":{\\\"X-Amz-Executed-Version\\\":[\\\"$LATEST\\\"],\\\"x-amzn-Remapped-Content-Length\\\":[\\\"0\\\"],\\\"Connection\\\":[\\\"keep-alive\\\"],\\\"x-amzn-RequestId\\\":[\\\"828a4116-5af9-4b48-ac93-b6a95462021b\\\"],\\\"Content-Length\\\":[\\\"82\\\"],\\\"Date\\\":[\\\"Sat, 18 Sep 2021 03:07:16 GMT\\\"],\\\"X-Amzn-Trace-Id\\\":[\\\"root=1-614557e2-2747243f1df0ea927b5a4a9e;sampled=0\\\"],\\\"Content-Type\\\":[\\\"application/json\\\"]},\\\"HttpHeaders\\\":{\\\"Connection\\\":\\\"keep-alive\\\",\\\"Content-Length\\\":\\\"82\\\",\\\"Content-Type\\\":\\\"application/json\\\",\\\"Date\\\":\\\"Sat, 18 Sep 2021 03:07:16 GMT\\\",\\\"X-Amz-Executed-Version\\\":\\\"$LATEST\\\",\\\"x-amzn-Remapped-Content-Length\\\":\\\"0\\\",\\\"x-amzn-RequestId\\\":\\\"828a4116-5af9-4b48-ac93-b6a95462021b\\\",\\\"X-Amzn-Trace-Id\\\":\\\"root=1-614557e2-2747243f1df0ea927b5a4a9e;sampled=0\\\"},\\\"HttpStatusCode\\\":200},\\\"SdkResponseMetadata\\\":{\\\"RequestId\\\":\\\"828a4116-5af9-4b48-ac93-b6a95462021b\\\"},\\\"StatusCode\\\":200},\\\"TrainingResults\\\":{\\\"TrainingJobName\\\":\\\"mlops-nyctaxi-8088d44e-e8ce-4936-a0c4-97e41805f817\\\",\\\"TrainingJobArn\\\":\\\"arn:aws:sagemaker:us-east-1:962542737140:training-job/mlops-nyctaxi-8088d44e-e8ce-4936-a0c4-97e41805f817\\\",\\\"ModelArtifacts\\\":{\\\"S3ModelArtifacts\\\":\\\"s3://sagemaker-us-east-1-962542737140/nyctaxi/mlops-nyctaxi-8088d44e-e8ce-4936-a0c4-97e41805f817/output/model.tar.gz\\\"},\\\"TrainingJobStatus\\\":\\\"Completed\\\",\\\"SecondaryStatus\\\":\\\"Completed\\\",\\\"HyperParameters\\\":{\\\"eta\\\":\\\"0.2\\\",\\\"max_depth\\\":\\\"9\\\",\\\"early_stopping_rounds\\\":\\\"10\\\",\\\"num_round\\\":\\\"50\\\",\\\"subsample\\\":\\\"0.8\\\",\\\"gamma\\\":\\\"4\\\",\\\"min_child_weight\\\":\\\"300\\\",\\\"objective\\\":\\\"reg:linear\\\"},\\\"AlgorithmSpecification\\\":{\\\"TrainingImage\\\":\\\"811284229777.dkr.ecr.us-east-1.amazonaws.com/xgboost:latest\\\",\\\"TrainingInputMode\\\":\\\"FILE\\\"},\\\"RoleArn\\\":\\\"arn:aws:iam::962542737140:role/mlops-nyctaxi-sagemaker-role\\\",\\\"InputDataConfig\\\":[{\\\"ChannelName\\\":\\\"train\\\",\\\"DataSource\\\":{\\\"S3DataSource\\\":{\\\"S3DataType\\\":\\\"S3_PREFIX\\\",\\\"S3Uri\\\":\\\"s3://sagemaker-us-east-1-962542737140/nyc-tlc/v1/data/training/train.csv\\\",\\\"S3DataDistributionType\\\":\\\"FULLY_REPLICATED\\\"}},\\\"ContentType\\\":\\\"csv\\\",\\\"CompressionType\\\":\\\"NONE\\\",\\\"RecordWrapperType\\\":\\\"NONE\\\"},{\\\"ChannelName\\\":\\\"validation\\\",\\\"DataSource\\\":{\\\"S3DataSource\\\":{\\\"S3DataType\\\":\\\"S3_PREFIX\\\",\\\"S3Uri\\\":\\\"s3://sagemaker-us-east-1-962542737140/nyc-tlc/v1/data/validation/validation.csv\\\",\\\"S3DataDistributionType\\\":\\\"FULLY_REPLICATED\\\"}},\\\"ContentType\\\":\\\"csv\\\",\\\"CompressionType\\\":\\\"NONE\\\",\\\"RecordWrapperType\\\":\\\"NONE\\\"}],\\\"OutputDataConfig\\\":{\\\"S3OutputPath\\\":\\\"s3://sagemaker-us-east-1-962542737140/nyctaxi\\\"},\\\"ResourceConfig\\\":{\\\"InstanceType\\\":\\\"ml.m4.xlarge\\\",\\\"InstanceCount\\\":1.0,\\\"VolumeSizeInGB\\\":30.0},\\\"StoppingCondition\\\":{\\\"MaxRuntimeInSeconds\\\":86400.0},\\\"CreationTime\\\":1.631934436564E12,\\\"TrainingStartTime\\\":1.631934575938E12,\\\"TrainingEndTime\\\":1.631934653195E12,\\\"LastModifiedTime\\\":1.631934653195E12,\\\"SecondaryStatusTransitions\\\":[{\\\"Status\\\":\\\"Starting\\\",\\\"StartTime\\\":1.631934436564E12,\\\"EndTime\\\":1.631934575938E12,\\\"StatusMessage\\\":\\\"Preparing the instances for training\\\"},{\\\"Status\\\":\\\"Downloading\\\",\\\"StartTime\\\":1.631934575938E12,\\\"EndTime\\\":1.631934605897E12,\\\"StatusMessage\\\":\\\"Downloading input data\\\"},{\\\"Status\\\":\\\"Training\\\",\\\"StartTime\\\":1.631934605897E12,\\\"EndTime\\\":1.631934646025E12,\\\"StatusMessage\\\":\\\"Training image download completed. Training in progress.\\\"},{\\\"Status\\\":\\\"Uploading\\\",\\\"StartTime\\\":1.631934646025E12,\\\"EndTime\\\":1.631934653195E12,\\\"StatusMessage\\\":\\\"Uploading generated training model\\\"},{\\\"Status\\\":\\\"Completed\\\",\\\"StartTime\\\":1.631934653195E12,\\\"EndTime\\\":1.631934653195E12,\\\"StatusMessage\\\":\\\"Training job completed\\\"}],\\\"Tags\\\":{\\\"GitBranch\\\":\\\"main\\\",\\\"MANAGED_BY_AWS\\\":\\\"STARTED_BY_STEP_FUNCTIONS\\\",\\\"DataVersionId\\\":\\\"TqfszOmVfvNFjCVgaND_Rjk4280XWcKS\\\",\\\"GitCommitHash\\\":\\\"280d7816fc2f4f79c5fd0bd7a5943d3edfc27139\\\",\\\"AWS_STEP_FUNCTIONS_EXECUTION_ARN\\\":\\\"arn:aws:states:us-east-1:962542737140:execution:nyctaxi:00a18b30-5b93-4439-85bc-9588559a9502\\\"}},\\\"ModelStepResults\\\":{\\\"ModelArn\\\":\\\"arn:aws:sagemaker:us-east-1:962542737140:model/mlops-nyctaxi-8088d44e-e8ce-4936-a0c4-97e41805f817\\\",\\\"SdkHttpMetadata\\\":{\\\"AllHttpHeaders\\\":{\\\"x-amzn-RequestId\\\":[\\\"cd77092e-91bc-4053-9f98-6b03a1b20050\\\"],\\\"Content-Length\\\":[\\\"112\\\"],\\\"Date\\\":[\\\"Sat, 18 Sep 2021 03:10:56 GMT\\\"],\\\"Content-Type\\\":[\\\"application/x-amz-json-1.1\\\"]},\\\"HttpHeaders\\\":{\\\"Content-Length\\\":\\\"112\\\",\\\"Content-Type\\\":\\\"application/x-amz-json-1.1\\\",\\\"Date\\\":\\\"Sat, 18 Sep 2021 03:10:56 GMT\\\",\\\"x-amzn-RequestId\\\":\\\"cd77092e-91bc-4053-9f98-6b03a1b20050\\\"},\\\"HttpStatusCode\\\":200},\\\"SdkResponseMetadata\\\":{\\\"RequestId\\\":\\\"cd77092e-91bc-4053-9f98-6b03a1b20050\\\"}},\\\"QueryTrainingResults\\\":{\\\"ExecutedVersion\\\":\\\"$LATEST\\\",\\\"Payload\\\":{\\\"statusCode\\\":200,\\\"results\\\":{\\\"TrainingJobName\\\":\\\"mlops-nyctaxi-8088d44e-e8ce-4936-a0c4-97e41805f817\\\",\\\"TrainingJobStatus\\\":\\\"Completed\\\",\\\"TrainingMetrics\\\":[{\\\"MetricName\\\":\\\"train:rmse\\\",\\\"Value\\\":2.695770025253296,\\\"Timestamp\\\":1.631934643E9},{\\\"MetricName\\\":\\\"validation:rmse\\\",\\\"Value\\\":2.7403500080108643,\\\"Timestamp\\\":1.631934643E9}]}},\\\"SdkHttpMetadata\\\":{\\\"AllHttpHeaders\\\":{\\\"X-Amz-Executed-Version\\\":[\\\"$LATEST\\\"],\\\"x-amzn-Remapped-Content-Length\\\":[\\\"0\\\"],\\\"Connection\\\":[\\\"keep-alive\\\"],\\\"x-amzn-RequestId\\\":[\\\"5d2f87b5-d22d-4a59-a3e1-fc268fbf224f\\\"],\\\"Content-Length\\\":[\\\"336\\\"],\\\"Date\\\":[\\\"Sat, 18 Sep 2021 03:10:57 GMT\\\"],\\\"X-Amzn-Trace-Id\\\":[\\\"root=1-614558c0-598ca63668d088e76ef83e63;sampled=0\\\"],\\\"Content-Type\\\":[\\\"application/json\\\"]},\\\"HttpHeaders\\\":{\\\"Connection\\\":\\\"keep-alive\\\",\\\"Content-Length\\\":\\\"336\\\",\\\"Content-Type\\\":\\\"application/json\\\",\\\"Date\\\":\\\"Sat, 18 Sep 2021 03:10:57 GMT\\\",\\\"X-Amz-Executed-Version\\\":\\\"$LATEST\\\",\\\"x-amzn-Remapped-Content-Length\\\":\\\"0\\\",\\\"x-amzn-RequestId\\\":\\\"5d2f87b5-d22d-4a59-a3e1-fc268fbf224f\\\",\\\"X-Amzn-Trace-Id\\\":\\\"root=1-614558c0-598ca63668d088e76ef83e63;sampled=0\\\"},\\\"HttpStatusCode\\\":200},\\\"SdkResponseMetadata\\\":{\\\"RequestId\\\":\\\"5d2f87b5-d22d-4a59-a3e1-fc268fbf224f\\\"},\\\"StatusCode\\\":200}}\", \"outputDetails\": {\"truncated\": false}}}, {\"timestamp\": 1631934657.258, \"type\": \"ChoiceStateEntered\", \"id\": 29, \"previousEventId\": 28, \"stateEnteredEventDetails\": {\"name\": \"RMSE < 10\", \"input\": \"{\\\"ExperimentName\\\":\\\"mlops-nyctaxi\\\",\\\"TrialName\\\":\\\"mlops-nyctaxi-8088d44e-e8ce-4936-a0c4-97e41805f817\\\",\\\"GitBranch\\\":\\\"main\\\",\\\"GitCommitHash\\\":\\\"280d7816fc2f4f79c5fd0bd7a5943d3edfc27139\\\",\\\"DataVersionId\\\":\\\"TqfszOmVfvNFjCVgaND_Rjk4280XWcKS\\\",\\\"BaselineJobName\\\":\\\"mlops-nyctaxi-pbl-8088d44e-e8ce-4936-a0c4-97e41805f817\\\",\\\"BaselineOutputUri\\\":\\\"s3://sagemaker-us-east-1-962542737140/nyctaxi/monitoring/baseline/mlops-nyctaxi-pbl-8088d44e-e8ce-4936-a0c4-97e41805f817\\\",\\\"TrainingJobName\\\":\\\"mlops-nyctaxi-8088d44e-e8ce-4936-a0c4-97e41805f817\\\",\\\"CreateTrialResults\\\":{\\\"ExecutedVersion\\\":\\\"$LATEST\\\",\\\"Payload\\\":{\\\"statusCode\\\":200,\\\"results\\\":{\\\"ExperimentCreated\\\":true,\\\"TrialCreated\\\":false}},\\\"SdkHttpMetadata\\\":{\\\"AllHttpHeaders\\\":{\\\"X-Amz-Executed-Version\\\":[\\\"$LATEST\\\"],\\\"x-amzn-Remapped-Content-Length\\\":[\\\"0\\\"],\\\"Connection\\\":[\\\"keep-alive\\\"],\\\"x-amzn-RequestId\\\":[\\\"828a4116-5af9-4b48-ac93-b6a95462021b\\\"],\\\"Content-Length\\\":[\\\"82\\\"],\\\"Date\\\":[\\\"Sat, 18 Sep 2021 03:07:16 GMT\\\"],\\\"X-Amzn-Trace-Id\\\":[\\\"root=1-614557e2-2747243f1df0ea927b5a4a9e;sampled=0\\\"],\\\"Content-Type\\\":[\\\"application/json\\\"]},\\\"HttpHeaders\\\":{\\\"Connection\\\":\\\"keep-alive\\\",\\\"Content-Length\\\":\\\"82\\\",\\\"Content-Type\\\":\\\"application/json\\\",\\\"Date\\\":\\\"Sat, 18 Sep 2021 03:07:16 GMT\\\",\\\"X-Amz-Executed-Version\\\":\\\"$LATEST\\\",\\\"x-amzn-Remapped-Content-Length\\\":\\\"0\\\",\\\"x-amzn-RequestId\\\":\\\"828a4116-5af9-4b48-ac93-b6a95462021b\\\",\\\"X-Amzn-Trace-Id\\\":\\\"root=1-614557e2-2747243f1df0ea927b5a4a9e;sampled=0\\\"},\\\"HttpStatusCode\\\":200},\\\"SdkResponseMetadata\\\":{\\\"RequestId\\\":\\\"828a4116-5af9-4b48-ac93-b6a95462021b\\\"},\\\"StatusCode\\\":200},\\\"TrainingResults\\\":{\\\"TrainingJobName\\\":\\\"mlops-nyctaxi-8088d44e-e8ce-4936-a0c4-97e41805f817\\\",\\\"TrainingJobArn\\\":\\\"arn:aws:sagemaker:us-east-1:962542737140:training-job/mlops-nyctaxi-8088d44e-e8ce-4936-a0c4-97e41805f817\\\",\\\"ModelArtifacts\\\":{\\\"S3ModelArtifacts\\\":\\\"s3://sagemaker-us-east-1-962542737140/nyctaxi/mlops-nyctaxi-8088d44e-e8ce-4936-a0c4-97e41805f817/output/model.tar.gz\\\"},\\\"TrainingJobStatus\\\":\\\"Completed\\\",\\\"SecondaryStatus\\\":\\\"Completed\\\",\\\"HyperParameters\\\":{\\\"eta\\\":\\\"0.2\\\",\\\"max_depth\\\":\\\"9\\\",\\\"early_stopping_rounds\\\":\\\"10\\\",\\\"num_round\\\":\\\"50\\\",\\\"subsample\\\":\\\"0.8\\\",\\\"gamma\\\":\\\"4\\\",\\\"min_child_weight\\\":\\\"300\\\",\\\"objective\\\":\\\"reg:linear\\\"},\\\"AlgorithmSpecification\\\":{\\\"TrainingImage\\\":\\\"811284229777.dkr.ecr.us-east-1.amazonaws.com/xgboost:latest\\\",\\\"TrainingInputMode\\\":\\\"FILE\\\"},\\\"RoleArn\\\":\\\"arn:aws:iam::962542737140:role/mlops-nyctaxi-sagemaker-role\\\",\\\"InputDataConfig\\\":[{\\\"ChannelName\\\":\\\"train\\\",\\\"DataSource\\\":{\\\"S3DataSource\\\":{\\\"S3DataType\\\":\\\"S3_PREFIX\\\",\\\"S3Uri\\\":\\\"s3://sagemaker-us-east-1-962542737140/nyc-tlc/v1/data/training/train.csv\\\",\\\"S3DataDistributionType\\\":\\\"FULLY_REPLICATED\\\"}},\\\"ContentType\\\":\\\"csv\\\",\\\"CompressionType\\\":\\\"NONE\\\",\\\"RecordWrapperType\\\":\\\"NONE\\\"},{\\\"ChannelName\\\":\\\"validation\\\",\\\"DataSource\\\":{\\\"S3DataSource\\\":{\\\"S3DataType\\\":\\\"S3_PREFIX\\\",\\\"S3Uri\\\":\\\"s3://sagemaker-us-east-1-962542737140/nyc-tlc/v1/data/validation/validation.csv\\\",\\\"S3DataDistributionType\\\":\\\"FULLY_REPLICATED\\\"}},\\\"ContentType\\\":\\\"csv\\\",\\\"CompressionType\\\":\\\"NONE\\\",\\\"RecordWrapperType\\\":\\\"NONE\\\"}],\\\"OutputDataConfig\\\":{\\\"S3OutputPath\\\":\\\"s3://sagemaker-us-east-1-962542737140/nyctaxi\\\"},\\\"ResourceConfig\\\":{\\\"InstanceType\\\":\\\"ml.m4.xlarge\\\",\\\"InstanceCount\\\":1.0,\\\"VolumeSizeInGB\\\":30.0},\\\"StoppingCondition\\\":{\\\"MaxRuntimeInSeconds\\\":86400.0},\\\"CreationTime\\\":1.631934436564E12,\\\"TrainingStartTime\\\":1.631934575938E12,\\\"TrainingEndTime\\\":1.631934653195E12,\\\"LastModifiedTime\\\":1.631934653195E12,\\\"SecondaryStatusTransitions\\\":[{\\\"Status\\\":\\\"Starting\\\",\\\"StartTime\\\":1.631934436564E12,\\\"EndTime\\\":1.631934575938E12,\\\"StatusMessage\\\":\\\"Preparing the instances for training\\\"},{\\\"Status\\\":\\\"Downloading\\\",\\\"StartTime\\\":1.631934575938E12,\\\"EndTime\\\":1.631934605897E12,\\\"StatusMessage\\\":\\\"Downloading input data\\\"},{\\\"Status\\\":\\\"Training\\\",\\\"StartTime\\\":1.631934605897E12,\\\"EndTime\\\":1.631934646025E12,\\\"StatusMessage\\\":\\\"Training image download completed. Training in progress.\\\"},{\\\"Status\\\":\\\"Uploading\\\",\\\"StartTime\\\":1.631934646025E12,\\\"EndTime\\\":1.631934653195E12,\\\"StatusMessage\\\":\\\"Uploading generated training model\\\"},{\\\"Status\\\":\\\"Completed\\\",\\\"StartTime\\\":1.631934653195E12,\\\"EndTime\\\":1.631934653195E12,\\\"StatusMessage\\\":\\\"Training job completed\\\"}],\\\"Tags\\\":{\\\"GitBranch\\\":\\\"main\\\",\\\"MANAGED_BY_AWS\\\":\\\"STARTED_BY_STEP_FUNCTIONS\\\",\\\"DataVersionId\\\":\\\"TqfszOmVfvNFjCVgaND_Rjk4280XWcKS\\\",\\\"GitCommitHash\\\":\\\"280d7816fc2f4f79c5fd0bd7a5943d3edfc27139\\\",\\\"AWS_STEP_FUNCTIONS_EXECUTION_ARN\\\":\\\"arn:aws:states:us-east-1:962542737140:execution:nyctaxi:00a18b30-5b93-4439-85bc-9588559a9502\\\"}},\\\"ModelStepResults\\\":{\\\"ModelArn\\\":\\\"arn:aws:sagemaker:us-east-1:962542737140:model/mlops-nyctaxi-8088d44e-e8ce-4936-a0c4-97e41805f817\\\",\\\"SdkHttpMetadata\\\":{\\\"AllHttpHeaders\\\":{\\\"x-amzn-RequestId\\\":[\\\"cd77092e-91bc-4053-9f98-6b03a1b20050\\\"],\\\"Content-Length\\\":[\\\"112\\\"],\\\"Date\\\":[\\\"Sat, 18 Sep 2021 03:10:56 GMT\\\"],\\\"Content-Type\\\":[\\\"application/x-amz-json-1.1\\\"]},\\\"HttpHeaders\\\":{\\\"Content-Length\\\":\\\"112\\\",\\\"Content-Type\\\":\\\"application/x-amz-json-1.1\\\",\\\"Date\\\":\\\"Sat, 18 Sep 2021 03:10:56 GMT\\\",\\\"x-amzn-RequestId\\\":\\\"cd77092e-91bc-4053-9f98-6b03a1b20050\\\"},\\\"HttpStatusCode\\\":200},\\\"SdkResponseMetadata\\\":{\\\"RequestId\\\":\\\"cd77092e-91bc-4053-9f98-6b03a1b20050\\\"}},\\\"QueryTrainingResults\\\":{\\\"ExecutedVersion\\\":\\\"$LATEST\\\",\\\"Payload\\\":{\\\"statusCode\\\":200,\\\"results\\\":{\\\"TrainingJobName\\\":\\\"mlops-nyctaxi-8088d44e-e8ce-4936-a0c4-97e41805f817\\\",\\\"TrainingJobStatus\\\":\\\"Completed\\\",\\\"TrainingMetrics\\\":[{\\\"MetricName\\\":\\\"train:rmse\\\",\\\"Value\\\":2.695770025253296,\\\"Timestamp\\\":1.631934643E9},{\\\"MetricName\\\":\\\"validation:rmse\\\",\\\"Value\\\":2.7403500080108643,\\\"Timestamp\\\":1.631934643E9}]}},\\\"SdkHttpMetadata\\\":{\\\"AllHttpHeaders\\\":{\\\"X-Amz-Executed-Version\\\":[\\\"$LATEST\\\"],\\\"x-amzn-Remapped-Content-Length\\\":[\\\"0\\\"],\\\"Connection\\\":[\\\"keep-alive\\\"],\\\"x-amzn-RequestId\\\":[\\\"5d2f87b5-d22d-4a59-a3e1-fc268fbf224f\\\"],\\\"Content-Length\\\":[\\\"336\\\"],\\\"Date\\\":[\\\"Sat, 18 Sep 2021 03:10:57 GMT\\\"],\\\"X-Amzn-Trace-Id\\\":[\\\"root=1-614558c0-598ca63668d088e76ef83e63;sampled=0\\\"],\\\"Content-Type\\\":[\\\"application/json\\\"]},\\\"HttpHeaders\\\":{\\\"Connection\\\":\\\"keep-alive\\\",\\\"Content-Length\\\":\\\"336\\\",\\\"Content-Type\\\":\\\"application/json\\\",\\\"Date\\\":\\\"Sat, 18 Sep 2021 03:10:57 GMT\\\",\\\"X-Amz-Executed-Version\\\":\\\"$LATEST\\\",\\\"x-amzn-Remapped-Content-Length\\\":\\\"0\\\",\\\"x-amzn-RequestId\\\":\\\"5d2f87b5-d22d-4a59-a3e1-fc268fbf224f\\\",\\\"X-Amzn-Trace-Id\\\":\\\"root=1-614558c0-598ca63668d088e76ef83e63;sampled=0\\\"},\\\"HttpStatusCode\\\":200},\\\"SdkResponseMetadata\\\":{\\\"RequestId\\\":\\\"5d2f87b5-d22d-4a59-a3e1-fc268fbf224f\\\"},\\\"StatusCode\\\":200}}\", \"inputDetails\": {\"truncated\": false}}}, {\"timestamp\": 1631934657.258, \"type\": \"ChoiceStateExited\", \"id\": 30, \"previousEventId\": 29, \"stateExitedEventDetails\": {\"name\": \"RMSE < 10\", \"output\": \"{\\\"ExperimentName\\\":\\\"mlops-nyctaxi\\\",\\\"TrialName\\\":\\\"mlops-nyctaxi-8088d44e-e8ce-4936-a0c4-97e41805f817\\\",\\\"GitBranch\\\":\\\"main\\\",\\\"GitCommitHash\\\":\\\"280d7816fc2f4f79c5fd0bd7a5943d3edfc27139\\\",\\\"DataVersionId\\\":\\\"TqfszOmVfvNFjCVgaND_Rjk4280XWcKS\\\",\\\"BaselineJobName\\\":\\\"mlops-nyctaxi-pbl-8088d44e-e8ce-4936-a0c4-97e41805f817\\\",\\\"BaselineOutputUri\\\":\\\"s3://sagemaker-us-east-1-962542737140/nyctaxi/monitoring/baseline/mlops-nyctaxi-pbl-8088d44e-e8ce-4936-a0c4-97e41805f817\\\",\\\"TrainingJobName\\\":\\\"mlops-nyctaxi-8088d44e-e8ce-4936-a0c4-97e41805f817\\\",\\\"CreateTrialResults\\\":{\\\"ExecutedVersion\\\":\\\"$LATEST\\\",\\\"Payload\\\":{\\\"statusCode\\\":200,\\\"results\\\":{\\\"ExperimentCreated\\\":true,\\\"TrialCreated\\\":false}},\\\"SdkHttpMetadata\\\":{\\\"AllHttpHeaders\\\":{\\\"X-Amz-Executed-Version\\\":[\\\"$LATEST\\\"],\\\"x-amzn-Remapped-Content-Length\\\":[\\\"0\\\"],\\\"Connection\\\":[\\\"keep-alive\\\"],\\\"x-amzn-RequestId\\\":[\\\"828a4116-5af9-4b48-ac93-b6a95462021b\\\"],\\\"Content-Length\\\":[\\\"82\\\"],\\\"Date\\\":[\\\"Sat, 18 Sep 2021 03:07:16 GMT\\\"],\\\"X-Amzn-Trace-Id\\\":[\\\"root=1-614557e2-2747243f1df0ea927b5a4a9e;sampled=0\\\"],\\\"Content-Type\\\":[\\\"application/json\\\"]},\\\"HttpHeaders\\\":{\\\"Connection\\\":\\\"keep-alive\\\",\\\"Content-Length\\\":\\\"82\\\",\\\"Content-Type\\\":\\\"application/json\\\",\\\"Date\\\":\\\"Sat, 18 Sep 2021 03:07:16 GMT\\\",\\\"X-Amz-Executed-Version\\\":\\\"$LATEST\\\",\\\"x-amzn-Remapped-Content-Length\\\":\\\"0\\\",\\\"x-amzn-RequestId\\\":\\\"828a4116-5af9-4b48-ac93-b6a95462021b\\\",\\\"X-Amzn-Trace-Id\\\":\\\"root=1-614557e2-2747243f1df0ea927b5a4a9e;sampled=0\\\"},\\\"HttpStatusCode\\\":200},\\\"SdkResponseMetadata\\\":{\\\"RequestId\\\":\\\"828a4116-5af9-4b48-ac93-b6a95462021b\\\"},\\\"StatusCode\\\":200},\\\"TrainingResults\\\":{\\\"TrainingJobName\\\":\\\"mlops-nyctaxi-8088d44e-e8ce-4936-a0c4-97e41805f817\\\",\\\"TrainingJobArn\\\":\\\"arn:aws:sagemaker:us-east-1:962542737140:training-job/mlops-nyctaxi-8088d44e-e8ce-4936-a0c4-97e41805f817\\\",\\\"ModelArtifacts\\\":{\\\"S3ModelArtifacts\\\":\\\"s3://sagemaker-us-east-1-962542737140/nyctaxi/mlops-nyctaxi-8088d44e-e8ce-4936-a0c4-97e41805f817/output/model.tar.gz\\\"},\\\"TrainingJobStatus\\\":\\\"Completed\\\",\\\"SecondaryStatus\\\":\\\"Completed\\\",\\\"HyperParameters\\\":{\\\"eta\\\":\\\"0.2\\\",\\\"max_depth\\\":\\\"9\\\",\\\"early_stopping_rounds\\\":\\\"10\\\",\\\"num_round\\\":\\\"50\\\",\\\"subsample\\\":\\\"0.8\\\",\\\"gamma\\\":\\\"4\\\",\\\"min_child_weight\\\":\\\"300\\\",\\\"objective\\\":\\\"reg:linear\\\"},\\\"AlgorithmSpecification\\\":{\\\"TrainingImage\\\":\\\"811284229777.dkr.ecr.us-east-1.amazonaws.com/xgboost:latest\\\",\\\"TrainingInputMode\\\":\\\"FILE\\\"},\\\"RoleArn\\\":\\\"arn:aws:iam::962542737140:role/mlops-nyctaxi-sagemaker-role\\\",\\\"InputDataConfig\\\":[{\\\"ChannelName\\\":\\\"train\\\",\\\"DataSource\\\":{\\\"S3DataSource\\\":{\\\"S3DataType\\\":\\\"S3_PREFIX\\\",\\\"S3Uri\\\":\\\"s3://sagemaker-us-east-1-962542737140/nyc-tlc/v1/data/training/train.csv\\\",\\\"S3DataDistributionType\\\":\\\"FULLY_REPLICATED\\\"}},\\\"ContentType\\\":\\\"csv\\\",\\\"CompressionType\\\":\\\"NONE\\\",\\\"RecordWrapperType\\\":\\\"NONE\\\"},{\\\"ChannelName\\\":\\\"validation\\\",\\\"DataSource\\\":{\\\"S3DataSource\\\":{\\\"S3DataType\\\":\\\"S3_PREFIX\\\",\\\"S3Uri\\\":\\\"s3://sagemaker-us-east-1-962542737140/nyc-tlc/v1/data/validation/validation.csv\\\",\\\"S3DataDistributionType\\\":\\\"FULLY_REPLICATED\\\"}},\\\"ContentType\\\":\\\"csv\\\",\\\"CompressionType\\\":\\\"NONE\\\",\\\"RecordWrapperType\\\":\\\"NONE\\\"}],\\\"OutputDataConfig\\\":{\\\"S3OutputPath\\\":\\\"s3://sagemaker-us-east-1-962542737140/nyctaxi\\\"},\\\"ResourceConfig\\\":{\\\"InstanceType\\\":\\\"ml.m4.xlarge\\\",\\\"InstanceCount\\\":1.0,\\\"VolumeSizeInGB\\\":30.0},\\\"StoppingCondition\\\":{\\\"MaxRuntimeInSeconds\\\":86400.0},\\\"CreationTime\\\":1.631934436564E12,\\\"TrainingStartTime\\\":1.631934575938E12,\\\"TrainingEndTime\\\":1.631934653195E12,\\\"LastModifiedTime\\\":1.631934653195E12,\\\"SecondaryStatusTransitions\\\":[{\\\"Status\\\":\\\"Starting\\\",\\\"StartTime\\\":1.631934436564E12,\\\"EndTime\\\":1.631934575938E12,\\\"StatusMessage\\\":\\\"Preparing the instances for training\\\"},{\\\"Status\\\":\\\"Downloading\\\",\\\"StartTime\\\":1.631934575938E12,\\\"EndTime\\\":1.631934605897E12,\\\"StatusMessage\\\":\\\"Downloading input data\\\"},{\\\"Status\\\":\\\"Training\\\",\\\"StartTime\\\":1.631934605897E12,\\\"EndTime\\\":1.631934646025E12,\\\"StatusMessage\\\":\\\"Training image download completed. Training in progress.\\\"},{\\\"Status\\\":\\\"Uploading\\\",\\\"StartTime\\\":1.631934646025E12,\\\"EndTime\\\":1.631934653195E12,\\\"StatusMessage\\\":\\\"Uploading generated training model\\\"},{\\\"Status\\\":\\\"Completed\\\",\\\"StartTime\\\":1.631934653195E12,\\\"EndTime\\\":1.631934653195E12,\\\"StatusMessage\\\":\\\"Training job completed\\\"}],\\\"Tags\\\":{\\\"GitBranch\\\":\\\"main\\\",\\\"MANAGED_BY_AWS\\\":\\\"STARTED_BY_STEP_FUNCTIONS\\\",\\\"DataVersionId\\\":\\\"TqfszOmVfvNFjCVgaND_Rjk4280XWcKS\\\",\\\"GitCommitHash\\\":\\\"280d7816fc2f4f79c5fd0bd7a5943d3edfc27139\\\",\\\"AWS_STEP_FUNCTIONS_EXECUTION_ARN\\\":\\\"arn:aws:states:us-east-1:962542737140:execution:nyctaxi:00a18b30-5b93-4439-85bc-9588559a9502\\\"}},\\\"ModelStepResults\\\":{\\\"ModelArn\\\":\\\"arn:aws:sagemaker:us-east-1:962542737140:model/mlops-nyctaxi-8088d44e-e8ce-4936-a0c4-97e41805f817\\\",\\\"SdkHttpMetadata\\\":{\\\"AllHttpHeaders\\\":{\\\"x-amzn-RequestId\\\":[\\\"cd77092e-91bc-4053-9f98-6b03a1b20050\\\"],\\\"Content-Length\\\":[\\\"112\\\"],\\\"Date\\\":[\\\"Sat, 18 Sep 2021 03:10:56 GMT\\\"],\\\"Content-Type\\\":[\\\"application/x-amz-json-1.1\\\"]},\\\"HttpHeaders\\\":{\\\"Content-Length\\\":\\\"112\\\",\\\"Content-Type\\\":\\\"application/x-amz-json-1.1\\\",\\\"Date\\\":\\\"Sat, 18 Sep 2021 03:10:56 GMT\\\",\\\"x-amzn-RequestId\\\":\\\"cd77092e-91bc-4053-9f98-6b03a1b20050\\\"},\\\"HttpStatusCode\\\":200},\\\"SdkResponseMetadata\\\":{\\\"RequestId\\\":\\\"cd77092e-91bc-4053-9f98-6b03a1b20050\\\"}},\\\"QueryTrainingResults\\\":{\\\"ExecutedVersion\\\":\\\"$LATEST\\\",\\\"Payload\\\":{\\\"statusCode\\\":200,\\\"results\\\":{\\\"TrainingJobName\\\":\\\"mlops-nyctaxi-8088d44e-e8ce-4936-a0c4-97e41805f817\\\",\\\"TrainingJobStatus\\\":\\\"Completed\\\",\\\"TrainingMetrics\\\":[{\\\"MetricName\\\":\\\"train:rmse\\\",\\\"Value\\\":2.695770025253296,\\\"Timestamp\\\":1.631934643E9},{\\\"MetricName\\\":\\\"validation:rmse\\\",\\\"Value\\\":2.7403500080108643,\\\"Timestamp\\\":1.631934643E9}]}},\\\"SdkHttpMetadata\\\":{\\\"AllHttpHeaders\\\":{\\\"X-Amz-Executed-Version\\\":[\\\"$LATEST\\\"],\\\"x-amzn-Remapped-Content-Length\\\":[\\\"0\\\"],\\\"Connection\\\":[\\\"keep-alive\\\"],\\\"x-amzn-RequestId\\\":[\\\"5d2f87b5-d22d-4a59-a3e1-fc268fbf224f\\\"],\\\"Content-Length\\\":[\\\"336\\\"],\\\"Date\\\":[\\\"Sat, 18 Sep 2021 03:10:57 GMT\\\"],\\\"X-Amzn-Trace-Id\\\":[\\\"root=1-614558c0-598ca63668d088e76ef83e63;sampled=0\\\"],\\\"Content-Type\\\":[\\\"application/json\\\"]},\\\"HttpHeaders\\\":{\\\"Connection\\\":\\\"keep-alive\\\",\\\"Content-Length\\\":\\\"336\\\",\\\"Content-Type\\\":\\\"application/json\\\",\\\"Date\\\":\\\"Sat, 18 Sep 2021 03:10:57 GMT\\\",\\\"X-Amz-Executed-Version\\\":\\\"$LATEST\\\",\\\"x-amzn-Remapped-Content-Length\\\":\\\"0\\\",\\\"x-amzn-RequestId\\\":\\\"5d2f87b5-d22d-4a59-a3e1-fc268fbf224f\\\",\\\"X-Amzn-Trace-Id\\\":\\\"root=1-614558c0-598ca63668d088e76ef83e63;sampled=0\\\"},\\\"HttpStatusCode\\\":200},\\\"SdkResponseMetadata\\\":{\\\"RequestId\\\":\\\"5d2f87b5-d22d-4a59-a3e1-fc268fbf224f\\\"},\\\"StatusCode\\\":200}}\", \"outputDetails\": {\"truncated\": false}}}, {\"timestamp\": 1631934657.36, \"type\": \"SucceedStateEntered\", \"id\": 31, \"previousEventId\": 30, \"stateEnteredEventDetails\": {\"name\": \"Model Error Acceptable\", \"input\": \"{\\\"ExperimentName\\\":\\\"mlops-nyctaxi\\\",\\\"TrialName\\\":\\\"mlops-nyctaxi-8088d44e-e8ce-4936-a0c4-97e41805f817\\\",\\\"GitBranch\\\":\\\"main\\\",\\\"GitCommitHash\\\":\\\"280d7816fc2f4f79c5fd0bd7a5943d3edfc27139\\\",\\\"DataVersionId\\\":\\\"TqfszOmVfvNFjCVgaND_Rjk4280XWcKS\\\",\\\"BaselineJobName\\\":\\\"mlops-nyctaxi-pbl-8088d44e-e8ce-4936-a0c4-97e41805f817\\\",\\\"BaselineOutputUri\\\":\\\"s3://sagemaker-us-east-1-962542737140/nyctaxi/monitoring/baseline/mlops-nyctaxi-pbl-8088d44e-e8ce-4936-a0c4-97e41805f817\\\",\\\"TrainingJobName\\\":\\\"mlops-nyctaxi-8088d44e-e8ce-4936-a0c4-97e41805f817\\\",\\\"CreateTrialResults\\\":{\\\"ExecutedVersion\\\":\\\"$LATEST\\\",\\\"Payload\\\":{\\\"statusCode\\\":200,\\\"results\\\":{\\\"ExperimentCreated\\\":true,\\\"TrialCreated\\\":false}},\\\"SdkHttpMetadata\\\":{\\\"AllHttpHeaders\\\":{\\\"X-Amz-Executed-Version\\\":[\\\"$LATEST\\\"],\\\"x-amzn-Remapped-Content-Length\\\":[\\\"0\\\"],\\\"Connection\\\":[\\\"keep-alive\\\"],\\\"x-amzn-RequestId\\\":[\\\"828a4116-5af9-4b48-ac93-b6a95462021b\\\"],\\\"Content-Length\\\":[\\\"82\\\"],\\\"Date\\\":[\\\"Sat, 18 Sep 2021 03:07:16 GMT\\\"],\\\"X-Amzn-Trace-Id\\\":[\\\"root=1-614557e2-2747243f1df0ea927b5a4a9e;sampled=0\\\"],\\\"Content-Type\\\":[\\\"application/json\\\"]},\\\"HttpHeaders\\\":{\\\"Connection\\\":\\\"keep-alive\\\",\\\"Content-Length\\\":\\\"82\\\",\\\"Content-Type\\\":\\\"application/json\\\",\\\"Date\\\":\\\"Sat, 18 Sep 2021 03:07:16 GMT\\\",\\\"X-Amz-Executed-Version\\\":\\\"$LATEST\\\",\\\"x-amzn-Remapped-Content-Length\\\":\\\"0\\\",\\\"x-amzn-RequestId\\\":\\\"828a4116-5af9-4b48-ac93-b6a95462021b\\\",\\\"X-Amzn-Trace-Id\\\":\\\"root=1-614557e2-2747243f1df0ea927b5a4a9e;sampled=0\\\"},\\\"HttpStatusCode\\\":200},\\\"SdkResponseMetadata\\\":{\\\"RequestId\\\":\\\"828a4116-5af9-4b48-ac93-b6a95462021b\\\"},\\\"StatusCode\\\":200},\\\"TrainingResults\\\":{\\\"TrainingJobName\\\":\\\"mlops-nyctaxi-8088d44e-e8ce-4936-a0c4-97e41805f817\\\",\\\"TrainingJobArn\\\":\\\"arn:aws:sagemaker:us-east-1:962542737140:training-job/mlops-nyctaxi-8088d44e-e8ce-4936-a0c4-97e41805f817\\\",\\\"ModelArtifacts\\\":{\\\"S3ModelArtifacts\\\":\\\"s3://sagemaker-us-east-1-962542737140/nyctaxi/mlops-nyctaxi-8088d44e-e8ce-4936-a0c4-97e41805f817/output/model.tar.gz\\\"},\\\"TrainingJobStatus\\\":\\\"Completed\\\",\\\"SecondaryStatus\\\":\\\"Completed\\\",\\\"HyperParameters\\\":{\\\"eta\\\":\\\"0.2\\\",\\\"max_depth\\\":\\\"9\\\",\\\"early_stopping_rounds\\\":\\\"10\\\",\\\"num_round\\\":\\\"50\\\",\\\"subsample\\\":\\\"0.8\\\",\\\"gamma\\\":\\\"4\\\",\\\"min_child_weight\\\":\\\"300\\\",\\\"objective\\\":\\\"reg:linear\\\"},\\\"AlgorithmSpecification\\\":{\\\"TrainingImage\\\":\\\"811284229777.dkr.ecr.us-east-1.amazonaws.com/xgboost:latest\\\",\\\"TrainingInputMode\\\":\\\"FILE\\\"},\\\"RoleArn\\\":\\\"arn:aws:iam::962542737140:role/mlops-nyctaxi-sagemaker-role\\\",\\\"InputDataConfig\\\":[{\\\"ChannelName\\\":\\\"train\\\",\\\"DataSource\\\":{\\\"S3DataSource\\\":{\\\"S3DataType\\\":\\\"S3_PREFIX\\\",\\\"S3Uri\\\":\\\"s3://sagemaker-us-east-1-962542737140/nyc-tlc/v1/data/training/train.csv\\\",\\\"S3DataDistributionType\\\":\\\"FULLY_REPLICATED\\\"}},\\\"ContentType\\\":\\\"csv\\\",\\\"CompressionType\\\":\\\"NONE\\\",\\\"RecordWrapperType\\\":\\\"NONE\\\"},{\\\"ChannelName\\\":\\\"validation\\\",\\\"DataSource\\\":{\\\"S3DataSource\\\":{\\\"S3DataType\\\":\\\"S3_PREFIX\\\",\\\"S3Uri\\\":\\\"s3://sagemaker-us-east-1-962542737140/nyc-tlc/v1/data/validation/validation.csv\\\",\\\"S3DataDistributionType\\\":\\\"FULLY_REPLICATED\\\"}},\\\"ContentType\\\":\\\"csv\\\",\\\"CompressionType\\\":\\\"NONE\\\",\\\"RecordWrapperType\\\":\\\"NONE\\\"}],\\\"OutputDataConfig\\\":{\\\"S3OutputPath\\\":\\\"s3://sagemaker-us-east-1-962542737140/nyctaxi\\\"},\\\"ResourceConfig\\\":{\\\"InstanceType\\\":\\\"ml.m4.xlarge\\\",\\\"InstanceCount\\\":1.0,\\\"VolumeSizeInGB\\\":30.0},\\\"StoppingCondition\\\":{\\\"MaxRuntimeInSeconds\\\":86400.0},\\\"CreationTime\\\":1.631934436564E12,\\\"TrainingStartTime\\\":1.631934575938E12,\\\"TrainingEndTime\\\":1.631934653195E12,\\\"LastModifiedTime\\\":1.631934653195E12,\\\"SecondaryStatusTransitions\\\":[{\\\"Status\\\":\\\"Starting\\\",\\\"StartTime\\\":1.631934436564E12,\\\"EndTime\\\":1.631934575938E12,\\\"StatusMessage\\\":\\\"Preparing the instances for training\\\"},{\\\"Status\\\":\\\"Downloading\\\",\\\"StartTime\\\":1.631934575938E12,\\\"EndTime\\\":1.631934605897E12,\\\"StatusMessage\\\":\\\"Downloading input data\\\"},{\\\"Status\\\":\\\"Training\\\",\\\"StartTime\\\":1.631934605897E12,\\\"EndTime\\\":1.631934646025E12,\\\"StatusMessage\\\":\\\"Training image download completed. Training in progress.\\\"},{\\\"Status\\\":\\\"Uploading\\\",\\\"StartTime\\\":1.631934646025E12,\\\"EndTime\\\":1.631934653195E12,\\\"StatusMessage\\\":\\\"Uploading generated training model\\\"},{\\\"Status\\\":\\\"Completed\\\",\\\"StartTime\\\":1.631934653195E12,\\\"EndTime\\\":1.631934653195E12,\\\"StatusMessage\\\":\\\"Training job completed\\\"}],\\\"Tags\\\":{\\\"GitBranch\\\":\\\"main\\\",\\\"MANAGED_BY_AWS\\\":\\\"STARTED_BY_STEP_FUNCTIONS\\\",\\\"DataVersionId\\\":\\\"TqfszOmVfvNFjCVgaND_Rjk4280XWcKS\\\",\\\"GitCommitHash\\\":\\\"280d7816fc2f4f79c5fd0bd7a5943d3edfc27139\\\",\\\"AWS_STEP_FUNCTIONS_EXECUTION_ARN\\\":\\\"arn:aws:states:us-east-1:962542737140:execution:nyctaxi:00a18b30-5b93-4439-85bc-9588559a9502\\\"}},\\\"ModelStepResults\\\":{\\\"ModelArn\\\":\\\"arn:aws:sagemaker:us-east-1:962542737140:model/mlops-nyctaxi-8088d44e-e8ce-4936-a0c4-97e41805f817\\\",\\\"SdkHttpMetadata\\\":{\\\"AllHttpHeaders\\\":{\\\"x-amzn-RequestId\\\":[\\\"cd77092e-91bc-4053-9f98-6b03a1b20050\\\"],\\\"Content-Length\\\":[\\\"112\\\"],\\\"Date\\\":[\\\"Sat, 18 Sep 2021 03:10:56 GMT\\\"],\\\"Content-Type\\\":[\\\"application/x-amz-json-1.1\\\"]},\\\"HttpHeaders\\\":{\\\"Content-Length\\\":\\\"112\\\",\\\"Content-Type\\\":\\\"application/x-amz-json-1.1\\\",\\\"Date\\\":\\\"Sat, 18 Sep 2021 03:10:56 GMT\\\",\\\"x-amzn-RequestId\\\":\\\"cd77092e-91bc-4053-9f98-6b03a1b20050\\\"},\\\"HttpStatusCode\\\":200},\\\"SdkResponseMetadata\\\":{\\\"RequestId\\\":\\\"cd77092e-91bc-4053-9f98-6b03a1b20050\\\"}},\\\"QueryTrainingResults\\\":{\\\"ExecutedVersion\\\":\\\"$LATEST\\\",\\\"Payload\\\":{\\\"statusCode\\\":200,\\\"results\\\":{\\\"TrainingJobName\\\":\\\"mlops-nyctaxi-8088d44e-e8ce-4936-a0c4-97e41805f817\\\",\\\"TrainingJobStatus\\\":\\\"Completed\\\",\\\"TrainingMetrics\\\":[{\\\"MetricName\\\":\\\"train:rmse\\\",\\\"Value\\\":2.695770025253296,\\\"Timestamp\\\":1.631934643E9},{\\\"MetricName\\\":\\\"validation:rmse\\\",\\\"Value\\\":2.7403500080108643,\\\"Timestamp\\\":1.631934643E9}]}},\\\"SdkHttpMetadata\\\":{\\\"AllHttpHeaders\\\":{\\\"X-Amz-Executed-Version\\\":[\\\"$LATEST\\\"],\\\"x-amzn-Remapped-Content-Length\\\":[\\\"0\\\"],\\\"Connection\\\":[\\\"keep-alive\\\"],\\\"x-amzn-RequestId\\\":[\\\"5d2f87b5-d22d-4a59-a3e1-fc268fbf224f\\\"],\\\"Content-Length\\\":[\\\"336\\\"],\\\"Date\\\":[\\\"Sat, 18 Sep 2021 03:10:57 GMT\\\"],\\\"X-Amzn-Trace-Id\\\":[\\\"root=1-614558c0-598ca63668d088e76ef83e63;sampled=0\\\"],\\\"Content-Type\\\":[\\\"application/json\\\"]},\\\"HttpHeaders\\\":{\\\"Connection\\\":\\\"keep-alive\\\",\\\"Content-Length\\\":\\\"336\\\",\\\"Content-Type\\\":\\\"application/json\\\",\\\"Date\\\":\\\"Sat, 18 Sep 2021 03:10:57 GMT\\\",\\\"X-Amz-Executed-Version\\\":\\\"$LATEST\\\",\\\"x-amzn-Remapped-Content-Length\\\":\\\"0\\\",\\\"x-amzn-RequestId\\\":\\\"5d2f87b5-d22d-4a59-a3e1-fc268fbf224f\\\",\\\"X-Amzn-Trace-Id\\\":\\\"root=1-614558c0-598ca63668d088e76ef83e63;sampled=0\\\"},\\\"HttpStatusCode\\\":200},\\\"SdkResponseMetadata\\\":{\\\"RequestId\\\":\\\"5d2f87b5-d22d-4a59-a3e1-fc268fbf224f\\\"},\\\"StatusCode\\\":200}}\", \"inputDetails\": {\"truncated\": false}}}, {\"timestamp\": 1631934657.36, \"type\": \"SucceedStateExited\", \"id\": 32, \"previousEventId\": 31, \"stateExitedEventDetails\": {\"name\": \"Model Error Acceptable\", \"output\": \"{\\\"ExperimentName\\\":\\\"mlops-nyctaxi\\\",\\\"TrialName\\\":\\\"mlops-nyctaxi-8088d44e-e8ce-4936-a0c4-97e41805f817\\\",\\\"GitBranch\\\":\\\"main\\\",\\\"GitCommitHash\\\":\\\"280d7816fc2f4f79c5fd0bd7a5943d3edfc27139\\\",\\\"DataVersionId\\\":\\\"TqfszOmVfvNFjCVgaND_Rjk4280XWcKS\\\",\\\"BaselineJobName\\\":\\\"mlops-nyctaxi-pbl-8088d44e-e8ce-4936-a0c4-97e41805f817\\\",\\\"BaselineOutputUri\\\":\\\"s3://sagemaker-us-east-1-962542737140/nyctaxi/monitoring/baseline/mlops-nyctaxi-pbl-8088d44e-e8ce-4936-a0c4-97e41805f817\\\",\\\"TrainingJobName\\\":\\\"mlops-nyctaxi-8088d44e-e8ce-4936-a0c4-97e41805f817\\\",\\\"CreateTrialResults\\\":{\\\"ExecutedVersion\\\":\\\"$LATEST\\\",\\\"Payload\\\":{\\\"statusCode\\\":200,\\\"results\\\":{\\\"ExperimentCreated\\\":true,\\\"TrialCreated\\\":false}},\\\"SdkHttpMetadata\\\":{\\\"AllHttpHeaders\\\":{\\\"X-Amz-Executed-Version\\\":[\\\"$LATEST\\\"],\\\"x-amzn-Remapped-Content-Length\\\":[\\\"0\\\"],\\\"Connection\\\":[\\\"keep-alive\\\"],\\\"x-amzn-RequestId\\\":[\\\"828a4116-5af9-4b48-ac93-b6a95462021b\\\"],\\\"Content-Length\\\":[\\\"82\\\"],\\\"Date\\\":[\\\"Sat, 18 Sep 2021 03:07:16 GMT\\\"],\\\"X-Amzn-Trace-Id\\\":[\\\"root=1-614557e2-2747243f1df0ea927b5a4a9e;sampled=0\\\"],\\\"Content-Type\\\":[\\\"application/json\\\"]},\\\"HttpHeaders\\\":{\\\"Connection\\\":\\\"keep-alive\\\",\\\"Content-Length\\\":\\\"82\\\",\\\"Content-Type\\\":\\\"application/json\\\",\\\"Date\\\":\\\"Sat, 18 Sep 2021 03:07:16 GMT\\\",\\\"X-Amz-Executed-Version\\\":\\\"$LATEST\\\",\\\"x-amzn-Remapped-Content-Length\\\":\\\"0\\\",\\\"x-amzn-RequestId\\\":\\\"828a4116-5af9-4b48-ac93-b6a95462021b\\\",\\\"X-Amzn-Trace-Id\\\":\\\"root=1-614557e2-2747243f1df0ea927b5a4a9e;sampled=0\\\"},\\\"HttpStatusCode\\\":200},\\\"SdkResponseMetadata\\\":{\\\"RequestId\\\":\\\"828a4116-5af9-4b48-ac93-b6a95462021b\\\"},\\\"StatusCode\\\":200},\\\"TrainingResults\\\":{\\\"TrainingJobName\\\":\\\"mlops-nyctaxi-8088d44e-e8ce-4936-a0c4-97e41805f817\\\",\\\"TrainingJobArn\\\":\\\"arn:aws:sagemaker:us-east-1:962542737140:training-job/mlops-nyctaxi-8088d44e-e8ce-4936-a0c4-97e41805f817\\\",\\\"ModelArtifacts\\\":{\\\"S3ModelArtifacts\\\":\\\"s3://sagemaker-us-east-1-962542737140/nyctaxi/mlops-nyctaxi-8088d44e-e8ce-4936-a0c4-97e41805f817/output/model.tar.gz\\\"},\\\"TrainingJobStatus\\\":\\\"Completed\\\",\\\"SecondaryStatus\\\":\\\"Completed\\\",\\\"HyperParameters\\\":{\\\"eta\\\":\\\"0.2\\\",\\\"max_depth\\\":\\\"9\\\",\\\"early_stopping_rounds\\\":\\\"10\\\",\\\"num_round\\\":\\\"50\\\",\\\"subsample\\\":\\\"0.8\\\",\\\"gamma\\\":\\\"4\\\",\\\"min_child_weight\\\":\\\"300\\\",\\\"objective\\\":\\\"reg:linear\\\"},\\\"AlgorithmSpecification\\\":{\\\"TrainingImage\\\":\\\"811284229777.dkr.ecr.us-east-1.amazonaws.com/xgboost:latest\\\",\\\"TrainingInputMode\\\":\\\"FILE\\\"},\\\"RoleArn\\\":\\\"arn:aws:iam::962542737140:role/mlops-nyctaxi-sagemaker-role\\\",\\\"InputDataConfig\\\":[{\\\"ChannelName\\\":\\\"train\\\",\\\"DataSource\\\":{\\\"S3DataSource\\\":{\\\"S3DataType\\\":\\\"S3_PREFIX\\\",\\\"S3Uri\\\":\\\"s3://sagemaker-us-east-1-962542737140/nyc-tlc/v1/data/training/train.csv\\\",\\\"S3DataDistributionType\\\":\\\"FULLY_REPLICATED\\\"}},\\\"ContentType\\\":\\\"csv\\\",\\\"CompressionType\\\":\\\"NONE\\\",\\\"RecordWrapperType\\\":\\\"NONE\\\"},{\\\"ChannelName\\\":\\\"validation\\\",\\\"DataSource\\\":{\\\"S3DataSource\\\":{\\\"S3DataType\\\":\\\"S3_PREFIX\\\",\\\"S3Uri\\\":\\\"s3://sagemaker-us-east-1-962542737140/nyc-tlc/v1/data/validation/validation.csv\\\",\\\"S3DataDistributionType\\\":\\\"FULLY_REPLICATED\\\"}},\\\"ContentType\\\":\\\"csv\\\",\\\"CompressionType\\\":\\\"NONE\\\",\\\"RecordWrapperType\\\":\\\"NONE\\\"}],\\\"OutputDataConfig\\\":{\\\"S3OutputPath\\\":\\\"s3://sagemaker-us-east-1-962542737140/nyctaxi\\\"},\\\"ResourceConfig\\\":{\\\"InstanceType\\\":\\\"ml.m4.xlarge\\\",\\\"InstanceCount\\\":1.0,\\\"VolumeSizeInGB\\\":30.0},\\\"StoppingCondition\\\":{\\\"MaxRuntimeInSeconds\\\":86400.0},\\\"CreationTime\\\":1.631934436564E12,\\\"TrainingStartTime\\\":1.631934575938E12,\\\"TrainingEndTime\\\":1.631934653195E12,\\\"LastModifiedTime\\\":1.631934653195E12,\\\"SecondaryStatusTransitions\\\":[{\\\"Status\\\":\\\"Starting\\\",\\\"StartTime\\\":1.631934436564E12,\\\"EndTime\\\":1.631934575938E12,\\\"StatusMessage\\\":\\\"Preparing the instances for training\\\"},{\\\"Status\\\":\\\"Downloading\\\",\\\"StartTime\\\":1.631934575938E12,\\\"EndTime\\\":1.631934605897E12,\\\"StatusMessage\\\":\\\"Downloading input data\\\"},{\\\"Status\\\":\\\"Training\\\",\\\"StartTime\\\":1.631934605897E12,\\\"EndTime\\\":1.631934646025E12,\\\"StatusMessage\\\":\\\"Training image download completed. Training in progress.\\\"},{\\\"Status\\\":\\\"Uploading\\\",\\\"StartTime\\\":1.631934646025E12,\\\"EndTime\\\":1.631934653195E12,\\\"StatusMessage\\\":\\\"Uploading generated training model\\\"},{\\\"Status\\\":\\\"Completed\\\",\\\"StartTime\\\":1.631934653195E12,\\\"EndTime\\\":1.631934653195E12,\\\"StatusMessage\\\":\\\"Training job completed\\\"}],\\\"Tags\\\":{\\\"GitBranch\\\":\\\"main\\\",\\\"MANAGED_BY_AWS\\\":\\\"STARTED_BY_STEP_FUNCTIONS\\\",\\\"DataVersionId\\\":\\\"TqfszOmVfvNFjCVgaND_Rjk4280XWcKS\\\",\\\"GitCommitHash\\\":\\\"280d7816fc2f4f79c5fd0bd7a5943d3edfc27139\\\",\\\"AWS_STEP_FUNCTIONS_EXECUTION_ARN\\\":\\\"arn:aws:states:us-east-1:962542737140:execution:nyctaxi:00a18b30-5b93-4439-85bc-9588559a9502\\\"}},\\\"ModelStepResults\\\":{\\\"ModelArn\\\":\\\"arn:aws:sagemaker:us-east-1:962542737140:model/mlops-nyctaxi-8088d44e-e8ce-4936-a0c4-97e41805f817\\\",\\\"SdkHttpMetadata\\\":{\\\"AllHttpHeaders\\\":{\\\"x-amzn-RequestId\\\":[\\\"cd77092e-91bc-4053-9f98-6b03a1b20050\\\"],\\\"Content-Length\\\":[\\\"112\\\"],\\\"Date\\\":[\\\"Sat, 18 Sep 2021 03:10:56 GMT\\\"],\\\"Content-Type\\\":[\\\"application/x-amz-json-1.1\\\"]},\\\"HttpHeaders\\\":{\\\"Content-Length\\\":\\\"112\\\",\\\"Content-Type\\\":\\\"application/x-amz-json-1.1\\\",\\\"Date\\\":\\\"Sat, 18 Sep 2021 03:10:56 GMT\\\",\\\"x-amzn-RequestId\\\":\\\"cd77092e-91bc-4053-9f98-6b03a1b20050\\\"},\\\"HttpStatusCode\\\":200},\\\"SdkResponseMetadata\\\":{\\\"RequestId\\\":\\\"cd77092e-91bc-4053-9f98-6b03a1b20050\\\"}},\\\"QueryTrainingResults\\\":{\\\"ExecutedVersion\\\":\\\"$LATEST\\\",\\\"Payload\\\":{\\\"statusCode\\\":200,\\\"results\\\":{\\\"TrainingJobName\\\":\\\"mlops-nyctaxi-8088d44e-e8ce-4936-a0c4-97e41805f817\\\",\\\"TrainingJobStatus\\\":\\\"Completed\\\",\\\"TrainingMetrics\\\":[{\\\"MetricName\\\":\\\"train:rmse\\\",\\\"Value\\\":2.695770025253296,\\\"Timestamp\\\":1.631934643E9},{\\\"MetricName\\\":\\\"validation:rmse\\\",\\\"Value\\\":2.7403500080108643,\\\"Timestamp\\\":1.631934643E9}]}},\\\"SdkHttpMetadata\\\":{\\\"AllHttpHeaders\\\":{\\\"X-Amz-Executed-Version\\\":[\\\"$LATEST\\\"],\\\"x-amzn-Remapped-Content-Length\\\":[\\\"0\\\"],\\\"Connection\\\":[\\\"keep-alive\\\"],\\\"x-amzn-RequestId\\\":[\\\"5d2f87b5-d22d-4a59-a3e1-fc268fbf224f\\\"],\\\"Content-Length\\\":[\\\"336\\\"],\\\"Date\\\":[\\\"Sat, 18 Sep 2021 03:10:57 GMT\\\"],\\\"X-Amzn-Trace-Id\\\":[\\\"root=1-614558c0-598ca63668d088e76ef83e63;sampled=0\\\"],\\\"Content-Type\\\":[\\\"application/json\\\"]},\\\"HttpHeaders\\\":{\\\"Connection\\\":\\\"keep-alive\\\",\\\"Content-Length\\\":\\\"336\\\",\\\"Content-Type\\\":\\\"application/json\\\",\\\"Date\\\":\\\"Sat, 18 Sep 2021 03:10:57 GMT\\\",\\\"X-Amz-Executed-Version\\\":\\\"$LATEST\\\",\\\"x-amzn-Remapped-Content-Length\\\":\\\"0\\\",\\\"x-amzn-RequestId\\\":\\\"5d2f87b5-d22d-4a59-a3e1-fc268fbf224f\\\",\\\"X-Amzn-Trace-Id\\\":\\\"root=1-614558c0-598ca63668d088e76ef83e63;sampled=0\\\"},\\\"HttpStatusCode\\\":200},\\\"SdkResponseMetadata\\\":{\\\"RequestId\\\":\\\"5d2f87b5-d22d-4a59-a3e1-fc268fbf224f\\\"},\\\"StatusCode\\\":200}}\", \"outputDetails\": {\"truncated\": false}}}] };\n",
       "\n",
       "    var graph = new sfn.StateMachineExecutionGraph(definition, events, elementId, options);\n",
       "    graph.render();\n",
       "});\n",
       "\n",
       "</script>\n"
      ],
      "text/plain": [
       "<IPython.core.display.HTML object>"
      ]
     },
     "execution_count": 24,
     "metadata": {},
     "output_type": "execute_result"
    }
   ],
   "source": [
    "executions = workflow.list_executions()\n",
    "if not executions:\n",
    "    raise(Exception('Please wait.  Training not started'))\n",
    "    \n",
    "executions[0].render_progress()"
   ]
  },
  {
   "cell_type": "markdown",
   "metadata": {},
   "source": [
    "### Revisamos el script de Build\n",
    "\n",
    "Mientras esperamos a que se complete el trabajo de entrenamiento, revisemos el código `run.py` que fue utilizado por el proceso de AWS CodeBuild.\n",
    "\n",
    "Este script toma todos los parámetros de entrada, incluidas las ubicaciones de los datasets y los hiperparámetros que guardó en archivos JSON anteriormente en este notebook, y los usa para generar las plantillas que el pipeline necesita para ejecutar el job de entrenamiento. *No* crea la instancia de Step Functions real; solo genera las plantillas que definen el workflow de Step Functions, así como las plantillas de entrada de CloudFormation que CodePipeline usa para crear la instancia de Step Functions.\n",
    "\n",
    "Paso a paso, el script hace lo siguiente:\n",
    "\n",
    "1. Recopila todos los parámetros de entrada que necesita para generar las plantillas. Esto incluye información sobre el contenedor de entorno necesario para ejecutar el job de entrenamiento, las ubicaciones de los datos de entrada y salida, los roles de IAM necesarios para varios componentes, las claves de cifrado y más. Luego configura algunos parámetros básicos como la región de AWS y los nombres de las funciones.\n",
    "1. Si los parámetros de entrada especifican un contenedor de entorno almacenado en ECR, obtiene ese contenedor. De lo contrario, obtiene el URI del contenedor del entorno administrado de AWS necesario para el job de entrenamiento.\n",
    "1. Lee el archivo JSON de datos de entrada que generó anteriormente en este notebook (y que se incluyó en la fuente zip para el pipeline), obteniendo así las ubicaciones de entrenamiento, validación y los archivos de datos baseline. Luego, formatea más parámetros que se necesitarán más adelante en el script, incluidos los ID de versión y las ubicaciones de los datos de salida.\n",
    "1. Lee el archivo JSON de hiperparámetro que generó anteriormente en este notebook.\n",
    "1. Define el workflow de Step Functions, comenzando con el esquema de entrada, seguido de cada paso del flujo de trabajo (es decir, crear experimento, trabajo de referencia, trabajo de entrenamiento) y finalmente combina esos pasos en un gráfico de flujo de trabajo.\n",
    "1. El gráfico del flujo de trabajo se guarda en un archivo, junto con un archivo que contiene todos los parámetros de entrada guardados de acuerdo con el esquema definido en el flujo de trabajo.\n",
    "1. Guarda los parámetros en un archivo que CloudFormation utilizará para crear una instancia de workflow de Step Functions."
   ]
  },
  {
   "cell_type": "code",
   "execution_count": 22,
   "metadata": {},
   "outputs": [
    {
     "name": "stdout",
     "output_type": "stream",
     "text": [
      "\u001b[34mimport\u001b[39;49;00m \u001b[04m\u001b[36margparse\u001b[39;49;00m\r\n",
      "\u001b[34mimport\u001b[39;49;00m \u001b[04m\u001b[36mjson\u001b[39;49;00m\r\n",
      "\u001b[34mimport\u001b[39;49;00m \u001b[04m\u001b[36mos\u001b[39;49;00m\r\n",
      "\u001b[34mimport\u001b[39;49;00m \u001b[04m\u001b[36msys\u001b[39;49;00m\r\n",
      "\u001b[34mimport\u001b[39;49;00m \u001b[04m\u001b[36mtime\u001b[39;49;00m\r\n",
      "\r\n",
      "\u001b[34mimport\u001b[39;49;00m \u001b[04m\u001b[36mboto3\u001b[39;49;00m\r\n",
      "\r\n",
      "\u001b[34mimport\u001b[39;49;00m \u001b[04m\u001b[36msagemaker\u001b[39;49;00m\r\n",
      "\u001b[34mfrom\u001b[39;49;00m \u001b[04m\u001b[36msagemaker\u001b[39;49;00m\u001b[04m\u001b[36m.\u001b[39;49;00m\u001b[04m\u001b[36mimage_uris\u001b[39;49;00m \u001b[34mimport\u001b[39;49;00m retrieve\r\n",
      "\u001b[34mfrom\u001b[39;49;00m \u001b[04m\u001b[36msagemaker\u001b[39;49;00m\u001b[04m\u001b[36m.\u001b[39;49;00m\u001b[04m\u001b[36mprocessing\u001b[39;49;00m \u001b[34mimport\u001b[39;49;00m Processor, ProcessingInput, ProcessingOutput\r\n",
      "\u001b[34mfrom\u001b[39;49;00m \u001b[04m\u001b[36msagemaker\u001b[39;49;00m\u001b[04m\u001b[36m.\u001b[39;49;00m\u001b[04m\u001b[36mmodel_monitor\u001b[39;49;00m\u001b[04m\u001b[36m.\u001b[39;49;00m\u001b[04m\u001b[36mdataset_format\u001b[39;49;00m \u001b[34mimport\u001b[39;49;00m DatasetFormat\r\n",
      "\r\n",
      "\u001b[34mimport\u001b[39;49;00m \u001b[04m\u001b[36mstepfunctions\u001b[39;49;00m\r\n",
      "\u001b[34mfrom\u001b[39;49;00m \u001b[04m\u001b[36mstepfunctions\u001b[39;49;00m \u001b[34mimport\u001b[39;49;00m steps\r\n",
      "\u001b[34mfrom\u001b[39;49;00m \u001b[04m\u001b[36mstepfunctions\u001b[39;49;00m\u001b[04m\u001b[36m.\u001b[39;49;00m\u001b[04m\u001b[36minputs\u001b[39;49;00m \u001b[34mimport\u001b[39;49;00m ExecutionInput\r\n",
      "\u001b[34mfrom\u001b[39;49;00m \u001b[04m\u001b[36mstepfunctions\u001b[39;49;00m\u001b[04m\u001b[36m.\u001b[39;49;00m\u001b[04m\u001b[36mworkflow\u001b[39;49;00m \u001b[34mimport\u001b[39;49;00m Workflow\r\n",
      "\r\n",
      "\r\n",
      "\u001b[34mdef\u001b[39;49;00m \u001b[32mcreate_experiment_step\u001b[39;49;00m(create_experiment_function_name):\r\n",
      "    create_experiment_step = steps.compute.LambdaStep(\r\n",
      "        \u001b[33m\"\u001b[39;49;00m\u001b[33mCreate Experiment\u001b[39;49;00m\u001b[33m\"\u001b[39;49;00m,\r\n",
      "        parameters={\r\n",
      "            \u001b[33m\"\u001b[39;49;00m\u001b[33mFunctionName\u001b[39;49;00m\u001b[33m\"\u001b[39;49;00m: create_experiment_function_name,\r\n",
      "            \u001b[33m\"\u001b[39;49;00m\u001b[33mPayload\u001b[39;49;00m\u001b[33m\"\u001b[39;49;00m: {\u001b[33m\"\u001b[39;49;00m\u001b[33mExperimentName.$\u001b[39;49;00m\u001b[33m\"\u001b[39;49;00m: \u001b[33m\"\u001b[39;49;00m\u001b[33m$.ExperimentName\u001b[39;49;00m\u001b[33m\"\u001b[39;49;00m, \u001b[33m\"\u001b[39;49;00m\u001b[33mTrialName.$\u001b[39;49;00m\u001b[33m\"\u001b[39;49;00m: \u001b[33m\"\u001b[39;49;00m\u001b[33m$.TrialName\u001b[39;49;00m\u001b[33m\"\u001b[39;49;00m,},\r\n",
      "        },\r\n",
      "        result_path=\u001b[33m\"\u001b[39;49;00m\u001b[33m$.CreateTrialResults\u001b[39;49;00m\u001b[33m\"\u001b[39;49;00m,\r\n",
      "    )\r\n",
      "    \u001b[34mreturn\u001b[39;49;00m create_experiment_step\r\n",
      "\r\n",
      "\r\n",
      "\u001b[34mdef\u001b[39;49;00m \u001b[32mcreate_baseline_step\u001b[39;49;00m(input_data, execution_input, region, role):\r\n",
      "    \u001b[37m# Define the enviornment\u001b[39;49;00m\r\n",
      "    dataset_format = DatasetFormat.csv()\r\n",
      "    env = {\r\n",
      "        \u001b[33m\"\u001b[39;49;00m\u001b[33mdataset_format\u001b[39;49;00m\u001b[33m\"\u001b[39;49;00m: json.dumps(dataset_format),\r\n",
      "        \u001b[33m\"\u001b[39;49;00m\u001b[33mdataset_source\u001b[39;49;00m\u001b[33m\"\u001b[39;49;00m: \u001b[33m\"\u001b[39;49;00m\u001b[33m/opt/ml/processing/input/baseline_dataset_input\u001b[39;49;00m\u001b[33m\"\u001b[39;49;00m,\r\n",
      "        \u001b[33m\"\u001b[39;49;00m\u001b[33moutput_path\u001b[39;49;00m\u001b[33m\"\u001b[39;49;00m: \u001b[33m\"\u001b[39;49;00m\u001b[33m/opt/ml/processing/output\u001b[39;49;00m\u001b[33m\"\u001b[39;49;00m,\r\n",
      "        \u001b[33m\"\u001b[39;49;00m\u001b[33mpublish_cloudwatch_metrics\u001b[39;49;00m\u001b[33m\"\u001b[39;49;00m: \u001b[33m\"\u001b[39;49;00m\u001b[33mDisabled\u001b[39;49;00m\u001b[33m\"\u001b[39;49;00m,  \u001b[37m# Have to be disabled from processing job?\u001b[39;49;00m\r\n",
      "    }\r\n",
      "\r\n",
      "    \u001b[37m# Define the inputs and outputs\u001b[39;49;00m\r\n",
      "    inputs = [\r\n",
      "        ProcessingInput(\r\n",
      "            source=input_data[\u001b[33m\"\u001b[39;49;00m\u001b[33mBaselineUri\u001b[39;49;00m\u001b[33m\"\u001b[39;49;00m],\r\n",
      "            destination=\u001b[33m\"\u001b[39;49;00m\u001b[33m/opt/ml/processing/input/baseline_dataset_input\u001b[39;49;00m\u001b[33m\"\u001b[39;49;00m,\r\n",
      "            input_name=\u001b[33m\"\u001b[39;49;00m\u001b[33mbaseline_dataset_input\u001b[39;49;00m\u001b[33m\"\u001b[39;49;00m,\r\n",
      "        ),\r\n",
      "    ]\r\n",
      "    outputs = [\r\n",
      "        ProcessingOutput(\r\n",
      "            source=\u001b[33m\"\u001b[39;49;00m\u001b[33m/opt/ml/processing/output\u001b[39;49;00m\u001b[33m\"\u001b[39;49;00m,\r\n",
      "            destination=execution_input[\u001b[33m\"\u001b[39;49;00m\u001b[33mBaselineOutputUri\u001b[39;49;00m\u001b[33m\"\u001b[39;49;00m],\r\n",
      "            output_name=\u001b[33m\"\u001b[39;49;00m\u001b[33mmonitoring_output\u001b[39;49;00m\u001b[33m\"\u001b[39;49;00m,\r\n",
      "        ),\r\n",
      "    ]\r\n",
      "\r\n",
      "    \u001b[37m# Get the default model monitor container\u001b[39;49;00m\r\n",
      "    monor_monitor_container_uri = retrieve(\r\n",
      "        region=region, framework=\u001b[33m\"\u001b[39;49;00m\u001b[33mmodel-monitor\u001b[39;49;00m\u001b[33m\"\u001b[39;49;00m, version=\u001b[33m\"\u001b[39;49;00m\u001b[33mlatest\u001b[39;49;00m\u001b[33m\"\u001b[39;49;00m\r\n",
      "    )\r\n",
      "\r\n",
      "    \u001b[37m# Create the processor\u001b[39;49;00m\r\n",
      "    monitor_analyzer = Processor(\r\n",
      "        image_uri=monor_monitor_container_uri,\r\n",
      "        role=role,\r\n",
      "        instance_count=\u001b[34m1\u001b[39;49;00m,\r\n",
      "        instance_type=\u001b[33m\"\u001b[39;49;00m\u001b[33mml.m5.xlarge\u001b[39;49;00m\u001b[33m\"\u001b[39;49;00m,\r\n",
      "        max_runtime_in_seconds=\u001b[34m1800\u001b[39;49;00m,\r\n",
      "        env=env,\r\n",
      "    )\r\n",
      "\r\n",
      "    \u001b[37m# Create the processing step\u001b[39;49;00m\r\n",
      "    baseline_step = steps.sagemaker.ProcessingStep(\r\n",
      "        \u001b[33m\"\u001b[39;49;00m\u001b[33mBaseline Job\u001b[39;49;00m\u001b[33m\"\u001b[39;49;00m,\r\n",
      "        processor=monitor_analyzer,\r\n",
      "        job_name=execution_input[\u001b[33m\"\u001b[39;49;00m\u001b[33mBaselineJobName\u001b[39;49;00m\u001b[33m\"\u001b[39;49;00m],\r\n",
      "        inputs=inputs,\r\n",
      "        outputs=outputs,\r\n",
      "        experiment_config={\r\n",
      "            \u001b[33m\"\u001b[39;49;00m\u001b[33mExperimentName\u001b[39;49;00m\u001b[33m\"\u001b[39;49;00m: execution_input[\u001b[33m\"\u001b[39;49;00m\u001b[33mExperimentName\u001b[39;49;00m\u001b[33m\"\u001b[39;49;00m],  \u001b[37m# '$.ExperimentName',\u001b[39;49;00m\r\n",
      "            \u001b[33m\"\u001b[39;49;00m\u001b[33mTrialName\u001b[39;49;00m\u001b[33m\"\u001b[39;49;00m: execution_input[\u001b[33m\"\u001b[39;49;00m\u001b[33mTrialName\u001b[39;49;00m\u001b[33m\"\u001b[39;49;00m],\r\n",
      "            \u001b[33m\"\u001b[39;49;00m\u001b[33mTrialComponentDisplayName\u001b[39;49;00m\u001b[33m\"\u001b[39;49;00m: \u001b[33m\"\u001b[39;49;00m\u001b[33mBaseline\u001b[39;49;00m\u001b[33m\"\u001b[39;49;00m,\r\n",
      "        },\r\n",
      "        tags={\r\n",
      "            \u001b[33m\"\u001b[39;49;00m\u001b[33mGitBranch\u001b[39;49;00m\u001b[33m\"\u001b[39;49;00m: execution_input[\u001b[33m\"\u001b[39;49;00m\u001b[33mGitBranch\u001b[39;49;00m\u001b[33m\"\u001b[39;49;00m],\r\n",
      "            \u001b[33m\"\u001b[39;49;00m\u001b[33mGitCommitHash\u001b[39;49;00m\u001b[33m\"\u001b[39;49;00m: execution_input[\u001b[33m\"\u001b[39;49;00m\u001b[33mGitCommitHash\u001b[39;49;00m\u001b[33m\"\u001b[39;49;00m],\r\n",
      "            \u001b[33m\"\u001b[39;49;00m\u001b[33mDataVersionId\u001b[39;49;00m\u001b[33m\"\u001b[39;49;00m: execution_input[\u001b[33m\"\u001b[39;49;00m\u001b[33mDataVersionId\u001b[39;49;00m\u001b[33m\"\u001b[39;49;00m],\r\n",
      "        },\r\n",
      "    )\r\n",
      "\r\n",
      "    \u001b[37m# Add the catch\u001b[39;49;00m\r\n",
      "    baseline_step.add_catch(\r\n",
      "        steps.states.Catch(\r\n",
      "            error_equals=[\u001b[33m\"\u001b[39;49;00m\u001b[33mStates.TaskFailed\u001b[39;49;00m\u001b[33m\"\u001b[39;49;00m],\r\n",
      "            next_step=stepfunctions.steps.states.Fail(\r\n",
      "                \u001b[33m\"\u001b[39;49;00m\u001b[33mBaseline failed\u001b[39;49;00m\u001b[33m\"\u001b[39;49;00m, cause=\u001b[33m\"\u001b[39;49;00m\u001b[33mSageMakerBaselineJobFailed\u001b[39;49;00m\u001b[33m\"\u001b[39;49;00m\r\n",
      "            ),\r\n",
      "        )\r\n",
      "    )\r\n",
      "    \u001b[34mreturn\u001b[39;49;00m baseline_step\r\n",
      "\r\n",
      "\r\n",
      "\u001b[34mdef\u001b[39;49;00m \u001b[32mget_training_image\u001b[39;49;00m(region):\r\n",
      "    \u001b[34mreturn\u001b[39;49;00m sagemaker.image_uris.retrieve(region=region, framework=\u001b[33m\"\u001b[39;49;00m\u001b[33mxgboost\u001b[39;49;00m\u001b[33m\"\u001b[39;49;00m, version=\u001b[33m\"\u001b[39;49;00m\u001b[33mlatest\u001b[39;49;00m\u001b[33m\"\u001b[39;49;00m)\r\n",
      "\r\n",
      "\r\n",
      "\u001b[34mdef\u001b[39;49;00m \u001b[32mcreate_training_step\u001b[39;49;00m(\r\n",
      "    image_uri,\r\n",
      "    hyperparameters,\r\n",
      "    input_data,\r\n",
      "    output_data,\r\n",
      "    execution_input,\r\n",
      "    query_training_function_name,\r\n",
      "    region,\r\n",
      "    role,\r\n",
      "):\r\n",
      "    \u001b[37m# Create the estimator\u001b[39;49;00m\r\n",
      "    xgb = sagemaker.estimator.Estimator(\r\n",
      "        image_uri,\r\n",
      "        role,\r\n",
      "        instance_count=\u001b[34m1\u001b[39;49;00m,\r\n",
      "        instance_type=\u001b[33m\"\u001b[39;49;00m\u001b[33mml.m4.xlarge\u001b[39;49;00m\u001b[33m\"\u001b[39;49;00m,\r\n",
      "        output_path=output_data[\u001b[33m\"\u001b[39;49;00m\u001b[33mModelOutputUri\u001b[39;49;00m\u001b[33m\"\u001b[39;49;00m],  \u001b[37m# NOTE: Can't use execution_input here\u001b[39;49;00m\r\n",
      "    )\r\n",
      "\r\n",
      "    \u001b[37m# Set the hyperparameters overriding with any defaults\u001b[39;49;00m\r\n",
      "    hp = {\r\n",
      "        \u001b[33m\"\u001b[39;49;00m\u001b[33mmax_depth\u001b[39;49;00m\u001b[33m\"\u001b[39;49;00m: \u001b[33m\"\u001b[39;49;00m\u001b[33m9\u001b[39;49;00m\u001b[33m\"\u001b[39;49;00m,\r\n",
      "        \u001b[33m\"\u001b[39;49;00m\u001b[33meta\u001b[39;49;00m\u001b[33m\"\u001b[39;49;00m: \u001b[33m\"\u001b[39;49;00m\u001b[33m0.2\u001b[39;49;00m\u001b[33m\"\u001b[39;49;00m,\r\n",
      "        \u001b[33m\"\u001b[39;49;00m\u001b[33mgamma\u001b[39;49;00m\u001b[33m\"\u001b[39;49;00m: \u001b[33m\"\u001b[39;49;00m\u001b[33m4\u001b[39;49;00m\u001b[33m\"\u001b[39;49;00m,\r\n",
      "        \u001b[33m\"\u001b[39;49;00m\u001b[33mmin_child_weight\u001b[39;49;00m\u001b[33m\"\u001b[39;49;00m: \u001b[33m\"\u001b[39;49;00m\u001b[33m300\u001b[39;49;00m\u001b[33m\"\u001b[39;49;00m,\r\n",
      "        \u001b[33m\"\u001b[39;49;00m\u001b[33msubsample\u001b[39;49;00m\u001b[33m\"\u001b[39;49;00m: \u001b[33m\"\u001b[39;49;00m\u001b[33m0.8\u001b[39;49;00m\u001b[33m\"\u001b[39;49;00m,\r\n",
      "        \u001b[33m\"\u001b[39;49;00m\u001b[33mobjective\u001b[39;49;00m\u001b[33m\"\u001b[39;49;00m: \u001b[33m\"\u001b[39;49;00m\u001b[33mreg:linear\u001b[39;49;00m\u001b[33m\"\u001b[39;49;00m,\r\n",
      "        \u001b[33m\"\u001b[39;49;00m\u001b[33mearly_stopping_rounds\u001b[39;49;00m\u001b[33m\"\u001b[39;49;00m: \u001b[33m\"\u001b[39;49;00m\u001b[33m10\u001b[39;49;00m\u001b[33m\"\u001b[39;49;00m,\r\n",
      "        \u001b[33m\"\u001b[39;49;00m\u001b[33mnum_round\u001b[39;49;00m\u001b[33m\"\u001b[39;49;00m: \u001b[33m\"\u001b[39;49;00m\u001b[33m100\u001b[39;49;00m\u001b[33m\"\u001b[39;49;00m,\r\n",
      "    }\r\n",
      "    xgb.set_hyperparameters(**{**hp, **hyperparameters})\r\n",
      "\r\n",
      "    \u001b[37m# Specify the data source\u001b[39;49;00m\r\n",
      "    s3_input_train = sagemaker.inputs.TrainingInput(\r\n",
      "        s3_data=input_data[\u001b[33m\"\u001b[39;49;00m\u001b[33mTrainingUri\u001b[39;49;00m\u001b[33m\"\u001b[39;49;00m], content_type=\u001b[33m\"\u001b[39;49;00m\u001b[33mcsv\u001b[39;49;00m\u001b[33m\"\u001b[39;49;00m\r\n",
      "    )\r\n",
      "    s3_input_val = sagemaker.inputs.TrainingInput(\r\n",
      "        s3_data=input_data[\u001b[33m\"\u001b[39;49;00m\u001b[33mValidationUri\u001b[39;49;00m\u001b[33m\"\u001b[39;49;00m], content_type=\u001b[33m\"\u001b[39;49;00m\u001b[33mcsv\u001b[39;49;00m\u001b[33m\"\u001b[39;49;00m\r\n",
      "    )\r\n",
      "    data = {\u001b[33m\"\u001b[39;49;00m\u001b[33mtrain\u001b[39;49;00m\u001b[33m\"\u001b[39;49;00m: s3_input_train, \u001b[33m\"\u001b[39;49;00m\u001b[33mvalidation\u001b[39;49;00m\u001b[33m\"\u001b[39;49;00m: s3_input_val}\r\n",
      "\r\n",
      "    \u001b[37m# Create the training step\u001b[39;49;00m\r\n",
      "    training_step = steps.TrainingStep(\r\n",
      "        \u001b[33m\"\u001b[39;49;00m\u001b[33mTraining Job\u001b[39;49;00m\u001b[33m\"\u001b[39;49;00m,\r\n",
      "        estimator=xgb,\r\n",
      "        data=data,\r\n",
      "        job_name=execution_input[\u001b[33m\"\u001b[39;49;00m\u001b[33mTrainingJobName\u001b[39;49;00m\u001b[33m\"\u001b[39;49;00m],\r\n",
      "        experiment_config={\r\n",
      "            \u001b[33m\"\u001b[39;49;00m\u001b[33mExperimentName\u001b[39;49;00m\u001b[33m\"\u001b[39;49;00m: execution_input[\u001b[33m\"\u001b[39;49;00m\u001b[33mExperimentName\u001b[39;49;00m\u001b[33m\"\u001b[39;49;00m],\r\n",
      "            \u001b[33m\"\u001b[39;49;00m\u001b[33mTrialName\u001b[39;49;00m\u001b[33m\"\u001b[39;49;00m: execution_input[\u001b[33m\"\u001b[39;49;00m\u001b[33mTrialName\u001b[39;49;00m\u001b[33m\"\u001b[39;49;00m],\r\n",
      "            \u001b[33m\"\u001b[39;49;00m\u001b[33mTrialComponentDisplayName\u001b[39;49;00m\u001b[33m\"\u001b[39;49;00m: \u001b[33m\"\u001b[39;49;00m\u001b[33mTraining\u001b[39;49;00m\u001b[33m\"\u001b[39;49;00m,\r\n",
      "        },\r\n",
      "        tags={\r\n",
      "            \u001b[33m\"\u001b[39;49;00m\u001b[33mGitBranch\u001b[39;49;00m\u001b[33m\"\u001b[39;49;00m: execution_input[\u001b[33m\"\u001b[39;49;00m\u001b[33mGitBranch\u001b[39;49;00m\u001b[33m\"\u001b[39;49;00m],\r\n",
      "            \u001b[33m\"\u001b[39;49;00m\u001b[33mGitCommitHash\u001b[39;49;00m\u001b[33m\"\u001b[39;49;00m: execution_input[\u001b[33m\"\u001b[39;49;00m\u001b[33mGitCommitHash\u001b[39;49;00m\u001b[33m\"\u001b[39;49;00m],\r\n",
      "            \u001b[33m\"\u001b[39;49;00m\u001b[33mDataVersionId\u001b[39;49;00m\u001b[33m\"\u001b[39;49;00m: execution_input[\u001b[33m\"\u001b[39;49;00m\u001b[33mDataVersionId\u001b[39;49;00m\u001b[33m\"\u001b[39;49;00m],\r\n",
      "        },\r\n",
      "        result_path=\u001b[33m\"\u001b[39;49;00m\u001b[33m$.TrainingResults\u001b[39;49;00m\u001b[33m\"\u001b[39;49;00m,\r\n",
      "    )\r\n",
      "\r\n",
      "    \u001b[37m# Add the catch\u001b[39;49;00m\r\n",
      "    training_step.add_catch(\r\n",
      "        stepfunctions.steps.states.Catch(\r\n",
      "            error_equals=[\u001b[33m\"\u001b[39;49;00m\u001b[33mStates.TaskFailed\u001b[39;49;00m\u001b[33m\"\u001b[39;49;00m],\r\n",
      "            next_step=stepfunctions.steps.states.Fail(\r\n",
      "                \u001b[33m\"\u001b[39;49;00m\u001b[33mTraining failed\u001b[39;49;00m\u001b[33m\"\u001b[39;49;00m, cause=\u001b[33m\"\u001b[39;49;00m\u001b[33mSageMakerTrainingJobFailed\u001b[39;49;00m\u001b[33m\"\u001b[39;49;00m\r\n",
      "            ),\r\n",
      "        )\r\n",
      "    )\r\n",
      "\r\n",
      "    \u001b[37m# Must follow the training test\u001b[39;49;00m\r\n",
      "    model_step = steps.sagemaker.ModelStep(\r\n",
      "        \u001b[33m\"\u001b[39;49;00m\u001b[33mSave Model\u001b[39;49;00m\u001b[33m\"\u001b[39;49;00m,\r\n",
      "        input_path=\u001b[33m\"\u001b[39;49;00m\u001b[33m$.TrainingResults\u001b[39;49;00m\u001b[33m\"\u001b[39;49;00m,\r\n",
      "        model=training_step.get_expected_model(),\r\n",
      "        model_name=execution_input[\u001b[33m\"\u001b[39;49;00m\u001b[33mTrainingJobName\u001b[39;49;00m\u001b[33m\"\u001b[39;49;00m],\r\n",
      "        result_path=\u001b[33m\"\u001b[39;49;00m\u001b[33m$.ModelStepResults\u001b[39;49;00m\u001b[33m\"\u001b[39;49;00m,\r\n",
      "    )\r\n",
      "\r\n",
      "    \u001b[37m# Query the training step\u001b[39;49;00m\r\n",
      "    training_query_step = steps.compute.LambdaStep(\r\n",
      "        \u001b[33m\"\u001b[39;49;00m\u001b[33mQuery Training Results\u001b[39;49;00m\u001b[33m\"\u001b[39;49;00m,\r\n",
      "        parameters={\r\n",
      "            \u001b[33m\"\u001b[39;49;00m\u001b[33mFunctionName\u001b[39;49;00m\u001b[33m\"\u001b[39;49;00m: query_training_function_name,\r\n",
      "            \u001b[33m\"\u001b[39;49;00m\u001b[33mPayload\u001b[39;49;00m\u001b[33m\"\u001b[39;49;00m: {\u001b[33m\"\u001b[39;49;00m\u001b[33mTrainingJobName.$\u001b[39;49;00m\u001b[33m\"\u001b[39;49;00m: \u001b[33m\"\u001b[39;49;00m\u001b[33m$.TrainingJobName\u001b[39;49;00m\u001b[33m\"\u001b[39;49;00m},\r\n",
      "        },\r\n",
      "        result_path=\u001b[33m\"\u001b[39;49;00m\u001b[33m$.QueryTrainingResults\u001b[39;49;00m\u001b[33m\"\u001b[39;49;00m,\r\n",
      "    )\r\n",
      "\r\n",
      "    check_accuracy_fail_step = steps.states.Fail(\r\n",
      "        \u001b[33m\"\u001b[39;49;00m\u001b[33mModel Error Too Low\u001b[39;49;00m\u001b[33m\"\u001b[39;49;00m, comment=\u001b[33m\"\u001b[39;49;00m\u001b[33mRMSE accuracy higher than threshold\u001b[39;49;00m\u001b[33m\"\u001b[39;49;00m\r\n",
      "    )\r\n",
      "\r\n",
      "    check_accuracy_succeed_step = steps.states.Succeed(\u001b[33m\"\u001b[39;49;00m\u001b[33mModel Error Acceptable\u001b[39;49;00m\u001b[33m\"\u001b[39;49;00m)\r\n",
      "\r\n",
      "    \u001b[37m# TODO: Update query method to query validation error using better result path\u001b[39;49;00m\r\n",
      "    threshold_rule = steps.choice_rule.ChoiceRule.NumericLessThan(\r\n",
      "        variable=training_query_step.output()[\u001b[33m\"\u001b[39;49;00m\u001b[33mQueryTrainingResults\u001b[39;49;00m\u001b[33m\"\u001b[39;49;00m][\u001b[33m\"\u001b[39;49;00m\u001b[33mPayload\u001b[39;49;00m\u001b[33m\"\u001b[39;49;00m][\u001b[33m\"\u001b[39;49;00m\u001b[33mresults\u001b[39;49;00m\u001b[33m\"\u001b[39;49;00m][\r\n",
      "            \u001b[33m\"\u001b[39;49;00m\u001b[33mTrainingMetrics\u001b[39;49;00m\u001b[33m\"\u001b[39;49;00m\r\n",
      "        ][\u001b[34m0\u001b[39;49;00m][\u001b[33m\"\u001b[39;49;00m\u001b[33mValue\u001b[39;49;00m\u001b[33m\"\u001b[39;49;00m],\r\n",
      "        value=\u001b[34m10\u001b[39;49;00m,\r\n",
      "    )\r\n",
      "\r\n",
      "    check_accuracy_step = steps.states.Choice(\u001b[33m\"\u001b[39;49;00m\u001b[33mRMSE < 10\u001b[39;49;00m\u001b[33m\"\u001b[39;49;00m)\r\n",
      "\r\n",
      "    check_accuracy_step.add_choice(rule=threshold_rule, next_step=check_accuracy_succeed_step)\r\n",
      "    check_accuracy_step.default_choice(next_step=check_accuracy_fail_step)\r\n",
      "\r\n",
      "    \u001b[37m# Return the chain of these steps\u001b[39;49;00m\r\n",
      "    \u001b[34mreturn\u001b[39;49;00m steps.states.Chain([training_step, model_step, training_query_step, check_accuracy_step])\r\n",
      "\r\n",
      "\r\n",
      "\u001b[34mdef\u001b[39;49;00m \u001b[32mcreate_graph\u001b[39;49;00m(create_experiment_step, baseline_step, training_step):\r\n",
      "    sagemaker_jobs = steps.states.Parallel(\u001b[33m\"\u001b[39;49;00m\u001b[33mSageMaker Jobs\u001b[39;49;00m\u001b[33m\"\u001b[39;49;00m)\r\n",
      "    sagemaker_jobs.add_branch(baseline_step)\r\n",
      "    sagemaker_jobs.add_branch(training_step)\r\n",
      "\r\n",
      "    \u001b[37m# Do we need specific failure for the jobs for group?\u001b[39;49;00m\r\n",
      "    sagemaker_jobs.add_catch(\r\n",
      "        stepfunctions.steps.states.Catch(\r\n",
      "            error_equals=[\u001b[33m\"\u001b[39;49;00m\u001b[33mStates.TaskFailed\u001b[39;49;00m\u001b[33m\"\u001b[39;49;00m],\r\n",
      "            next_step=stepfunctions.steps.states.Fail(\r\n",
      "                \u001b[33m\"\u001b[39;49;00m\u001b[33mSageMaker Jobs failed\u001b[39;49;00m\u001b[33m\"\u001b[39;49;00m, cause=\u001b[33m\"\u001b[39;49;00m\u001b[33mSageMakerJobsFailed\u001b[39;49;00m\u001b[33m\"\u001b[39;49;00m\r\n",
      "            ),\r\n",
      "        )\r\n",
      "    )\r\n",
      "\r\n",
      "    \u001b[37m# Return the workflow graph\u001b[39;49;00m\r\n",
      "    \u001b[34mreturn\u001b[39;49;00m steps.states.Chain([create_experiment_step, sagemaker_jobs])\r\n",
      "\r\n",
      "\r\n",
      "\u001b[34mdef\u001b[39;49;00m \u001b[32mget_dev_config\u001b[39;49;00m(model_name, job_id, role, image_uri, kms_key_id):\r\n",
      "    \u001b[34mreturn\u001b[39;49;00m {\r\n",
      "        \u001b[33m\"\u001b[39;49;00m\u001b[33mParameters\u001b[39;49;00m\u001b[33m\"\u001b[39;49;00m: {\r\n",
      "            \u001b[33m\"\u001b[39;49;00m\u001b[33mImageRepoUri\u001b[39;49;00m\u001b[33m\"\u001b[39;49;00m: image_uri,\r\n",
      "            \u001b[33m\"\u001b[39;49;00m\u001b[33mModelName\u001b[39;49;00m\u001b[33m\"\u001b[39;49;00m: model_name,\r\n",
      "            \u001b[33m\"\u001b[39;49;00m\u001b[33mTrainJobId\u001b[39;49;00m\u001b[33m\"\u001b[39;49;00m: job_id,\r\n",
      "            \u001b[33m\"\u001b[39;49;00m\u001b[33mDeployRoleArn\u001b[39;49;00m\u001b[33m\"\u001b[39;49;00m: role,\r\n",
      "            \u001b[33m\"\u001b[39;49;00m\u001b[33mModelVariant\u001b[39;49;00m\u001b[33m\"\u001b[39;49;00m: \u001b[33m\"\u001b[39;49;00m\u001b[33mdev\u001b[39;49;00m\u001b[33m\"\u001b[39;49;00m,\r\n",
      "            \u001b[33m\"\u001b[39;49;00m\u001b[33mKmsKeyId\u001b[39;49;00m\u001b[33m\"\u001b[39;49;00m: kms_key_id,\r\n",
      "        },\r\n",
      "        \u001b[33m\"\u001b[39;49;00m\u001b[33mTags\u001b[39;49;00m\u001b[33m\"\u001b[39;49;00m: {\u001b[33m\"\u001b[39;49;00m\u001b[33mmlops:model-name\u001b[39;49;00m\u001b[33m\"\u001b[39;49;00m: model_name, \u001b[33m\"\u001b[39;49;00m\u001b[33mmlops:stage\u001b[39;49;00m\u001b[33m\"\u001b[39;49;00m: \u001b[33m\"\u001b[39;49;00m\u001b[33mdev\u001b[39;49;00m\u001b[33m\"\u001b[39;49;00m},\r\n",
      "    }\r\n",
      "\r\n",
      "\r\n",
      "\u001b[34mdef\u001b[39;49;00m \u001b[32mget_prd_config\u001b[39;49;00m(model_name, job_id, role, image_uri, kms_key_id, notification_arn):\r\n",
      "    dev_config = get_dev_config(model_name, job_id, role, image_uri, kms_key_id)\r\n",
      "    prod_params = {\r\n",
      "        \u001b[33m\"\u001b[39;49;00m\u001b[33mModelVariant\u001b[39;49;00m\u001b[33m\"\u001b[39;49;00m: \u001b[33m\"\u001b[39;49;00m\u001b[33mprd\u001b[39;49;00m\u001b[33m\"\u001b[39;49;00m,\r\n",
      "        \u001b[33m\"\u001b[39;49;00m\u001b[33mScheduleMetricName\u001b[39;49;00m\u001b[33m\"\u001b[39;49;00m: \u001b[33m\"\u001b[39;49;00m\u001b[33mfeature_baseline_drift_total_amount\u001b[39;49;00m\u001b[33m\"\u001b[39;49;00m,\r\n",
      "        \u001b[33m\"\u001b[39;49;00m\u001b[33mScheduleMetricThreshold\u001b[39;49;00m\u001b[33m\"\u001b[39;49;00m: \u001b[36mstr\u001b[39;49;00m(\u001b[33m\"\u001b[39;49;00m\u001b[33m0.20\u001b[39;49;00m\u001b[33m\"\u001b[39;49;00m),\r\n",
      "        \u001b[33m\"\u001b[39;49;00m\u001b[33mNotificationArn\u001b[39;49;00m\u001b[33m\"\u001b[39;49;00m: notification_arn,\r\n",
      "    }\r\n",
      "    prod_tags = {\r\n",
      "        \u001b[33m\"\u001b[39;49;00m\u001b[33mmlops:stage\u001b[39;49;00m\u001b[33m\"\u001b[39;49;00m: \u001b[33m\"\u001b[39;49;00m\u001b[33mprd\u001b[39;49;00m\u001b[33m\"\u001b[39;49;00m,\r\n",
      "    }\r\n",
      "    \u001b[34mreturn\u001b[39;49;00m {\r\n",
      "        \u001b[33m\"\u001b[39;49;00m\u001b[33mParameters\u001b[39;49;00m\u001b[33m\"\u001b[39;49;00m: \u001b[36mdict\u001b[39;49;00m(dev_config[\u001b[33m\"\u001b[39;49;00m\u001b[33mParameters\u001b[39;49;00m\u001b[33m\"\u001b[39;49;00m], **prod_params),\r\n",
      "        \u001b[33m\"\u001b[39;49;00m\u001b[33mTags\u001b[39;49;00m\u001b[33m\"\u001b[39;49;00m: \u001b[36mdict\u001b[39;49;00m(dev_config[\u001b[33m\"\u001b[39;49;00m\u001b[33mTags\u001b[39;49;00m\u001b[33m\"\u001b[39;49;00m], **prod_tags),\r\n",
      "    }\r\n",
      "\r\n",
      "\r\n",
      "\u001b[34mdef\u001b[39;49;00m \u001b[32mget_pipeline_execution_id\u001b[39;49;00m(pipeline_name, codebuild_id):\r\n",
      "    codepipeline = boto3.client(\u001b[33m\"\u001b[39;49;00m\u001b[33mcodepipeline\u001b[39;49;00m\u001b[33m\"\u001b[39;49;00m)\r\n",
      "    response = codepipeline.get_pipeline_state(name=pipeline_name)\r\n",
      "    \u001b[34mfor\u001b[39;49;00m stage \u001b[35min\u001b[39;49;00m response[\u001b[33m\"\u001b[39;49;00m\u001b[33mstageStates\u001b[39;49;00m\u001b[33m\"\u001b[39;49;00m]:\r\n",
      "        \u001b[34mfor\u001b[39;49;00m action \u001b[35min\u001b[39;49;00m stage[\u001b[33m\"\u001b[39;49;00m\u001b[33mactionStates\u001b[39;49;00m\u001b[33m\"\u001b[39;49;00m]:\r\n",
      "            \u001b[37m# Return the matching stage with the same external id\u001b[39;49;00m\r\n",
      "            \u001b[34mif\u001b[39;49;00m (\r\n",
      "                \u001b[33m\"\u001b[39;49;00m\u001b[33mlatestExecution\u001b[39;49;00m\u001b[33m\"\u001b[39;49;00m \u001b[35min\u001b[39;49;00m action\r\n",
      "                \u001b[35mand\u001b[39;49;00m \u001b[33m\"\u001b[39;49;00m\u001b[33mexternalExecutionId\u001b[39;49;00m\u001b[33m\"\u001b[39;49;00m \u001b[35min\u001b[39;49;00m action[\u001b[33m\"\u001b[39;49;00m\u001b[33mlatestExecution\u001b[39;49;00m\u001b[33m\"\u001b[39;49;00m]\r\n",
      "                \u001b[35mand\u001b[39;49;00m action[\u001b[33m\"\u001b[39;49;00m\u001b[33mlatestExecution\u001b[39;49;00m\u001b[33m\"\u001b[39;49;00m][\u001b[33m\"\u001b[39;49;00m\u001b[33mexternalExecutionId\u001b[39;49;00m\u001b[33m\"\u001b[39;49;00m] == codebuild_id\r\n",
      "            ):\r\n",
      "                \u001b[34mreturn\u001b[39;49;00m stage[\u001b[33m\"\u001b[39;49;00m\u001b[33mlatestExecution\u001b[39;49;00m\u001b[33m\"\u001b[39;49;00m][\u001b[33m\"\u001b[39;49;00m\u001b[33mpipelineExecutionId\u001b[39;49;00m\u001b[33m\"\u001b[39;49;00m]\r\n",
      "\r\n",
      "\r\n",
      "\u001b[34mdef\u001b[39;49;00m \u001b[32mget_pipeline_revisions\u001b[39;49;00m(pipeline_name, execution_id):\r\n",
      "    codepipeline = boto3.client(\u001b[33m\"\u001b[39;49;00m\u001b[33mcodepipeline\u001b[39;49;00m\u001b[33m\"\u001b[39;49;00m)\r\n",
      "    response = codepipeline.get_pipeline_execution(\r\n",
      "        pipelineName=pipeline_name, pipelineExecutionId=execution_id\r\n",
      "    )\r\n",
      "    \u001b[34mreturn\u001b[39;49;00m \u001b[36mdict\u001b[39;49;00m(\r\n",
      "        (r[\u001b[33m\"\u001b[39;49;00m\u001b[33mname\u001b[39;49;00m\u001b[33m\"\u001b[39;49;00m], r[\u001b[33m\"\u001b[39;49;00m\u001b[33mrevisionId\u001b[39;49;00m\u001b[33m\"\u001b[39;49;00m]) \u001b[34mfor\u001b[39;49;00m r \u001b[35min\u001b[39;49;00m response[\u001b[33m\"\u001b[39;49;00m\u001b[33mpipelineExecution\u001b[39;49;00m\u001b[33m\"\u001b[39;49;00m][\u001b[33m\"\u001b[39;49;00m\u001b[33martifactRevisions\u001b[39;49;00m\u001b[33m\"\u001b[39;49;00m]\r\n",
      "    )\r\n",
      "\r\n",
      "\r\n",
      "\u001b[34mdef\u001b[39;49;00m \u001b[32mmain\u001b[39;49;00m(\r\n",
      "    git_branch,\r\n",
      "    codebuild_id,\r\n",
      "    pipeline_name,\r\n",
      "    model_name,\r\n",
      "    deploy_role,\r\n",
      "    sagemaker_role,\r\n",
      "    sagemaker_bucket,\r\n",
      "    data_dir,\r\n",
      "    output_dir,\r\n",
      "    ecr_dir,\r\n",
      "    kms_key_id,\r\n",
      "    workflow_role_arn,\r\n",
      "    notification_arn,\r\n",
      "):\r\n",
      "    \u001b[37m# Define the function names\u001b[39;49;00m\r\n",
      "    create_experiment_function_name = \u001b[33m\"\u001b[39;49;00m\u001b[33mmlops-create-experiment\u001b[39;49;00m\u001b[33m\"\u001b[39;49;00m\r\n",
      "    query_training_function_name = \u001b[33m\"\u001b[39;49;00m\u001b[33mmlops-query-training\u001b[39;49;00m\u001b[33m\"\u001b[39;49;00m\r\n",
      "\r\n",
      "    \u001b[37m# Get the region\u001b[39;49;00m\r\n",
      "    region = boto3.Session().region_name\r\n",
      "    \u001b[36mprint\u001b[39;49;00m(\u001b[33m\"\u001b[39;49;00m\u001b[33mregion: \u001b[39;49;00m\u001b[33m{}\u001b[39;49;00m\u001b[33m\"\u001b[39;49;00m.format(region))\r\n",
      "\r\n",
      "    \u001b[34mif\u001b[39;49;00m ecr_dir:\r\n",
      "        \u001b[37m# Load the image uri and input data config\u001b[39;49;00m\r\n",
      "        \u001b[34mwith\u001b[39;49;00m \u001b[36mopen\u001b[39;49;00m(os.path.join(ecr_dir, \u001b[33m\"\u001b[39;49;00m\u001b[33mimageDetail.json\u001b[39;49;00m\u001b[33m\"\u001b[39;49;00m), \u001b[33m\"\u001b[39;49;00m\u001b[33mr\u001b[39;49;00m\u001b[33m\"\u001b[39;49;00m) \u001b[34mas\u001b[39;49;00m f:\r\n",
      "            image_uri = json.load(f)[\u001b[33m\"\u001b[39;49;00m\u001b[33mImageURI\u001b[39;49;00m\u001b[33m\"\u001b[39;49;00m]\r\n",
      "    \u001b[34melse\u001b[39;49;00m:\r\n",
      "        \u001b[37m# Get the the managed image uri for current region\u001b[39;49;00m\r\n",
      "        image_uri = get_training_image(region)\r\n",
      "    \u001b[36mprint\u001b[39;49;00m(\u001b[33m\"\u001b[39;49;00m\u001b[33mimage uri: \u001b[39;49;00m\u001b[33m{}\u001b[39;49;00m\u001b[33m\"\u001b[39;49;00m.format(image_uri))\r\n",
      "\r\n",
      "    \u001b[34mwith\u001b[39;49;00m \u001b[36mopen\u001b[39;49;00m(os.path.join(data_dir, \u001b[33m\"\u001b[39;49;00m\u001b[33minputData.json\u001b[39;49;00m\u001b[33m\"\u001b[39;49;00m), \u001b[33m\"\u001b[39;49;00m\u001b[33mr\u001b[39;49;00m\u001b[33m\"\u001b[39;49;00m) \u001b[34mas\u001b[39;49;00m f:\r\n",
      "        input_data = json.load(f)\r\n",
      "        \u001b[36mprint\u001b[39;49;00m(\u001b[33m\"\u001b[39;49;00m\u001b[33mtraining uri: \u001b[39;49;00m\u001b[33m{}\u001b[39;49;00m\u001b[33m\"\u001b[39;49;00m.format(input_data[\u001b[33m\"\u001b[39;49;00m\u001b[33mTrainingUri\u001b[39;49;00m\u001b[33m\"\u001b[39;49;00m]))\r\n",
      "        \u001b[36mprint\u001b[39;49;00m(\u001b[33m\"\u001b[39;49;00m\u001b[33mvalidation uri: \u001b[39;49;00m\u001b[33m{}\u001b[39;49;00m\u001b[33m\"\u001b[39;49;00m.format(input_data[\u001b[33m\"\u001b[39;49;00m\u001b[33mValidationUri\u001b[39;49;00m\u001b[33m\"\u001b[39;49;00m]))\r\n",
      "        \u001b[36mprint\u001b[39;49;00m(\u001b[33m\"\u001b[39;49;00m\u001b[33mbaseline uri: \u001b[39;49;00m\u001b[33m{}\u001b[39;49;00m\u001b[33m\"\u001b[39;49;00m.format(input_data[\u001b[33m\"\u001b[39;49;00m\u001b[33mBaselineUri\u001b[39;49;00m\u001b[33m\"\u001b[39;49;00m]))\r\n",
      "\r\n",
      "    \u001b[37m# Get the job id and source revisions\u001b[39;49;00m\r\n",
      "    job_id = get_pipeline_execution_id(pipeline_name, codebuild_id)\r\n",
      "    revisions = get_pipeline_revisions(pipeline_name, job_id)\r\n",
      "    git_commit_id = revisions[\u001b[33m\"\u001b[39;49;00m\u001b[33mModelSourceOutput\u001b[39;49;00m\u001b[33m\"\u001b[39;49;00m]\r\n",
      "    data_verison_id = revisions[\u001b[33m\"\u001b[39;49;00m\u001b[33mDataSourceOutput\u001b[39;49;00m\u001b[33m\"\u001b[39;49;00m]\r\n",
      "    \u001b[36mprint\u001b[39;49;00m(\u001b[33m\"\u001b[39;49;00m\u001b[33mjob id: \u001b[39;49;00m\u001b[33m{}\u001b[39;49;00m\u001b[33m\"\u001b[39;49;00m.format(job_id))\r\n",
      "    \u001b[36mprint\u001b[39;49;00m(\u001b[33m\"\u001b[39;49;00m\u001b[33mgit commit: \u001b[39;49;00m\u001b[33m{}\u001b[39;49;00m\u001b[33m\"\u001b[39;49;00m.format(git_commit_id))\r\n",
      "    \u001b[36mprint\u001b[39;49;00m(\u001b[33m\"\u001b[39;49;00m\u001b[33mdata version: \u001b[39;49;00m\u001b[33m{}\u001b[39;49;00m\u001b[33m\"\u001b[39;49;00m.format(data_verison_id))\r\n",
      "\r\n",
      "    \u001b[37m# Set the output Data\u001b[39;49;00m\r\n",
      "    output_data = {\r\n",
      "        \u001b[33m\"\u001b[39;49;00m\u001b[33mModelOutputUri\u001b[39;49;00m\u001b[33m\"\u001b[39;49;00m: \u001b[33m\"\u001b[39;49;00m\u001b[33ms3://\u001b[39;49;00m\u001b[33m{}\u001b[39;49;00m\u001b[33m/\u001b[39;49;00m\u001b[33m{}\u001b[39;49;00m\u001b[33m\"\u001b[39;49;00m.format(sagemaker_bucket, model_name),\r\n",
      "        \u001b[33m\"\u001b[39;49;00m\u001b[33mBaselineOutputUri\u001b[39;49;00m\u001b[33m\"\u001b[39;49;00m: \u001b[33mf\u001b[39;49;00m\u001b[33m\"\u001b[39;49;00m\u001b[33ms3://\u001b[39;49;00m\u001b[33m{\u001b[39;49;00msagemaker_bucket\u001b[33m}\u001b[39;49;00m\u001b[33m/\u001b[39;49;00m\u001b[33m{\u001b[39;49;00mmodel_name\u001b[33m}\u001b[39;49;00m\u001b[33m/monitoring/baseline/mlops-\u001b[39;49;00m\u001b[33m{\u001b[39;49;00mmodel_name\u001b[33m}\u001b[39;49;00m\u001b[33m-pbl-\u001b[39;49;00m\u001b[33m{\u001b[39;49;00mjob_id\u001b[33m}\u001b[39;49;00m\u001b[33m\"\u001b[39;49;00m,\r\n",
      "    }\r\n",
      "    \u001b[36mprint\u001b[39;49;00m(\u001b[33m\"\u001b[39;49;00m\u001b[33mmodel output uri: \u001b[39;49;00m\u001b[33m{}\u001b[39;49;00m\u001b[33m\"\u001b[39;49;00m.format(output_data[\u001b[33m\"\u001b[39;49;00m\u001b[33mModelOutputUri\u001b[39;49;00m\u001b[33m\"\u001b[39;49;00m]))\r\n",
      "\r\n",
      "    \u001b[37m# Pass these into the training method\u001b[39;49;00m\r\n",
      "    hyperparameters = {}\r\n",
      "    \u001b[34mif\u001b[39;49;00m os.path.exists(os.path.join(data_dir, \u001b[33m\"\u001b[39;49;00m\u001b[33mhyperparameters.json\u001b[39;49;00m\u001b[33m\"\u001b[39;49;00m)):\r\n",
      "        \u001b[34mwith\u001b[39;49;00m \u001b[36mopen\u001b[39;49;00m(os.path.join(data_dir, \u001b[33m\"\u001b[39;49;00m\u001b[33mhyperparameters.json\u001b[39;49;00m\u001b[33m\"\u001b[39;49;00m), \u001b[33m\"\u001b[39;49;00m\u001b[33mr\u001b[39;49;00m\u001b[33m\"\u001b[39;49;00m) \u001b[34mas\u001b[39;49;00m f:\r\n",
      "            hyperparameters = json.load(f)\r\n",
      "            \u001b[34mfor\u001b[39;49;00m i \u001b[35min\u001b[39;49;00m hyperparameters:\r\n",
      "                hyperparameters[i] = \u001b[36mstr\u001b[39;49;00m(hyperparameters[i])\r\n",
      "\r\n",
      "    \u001b[37m# Define the step functions execution input schema\u001b[39;49;00m\r\n",
      "    execution_input = ExecutionInput(\r\n",
      "        schema={\r\n",
      "            \u001b[33m\"\u001b[39;49;00m\u001b[33mGitBranch\u001b[39;49;00m\u001b[33m\"\u001b[39;49;00m: \u001b[36mstr\u001b[39;49;00m,\r\n",
      "            \u001b[33m\"\u001b[39;49;00m\u001b[33mGitCommitHash\u001b[39;49;00m\u001b[33m\"\u001b[39;49;00m: \u001b[36mstr\u001b[39;49;00m,\r\n",
      "            \u001b[33m\"\u001b[39;49;00m\u001b[33mDataVersionId\u001b[39;49;00m\u001b[33m\"\u001b[39;49;00m: \u001b[36mstr\u001b[39;49;00m,\r\n",
      "            \u001b[33m\"\u001b[39;49;00m\u001b[33mExperimentName\u001b[39;49;00m\u001b[33m\"\u001b[39;49;00m: \u001b[36mstr\u001b[39;49;00m,\r\n",
      "            \u001b[33m\"\u001b[39;49;00m\u001b[33mTrialName\u001b[39;49;00m\u001b[33m\"\u001b[39;49;00m: \u001b[36mstr\u001b[39;49;00m,\r\n",
      "            \u001b[33m\"\u001b[39;49;00m\u001b[33mBaselineJobName\u001b[39;49;00m\u001b[33m\"\u001b[39;49;00m: \u001b[36mstr\u001b[39;49;00m,\r\n",
      "            \u001b[33m\"\u001b[39;49;00m\u001b[33mBaselineOutputUri\u001b[39;49;00m\u001b[33m\"\u001b[39;49;00m: \u001b[36mstr\u001b[39;49;00m,\r\n",
      "            \u001b[33m\"\u001b[39;49;00m\u001b[33mTrainingJobName\u001b[39;49;00m\u001b[33m\"\u001b[39;49;00m: \u001b[36mstr\u001b[39;49;00m,\r\n",
      "        }\r\n",
      "    )\r\n",
      "\r\n",
      "    \u001b[37m# Create experiment step\u001b[39;49;00m\r\n",
      "    experiment_step = create_experiment_step(create_experiment_function_name)\r\n",
      "    baseline_step = create_baseline_step(input_data, execution_input, region, sagemaker_role)\r\n",
      "    training_step = create_training_step(\r\n",
      "        image_uri,\r\n",
      "        hyperparameters,\r\n",
      "        input_data,\r\n",
      "        output_data,\r\n",
      "        execution_input,\r\n",
      "        query_training_function_name,\r\n",
      "        region,\r\n",
      "        sagemaker_role,\r\n",
      "    )\r\n",
      "    workflow_definition = create_graph(experiment_step, baseline_step, training_step)\r\n",
      "\r\n",
      "    \u001b[37m# Create the workflow as the model name\u001b[39;49;00m\r\n",
      "    workflow = Workflow(model_name, workflow_definition, workflow_role_arn)\r\n",
      "    \u001b[36mprint\u001b[39;49;00m(\u001b[33m\"\u001b[39;49;00m\u001b[33mCreating workflow: \u001b[39;49;00m\u001b[33m{}\u001b[39;49;00m\u001b[33m\"\u001b[39;49;00m.format(model_name))\r\n",
      "\r\n",
      "    \u001b[37m# Create output directory\u001b[39;49;00m\r\n",
      "    \u001b[34mif\u001b[39;49;00m \u001b[35mnot\u001b[39;49;00m os.path.exists(output_dir):\r\n",
      "        os.mkdir(output_dir)\r\n",
      "\r\n",
      "    \u001b[37m# Write the workflow graph to json\u001b[39;49;00m\r\n",
      "    \u001b[34mwith\u001b[39;49;00m \u001b[36mopen\u001b[39;49;00m(os.path.join(output_dir, \u001b[33m\"\u001b[39;49;00m\u001b[33mworkflow-graph.json\u001b[39;49;00m\u001b[33m\"\u001b[39;49;00m), \u001b[33m\"\u001b[39;49;00m\u001b[33mw\u001b[39;49;00m\u001b[33m\"\u001b[39;49;00m) \u001b[34mas\u001b[39;49;00m f:\r\n",
      "        f.write(workflow.definition.to_json(pretty=\u001b[34mTrue\u001b[39;49;00m))\r\n",
      "\r\n",
      "    \u001b[37m# Write the workflow graph to yml\u001b[39;49;00m\r\n",
      "    \u001b[34mwith\u001b[39;49;00m \u001b[36mopen\u001b[39;49;00m(os.path.join(output_dir, \u001b[33m\"\u001b[39;49;00m\u001b[33mworkflow-graph.yml\u001b[39;49;00m\u001b[33m\"\u001b[39;49;00m), \u001b[33m\"\u001b[39;49;00m\u001b[33mw\u001b[39;49;00m\u001b[33m\"\u001b[39;49;00m) \u001b[34mas\u001b[39;49;00m f:\r\n",
      "        f.write(workflow.get_cloudformation_template())\r\n",
      "\r\n",
      "    \u001b[37m# Write the workflow inputs to file\u001b[39;49;00m\r\n",
      "    \u001b[34mwith\u001b[39;49;00m \u001b[36mopen\u001b[39;49;00m(os.path.join(output_dir, \u001b[33m\"\u001b[39;49;00m\u001b[33mworkflow-input.json\u001b[39;49;00m\u001b[33m\"\u001b[39;49;00m), \u001b[33m\"\u001b[39;49;00m\u001b[33mw\u001b[39;49;00m\u001b[33m\"\u001b[39;49;00m) \u001b[34mas\u001b[39;49;00m f:\r\n",
      "        workflow_inputs = {\r\n",
      "            \u001b[33m\"\u001b[39;49;00m\u001b[33mExperimentName\u001b[39;49;00m\u001b[33m\"\u001b[39;49;00m: \u001b[33m\"\u001b[39;49;00m\u001b[33mmlops-\u001b[39;49;00m\u001b[33m{}\u001b[39;49;00m\u001b[33m\"\u001b[39;49;00m.format(model_name),\r\n",
      "            \u001b[33m\"\u001b[39;49;00m\u001b[33mTrialName\u001b[39;49;00m\u001b[33m\"\u001b[39;49;00m: \u001b[33m\"\u001b[39;49;00m\u001b[33mmlops-\u001b[39;49;00m\u001b[33m{}\u001b[39;49;00m\u001b[33m-\u001b[39;49;00m\u001b[33m{}\u001b[39;49;00m\u001b[33m\"\u001b[39;49;00m.format(model_name, job_id),\r\n",
      "            \u001b[33m\"\u001b[39;49;00m\u001b[33mGitBranch\u001b[39;49;00m\u001b[33m\"\u001b[39;49;00m: git_branch,\r\n",
      "            \u001b[33m\"\u001b[39;49;00m\u001b[33mGitCommitHash\u001b[39;49;00m\u001b[33m\"\u001b[39;49;00m: git_commit_id,\r\n",
      "            \u001b[33m\"\u001b[39;49;00m\u001b[33mDataVersionId\u001b[39;49;00m\u001b[33m\"\u001b[39;49;00m: data_verison_id,\r\n",
      "            \u001b[33m\"\u001b[39;49;00m\u001b[33mBaselineJobName\u001b[39;49;00m\u001b[33m\"\u001b[39;49;00m: \u001b[33m\"\u001b[39;49;00m\u001b[33mmlops-\u001b[39;49;00m\u001b[33m{}\u001b[39;49;00m\u001b[33m-pbl-\u001b[39;49;00m\u001b[33m{}\u001b[39;49;00m\u001b[33m\"\u001b[39;49;00m.format(model_name, job_id),\r\n",
      "            \u001b[33m\"\u001b[39;49;00m\u001b[33mBaselineOutputUri\u001b[39;49;00m\u001b[33m\"\u001b[39;49;00m: output_data[\u001b[33m\"\u001b[39;49;00m\u001b[33mBaselineOutputUri\u001b[39;49;00m\u001b[33m\"\u001b[39;49;00m],\r\n",
      "            \u001b[33m\"\u001b[39;49;00m\u001b[33mTrainingJobName\u001b[39;49;00m\u001b[33m\"\u001b[39;49;00m: \u001b[33m\"\u001b[39;49;00m\u001b[33mmlops-\u001b[39;49;00m\u001b[33m{}\u001b[39;49;00m\u001b[33m-\u001b[39;49;00m\u001b[33m{}\u001b[39;49;00m\u001b[33m\"\u001b[39;49;00m.format(model_name, job_id),\r\n",
      "        }\r\n",
      "        json.dump(workflow_inputs, f)\r\n",
      "\r\n",
      "    \u001b[37m# Write the dev & prod params for CFN\u001b[39;49;00m\r\n",
      "    \u001b[34mwith\u001b[39;49;00m \u001b[36mopen\u001b[39;49;00m(os.path.join(output_dir, \u001b[33m\"\u001b[39;49;00m\u001b[33mdeploy-model-dev.json\u001b[39;49;00m\u001b[33m\"\u001b[39;49;00m), \u001b[33m\"\u001b[39;49;00m\u001b[33mw\u001b[39;49;00m\u001b[33m\"\u001b[39;49;00m) \u001b[34mas\u001b[39;49;00m f:\r\n",
      "        config = get_dev_config(model_name, job_id, deploy_role, image_uri, kms_key_id)\r\n",
      "        json.dump(config, f)\r\n",
      "    \u001b[34mwith\u001b[39;49;00m \u001b[36mopen\u001b[39;49;00m(os.path.join(output_dir, \u001b[33m\"\u001b[39;49;00m\u001b[33mdeploy-model-prd.json\u001b[39;49;00m\u001b[33m\"\u001b[39;49;00m), \u001b[33m\"\u001b[39;49;00m\u001b[33mw\u001b[39;49;00m\u001b[33m\"\u001b[39;49;00m) \u001b[34mas\u001b[39;49;00m f:\r\n",
      "        config = get_prd_config(\r\n",
      "            model_name, job_id, deploy_role, image_uri, kms_key_id, notification_arn\r\n",
      "        )\r\n",
      "        json.dump(config, f)\r\n",
      "\r\n",
      "\r\n",
      "\u001b[34mif\u001b[39;49;00m \u001b[31m__name__\u001b[39;49;00m == \u001b[33m\"\u001b[39;49;00m\u001b[33m__main__\u001b[39;49;00m\u001b[33m\"\u001b[39;49;00m:\r\n",
      "    parser = argparse.ArgumentParser(description=\u001b[33m\"\u001b[39;49;00m\u001b[33mLoad parameters\u001b[39;49;00m\u001b[33m\"\u001b[39;49;00m)\r\n",
      "    parser.add_argument(\u001b[33m\"\u001b[39;49;00m\u001b[33m--codebuild-id\u001b[39;49;00m\u001b[33m\"\u001b[39;49;00m, required=\u001b[34mTrue\u001b[39;49;00m)\r\n",
      "    parser.add_argument(\u001b[33m\"\u001b[39;49;00m\u001b[33m--data-dir\u001b[39;49;00m\u001b[33m\"\u001b[39;49;00m, required=\u001b[34mTrue\u001b[39;49;00m)\r\n",
      "    parser.add_argument(\u001b[33m\"\u001b[39;49;00m\u001b[33m--output-dir\u001b[39;49;00m\u001b[33m\"\u001b[39;49;00m, required=\u001b[34mTrue\u001b[39;49;00m)\r\n",
      "    parser.add_argument(\u001b[33m\"\u001b[39;49;00m\u001b[33m--ecr-dir\u001b[39;49;00m\u001b[33m\"\u001b[39;49;00m, required=\u001b[34mFalse\u001b[39;49;00m)\r\n",
      "    parser.add_argument(\u001b[33m\"\u001b[39;49;00m\u001b[33m--pipeline-name\u001b[39;49;00m\u001b[33m\"\u001b[39;49;00m, required=\u001b[34mTrue\u001b[39;49;00m)\r\n",
      "    parser.add_argument(\u001b[33m\"\u001b[39;49;00m\u001b[33m--model-name\u001b[39;49;00m\u001b[33m\"\u001b[39;49;00m, required=\u001b[34mTrue\u001b[39;49;00m)\r\n",
      "    parser.add_argument(\u001b[33m\"\u001b[39;49;00m\u001b[33m--deploy-role\u001b[39;49;00m\u001b[33m\"\u001b[39;49;00m, required=\u001b[34mTrue\u001b[39;49;00m)\r\n",
      "    parser.add_argument(\u001b[33m\"\u001b[39;49;00m\u001b[33m--sagemaker-role\u001b[39;49;00m\u001b[33m\"\u001b[39;49;00m, required=\u001b[34mTrue\u001b[39;49;00m)\r\n",
      "    parser.add_argument(\u001b[33m\"\u001b[39;49;00m\u001b[33m--sagemaker-bucket\u001b[39;49;00m\u001b[33m\"\u001b[39;49;00m, required=\u001b[34mTrue\u001b[39;49;00m)\r\n",
      "    parser.add_argument(\u001b[33m\"\u001b[39;49;00m\u001b[33m--kms-key-id\u001b[39;49;00m\u001b[33m\"\u001b[39;49;00m, required=\u001b[34mTrue\u001b[39;49;00m)\r\n",
      "    parser.add_argument(\u001b[33m\"\u001b[39;49;00m\u001b[33m--git-branch\u001b[39;49;00m\u001b[33m\"\u001b[39;49;00m, required=\u001b[34mTrue\u001b[39;49;00m)\r\n",
      "    parser.add_argument(\u001b[33m\"\u001b[39;49;00m\u001b[33m--workflow-role-arn\u001b[39;49;00m\u001b[33m\"\u001b[39;49;00m, required=\u001b[34mTrue\u001b[39;49;00m)\r\n",
      "    parser.add_argument(\u001b[33m\"\u001b[39;49;00m\u001b[33m--notification-arn\u001b[39;49;00m\u001b[33m\"\u001b[39;49;00m, required=\u001b[34mTrue\u001b[39;49;00m)\r\n",
      "    args = \u001b[36mvars\u001b[39;49;00m(parser.parse_args())\r\n",
      "    \u001b[36mprint\u001b[39;49;00m(\u001b[33m\"\u001b[39;49;00m\u001b[33margs: \u001b[39;49;00m\u001b[33m{}\u001b[39;49;00m\u001b[33m\"\u001b[39;49;00m.format(args))\r\n",
      "    main(**args)\r\n"
     ]
    }
   ],
   "source": [
    "!pygmentize ../model/run.py"
   ]
  },
  {
   "cell_type": "markdown",
   "metadata": {},
   "source": [
    "### Customize Workflow (Optional)\n",
    "\n",
    "Si está interesado en personalizar el workflow utilizado en el script de compilación (build), almacene los `input_data` que se utilizarán en el notebook local [workflow.ipynb](workflow.ipynb). El notebook \"workflow\" se puede utilizar para experimentar con el flujo de trabajo de Step Functions y las definiciones del job de entrenamiento para su modelo."
   ]
  },
  {
   "cell_type": "code",
   "execution_count": 25,
   "metadata": {
    "scrolled": true
   },
   "outputs": [
    {
     "name": "stdout",
     "output_type": "stream",
     "text": [
      "Stored 'input_data' (dict)\n"
     ]
    }
   ],
   "source": [
    "%store input_data"
   ]
  },
  {
   "cell_type": "markdown",
   "metadata": {},
   "source": [
    "### Training Analytics\n",
    "\n",
    "Una vez que se completan los trabajos de entrenamiento y del baseline (lo que significa que se muestran en color verde en el workflow de Step Functions, esto toma alrededor de 5 minutos), puede inspeccionar las métricas del experimento. El siguiente código mostrará todos los experimentos en una tabla. Tenga en cuenta que el trabajo de procesamiento del baseline (línea base) no tendrá métricas de RMSE: calcula las métricas en función de los datos de entrenamiento, pero no entrena un modelo de machine learning.\n",
    "\n",
    "Se puede [explorar los resultados del baseline](#Explorar-Baseline) después. <a id=\"validation-results\"></a>"
   ]
  },
  {
   "cell_type": "code",
   "execution_count": 26,
   "metadata": {},
   "outputs": [
    {
     "data": {
      "text/html": [
       "<div>\n",
       "<style scoped>\n",
       "    .dataframe tbody tr th:only-of-type {\n",
       "        vertical-align: middle;\n",
       "    }\n",
       "\n",
       "    .dataframe tbody tr th {\n",
       "        vertical-align: top;\n",
       "    }\n",
       "\n",
       "    .dataframe thead th {\n",
       "        text-align: right;\n",
       "    }\n",
       "</style>\n",
       "<table border=\"1\" class=\"dataframe\">\n",
       "  <thead>\n",
       "    <tr style=\"text-align: right;\">\n",
       "      <th></th>\n",
       "      <th>TrialComponentName</th>\n",
       "      <th>DisplayName</th>\n",
       "      <th>SageMaker.InstanceType</th>\n",
       "      <th>train:rmse - Last</th>\n",
       "      <th>validation:rmse - Last</th>\n",
       "    </tr>\n",
       "  </thead>\n",
       "  <tbody>\n",
       "    <tr>\n",
       "      <th>0</th>\n",
       "      <td>mlops-nyctaxi-pbl-8088d44e-e8ce-4936-a0c4-97e41805f817-aws-processing-job</td>\n",
       "      <td>Baseline</td>\n",
       "      <td>ml.m5.xlarge</td>\n",
       "      <td>NaN</td>\n",
       "      <td>NaN</td>\n",
       "    </tr>\n",
       "    <tr>\n",
       "      <th>1</th>\n",
       "      <td>mlops-nyctaxi-8088d44e-e8ce-4936-a0c4-97e41805f817-aws-training-job</td>\n",
       "      <td>Training</td>\n",
       "      <td>ml.m4.xlarge</td>\n",
       "      <td>2.69577</td>\n",
       "      <td>2.74035</td>\n",
       "    </tr>\n",
       "  </tbody>\n",
       "</table>\n",
       "</div>"
      ],
      "text/plain": [
       "                                                          TrialComponentName  \\\n",
       "0  mlops-nyctaxi-pbl-8088d44e-e8ce-4936-a0c4-97e41805f817-aws-processing-job   \n",
       "1        mlops-nyctaxi-8088d44e-e8ce-4936-a0c4-97e41805f817-aws-training-job   \n",
       "\n",
       "  DisplayName SageMaker.InstanceType  train:rmse - Last  \\\n",
       "0    Baseline           ml.m5.xlarge                NaN   \n",
       "1    Training           ml.m4.xlarge            2.69577   \n",
       "\n",
       "   validation:rmse - Last  \n",
       "0                     NaN  \n",
       "1                 2.74035  "
      ]
     },
     "execution_count": 26,
     "metadata": {},
     "output_type": "execute_result"
    }
   ],
   "source": [
    "from sagemaker import analytics\n",
    "experiment_name = 'mlops-{}'.format(model_name)\n",
    "model_analytics = analytics.ExperimentAnalytics(experiment_name=experiment_name)\n",
    "analytics_df = model_analytics.dataframe()\n",
    "\n",
    "if (analytics_df.shape[0] == 0):\n",
    "    raise(Exception('Please wait.  No training or baseline jobs'))\n",
    "\n",
    "pd.set_option('display.max_colwidth', 100) # Increase column width to show full copmontent name\n",
    "cols = ['TrialComponentName', 'DisplayName', 'SageMaker.InstanceType', \n",
    "        'train:rmse - Last', 'validation:rmse - Last'] # return the last rmse for training and validation\n",
    "analytics_df[analytics_df.columns & cols].head(2)"
   ]
  },
  {
   "cell_type": "markdown",
   "metadata": {},
   "source": [
    "## Deploy Dev\n",
    "\n",
    "### Test Dev Deployment\n",
    "\n",
    "Cuando el pipeline ha terminado de entrenar un modelo, pasa automáticamente al siguiente paso, donde el modelo se implementa como un endpoint de SageMaker. Este endpoint es parte de la implementación de desarrollo, por lo tanto, en esta sección, ejecutaremos algunas pruebas en el endpoint para decidir si deseamos implementar este modelo en producción.\n",
    "\n",
    "Primero, ejecutamos la celda a continuación para buscar el nombre del SageMaker Endpoint."
   ]
  },
  {
   "cell_type": "code",
   "execution_count": 27,
   "metadata": {},
   "outputs": [
    {
     "name": "stdout",
     "output_type": "stream",
     "text": [
      "endpoint name: mlops-nyctaxi-dev-8088d44e-e8ce-4936-a0c4-97e41805f817\n"
     ]
    }
   ],
   "source": [
    "codepipeline = boto3.client('codepipeline')\n",
    "\n",
    "deploy_dev = get_pipeline_stage(pipeline_name, 'DeployDev')\n",
    "if not 'latestExecution' in deploy_dev:\n",
    "    raise(Exception('Please wait.  Deploy dev not started'))\n",
    "    \n",
    "execution_id = deploy_dev['latestExecution']['pipelineExecutionId']\n",
    "dev_endpoint_name = 'mlops-{}-dev-{}'.format(model_name, execution_id)\n",
    "\n",
    "print('endpoint name: {}'.format(dev_endpoint_name))"
   ]
  },
  {
   "cell_type": "markdown",
   "metadata": {},
   "source": [
    "Si pasamos por la sección anterior muy rápidamente, deberemos esperar hasta que el endpoint de desarrollo se haya implementado con éxito y el pipeline esté esperando la aprobación para implementar en producción (ver captura de pantalla). SageMaker puede tardar hasta 10 minutos en crear un punto final.\n",
    "\n",
    "![Deploying dev endpoint in code pipeline](../docs/dev-deploy-ready.png)\n",
    "\n",
    "Alternativamente, ejecutaremos el código a continuación para verificar el estado del endpoint. Esperamos hasta que el estado sea 'InService'."
   ]
  },
  {
   "cell_type": "code",
   "execution_count": 28,
   "metadata": {},
   "outputs": [
    {
     "name": "stdout",
     "output_type": "stream",
     "text": [
      "Endpoint status: Creating\n",
      "Endpoint status: Creating\n",
      "Endpoint status: Creating\n",
      "Endpoint status: Creating\n",
      "Endpoint status: Creating\n",
      "Endpoint status: Creating\n",
      "Endpoint status: Creating\n",
      "Endpoint status: Creating\n",
      "Endpoint status: Creating\n",
      "Endpoint status: Creating\n",
      "Endpoint status: Creating\n",
      "Endpoint status: Creating\n",
      "Endpoint status: Creating\n",
      "Endpoint status: Creating\n",
      "Endpoint status: Creating\n",
      "Endpoint status: Creating\n",
      "Endpoint status: Creating\n",
      "Endpoint status: Creating\n",
      "Endpoint status: Creating\n",
      "Endpoint status: Creating\n",
      "Endpoint status: Creating\n",
      "Endpoint status: Creating\n",
      "Endpoint status: Creating\n",
      "Endpoint status: Creating\n",
      "Endpoint status: Creating\n",
      "Endpoint status: Creating\n",
      "Endpoint status: Creating\n",
      "Endpoint status: Creating\n",
      "Endpoint status: Creating\n",
      "Endpoint status: Creating\n",
      "Endpoint status: Creating\n",
      "Endpoint status: Creating\n",
      "Endpoint status: Creating\n",
      "Endpoint status: Creating\n",
      "Endpoint status: Creating\n",
      "Endpoint status: Creating\n",
      "Endpoint status: Creating\n",
      "Endpoint status: Creating\n",
      "Endpoint status: Creating\n",
      "Endpoint status: Creating\n",
      "Endpoint status: Creating\n",
      "Endpoint status: Creating\n",
      "Endpoint status: Creating\n",
      "Endpoint status: Creating\n",
      "Endpoint status: Creating\n",
      "Endpoint status: Creating\n",
      "Endpoint status: Creating\n",
      "Endpoint status: Creating\n",
      "Endpoint status: Creating\n",
      "Endpoint status: Creating\n",
      "Endpoint status: Creating\n",
      "Endpoint status: Creating\n",
      "Endpoint status: Creating\n",
      "Endpoint status: Creating\n",
      "Endpoint status: Creating\n",
      "Endpoint status: Creating\n",
      "Endpoint status: Creating\n",
      "Endpoint status: InService\n"
     ]
    }
   ],
   "source": [
    "sm = boto3.client('sagemaker')\n",
    "\n",
    "while True:\n",
    "    try:\n",
    "        response = sm.describe_endpoint(EndpointName=dev_endpoint_name)\n",
    "        print(\"Endpoint status: {}\".format(response['EndpointStatus']))\n",
    "        if response['EndpointStatus'] == 'InService':\n",
    "            break\n",
    "    except ClientError as e:\n",
    "        print(e.response[\"Error\"][\"Message\"])\n",
    "    time.sleep(10)"
   ]
  },
  {
   "cell_type": "markdown",
   "metadata": {},
   "source": [
    "Ahora que el endpoint está listo, escribamos un código para ejecutar los datos de prueba (que separamos aneriormente del conjunto de datos y se guardó en un archivo al comienzo de este notebook) a través del endpoint de inferencia. El siguiente código es compatible con la v1 y la v2 del SDK de SageMaker, pero recomendamos utilizar la v2 del SDK en todos sus proyectos futuros."
   ]
  },
  {
   "cell_type": "code",
   "execution_count": 29,
   "metadata": {},
   "outputs": [],
   "source": [
    "import numpy as np\n",
    "from tqdm import tqdm\n",
    "\n",
    "try:\n",
    "    # Support SageMaker v2 SDK: https://sagemaker.readthedocs.io/en/stable/v2.html\n",
    "    from sagemaker.predictor import Predictor\n",
    "    from sagemaker.serializers import CSVSerializer\n",
    "    def get_predictor(endpoint_name):\n",
    "        xgb_predictor = Predictor(endpoint_name)\n",
    "        xgb_predictor.serializer = CSVSerializer()\n",
    "        return xgb_predictor\n",
    "except:\n",
    "    # Fallback to SageMaker v1.70 SDK\n",
    "    from sagemaker.predictor import RealTimePredictor, csv_serializer\n",
    "    def get_predictor(endpoint_name):\n",
    "        xgb_predictor = RealTimePredictor(endpoint_name)\n",
    "        xgb_predictor.content_type = 'text/csv'\n",
    "        xgb_predictor.serializer = csv_serializer\n",
    "        return xgb_predictor\n",
    "\n",
    "def predict(predictor, data, rows=500):\n",
    "    split_array = np.array_split(data, round(data.shape[0] / float(rows)))\n",
    "    predictions = ''\n",
    "    for array in tqdm(split_array):\n",
    "        predictions = ','.join([predictions, predictor.predict(array).decode('utf-8')])\n",
    "    return np.fromstring(predictions[1:], sep=',')"
   ]
  },
  {
   "cell_type": "markdown",
   "metadata": {},
   "source": [
    "Ahora usamos la función `predecir`, que se definió en el código anterior, para ejecutar los datos de prueba a través del endpoint y generar las predicciones."
   ]
  },
  {
   "cell_type": "code",
   "execution_count": 30,
   "metadata": {},
   "outputs": [
    {
     "name": "stderr",
     "output_type": "stream",
     "text": [
      "100%|██████████| 15/15 [00:00<00:00, 29.15it/s]\n"
     ]
    }
   ],
   "source": [
    "dev_predictor = get_predictor(dev_endpoint_name)\n",
    "predictions = predict(dev_predictor, test_df[test_df.columns[1:]].values)"
   ]
  },
  {
   "cell_type": "markdown",
   "metadata": {},
   "source": [
    "A continuación, cargamos las predicciones en un dataframe y las unimos con los datos de prueba. Luego, calculamos el error absoluto como la diferencia entre la tarifa real del taxi y la tarifa prevista del taxi. Mostramos los resultados en una tabla, ordenados por los valores de error absoluto más altos."
   ]
  },
  {
   "cell_type": "code",
   "execution_count": 31,
   "metadata": {},
   "outputs": [
    {
     "data": {
      "text/html": [
       "<div>\n",
       "<style scoped>\n",
       "    .dataframe tbody tr th:only-of-type {\n",
       "        vertical-align: middle;\n",
       "    }\n",
       "\n",
       "    .dataframe tbody tr th {\n",
       "        vertical-align: top;\n",
       "    }\n",
       "\n",
       "    .dataframe thead th {\n",
       "        text-align: right;\n",
       "    }\n",
       "</style>\n",
       "<table border=\"1\" class=\"dataframe\">\n",
       "  <thead>\n",
       "    <tr style=\"text-align: right;\">\n",
       "      <th></th>\n",
       "      <th>total_amount</th>\n",
       "      <th>duration_minutes</th>\n",
       "      <th>passenger_count</th>\n",
       "      <th>trip_distance</th>\n",
       "      <th>total_amount_predictions</th>\n",
       "      <th>error</th>\n",
       "    </tr>\n",
       "  </thead>\n",
       "  <tbody>\n",
       "    <tr>\n",
       "      <th>6055</th>\n",
       "      <td>95.8</td>\n",
       "      <td>15.000000</td>\n",
       "      <td>5</td>\n",
       "      <td>3.50</td>\n",
       "      <td>16.288776</td>\n",
       "      <td>79.511224</td>\n",
       "    </tr>\n",
       "    <tr>\n",
       "      <th>4847</th>\n",
       "      <td>85.0</td>\n",
       "      <td>43.683333</td>\n",
       "      <td>8</td>\n",
       "      <td>4.54</td>\n",
       "      <td>30.932413</td>\n",
       "      <td>54.067587</td>\n",
       "    </tr>\n",
       "    <tr>\n",
       "      <th>5174</th>\n",
       "      <td>52.8</td>\n",
       "      <td>0.616667</td>\n",
       "      <td>1</td>\n",
       "      <td>0.20</td>\n",
       "      <td>6.562790</td>\n",
       "      <td>46.237210</td>\n",
       "    </tr>\n",
       "    <tr>\n",
       "      <th>4842</th>\n",
       "      <td>52.8</td>\n",
       "      <td>0.416667</td>\n",
       "      <td>1</td>\n",
       "      <td>0.02</td>\n",
       "      <td>7.555273</td>\n",
       "      <td>45.244727</td>\n",
       "    </tr>\n",
       "    <tr>\n",
       "      <th>3211</th>\n",
       "      <td>52.8</td>\n",
       "      <td>6.333333</td>\n",
       "      <td>1</td>\n",
       "      <td>0.90</td>\n",
       "      <td>7.804719</td>\n",
       "      <td>44.995281</td>\n",
       "    </tr>\n",
       "  </tbody>\n",
       "</table>\n",
       "</div>"
      ],
      "text/plain": [
       "      total_amount  duration_minutes  passenger_count  trip_distance  \\\n",
       "6055          95.8         15.000000                5           3.50   \n",
       "4847          85.0         43.683333                8           4.54   \n",
       "5174          52.8          0.616667                1           0.20   \n",
       "4842          52.8          0.416667                1           0.02   \n",
       "3211          52.8          6.333333                1           0.90   \n",
       "\n",
       "      total_amount_predictions      error  \n",
       "6055                 16.288776  79.511224  \n",
       "4847                 30.932413  54.067587  \n",
       "5174                  6.562790  46.237210  \n",
       "4842                  7.555273  45.244727  \n",
       "3211                  7.804719  44.995281  "
      ]
     },
     "execution_count": 31,
     "metadata": {},
     "output_type": "execute_result"
    }
   ],
   "source": [
    "pred_df = pd.DataFrame({'total_amount_predictions': predictions })\n",
    "pred_df = test_df.join(pred_df) # Join on all\n",
    "pred_df['error'] = abs(pred_df['total_amount']-pred_df['total_amount_predictions'])\n",
    "\n",
    "pred_df.sort_values('error', ascending=False).head()"
   ]
  },
  {
   "cell_type": "markdown",
   "metadata": {},
   "source": [
    "En esta tabla, observamos que algunas distancias de viaje cortas tienen grandes errores porque la tarifa baja prevista no coincide con la tarifa real alta. Esto podría ser el resultado de una generosa propina que no hemos incluido en este conjunto de datos.\n",
    "\n",
    "También puede analizar los resultados trazando el error absoluto para visualizar valores atípicos. En este gráfico, vemos que la mayoría de los valores atípicos son casos en los que el modelo predijo una tarifa mucho más baja que la tarifa real. Solo hay unos pocos valores atípicos en los que el modelo predijo una tarifa más alta que la tarifa real."
   ]
  },
  {
   "cell_type": "code",
   "execution_count": 32,
   "metadata": {},
   "outputs": [
    {
     "data": {
      "text/plain": [
       "<AxesSubplot:xlabel='total_amount_predictions', ylabel='total_amount'>"
      ]
     },
     "execution_count": 32,
     "metadata": {},
     "output_type": "execute_result"
    },
    {
     "data": {
      "image/png": "[encoded data removed]",
      "text/plain": [
       "<Figure size 432x288 with 1 Axes>"
      ]
     },
     "metadata": {
      "needs_background": "light"
     },
     "output_type": "display_data"
    }
   ],
   "source": [
    "sns.scatterplot(data=pred_df, x='total_amount_predictions', y='total_amount', hue='error')"
   ]
  },
  {
   "cell_type": "markdown",
   "metadata": {},
   "source": [
    "Si desea una medida general de calidad para el modelo, puede calcular el error cuadrático medio (RMSE) de las tarifas previstas en comparación con las tarifas reales. Comparamos esto con [results calculated on the validation set](#validation-results) al final de la sección 'Inspect Training Job'."
   ]
  },
  {
   "cell_type": "code",
   "execution_count": 33,
   "metadata": {},
   "outputs": [
    {
     "name": "stdout",
     "output_type": "stream",
     "text": [
      "RMSE: 2.7133481502864263\n"
     ]
    }
   ],
   "source": [
    "from math import sqrt\n",
    "from sklearn.metrics import mean_squared_error\n",
    "\n",
    "def rmse(pred_df):\n",
    "    return sqrt(mean_squared_error(pred_df['total_amount'], pred_df['total_amount_predictions']))\n",
    "\n",
    "print('RMSE: {}'.format(rmse(pred_df)))"
   ]
  },
  {
   "cell_type": "markdown",
   "metadata": {},
   "source": [
    "## Deploy Prod\n",
    "\n",
    "### Approve Deployment to Production\n",
    "\n",
    "Si estamos satisfecho con los resultados del modelo, puede seguir adelante y aprobar el modelo que se implementará en producción. Puede hacerlo haciendo clic en el botón **Revisar** en la interfaz de usuario de CodePipeline, dejando un comentario para explicar por qué aprueba este modelo y haciendo clic en **Aprobar**.\n",
    "\n",
    "Alternativamente, podemos crear un widget de Jupyter que (cuando está habilitado) le permite comentar y aprobar el modelo directamente desde este notebook. Ejecute la celda a continuación para ver esto en acción."
   ]
  },
  {
   "cell_type": "code",
   "execution_count": 35,
   "metadata": {},
   "outputs": [
    {
     "data": {
      "application/vnd.jupyter.widget-view+json": {
       "model_id": "",
       "version_major": 2,
       "version_minor": 0
      },
      "text/plain": [
       "HBox(children=(Text(value='', placeholder='Optional approval message'), Button(button_style='success', descrip…"
      ]
     },
     "metadata": {},
     "output_type": "display_data"
    },
    {
     "name": "stdout",
     "output_type": "stream",
     "text": [
      "{'summary': '', 'status': 'Approved'}\n"
     ]
    }
   ],
   "source": [
    "import ipywidgets as widgets\n",
    "\n",
    "def on_click(obj):\n",
    "    result = { 'summary': approval_text.value, 'status': obj.description }\n",
    "    response = codepipeline.put_approval_result(\n",
    "      pipelineName=pipeline_name,\n",
    "      stageName='DeployDev',\n",
    "      actionName='ApproveDeploy',\n",
    "      result=result,\n",
    "      token=approval_action['token']\n",
    "    )\n",
    "    button_box.close()\n",
    "    print(result)\n",
    "    \n",
    "# Create the widget if we are ready for approval\n",
    "deploy_dev = get_pipeline_stage(pipeline_name, 'DeployDev')\n",
    "if not 'latestExecution' in deploy_dev['actionStates'][-1]:\n",
    "    raise(Exception('Please wait.  Deploy dev not complete'))\n",
    "\n",
    "approval_action = deploy_dev['actionStates'][-1]['latestExecution']\n",
    "if approval_action['status'] == 'Succeeded':\n",
    "    print('Dev approved: {}'.format(approval_action['summary']))\n",
    "elif 'token' in approval_action:\n",
    "    approval_text = widgets.Text(placeholder='Optional approval message')   \n",
    "    approve_btn = widgets.Button(description=\"Approved\", button_style='success', icon='check')\n",
    "    reject_btn = widgets.Button(description=\"Rejected\", button_style='danger', icon='close')\n",
    "    approve_btn.on_click(on_click)\n",
    "    reject_btn.on_click(on_click)\n",
    "    button_box = widgets.HBox([approval_text, approve_btn, reject_btn])\n",
    "    display(button_box)\n",
    "else:\n",
    "    raise(Exception('Please wait. No dev approval'))"
   ]
  },
  {
   "cell_type": "markdown",
   "metadata": {},
   "source": [
    "### Test Production Deployment\n",
    "\n",
    "Aproximadamente un minuto después de aprobar la implementación del modelo, debería ver que el pipeline comienza en el paso final: implementar el modelo en producción. En esta sección, comprobaremos el estado de implementación y probaremos el endpoint de producción después de que se haya implementado.\n",
    "\n",
    "![Deploy production endpoint in code pipeline](../docs/deploy-production.png)\n",
    "\n",
    "Este paso del pipeline utiliza CloudFormation para implementar una serie de recursos en su nombre. En particular, crea:\n",
    "\n",
    "1. Endpoint de sagemaker listo para producción , con [data capture](https://docs.aws.amazon.com/sagemaker/latest/dg/model-monitor-data-capture.html)⇗  (used by SageMaker Model Monitor) y [autoscaling](https://docs.aws.amazon.com/sagemaker/latest/dg/endpoint-auto-scaling.html)⇗ enabled.\n",
    "1. Un [model monitoring schedule](https://docs.aws.amazon.com/sagemaker/latest/dg/model-monitor-scheduling.html)⇗ que envía los resultados a de CloudWatch Metrics, junto con un [CloudWatch Alarm](https://docs.aws.amazon.com/AmazonCloudWatch/latest/monitoring/AlarmThatSendsEmail.html)⇗ que le notificará cuando ocurra una infracción.\n",
    "1. Una instancia de CodeDeploy que crea una aplicación simple mediante la implementación de API Gateway, tres funciones de Lambda y una alarma para notificar el éxito o el fracaso de esta implementación. El código para las funciones de Lambda se puede encontrar en `api/app.py`,` api/pre_traffic_hook.py` y `api/ post_traffic_hook.py`. Estas funciones actualizan el endpoint para permitir la captura de datos, formatear y enviar el tráfico entrante al endpoint de SageMaker y capturar los registros de datos.\n",
    "\n",
    "![Components of production deployment](../docs/cloud-formation.png)\n",
    "\n",
    "Veamos cómo avanza la implementación. Utilice el siguiente código para obtener el ID de ejecución del paso de implementación. Luego, genere una tabla que enumere los recursos creados por el stack de CloudFormation y su estado de creación. Puede volver a ejecutar la celda después de unos minutos para ver cómo avanzan los pasos."
   ]
  },
  {
   "cell_type": "code",
   "execution_count": 36,
   "metadata": {},
   "outputs": [],
   "source": [
    "deploy_prd = get_pipeline_stage(pipeline_name, 'DeployPrd')\n",
    "if not 'latestExecution' in deploy_prd or not 'latestExecution' in deploy_prd['actionStates'][0]:\n",
    "    raise(Exception('Please wait.  Deploy prd not started'))\n",
    "    \n",
    "execution_id = deploy_prd['latestExecution']['pipelineExecutionId']"
   ]
  },
  {
   "cell_type": "code",
   "execution_count": 38,
   "metadata": {},
   "outputs": [
    {
     "name": "stdout",
     "output_type": "stream",
     "text": [
      "stack name: nyctaxi-deploy-prd\n"
     ]
    },
    {
     "data": {
      "text/html": [
       "<div>\n",
       "<style scoped>\n",
       "    .dataframe tbody tr th:only-of-type {\n",
       "        vertical-align: middle;\n",
       "    }\n",
       "\n",
       "    .dataframe tbody tr th {\n",
       "        vertical-align: top;\n",
       "    }\n",
       "\n",
       "    .dataframe thead th {\n",
       "        text-align: right;\n",
       "    }\n",
       "</style>\n",
       "<table border=\"1\" class=\"dataframe\">\n",
       "  <thead>\n",
       "    <tr style=\"text-align: right;\">\n",
       "      <th></th>\n",
       "      <th>LogicalResourceId</th>\n",
       "      <th>ResourceStatus</th>\n",
       "      <th>ResourceStatusReason</th>\n",
       "      <th>TimeAgo</th>\n",
       "    </tr>\n",
       "  </thead>\n",
       "  <tbody>\n",
       "    <tr>\n",
       "      <th>0</th>\n",
       "      <td>ApiFunctionRole</td>\n",
       "      <td>CREATE_COMPLETE</td>\n",
       "      <td></td>\n",
       "      <td>0 days 00:00:02.563018</td>\n",
       "    </tr>\n",
       "    <tr>\n",
       "      <th>1</th>\n",
       "      <td>CodeDeployServiceRole</td>\n",
       "      <td>CREATE_COMPLETE</td>\n",
       "      <td></td>\n",
       "      <td>0 days 00:00:04.082018</td>\n",
       "    </tr>\n",
       "    <tr>\n",
       "      <th>2</th>\n",
       "      <td>Endpoint</td>\n",
       "      <td>CREATE_IN_PROGRESS</td>\n",
       "      <td>Resource creation Initiated</td>\n",
       "      <td>0 days 00:00:05.467018</td>\n",
       "    </tr>\n",
       "    <tr>\n",
       "      <th>3</th>\n",
       "      <td>Endpoint</td>\n",
       "      <td>CREATE_IN_PROGRESS</td>\n",
       "      <td></td>\n",
       "      <td>0 days 00:00:07.844018</td>\n",
       "    </tr>\n",
       "    <tr>\n",
       "      <th>4</th>\n",
       "      <td>EndpointConfig</td>\n",
       "      <td>CREATE_COMPLETE</td>\n",
       "      <td></td>\n",
       "      <td>0 days 00:00:09.943018</td>\n",
       "    </tr>\n",
       "  </tbody>\n",
       "</table>\n",
       "</div>"
      ],
      "text/plain": [
       "       LogicalResourceId      ResourceStatus         ResourceStatusReason  \\\n",
       "0        ApiFunctionRole     CREATE_COMPLETE                                \n",
       "1  CodeDeployServiceRole     CREATE_COMPLETE                                \n",
       "2               Endpoint  CREATE_IN_PROGRESS  Resource creation Initiated   \n",
       "3               Endpoint  CREATE_IN_PROGRESS                                \n",
       "4         EndpointConfig     CREATE_COMPLETE                                \n",
       "\n",
       "                 TimeAgo  \n",
       "0 0 days 00:00:02.563018  \n",
       "1 0 days 00:00:04.082018  \n",
       "2 0 days 00:00:05.467018  \n",
       "3 0 days 00:00:07.844018  \n",
       "4 0 days 00:00:09.943018  "
      ]
     },
     "execution_count": 38,
     "metadata": {},
     "output_type": "execute_result"
    }
   ],
   "source": [
    "from datetime import datetime, timedelta\n",
    "from dateutil.tz import tzlocal\n",
    "\n",
    "def get_event_dataframe(events):\n",
    "    stack_cols = ['LogicalResourceId', 'ResourceStatus', 'ResourceStatusReason', 'Timestamp']\n",
    "    stack_event_df = pd.DataFrame(events)[stack_cols].fillna('')\n",
    "    stack_event_df['TimeAgo'] = (datetime.now(tzlocal())-stack_event_df['Timestamp'])\n",
    "    return stack_event_df.drop('Timestamp', axis=1)\n",
    "\n",
    "cfn = boto3.client('cloudformation')\n",
    "\n",
    "stack_name = stack_name='{}-deploy-prd'.format(pipeline_name)\n",
    "print('stack name: {}'.format(stack_name))\n",
    "\n",
    "# Get latest stack events\n",
    "while True:\n",
    "    try:\n",
    "        response = cfn.describe_stack_events(StackName=stack_name)\n",
    "        break\n",
    "    except ClientError as e:\n",
    "        print(e.response[\"Error\"][\"Message\"])\n",
    "    time.sleep(10)\n",
    "    \n",
    "get_event_dataframe(response['StackEvents']).head()"
   ]
  },
  {
   "cell_type": "markdown",
   "metadata": {},
   "source": [
    "El recurso que más nos interesa es el endpoint. Esto demora una promedio de 10 minutos en implementarse. Mientras tanto, puede echar un vistazo al código Python utilizado para la aplicación. \n",
    "\n",
    "`App.py` es el principal punto de entrada que invoca el endpoint de Amazon SageMaker. Devuelve resultados junto con un encabezado personalizado para el endpoint que invocamos."
   ]
  },
  {
   "cell_type": "code",
   "execution_count": 39,
   "metadata": {},
   "outputs": [
    {
     "name": "stdout",
     "output_type": "stream",
     "text": [
      "\u001b[34mimport\u001b[39;49;00m \u001b[04m\u001b[36mjson\u001b[39;49;00m\r\n",
      "\u001b[34mimport\u001b[39;49;00m \u001b[04m\u001b[36mlogging\u001b[39;49;00m\r\n",
      "\u001b[34mimport\u001b[39;49;00m \u001b[04m\u001b[36mos\u001b[39;49;00m\r\n",
      "\r\n",
      "\u001b[34mimport\u001b[39;49;00m \u001b[04m\u001b[36mboto3\u001b[39;49;00m\r\n",
      "\u001b[34mfrom\u001b[39;49;00m \u001b[04m\u001b[36mbotocore\u001b[39;49;00m\u001b[04m\u001b[36m.\u001b[39;49;00m\u001b[04m\u001b[36mexceptions\u001b[39;49;00m \u001b[34mimport\u001b[39;49;00m ClientError\r\n",
      "\r\n",
      "logger = logging.getLogger(\u001b[31m__name__\u001b[39;49;00m)\r\n",
      "logger.setLevel(logging.DEBUG)\r\n",
      "\r\n",
      "sm_runtime = boto3.client(\u001b[33m\"\u001b[39;49;00m\u001b[33msagemaker-runtime\u001b[39;49;00m\u001b[33m\"\u001b[39;49;00m)\r\n",
      "\r\n",
      "\r\n",
      "\u001b[34mdef\u001b[39;49;00m \u001b[32mlambda_handler\u001b[39;49;00m(event, context):\r\n",
      "    logger.debug(\u001b[33m\"\u001b[39;49;00m\u001b[33mevent \u001b[39;49;00m\u001b[33m%s\u001b[39;49;00m\u001b[33m\"\u001b[39;49;00m, json.dumps(event))\r\n",
      "    endpoint_name = os.environ[\u001b[33m\"\u001b[39;49;00m\u001b[33mENDPOINT_NAME\u001b[39;49;00m\u001b[33m\"\u001b[39;49;00m]\r\n",
      "    logger.info(\u001b[33m\"\u001b[39;49;00m\u001b[33mapi for endpoint \u001b[39;49;00m\u001b[33m%s\u001b[39;49;00m\u001b[33m\"\u001b[39;49;00m, endpoint_name)\r\n",
      "\r\n",
      "    \u001b[37m# Get posted body and content type\u001b[39;49;00m\r\n",
      "    content_type = event[\u001b[33m\"\u001b[39;49;00m\u001b[33mheaders\u001b[39;49;00m\u001b[33m\"\u001b[39;49;00m].get(\u001b[33m\"\u001b[39;49;00m\u001b[33mContent-Type\u001b[39;49;00m\u001b[33m\"\u001b[39;49;00m, \u001b[33m\"\u001b[39;49;00m\u001b[33mtext/csv\u001b[39;49;00m\u001b[33m\"\u001b[39;49;00m)\r\n",
      "    custom_attributes = event[\u001b[33m\"\u001b[39;49;00m\u001b[33mheaders\u001b[39;49;00m\u001b[33m\"\u001b[39;49;00m].get(\u001b[33m\"\u001b[39;49;00m\u001b[33mX-Amzn-SageMaker-Custom-Attributes\u001b[39;49;00m\u001b[33m\"\u001b[39;49;00m, \u001b[33m\"\u001b[39;49;00m\u001b[33m\"\u001b[39;49;00m)\r\n",
      "    \u001b[34mif\u001b[39;49;00m content_type.startswith(\u001b[33m\"\u001b[39;49;00m\u001b[33mtext/csv\u001b[39;49;00m\u001b[33m\"\u001b[39;49;00m):\r\n",
      "        payload = event[\u001b[33m\"\u001b[39;49;00m\u001b[33mbody\u001b[39;49;00m\u001b[33m\"\u001b[39;49;00m]\r\n",
      "    \u001b[34melif\u001b[39;49;00m content_type.startswith(\u001b[33m\"\u001b[39;49;00m\u001b[33mapplication/json\u001b[39;49;00m\u001b[33m\"\u001b[39;49;00m):\r\n",
      "        payload = json.loads(event[\u001b[33m\"\u001b[39;49;00m\u001b[33mbody\u001b[39;49;00m\u001b[33m\"\u001b[39;49;00m])\r\n",
      "    \u001b[34melse\u001b[39;49;00m:\r\n",
      "        message = \u001b[33m\"\u001b[39;49;00m\u001b[33mbad content type: \u001b[39;49;00m\u001b[33m{}\u001b[39;49;00m\u001b[33m\"\u001b[39;49;00m.format(content_type)\r\n",
      "        logger.error()\r\n",
      "        \u001b[34mreturn\u001b[39;49;00m {\u001b[33m\"\u001b[39;49;00m\u001b[33mstatusCode\u001b[39;49;00m\u001b[33m\"\u001b[39;49;00m: \u001b[34m500\u001b[39;49;00m, \u001b[33m\"\u001b[39;49;00m\u001b[33mmessage\u001b[39;49;00m\u001b[33m\"\u001b[39;49;00m: message}\r\n",
      "\r\n",
      "    logger.info(\u001b[33m\"\u001b[39;49;00m\u001b[33mcontent type: \u001b[39;49;00m\u001b[33m%s\u001b[39;49;00m\u001b[33m size: \u001b[39;49;00m\u001b[33m%d\u001b[39;49;00m\u001b[33m\"\u001b[39;49;00m, content_type, \u001b[36mlen\u001b[39;49;00m(payload))\r\n",
      "\r\n",
      "    \u001b[34mtry\u001b[39;49;00m:\r\n",
      "        \u001b[37m# Invoke the endpoint with full multi-line payload\u001b[39;49;00m\r\n",
      "        response = sm_runtime.invoke_endpoint(\r\n",
      "            EndpointName=endpoint_name,\r\n",
      "            Body=payload,\r\n",
      "            ContentType=content_type,\r\n",
      "            CustomAttributes=custom_attributes,\r\n",
      "            Accept=\u001b[33m\"\u001b[39;49;00m\u001b[33mapplication/json\u001b[39;49;00m\u001b[33m\"\u001b[39;49;00m,\r\n",
      "        )\r\n",
      "        \u001b[37m# Return predictions as JSON dictionary instead of CSV text\u001b[39;49;00m\r\n",
      "        predictions = response[\u001b[33m\"\u001b[39;49;00m\u001b[33mBody\u001b[39;49;00m\u001b[33m\"\u001b[39;49;00m].read().decode(\u001b[33m\"\u001b[39;49;00m\u001b[33mutf-8\u001b[39;49;00m\u001b[33m\"\u001b[39;49;00m)\r\n",
      "        \u001b[34mreturn\u001b[39;49;00m {\r\n",
      "            \u001b[33m\"\u001b[39;49;00m\u001b[33mstatusCode\u001b[39;49;00m\u001b[33m\"\u001b[39;49;00m: \u001b[34m200\u001b[39;49;00m,\r\n",
      "            \u001b[33m\"\u001b[39;49;00m\u001b[33mheaders\u001b[39;49;00m\u001b[33m\"\u001b[39;49;00m: {\r\n",
      "                \u001b[33m\"\u001b[39;49;00m\u001b[33mContent-Type\u001b[39;49;00m\u001b[33m\"\u001b[39;49;00m: content_type,\r\n",
      "                \u001b[33m\"\u001b[39;49;00m\u001b[33mX-SageMaker-Endpoint\u001b[39;49;00m\u001b[33m\"\u001b[39;49;00m: endpoint_name,\r\n",
      "            },\r\n",
      "            \u001b[33m\"\u001b[39;49;00m\u001b[33mbody\u001b[39;49;00m\u001b[33m\"\u001b[39;49;00m: predictions,\r\n",
      "        }\r\n",
      "    \u001b[34mexcept\u001b[39;49;00m ClientError \u001b[34mas\u001b[39;49;00m e:\r\n",
      "        logger.error(\r\n",
      "            \u001b[33m\"\u001b[39;49;00m\u001b[33mUnexpected sagemaker error: \u001b[39;49;00m\u001b[33m{}\u001b[39;49;00m\u001b[33m\"\u001b[39;49;00m.format(e.response[\u001b[33m\"\u001b[39;49;00m\u001b[33mError\u001b[39;49;00m\u001b[33m\"\u001b[39;49;00m][\u001b[33m\"\u001b[39;49;00m\u001b[33mMessage\u001b[39;49;00m\u001b[33m\"\u001b[39;49;00m])\r\n",
      "        )\r\n",
      "        logger.error(e)\r\n",
      "        \u001b[34mreturn\u001b[39;49;00m {\u001b[33m\"\u001b[39;49;00m\u001b[33mstatusCode\u001b[39;49;00m\u001b[33m\"\u001b[39;49;00m: \u001b[34m500\u001b[39;49;00m, \u001b[33m\"\u001b[39;49;00m\u001b[33mmessage\u001b[39;49;00m\u001b[33m\"\u001b[39;49;00m: \u001b[33m\"\u001b[39;49;00m\u001b[33mUnexpected sagemaker error\u001b[39;49;00m\u001b[33m\"\u001b[39;49;00m}\r\n"
     ]
    }
   ],
   "source": [
    "!pygmentize ../api/app.py"
   ]
  },
  {
   "cell_type": "markdown",
   "metadata": {},
   "source": [
    "El lambda `pre_traffic_hook.py` lambda se invoca antes de la implementación y confirma que el endpoint tiene habilitada la captura de datos."
   ]
  },
  {
   "cell_type": "code",
   "execution_count": 40,
   "metadata": {},
   "outputs": [
    {
     "name": "stdout",
     "output_type": "stream",
     "text": [
      "\u001b[34mimport\u001b[39;49;00m \u001b[04m\u001b[36mjson\u001b[39;49;00m\r\n",
      "\u001b[34mimport\u001b[39;49;00m \u001b[04m\u001b[36mlogging\u001b[39;49;00m\r\n",
      "\u001b[34mimport\u001b[39;49;00m \u001b[04m\u001b[36mos\u001b[39;49;00m\r\n",
      "\r\n",
      "\u001b[34mimport\u001b[39;49;00m \u001b[04m\u001b[36mboto3\u001b[39;49;00m\r\n",
      "\u001b[34mfrom\u001b[39;49;00m \u001b[04m\u001b[36mbotocore\u001b[39;49;00m\u001b[04m\u001b[36m.\u001b[39;49;00m\u001b[04m\u001b[36mexceptions\u001b[39;49;00m \u001b[34mimport\u001b[39;49;00m ClientError\r\n",
      "\r\n",
      "logger = logging.getLogger(\u001b[31m__name__\u001b[39;49;00m)\r\n",
      "logger.setLevel(logging.DEBUG)\r\n",
      "\r\n",
      "sm = boto3.client(\u001b[33m\"\u001b[39;49;00m\u001b[33msagemaker\u001b[39;49;00m\u001b[33m\"\u001b[39;49;00m)\r\n",
      "cd = boto3.client(\u001b[33m\"\u001b[39;49;00m\u001b[33mcodedeploy\u001b[39;49;00m\u001b[33m\"\u001b[39;49;00m)\r\n",
      "\r\n",
      "\r\n",
      "\u001b[34mdef\u001b[39;49;00m \u001b[32mlambda_handler\u001b[39;49;00m(event, context):\r\n",
      "    logger.debug(\u001b[33m\"\u001b[39;49;00m\u001b[33mevent \u001b[39;49;00m\u001b[33m%s\u001b[39;49;00m\u001b[33m\"\u001b[39;49;00m, json.dumps(event))\r\n",
      "    endpoint_name = os.environ[\u001b[33m\"\u001b[39;49;00m\u001b[33mENDPOINT_NAME\u001b[39;49;00m\u001b[33m\"\u001b[39;49;00m]\r\n",
      "    logger.info(\u001b[33m\"\u001b[39;49;00m\u001b[33mpre traffic for endpoint \u001b[39;49;00m\u001b[33m%s\u001b[39;49;00m\u001b[33m\"\u001b[39;49;00m, endpoint_name)\r\n",
      "\r\n",
      "    error_message = \u001b[34mNone\u001b[39;49;00m\r\n",
      "    \u001b[34mtry\u001b[39;49;00m:\r\n",
      "        \u001b[37m# Update endpoint to enable data capture\u001b[39;49;00m\r\n",
      "        response = sm.describe_endpoint(EndpointName=endpoint_name)\r\n",
      "        status = response[\u001b[33m\"\u001b[39;49;00m\u001b[33mEndpointStatus\u001b[39;49;00m\u001b[33m\"\u001b[39;49;00m]\r\n",
      "        \u001b[34mif\u001b[39;49;00m status != \u001b[33m\"\u001b[39;49;00m\u001b[33mInService\u001b[39;49;00m\u001b[33m\"\u001b[39;49;00m:\r\n",
      "            error_message = \u001b[33m\"\u001b[39;49;00m\u001b[33mSageMaker endpoint: \u001b[39;49;00m\u001b[33m{}\u001b[39;49;00m\u001b[33m status: \u001b[39;49;00m\u001b[33m{}\u001b[39;49;00m\u001b[33m not InService\u001b[39;49;00m\u001b[33m\"\u001b[39;49;00m.format(\r\n",
      "                endpoint_name, status\r\n",
      "            )\r\n",
      "        \u001b[34melse\u001b[39;49;00m:\r\n",
      "            \u001b[37m# Validate that endpoint config has data capture enabled\u001b[39;49;00m\r\n",
      "            endpoint_config_name = response[\u001b[33m\"\u001b[39;49;00m\u001b[33mEndpointConfigName\u001b[39;49;00m\u001b[33m\"\u001b[39;49;00m]\r\n",
      "            response = sm.describe_endpoint_config(\r\n",
      "                EndpointConfigName=endpoint_config_name\r\n",
      "            )\r\n",
      "            \u001b[34mif\u001b[39;49;00m (\r\n",
      "                \u001b[33m\"\u001b[39;49;00m\u001b[33mDataCaptureConfig\u001b[39;49;00m\u001b[33m\"\u001b[39;49;00m \u001b[35min\u001b[39;49;00m response\r\n",
      "                \u001b[35mand\u001b[39;49;00m response[\u001b[33m\"\u001b[39;49;00m\u001b[33mDataCaptureConfig\u001b[39;49;00m\u001b[33m\"\u001b[39;49;00m][\u001b[33m\"\u001b[39;49;00m\u001b[33mEnableCapture\u001b[39;49;00m\u001b[33m\"\u001b[39;49;00m]\r\n",
      "            ):\r\n",
      "                logger.info(\r\n",
      "                    \u001b[33m\"\u001b[39;49;00m\u001b[33mdata capture enabled for endpoint config \u001b[39;49;00m\u001b[33m%s\u001b[39;49;00m\u001b[33m\"\u001b[39;49;00m, endpoint_config_name\r\n",
      "                )\r\n",
      "            \u001b[34melse\u001b[39;49;00m:\r\n",
      "                error_message = \u001b[33m\"\u001b[39;49;00m\u001b[33mSageMaker data capture not enabled for endpoint config\u001b[39;49;00m\u001b[33m\"\u001b[39;49;00m\r\n",
      "            \u001b[37m# TODO: Invoke endpoint if don't have canary / live traffic\u001b[39;49;00m\r\n",
      "    \u001b[34mexcept\u001b[39;49;00m ClientError \u001b[34mas\u001b[39;49;00m e:\r\n",
      "        error_message = e.response[\u001b[33m\"\u001b[39;49;00m\u001b[33mError\u001b[39;49;00m\u001b[33m\"\u001b[39;49;00m][\u001b[33m\"\u001b[39;49;00m\u001b[33mMessage\u001b[39;49;00m\u001b[33m\"\u001b[39;49;00m]\r\n",
      "        logger.error(\u001b[33m\"\u001b[39;49;00m\u001b[33mError checking endpoint \u001b[39;49;00m\u001b[33m%s\u001b[39;49;00m\u001b[33m\"\u001b[39;49;00m, error_message)\r\n",
      "\r\n",
      "    \u001b[34mtry\u001b[39;49;00m:\r\n",
      "        \u001b[34mif\u001b[39;49;00m error_message != \u001b[34mNone\u001b[39;49;00m:\r\n",
      "            logger.info(\u001b[33m\"\u001b[39;49;00m\u001b[33mput codepipeline failed: \u001b[39;49;00m\u001b[33m%s\u001b[39;49;00m\u001b[33m\"\u001b[39;49;00m, error_message)\r\n",
      "            response = cd.put_lifecycle_event_hook_execution_status(\r\n",
      "                deploymentId=event[\u001b[33m\"\u001b[39;49;00m\u001b[33mDeploymentId\u001b[39;49;00m\u001b[33m\"\u001b[39;49;00m],\r\n",
      "                lifecycleEventHookExecutionId=event[\u001b[33m\"\u001b[39;49;00m\u001b[33mLifecycleEventHookExecutionId\u001b[39;49;00m\u001b[33m\"\u001b[39;49;00m],\r\n",
      "                status=\u001b[33m\"\u001b[39;49;00m\u001b[33mFailed\u001b[39;49;00m\u001b[33m\"\u001b[39;49;00m,\r\n",
      "            )\r\n",
      "            \u001b[34mreturn\u001b[39;49;00m {\u001b[33m\"\u001b[39;49;00m\u001b[33mstatusCode\u001b[39;49;00m\u001b[33m\"\u001b[39;49;00m: \u001b[34m400\u001b[39;49;00m, \u001b[33m\"\u001b[39;49;00m\u001b[33mmessage\u001b[39;49;00m\u001b[33m\"\u001b[39;49;00m: error_message}\r\n",
      "        \u001b[34melse\u001b[39;49;00m:\r\n",
      "            logger.info(\u001b[33m\"\u001b[39;49;00m\u001b[33mput codepipeline success\u001b[39;49;00m\u001b[33m\"\u001b[39;49;00m)\r\n",
      "            response = cd.put_lifecycle_event_hook_execution_status(\r\n",
      "                deploymentId=event[\u001b[33m\"\u001b[39;49;00m\u001b[33mDeploymentId\u001b[39;49;00m\u001b[33m\"\u001b[39;49;00m],\r\n",
      "                lifecycleEventHookExecutionId=event[\u001b[33m\"\u001b[39;49;00m\u001b[33mLifecycleEventHookExecutionId\u001b[39;49;00m\u001b[33m\"\u001b[39;49;00m],\r\n",
      "                status=\u001b[33m\"\u001b[39;49;00m\u001b[33mSucceeded\u001b[39;49;00m\u001b[33m\"\u001b[39;49;00m,\r\n",
      "            )\r\n",
      "            \u001b[34mreturn\u001b[39;49;00m {\r\n",
      "                \u001b[33m\"\u001b[39;49;00m\u001b[33mstatusCode\u001b[39;49;00m\u001b[33m\"\u001b[39;49;00m: \u001b[34m200\u001b[39;49;00m,\r\n",
      "            }\r\n",
      "    \u001b[34mexcept\u001b[39;49;00m ClientError \u001b[34mas\u001b[39;49;00m e:\r\n",
      "        \u001b[37m# Error attempting to update the cloud formation\u001b[39;49;00m\r\n",
      "        logger.error(\u001b[33m\"\u001b[39;49;00m\u001b[33mUnexpected codepipeline error\u001b[39;49;00m\u001b[33m\"\u001b[39;49;00m)\r\n",
      "        logger.error(e)\r\n",
      "        \u001b[34mreturn\u001b[39;49;00m {\u001b[33m\"\u001b[39;49;00m\u001b[33mstatusCode\u001b[39;49;00m\u001b[33m\"\u001b[39;49;00m: \u001b[34m500\u001b[39;49;00m, \u001b[33m\"\u001b[39;49;00m\u001b[33mmessage\u001b[39;49;00m\u001b[33m\"\u001b[39;49;00m: e.response[\u001b[33m\"\u001b[39;49;00m\u001b[33mError\u001b[39;49;00m\u001b[33m\"\u001b[39;49;00m][\u001b[33m\"\u001b[39;49;00m\u001b[33mMessage\u001b[39;49;00m\u001b[33m\"\u001b[39;49;00m]}\r\n"
     ]
    }
   ],
   "source": [
    "!pygmentize ../api/pre_traffic_hook.py"
   ]
  },
  {
   "cell_type": "markdown",
   "metadata": {},
   "source": [
    "El lambda `post_traffic_hook.py` se invoca para realizar las comprobaciones finales, en este caso para verificar que hemos recibido los datos de log de la captura de datos."
   ]
  },
  {
   "cell_type": "code",
   "execution_count": 41,
   "metadata": {},
   "outputs": [
    {
     "name": "stdout",
     "output_type": "stream",
     "text": [
      "\u001b[34mimport\u001b[39;49;00m \u001b[04m\u001b[36mjson\u001b[39;49;00m\r\n",
      "\u001b[34mimport\u001b[39;49;00m \u001b[04m\u001b[36mlogging\u001b[39;49;00m\r\n",
      "\u001b[34mimport\u001b[39;49;00m \u001b[04m\u001b[36mos\u001b[39;49;00m\r\n",
      "\r\n",
      "\u001b[34mimport\u001b[39;49;00m \u001b[04m\u001b[36mboto3\u001b[39;49;00m\r\n",
      "\u001b[34mfrom\u001b[39;49;00m \u001b[04m\u001b[36mbotocore\u001b[39;49;00m\u001b[04m\u001b[36m.\u001b[39;49;00m\u001b[04m\u001b[36mexceptions\u001b[39;49;00m \u001b[34mimport\u001b[39;49;00m ClientError\r\n",
      "\r\n",
      "logger = logging.getLogger(\u001b[31m__name__\u001b[39;49;00m)\r\n",
      "logger.setLevel(logging.DEBUG)\r\n",
      "\r\n",
      "sm = boto3.client(\u001b[33m\"\u001b[39;49;00m\u001b[33msagemaker\u001b[39;49;00m\u001b[33m\"\u001b[39;49;00m)\r\n",
      "s3 = boto3.client(\u001b[33m\"\u001b[39;49;00m\u001b[33ms3\u001b[39;49;00m\u001b[33m\"\u001b[39;49;00m)\r\n",
      "cd = boto3.client(\u001b[33m\"\u001b[39;49;00m\u001b[33mcodedeploy\u001b[39;49;00m\u001b[33m\"\u001b[39;49;00m)\r\n",
      "\r\n",
      "\r\n",
      "\u001b[34mdef\u001b[39;49;00m \u001b[32mget_bucket_prefix\u001b[39;49;00m(url):\r\n",
      "    \u001b[34mtry\u001b[39;49;00m:\r\n",
      "        \u001b[34mfrom\u001b[39;49;00m \u001b[04m\u001b[36murllib\u001b[39;49;00m\u001b[04m\u001b[36m.\u001b[39;49;00m\u001b[04m\u001b[36mparse\u001b[39;49;00m \u001b[34mimport\u001b[39;49;00m urlparse\r\n",
      "    \u001b[34mexcept\u001b[39;49;00m \u001b[36mImportError\u001b[39;49;00m:\r\n",
      "        \u001b[34mfrom\u001b[39;49;00m \u001b[04m\u001b[36murlparse\u001b[39;49;00m \u001b[34mimport\u001b[39;49;00m urlparse\r\n",
      "    a = urlparse(url)\r\n",
      "    \u001b[34mreturn\u001b[39;49;00m a.netloc, a.path.lstrip(\u001b[33m\"\u001b[39;49;00m\u001b[33m/\u001b[39;49;00m\u001b[33m\"\u001b[39;49;00m) + \u001b[33m\"\u001b[39;49;00m\u001b[33m/\u001b[39;49;00m\u001b[33m\"\u001b[39;49;00m\r\n",
      "\r\n",
      "\r\n",
      "\u001b[34mdef\u001b[39;49;00m \u001b[32mlambda_handler\u001b[39;49;00m(event, context):\r\n",
      "    logger.debug(\u001b[33m\"\u001b[39;49;00m\u001b[33mevent \u001b[39;49;00m\u001b[33m%s\u001b[39;49;00m\u001b[33m\"\u001b[39;49;00m, json.dumps(event))\r\n",
      "    endpoint_name = os.environ[\u001b[33m\"\u001b[39;49;00m\u001b[33mENDPOINT_NAME\u001b[39;49;00m\u001b[33m\"\u001b[39;49;00m]\r\n",
      "    logger.info(\u001b[33m\"\u001b[39;49;00m\u001b[33mpost traffic for endpoint: \u001b[39;49;00m\u001b[33m%s\u001b[39;49;00m\u001b[33m\"\u001b[39;49;00m, endpoint_name)\r\n",
      "    data_capture_uri = os.environ.get(\u001b[33m\"\u001b[39;49;00m\u001b[33mDATA_CAPTURE_URI\u001b[39;49;00m\u001b[33m\"\u001b[39;49;00m, \u001b[33m\"\u001b[39;49;00m\u001b[33m\"\u001b[39;49;00m)\r\n",
      "    logger.info(\u001b[33m\"\u001b[39;49;00m\u001b[33mdata capture uri: \u001b[39;49;00m\u001b[33m%s\u001b[39;49;00m\u001b[33m\"\u001b[39;49;00m, data_capture_uri)\r\n",
      "\r\n",
      "    error_message = \u001b[34mNone\u001b[39;49;00m\r\n",
      "    \u001b[34mtry\u001b[39;49;00m:\r\n",
      "        \u001b[34mif\u001b[39;49;00m data_capture_uri:\r\n",
      "            \u001b[37m# List objects under data capture logs director\u001b[39;49;00m\r\n",
      "            bucket, prefix = get_bucket_prefix(data_capture_uri)\r\n",
      "            contents = s3.list_objects(Bucket=bucket, Prefix=prefix).get(\u001b[33m\"\u001b[39;49;00m\u001b[33mContents\u001b[39;49;00m\u001b[33m\"\u001b[39;49;00m)\r\n",
      "            \u001b[34mif\u001b[39;49;00m contents != \u001b[34mNone\u001b[39;49;00m \u001b[35mand\u001b[39;49;00m contents:\r\n",
      "                logger.info(\u001b[33m\"\u001b[39;49;00m\u001b[33mFound \u001b[39;49;00m\u001b[33m%d\u001b[39;49;00m\u001b[33m data capture logs\u001b[39;49;00m\u001b[33m\"\u001b[39;49;00m, \u001b[36mlen\u001b[39;49;00m(contents))\r\n",
      "            \u001b[34melse\u001b[39;49;00m:\r\n",
      "                error_message = \u001b[33m\"\u001b[39;49;00m\u001b[33mNo data capture logs found\u001b[39;49;00m\u001b[33m\"\u001b[39;49;00m\r\n",
      "                logger.error(error_message)\r\n",
      "    \u001b[34mexcept\u001b[39;49;00m ClientError \u001b[34mas\u001b[39;49;00m e:\r\n",
      "        error_message = e.response[\u001b[33m\"\u001b[39;49;00m\u001b[33mError\u001b[39;49;00m\u001b[33m\"\u001b[39;49;00m][\u001b[33m\"\u001b[39;49;00m\u001b[33mMessage\u001b[39;49;00m\u001b[33m\"\u001b[39;49;00m]\r\n",
      "        logger.error(\u001b[33m\"\u001b[39;49;00m\u001b[33mError checking logs \u001b[39;49;00m\u001b[33m%s\u001b[39;49;00m\u001b[33m\"\u001b[39;49;00m, error_message)\r\n",
      "\r\n",
      "    \u001b[34mtry\u001b[39;49;00m:\r\n",
      "        \u001b[34mif\u001b[39;49;00m error_message != \u001b[34mNone\u001b[39;49;00m:\r\n",
      "            logger.info(\u001b[33m\"\u001b[39;49;00m\u001b[33mput codepipeline failed: \u001b[39;49;00m\u001b[33m%s\u001b[39;49;00m\u001b[33m\"\u001b[39;49;00m, error_message)\r\n",
      "            response = cd.put_lifecycle_event_hook_execution_status(\r\n",
      "                deploymentId=event[\u001b[33m\"\u001b[39;49;00m\u001b[33mDeploymentId\u001b[39;49;00m\u001b[33m\"\u001b[39;49;00m],\r\n",
      "                lifecycleEventHookExecutionId=event[\u001b[33m\"\u001b[39;49;00m\u001b[33mLifecycleEventHookExecutionId\u001b[39;49;00m\u001b[33m\"\u001b[39;49;00m],\r\n",
      "                status=\u001b[33m\"\u001b[39;49;00m\u001b[33mFailed\u001b[39;49;00m\u001b[33m\"\u001b[39;49;00m,\r\n",
      "            )\r\n",
      "            \u001b[34mreturn\u001b[39;49;00m {\u001b[33m\"\u001b[39;49;00m\u001b[33mstatusCode\u001b[39;49;00m\u001b[33m\"\u001b[39;49;00m: \u001b[34m400\u001b[39;49;00m, \u001b[33m\"\u001b[39;49;00m\u001b[33mmessage\u001b[39;49;00m\u001b[33m\"\u001b[39;49;00m: error_message}\r\n",
      "        \u001b[34melse\u001b[39;49;00m:\r\n",
      "            logger.info(\u001b[33m\"\u001b[39;49;00m\u001b[33mput codepipeline success\u001b[39;49;00m\u001b[33m\"\u001b[39;49;00m)\r\n",
      "            response = cd.put_lifecycle_event_hook_execution_status(\r\n",
      "                deploymentId=event[\u001b[33m\"\u001b[39;49;00m\u001b[33mDeploymentId\u001b[39;49;00m\u001b[33m\"\u001b[39;49;00m],\r\n",
      "                lifecycleEventHookExecutionId=event[\u001b[33m\"\u001b[39;49;00m\u001b[33mLifecycleEventHookExecutionId\u001b[39;49;00m\u001b[33m\"\u001b[39;49;00m],\r\n",
      "                status=\u001b[33m\"\u001b[39;49;00m\u001b[33mSucceeded\u001b[39;49;00m\u001b[33m\"\u001b[39;49;00m,\r\n",
      "            )\r\n",
      "            \u001b[34mreturn\u001b[39;49;00m {\r\n",
      "                \u001b[33m\"\u001b[39;49;00m\u001b[33mstatusCode\u001b[39;49;00m\u001b[33m\"\u001b[39;49;00m: \u001b[34m200\u001b[39;49;00m,\r\n",
      "            }\r\n",
      "    \u001b[34mexcept\u001b[39;49;00m ClientError \u001b[34mas\u001b[39;49;00m e:\r\n",
      "        \u001b[37m# Error attempting to update the cloud formation\u001b[39;49;00m\r\n",
      "        logger.error(\u001b[33m\"\u001b[39;49;00m\u001b[33mUnexpected codepipeline error\u001b[39;49;00m\u001b[33m\"\u001b[39;49;00m)\r\n",
      "        logger.error(e)\r\n",
      "        \u001b[34mreturn\u001b[39;49;00m {\u001b[33m\"\u001b[39;49;00m\u001b[33mstatusCode\u001b[39;49;00m\u001b[33m\"\u001b[39;49;00m: \u001b[34m500\u001b[39;49;00m, \u001b[33m\"\u001b[39;49;00m\u001b[33mmessage\u001b[39;49;00m\u001b[33m\"\u001b[39;49;00m: e.response[\u001b[33m\"\u001b[39;49;00m\u001b[33mError\u001b[39;49;00m\u001b[33m\"\u001b[39;49;00m][\u001b[33m\"\u001b[39;49;00m\u001b[33mMessage\u001b[39;49;00m\u001b[33m\"\u001b[39;49;00m]}\r\n"
     ]
    }
   ],
   "source": [
    "!pygmentize ../api/post_traffic_hook.py"
   ]
  },
  {
   "cell_type": "markdown",
   "metadata": {},
   "source": [
    "Utilizamos el siguiente código para obtener el nombre del endpoint, luego ejecute un bucle para esperar a que el endpoint se implemente por completo. Necesitamos que el estado sea 'En servicio'."
   ]
  },
  {
   "cell_type": "code",
   "execution_count": 42,
   "metadata": {},
   "outputs": [
    {
     "name": "stdout",
     "output_type": "stream",
     "text": [
      "prod endpoint: mlops-nyctaxi-prd-8088d44e-e8ce-4936-a0c4-97e41805f817\n"
     ]
    }
   ],
   "source": [
    "prd_endpoint_name='mlops-{}-prd-{}'.format(model_name, execution_id)\n",
    "print('prod endpoint: {}'.format(prd_endpoint_name))"
   ]
  },
  {
   "cell_type": "code",
   "execution_count": 43,
   "metadata": {},
   "outputs": [
    {
     "name": "stdout",
     "output_type": "stream",
     "text": [
      "Endpoint status: Creating\n",
      "Endpoint status: Creating\n",
      "Endpoint status: Creating\n",
      "Endpoint status: Creating\n",
      "Endpoint status: Creating\n",
      "Endpoint status: Creating\n",
      "Endpoint status: Creating\n",
      "Endpoint status: Creating\n",
      "Endpoint status: Creating\n",
      "Endpoint status: Creating\n",
      "Endpoint status: Creating\n",
      "Endpoint status: Creating\n",
      "Endpoint status: Creating\n",
      "Endpoint status: Creating\n",
      "Endpoint status: Creating\n",
      "Endpoint status: Creating\n",
      "Endpoint status: Creating\n",
      "Endpoint status: Creating\n",
      "Endpoint status: Creating\n",
      "Endpoint status: Creating\n",
      "Endpoint status: Creating\n",
      "Endpoint status: Creating\n",
      "Endpoint status: Creating\n",
      "Endpoint status: Creating\n",
      "Endpoint status: Creating\n",
      "Endpoint status: Creating\n",
      "Endpoint status: Creating\n",
      "Endpoint status: Creating\n",
      "Endpoint status: Creating\n",
      "Endpoint status: Creating\n",
      "Endpoint status: Creating\n",
      "Endpoint status: Creating\n",
      "Endpoint status: Creating\n",
      "Endpoint status: Creating\n",
      "Endpoint status: Creating\n",
      "Endpoint status: Creating\n",
      "Endpoint status: Creating\n",
      "Endpoint status: Creating\n",
      "Endpoint status: Creating\n",
      "Endpoint status: InService\n"
     ]
    }
   ],
   "source": [
    "sm = boto3.client('sagemaker')\n",
    "\n",
    "while True:\n",
    "    try:\n",
    "        response = sm.describe_endpoint(EndpointName=prd_endpoint_name)\n",
    "        print(\"Endpoint status: {}\".format(response['EndpointStatus']))\n",
    "        # Wait until the endpoint is in service with data capture enabled\n",
    "        if response['EndpointStatus'] == 'InService' \\\n",
    "            and 'DataCaptureConfig' in response \\\n",
    "            and response['DataCaptureConfig']['EnableCapture']:\n",
    "            break\n",
    "    except ClientError as e:\n",
    "        print(e.response[\"Error\"][\"Message\"])\n",
    "    time.sleep(10)"
   ]
  },
  {
   "cell_type": "markdown",
   "metadata": {},
   "source": [
    "Cuando el estado del endpoint es 'InService', puede continuar. Anteriormente en este cuaderno, creamos un código para enviar datos al endpoint de desarrollo. Reutilice este código ahora para enviar una muestra de los datos de prueba al endpoint de producción. Dado que la captura de datos está habilitada en este punto final, desea enviar registros individuales a la vez, de modo que el monitor del modelo pueda asignar estos registros a la línea de base.\n",
    "\n",
    "Más tarde haremos uso de [inspect the model monitor](#Inspect-Model-Monitor). For now, just check if you can send data to the endpoint and receive predictions in return. Por ahora, solo verifique si puede enviar datos al punto final y recibir predicciones a cambio."
   ]
  },
  {
   "cell_type": "code",
   "execution_count": 44,
   "metadata": {},
   "outputs": [
    {
     "name": "stderr",
     "output_type": "stream",
     "text": [
      "100%|██████████| 100/100 [00:01<00:00, 59.50it/s]\n"
     ]
    },
    {
     "data": {
      "text/plain": [
       "array([ 6.14452076, 15.4426012 , 10.3297205 ,  7.12844515, 19.27596855,\n",
       "       19.91897964,  9.53039074,  9.57470798, 22.59270859, 21.34565926,\n",
       "       21.22851562,  8.36337757, 47.51456833,  5.96635151,  6.58925724,\n",
       "       13.89829922, 24.90311623,  6.86523151,  7.50823116,  9.46011925,\n",
       "       16.64295387,  9.94624329, 10.34152603,  6.30059481,  8.85488701,\n",
       "       10.77643681, 30.67555046,  8.6021204 ,  9.65930843,  9.22501183,\n",
       "       48.31124878,  7.58374119, 45.55388641, 40.2144165 , 16.49039841,\n",
       "       30.03656387, 10.01031303, 12.08086205,  6.50738144, 17.93732262,\n",
       "        6.40625143, 11.89199352, 33.6006012 , 21.85989189, 10.50108242,\n",
       "       10.44023705, 19.37092209, 12.61988068,  5.74905014, 16.21562195,\n",
       "        5.81643009, 14.03055   ,  9.39214993, 10.56586552,  6.44927883,\n",
       "       11.86130333,  7.76424742,  9.43459606, 22.52345085,  5.30188608,\n",
       "       22.04075241, 22.84882545, 14.65772057,  7.2268877 , 14.94792938,\n",
       "        8.28263664, 62.50871658,  9.53837681, 22.84793282,  6.81264067,\n",
       "       16.94781113, 14.02600098,  6.56918573, 13.14290619,  6.65492582,\n",
       "       19.76061821,  9.66396999,  9.82850075,  6.78159809, 16.09708786,\n",
       "        6.3370266 , 16.69851685, 24.80299759, 11.92566872,  8.59228134,\n",
       "        7.12522936, 11.32047558,  7.22644806, 13.09257603,  7.08266449,\n",
       "       18.18510628,  6.67465591,  9.39228916, 20.42894363, 14.87603092,\n",
       "       17.7401123 ,  8.75221252,  9.93915749, 10.14373016, 34.17497635])"
      ]
     },
     "execution_count": 44,
     "metadata": {},
     "output_type": "execute_result"
    }
   ],
   "source": [
    "prd_predictor = get_predictor(prd_endpoint_name)\n",
    "sample_values = test_df[test_df.columns[1:]].sample(100).values\n",
    "predictions = predict(prd_predictor, sample_values, rows=1)\n",
    "predictions"
   ]
  },
  {
   "cell_type": "markdown",
   "metadata": {},
   "source": [
    "### Test REST API\n",
    "\n",
    "Aunque ya probó el endpoint de SageMaker en la sección anterior, también es una buena idea probar la aplicación creada con API Gateway.\n",
    "\n",
    "![Traffic shift between endpoints](../docs/lambda-deploy-create.png)\n",
    "\n",
    "Dar clic el enlace a continuación para abrir la implementación en Lambda, donde puede ver las implementaciones en progreso y completadas. También puede hacer clic para expandir la ** plantilla SAM ** para ver la plantilla de CloudFormation empaquetada utilizada en la implementación."
   ]
  },
  {
   "cell_type": "code",
   "execution_count": 45,
   "metadata": {
    "scrolled": true
   },
   "outputs": [
    {
     "data": {
      "text/html": [
       "<a target=\"_blank\" href=\"https://us-east-1.console.aws.amazon.com/lambda/home?region=us-east-1#/applications/nyctaxi-deploy-prd?tab=deploy\">Lambda Deployment</a>"
      ],
      "text/plain": [
       "<IPython.core.display.HTML object>"
      ]
     },
     "execution_count": 45,
     "metadata": {},
     "output_type": "execute_result"
    }
   ],
   "source": [
    "HTML('<a target=\"_blank\" href=\"https://{0}.console.aws.amazon.com/lambda/home?region={0}#/applications/{1}-deploy-prd?tab=deploy\">Lambda Deployment</a>'.format(region, model_name))"
   ]
  },
  {
   "cell_type": "markdown",
   "metadata": {},
   "source": [
    "Ejecute el siguiente código para confirmar que el punto final está en servicio. Se completará una vez que la API REST esté disponible."
   ]
  },
  {
   "cell_type": "code",
   "execution_count": 46,
   "metadata": {},
   "outputs": [
    {
     "name": "stdout",
     "output_type": "stream",
     "text": [
      "Endpoint status: InService\n",
      "deployment application: nyctaxi-deploy-prd-ServerlessDeploymentApplication-1IOASB2IRR03I\n",
      "rest api: https://w2zvpcd0rd.execute-api.us-east-1.amazonaws.com/Prod/api/\n"
     ]
    }
   ],
   "source": [
    "def get_stack_status(stack_name):\n",
    "    response = cfn.describe_stacks(StackName=stack_name)\n",
    "    if response['Stacks']:\n",
    "        stack = response['Stacks'][0]\n",
    "        outputs = None\n",
    "        if 'Outputs' in stack:\n",
    "            outputs = dict([(o['OutputKey'], o['OutputValue']) for o in stack['Outputs']])\n",
    "        return stack['StackStatus'], outputs \n",
    "\n",
    "outputs = None\n",
    "while True:\n",
    "    try:\n",
    "        status, outputs = get_stack_status(stack_name)\n",
    "        response = sm.describe_endpoint(EndpointName=prd_endpoint_name)\n",
    "        print(\"Endpoint status: {}\".format(response['EndpointStatus']))\n",
    "        if outputs:\n",
    "            break\n",
    "        elif status.endswith('FAILED'):\n",
    "            raise(Exception('Stack status: {}'.format(status)))\n",
    "    except ClientError as e:\n",
    "        print(e.response[\"Error\"][\"Message\"])\n",
    "    time.sleep(10)\n",
    "\n",
    "if outputs:\n",
    "    print('deployment application: {}'.format(outputs['DeploymentApplication']))\n",
    "    print('rest api: {}'.format(outputs['RestApi']))"
   ]
  },
  {
   "cell_type": "markdown",
   "metadata": {},
   "source": [
    "Si está realizando una actualización en su implementación de producción como resultado de ejecutar [Trigger Retraining](#Trigger-Retraining), podrá expandir la pestaña Implementación de Lambda para revelar los recursos. Haga clic en el enlace **ApiFunctionAliaslive** para ver la implementación de Lambda en curso.\n",
    "\n",
    "![Traffic shift between endpoints](../docs/lambda-deploy-update.png)\n",
    "\n",
    "Esta página se actualizará para enumerar los eventos de implementación. También tiene un enlace a la aplicación de implementación a la que puede acceder en la salida de la siguiente celda."
   ]
  },
  {
   "cell_type": "code",
   "execution_count": 47,
   "metadata": {},
   "outputs": [
    {
     "data": {
      "text/html": [
       "<a target=\"_blank\" href=\"https://us-east-1.console.aws.amazon.com/codesuite/codedeploy/applications/nyctaxi-deploy-prd-ServerlessDeploymentApplication-1IOASB2IRR03I?region=us-east-1\">CodeDeploy application</a>"
      ],
      "text/plain": [
       "<IPython.core.display.HTML object>"
      ]
     },
     "execution_count": 47,
     "metadata": {},
     "output_type": "execute_result"
    }
   ],
   "source": [
    "HTML('<a target=\"_blank\" href=\"https://{0}.console.aws.amazon.com/codesuite/codedeploy/applications/{1}?region={0}\">CodeDeploy application</a>'.format(region, outputs['DeploymentApplication']))"
   ]
  },
  {
   "cell_type": "markdown",
   "metadata": {},
   "source": [
    "CodeDeploy realizará una implementación canary y enviará el 10% del tráfico al nuevo endpoint durante un período de 5 minutos.\n",
    "\n",
    "![Traffic shift between endpoints](../docs/code-deploy.gif)"
   ]
  },
  {
   "cell_type": "markdown",
   "metadata": {},
   "source": [
    "Podemos invocar la API REST e inspeccionar los encabezados que se devuelven para ver qué endpoint estamos alcanzando. Ocasionalmente veremos que la celda a continuación muestra un endpoint diferente que se ajusta a la nueva versión una vez que se completa el stack."
   ]
  },
  {
   "cell_type": "code",
   "execution_count": 48,
   "metadata": {
    "scrolled": false
   },
   "outputs": [
    {
     "name": "stdout",
     "output_type": "stream",
     "text": [
      "Response code: 200: endpoint: mlops-nyctaxi-prd-8088d44e-e8ce-4936-a0c4-97e41805f817\n",
      "Deployment complete\n",
      "\n",
      "CPU times: user 24.1 ms, sys: 193 µs, total: 24.3 ms\n",
      "Wall time: 797 ms\n"
     ]
    }
   ],
   "source": [
    "%%time\n",
    "\n",
    "from urllib import request\n",
    "\n",
    "headers = {\"Content-type\": \"text/csv\"}\n",
    "payload = test_df[test_df.columns[1:]].head(1).to_csv(header=False, index=False).encode('utf-8')\n",
    "rest_api = outputs['RestApi']\n",
    "\n",
    "while True:\n",
    "    try:\n",
    "        resp = request.urlopen(request.Request(rest_api, data=payload, headers=headers))\n",
    "        print(\"Response code: %d: endpoint: %s\" % (resp.getcode(), resp.getheader('x-sagemaker-endpoint')))\n",
    "        status, outputs = get_stack_status(stack_name) \n",
    "        if status.endswith('COMPLETE'):\n",
    "            print('Deployment complete\\n')\n",
    "            break\n",
    "        elif status.endswith('FAILED'):\n",
    "            raise(Exception('Stack status: {}'.format(status)))\n",
    "    except ClientError as e:\n",
    "        print(e.response[\"Error\"][\"Message\"])\n",
    "    time.sleep(10)"
   ]
  },
  {
   "cell_type": "markdown",
   "metadata": {},
   "source": [
    "## Monitor\n",
    "\n",
    "### Inspect Model Monitor\n",
    "\n",
    "Cuando preparamos los conjuntos de datos para el entrenamiento de modelos al comienzo de este cuaderno, guardó un conjunto de datos de referencia (una copia del conjunto de datos del tren). Luego, cuando aprobó el modelo para la implementación en producción, la canalización configuró un SageMaker Endpoint con la captura de datos habilitada y un programa de monitoreo del modelo. En esta sección, observará más de cerca los resultados del monitor modelo.\n",
    "\n",
    "Para comenzar, obtenga el ID de ejecución de implementación de producción más reciente."
   ]
  },
  {
   "cell_type": "code",
   "execution_count": 49,
   "metadata": {},
   "outputs": [],
   "source": [
    "deploy_prd = get_pipeline_stage(pipeline_name, 'DeployPrd')\n",
    "if not 'latestExecution' in deploy_prd:\n",
    "    raise(Exception('Please wait.  Deploy prod not complete'))\n",
    "    \n",
    "execution_id = deploy_prd['latestExecution']['pipelineExecutionId']"
   ]
  },
  {
   "cell_type": "markdown",
   "metadata": {},
   "source": [
    "Bajo el capó, el monitor modelo SageMaker se ejecuta en trabajos de procesamiento de SageMaker. Utilice el ID de ejecución para obtener los nombres del trabajo de procesamiento y la scheduling."
   ]
  },
  {
   "cell_type": "code",
   "execution_count": 50,
   "metadata": {},
   "outputs": [
    {
     "name": "stdout",
     "output_type": "stream",
     "text": [
      "processing job name: mlops-nyctaxi-pbl-8088d44e-e8ce-4936-a0c4-97e41805f817\n",
      "schedule name: mlops-nyctaxi-pms\n"
     ]
    }
   ],
   "source": [
    "processing_job_name='mlops-{}-pbl-{}'.format(model_name, execution_id)\n",
    "schedule_name='mlops-{}-pms'.format(model_name)\n",
    "\n",
    "print('processing job name: {}'.format(processing_job_name))\n",
    "print('schedule name: {}'.format(schedule_name))"
   ]
  },
  {
   "cell_type": "markdown",
   "metadata": {},
   "source": [
    "### Explorar Baseline\n",
    "\n",
    "Ahora obtenga los resultados del baseline del trabajo de procesamiento. Esta celda generará una excepción si el trabajo de procesamiento no está completo; si eso sucede, espere varios minutos y vuelva a intentarlo. <a id=\"view-baseline-results\"></a>"
   ]
  },
  {
   "cell_type": "code",
   "execution_count": 73,
   "metadata": {
    "scrolled": true
   },
   "outputs": [],
   "source": [
    "import sagemaker\n",
    "from sagemaker.model_monitor import BaseliningJob, MonitoringExecution\n",
    "from sagemaker.s3 import S3Downloader\n",
    "\n",
    "sagemaker_session = sagemaker.Session()\n",
    "baseline_job = BaseliningJob.from_processing_name(sagemaker_session, processing_job_name)\n",
    "status = baseline_job.describe()['ProcessingJobStatus']\n",
    "if status != 'Completed':\n",
    "    raise(Exception('Please wait. Processing job not complete, status: {}'.format(status)))\n",
    "    \n",
    "baseline_results_uri  = baseline_job.outputs[0].destination"
   ]
  },
  {
   "cell_type": "markdown",
   "metadata": {},
   "source": [
    "SageMaker model monitor genera dos tipos de archivos. Primero eche un vistazo al archivo de estadísticas. Calcula varias estadísticas para cada característica del conjunto de datos, incluida la media, la desviación estándar, el valor mínimo, el valor máximo y más."
   ]
  },
  {
   "cell_type": "code",
   "execution_count": 77,
   "metadata": {
    "scrolled": true
   },
   "outputs": [
    {
     "data": {
      "text/html": [
       "<div>\n",
       "<style scoped>\n",
       "    .dataframe tbody tr th:only-of-type {\n",
       "        vertical-align: middle;\n",
       "    }\n",
       "\n",
       "    .dataframe tbody tr th {\n",
       "        vertical-align: top;\n",
       "    }\n",
       "\n",
       "    .dataframe thead th {\n",
       "        text-align: right;\n",
       "    }\n",
       "</style>\n",
       "<table border=\"1\" class=\"dataframe\">\n",
       "  <thead>\n",
       "    <tr style=\"text-align: right;\">\n",
       "      <th></th>\n",
       "      <th>name</th>\n",
       "      <th>numerical_statistics.mean</th>\n",
       "      <th>numerical_statistics.std_dev</th>\n",
       "      <th>numerical_statistics.min</th>\n",
       "      <th>numerical_statistics.max</th>\n",
       "    </tr>\n",
       "  </thead>\n",
       "  <tbody>\n",
       "    <tr>\n",
       "      <th>0</th>\n",
       "      <td>total_amount</td>\n",
       "      <td>14.201479</td>\n",
       "      <td>9.843345</td>\n",
       "      <td>0.010000</td>\n",
       "      <td>189.960000</td>\n",
       "    </tr>\n",
       "    <tr>\n",
       "      <th>1</th>\n",
       "      <td>duration_minutes</td>\n",
       "      <td>13.035744</td>\n",
       "      <td>10.267485</td>\n",
       "      <td>0.016667</td>\n",
       "      <td>119.966667</td>\n",
       "    </tr>\n",
       "    <tr>\n",
       "      <th>2</th>\n",
       "      <td>passenger_count</td>\n",
       "      <td>1.357090</td>\n",
       "      <td>1.032101</td>\n",
       "      <td>1.000000</td>\n",
       "      <td>8.000000</td>\n",
       "    </tr>\n",
       "    <tr>\n",
       "      <th>3</th>\n",
       "      <td>trip_distance</td>\n",
       "      <td>2.750422</td>\n",
       "      <td>2.858442</td>\n",
       "      <td>0.010000</td>\n",
       "      <td>63.430000</td>\n",
       "    </tr>\n",
       "  </tbody>\n",
       "</table>\n",
       "</div>"
      ],
      "text/plain": [
       "               name  numerical_statistics.mean  numerical_statistics.std_dev  \\\n",
       "0      total_amount                  14.201479                      9.843345   \n",
       "1  duration_minutes                  13.035744                     10.267485   \n",
       "2   passenger_count                   1.357090                      1.032101   \n",
       "3     trip_distance                   2.750422                      2.858442   \n",
       "\n",
       "   numerical_statistics.min  numerical_statistics.max  \n",
       "0                  0.010000                189.960000  \n",
       "1                  0.016667                119.966667  \n",
       "2                  1.000000                  8.000000  \n",
       "3                  0.010000                 63.430000  "
      ]
     },
     "execution_count": 77,
     "metadata": {},
     "output_type": "execute_result"
    }
   ],
   "source": [
    "import pandas as pd\n",
    "import json\n",
    "\n",
    "baseline_statistics = baseline_job.baseline_statistics().body_dict\n",
    "schema_df = pd.json_normalize(baseline_statistics[\"features\"])\n",
    "schema_df[[\"name\", \"numerical_statistics.mean\", \"numerical_statistics.std_dev\",\n",
    "           \"numerical_statistics.min\", \"numerical_statistics.max\"]].head()"
   ]
  },
  {
   "cell_type": "markdown",
   "metadata": {},
   "source": [
    "Now look at the suggested [constraints files](https://docs.aws.amazon.com/sagemaker/latest/dg/model-monitor-byoc-constraints.html)⇗. Como su nombre lo indica, estas son las limitaciones que recomienda el monitor de modelos de SageMaker. Si los datos en vivo que se envían a su producción SageMaker Endpoint violan estas restricciones, esto indica una deriva de datos, y el monitor del modelo puede generar una alerta para activar el reentrenamiento. Por supuesto, puede establecer diferentes restricciones en función de las estadísticas que vio anteriormente."
   ]
  },
  {
   "cell_type": "code",
   "execution_count": 78,
   "metadata": {},
   "outputs": [
    {
     "data": {
      "text/html": [
       "<div>\n",
       "<style scoped>\n",
       "    .dataframe tbody tr th:only-of-type {\n",
       "        vertical-align: middle;\n",
       "    }\n",
       "\n",
       "    .dataframe tbody tr th {\n",
       "        vertical-align: top;\n",
       "    }\n",
       "\n",
       "    .dataframe thead th {\n",
       "        text-align: right;\n",
       "    }\n",
       "</style>\n",
       "<table border=\"1\" class=\"dataframe\">\n",
       "  <thead>\n",
       "    <tr style=\"text-align: right;\">\n",
       "      <th></th>\n",
       "      <th>name</th>\n",
       "      <th>inferred_type</th>\n",
       "      <th>completeness</th>\n",
       "      <th>num_constraints.is_non_negative</th>\n",
       "    </tr>\n",
       "  </thead>\n",
       "  <tbody>\n",
       "    <tr>\n",
       "      <th>0</th>\n",
       "      <td>total_amount</td>\n",
       "      <td>Fractional</td>\n",
       "      <td>1.0</td>\n",
       "      <td>True</td>\n",
       "    </tr>\n",
       "    <tr>\n",
       "      <th>1</th>\n",
       "      <td>duration_minutes</td>\n",
       "      <td>Fractional</td>\n",
       "      <td>1.0</td>\n",
       "      <td>True</td>\n",
       "    </tr>\n",
       "    <tr>\n",
       "      <th>2</th>\n",
       "      <td>passenger_count</td>\n",
       "      <td>Integral</td>\n",
       "      <td>1.0</td>\n",
       "      <td>True</td>\n",
       "    </tr>\n",
       "    <tr>\n",
       "      <th>3</th>\n",
       "      <td>trip_distance</td>\n",
       "      <td>Fractional</td>\n",
       "      <td>1.0</td>\n",
       "      <td>True</td>\n",
       "    </tr>\n",
       "  </tbody>\n",
       "</table>\n",
       "</div>"
      ],
      "text/plain": [
       "               name inferred_type  completeness  \\\n",
       "0      total_amount    Fractional           1.0   \n",
       "1  duration_minutes    Fractional           1.0   \n",
       "2   passenger_count      Integral           1.0   \n",
       "3     trip_distance    Fractional           1.0   \n",
       "\n",
       "   num_constraints.is_non_negative  \n",
       "0                             True  \n",
       "1                             True  \n",
       "2                             True  \n",
       "3                             True  "
      ]
     },
     "execution_count": 78,
     "metadata": {},
     "output_type": "execute_result"
    }
   ],
   "source": [
    "baseline_constraints = baseline_job.suggested_constraints().body_dict\n",
    "constraints_df = pd.json_normalize(baseline_constraints[\"features\"])\n",
    "constraints_df.head()"
   ]
  },
  {
   "cell_type": "markdown",
   "metadata": {},
   "source": [
    "### View data capture\n",
    "\n",
    "Cuando la etapa \"Implementar producción\" del pipeline de MLOps implementa un endpoint de SageMaker, también permite la captura de datos. Esto significa que las solicitudes entrantes al endpoint, así como los resultados del modelo ML, se almacenan en una ubicación S3. El monitor de modelo puede analizar estos datos y compararlos con la línea de base o el baseline para asegurarse de que no se infrinjan las restricciones.\n",
    "\n",
    "Usaremos el siguiente código para comprobar cuántos archivos se han creado mediante la captura de datos y ver el último archivo en detalle. Tenga en cuenta que la captura de datos se basa en el envío de datos al endpoint de producción. Si aún no ve ningún archivo, espere varios minutos y vuelva a intentarlo."
   ]
  },
  {
   "cell_type": "code",
   "execution_count": 79,
   "metadata": {},
   "outputs": [
    {
     "name": "stdout",
     "output_type": "stream",
     "text": [
      "Found 3 files\n",
      "\n",
      "Last file:\n",
      "{\n",
      "  \"captureData\": {\n",
      "    \"endpointInput\": {\n",
      "      \"observedContentType\": \"text/csv\",\n",
      "      \"mode\": \"INPUT\",\n",
      "      \"data\": \"10.65,1,2.56\\n\",\n",
      "      \"encoding\": \"CSV\"\n",
      "    },\n",
      "    \"endpointOutput\": {\n",
      "      \"observedContentType\": \"text/csv; charset=utf-8\",\n",
      "      \"mode\": \"OUTPUT\",\n",
      "      \"data\": \"12.657118797302246\",\n",
      "      \"encoding\": \"CSV\"\n",
      "    }\n",
      "  },\n",
      "  \"eventMetadata\": {\n",
      "    \"eventId\": \"9a7483c7-2b76-4d88-bc0c-a78f067c9d9a\",\n",
      "    \"customAttributes\": [\n",
      "      \"\"\n",
      "    ],\n",
      "    \"inferenceTime\": \"2021-09-18T03:55:41Z\"\n",
      "  },\n",
      "  \"eventVersion\": \"0\"\n",
      "}\n"
     ]
    }
   ],
   "source": [
    "bucket = sagemaker_session.default_bucket()\n",
    "data_capture_logs_uri = 's3://{}/{}/datacapture/{}'.format(bucket, model_name, prd_endpoint_name)\n",
    "\n",
    "capture_files = S3Downloader.list(data_capture_logs_uri)\n",
    "print('Found {} files'.format(len(capture_files)))\n",
    "\n",
    "if capture_files:\n",
    "    # Get the first line of the most recent file    \n",
    "    event = json.loads(S3Downloader.read_file(capture_files[-1]).split('\\n')[0])\n",
    "    print('\\nLast file:\\n{}'.format(json.dumps(event, indent=2)))"
   ]
  },
  {
   "cell_type": "markdown",
   "metadata": {},
   "source": [
    "### View monitoring schedule\n",
    "\n",
    "Hay algunas funciones útiles para plotear y renderizar estadísticas de distribución o incumplimiento de restricciones proporcionadas en un archivo `utils` en el [SageMaker Examples GitHub](https://github.com/aws/amazon-sagemaker-examples/tree/master/sagemaker_model_monitor/visualization). Copiaremos este código para usar en el notebook."
   ]
  },
  {
   "cell_type": "code",
   "execution_count": 80,
   "metadata": {},
   "outputs": [],
   "source": [
    "!wget -O utils.py --quiet https://raw.githubusercontent.com/awslabs/amazon-sagemaker-examples/master/sagemaker_model_monitor/visualization/utils.py\n",
    "import utils as mu"
   ]
  },
  {
   "cell_type": "markdown",
   "metadata": {},
   "source": [
    "El [tiempo de ejecución mínimo programado](https://docs.aws.amazon.com/sagemaker/latest/dg/model-monitor-scheduling.html) para el modelo de monitor es una hora, lo que significa que tendrá que esperar al menos una hora para ver los resultados. Utilizar el siguiente código para comprobar el estado de la programación y enumerar la siguiente ejecución."
   ]
  },
  {
   "cell_type": "code",
   "execution_count": 81,
   "metadata": {},
   "outputs": [
    {
     "name": "stdout",
     "output_type": "stream",
     "text": [
      "Schedule Status: Scheduled\n",
      "Next schedule in 46 minutes\n"
     ]
    }
   ],
   "source": [
    "sm = boto3.client('sagemaker')\n",
    "\n",
    "response = sm.describe_monitoring_schedule(MonitoringScheduleName=schedule_name)\n",
    "print('Schedule Status: {}'.format(response['MonitoringScheduleStatus']))\n",
    "\n",
    "now = datetime.now(tzlocal())\n",
    "next_hour = (now+timedelta(hours=1)).replace(minute=0)\n",
    "scheduled_diff = (next_hour-now).seconds//60\n",
    "print('Next schedule in {} minutes'.format(scheduled_diff))"
   ]
  },
  {
   "cell_type": "markdown",
   "metadata": {},
   "source": [
    "Mientras esperamos, podemos echar un vistazo a la plantilla de CloudFormation que se utiliza como base para la plantilla de CloudFormation creada por CodeDeploy para implementar la aplicación de producción.\n",
    "\n",
    "Alternativamente, podemos ir a [Trigger Retraining](#Trigger-Retraining) que iniciará otra ejecución del pipeline de código mientras esperamos"
   ]
  },
  {
   "cell_type": "code",
   "execution_count": 82,
   "metadata": {},
   "outputs": [
    {
     "name": "stdout",
     "output_type": "stream",
     "text": [
      "Transform: AWS::Serverless-2016-10-31\r\n",
      "Description: Deploy the production Amazon SageMaker Endpoint with Autoscaling, Model Monitoring Schedule and API Gateway Lambda.\r\n",
      "Parameters:\r\n",
      "  ImageRepoUri:\r\n",
      "    Type: String\r\n",
      "    Description: Uri of the docker (ECR) model image\r\n",
      "  ModelName:\r\n",
      "    Type: String\r\n",
      "    Description: Name of the model\r\n",
      "  TrainJobId:\r\n",
      "    Type: String\r\n",
      "    Description: Id of the Codepipeline + SagemakerJobs\r\n",
      "  DeployRoleArn:\r\n",
      "    Type: String\r\n",
      "    Description: The role for executing the deployment\r\n",
      "  ModelVariant:\r\n",
      "    Type: String\r\n",
      "    Description: Name of the model variant\r\n",
      "  ScheduleMetricName:\r\n",
      "    Type: String\r\n",
      "    Description: The metric to alarm on for schedule\r\n",
      "  ScheduleMetricThreshold:\r\n",
      "    Type: Number\r\n",
      "    Description: The metric alarm threshold\r\n",
      "  KmsKeyId:\r\n",
      "    Description: AWS KMS key ID used to encrypt data at rest on the ML storage volume attached to endpoint config and S3 data capture.\r\n",
      "    Type: String\r\n",
      "  NotificationArn:\r\n",
      "    Description: The arn for notification topic\r\n",
      "    Type: String\r\n",
      "\r\n",
      "Mappings:\r\n",
      "  # Latest Model Monitor mapping: https://github.com/aws/sagemaker-python-sdk/blob/master/src/sagemaker/image_uri_config/model-monitor.json\r\n",
      "  ModelAnalyzerMap:\r\n",
      "    \"af-south-1\":\r\n",
      "      \"ImageUri\": \"875698925577.dkr.ecr.af-south-1.amazonaws.com/sagemaker-model-monitor-analyzer:latest\"\r\n",
      "    \"ap-east-1\":\r\n",
      "      \"ImageUri\": \"001633400207.dkr.ecr.ap-east-1.amazonaws.com/sagemaker-model-monitor-analyzer:latest\"\r\n",
      "    \"ap-northeast-1\":\r\n",
      "      \"ImageUri\": \"574779866223.dkr.ecr.ap-northeast-1.amazonaws.com/sagemaker-model-monitor-analyzer:latest\"\r\n",
      "    \"ap-northeast-2\":\r\n",
      "      \"ImageUri\": \"709848358524.dkr.ecr.ap-northeast-2.amazonaws.com/sagemaker-model-monitor-analyzer:latest\"\r\n",
      "    \"ap-south-1\":\r\n",
      "      \"ImageUri\": \"126357580389.dkr.ecr.ap-south-1.amazonaws.com/sagemaker-model-monitor-analyzer:latest\"\r\n",
      "    \"ap-southeast-1\":\r\n",
      "      \"ImageUri\": \"245545462676.dkr.ecr.ap-southeast-1.amazonaws.com/sagemaker-model-monitor-analyzer:latest\"\r\n",
      "    \"ap-southeast-2\":\r\n",
      "      \"ImageUri\": \"563025443158.dkr.ecr.ap-southeast-2.amazonaws.com/sagemaker-model-monitor-analyzer:latest\"\r\n",
      "    \"ca-central-1\":\r\n",
      "      \"ImageUri\": \"536280801234.dkr.ecr.eu-central-1.amazonaws.com/sagemaker-model-monitor-analyzer:latest\"\r\n",
      "    \"cn-north-1\":\r\n",
      "      \"ImageUri\": \"453000072557.dkr.ecr.cn-north-1.amazonaws.com/sagemaker-model-monitor-analyzer:latest\"\r\n",
      "    \"cn-northwest-1\":\r\n",
      "      \"ImageUri\": \"453252182341.dkr.ecr.cn-northwest-1.amazonaws.com/sagemaker-model-monitor-analyzer:latest\"\r\n",
      "    \"eu-central-1\":\r\n",
      "      \"ImageUri\": \"048819808253.dkr.ecr.eu-central-1.amazonaws.com/sagemaker-model-monitor-analyzer:latest\"\r\n",
      "    \"eu-north-1\":\r\n",
      "      \"ImageUri\": \"895015795356.dkr.ecr.eu-north-1.amazonaws.com/sagemaker-model-monitor-analyzer:latest\"\r\n",
      "    \"eu-south-1\":\r\n",
      "      \"ImageUri\": \"933208885752.dkr.ecr.eu-south-1.amazonaws.com/sagemaker-model-monitor-analyzer:latest\"\r\n",
      "    \"eu-west-1\":\r\n",
      "      \"ImageUri\": \"468650794304.dkr.ecr.eu-west-1.amazonaws.com/sagemaker-model-monitor-analyzer:latest\"\r\n",
      "    \"eu-west-2\":\r\n",
      "      \"ImageUri\": \"749857270468.dkr.ecr.eu-west-2.amazonaws.com/sagemaker-model-monitor-analyzer:latest\"\r\n",
      "    \"eu-west-3\":\r\n",
      "      \"ImageUri\": \"680080141114.dkr.ecr.eu-west-3.amazonaws.com/sagemaker-model-monitor-analyzer:latest\"\r\n",
      "    \"me-south-1\":\r\n",
      "      \"ImageUri\": \"607024016150.dkr.ecr.me-south-1.amazonaws.com/sagemaker-model-monitor-analyzer:latest\"\r\n",
      "    \"sa-east-1\":\r\n",
      "      \"ImageUri\": \"539772159869.dkr.ecr.sa-east-1.amazonaws.com/sagemaker-model-monitor-analyzer:latest\"\r\n",
      "    \"us-east-1\":\r\n",
      "      \"ImageUri\": \"156813124566.dkr.ecr.us-east-1.amazonaws.com/sagemaker-model-monitor-analyzer:latest\"\r\n",
      "    \"us-east-2\":\r\n",
      "      \"ImageUri\": \"777275614652.dkr.ecr.us-east-2.amazonaws.com/sagemaker-model-monitor-analyzer:latest\"\r\n",
      "    \"us-west-1\":\r\n",
      "      \"ImageUri\": \"890145073186.dkr.ecr.us-west-1.amazonaws.com/sagemaker-model-monitor-analyzer:latest\"\r\n",
      "    \"us-west-2\":\r\n",
      "      \"ImageUri\": \"159807026194.dkr.ecr.us-west-2.amazonaws.com/sagemaker-model-monitor-analyzer:latest\"\r\n",
      "\r\n",
      "Resources:\r\n",
      "  Model:\r\n",
      "    Type: \"AWS::SageMaker::Model\"\r\n",
      "    Properties:\r\n",
      "      ModelName: !Sub mlops-${ModelName}-prd-${TrainJobId}\r\n",
      "      PrimaryContainer:\r\n",
      "        Image: !Ref ImageRepoUri\r\n",
      "        ModelDataUrl: !Sub s3://sagemaker-${AWS::Region}-${AWS::AccountId}/${ModelName}/mlops-${ModelName}-${TrainJobId}/output/model.tar.gz\r\n",
      "      ExecutionRoleArn: !Ref DeployRoleArn\r\n",
      "\r\n",
      "  EndpointConfig:\r\n",
      "    Type: \"AWS::SageMaker::EndpointConfig\"\r\n",
      "    Properties:\r\n",
      "      ProductionVariants:\r\n",
      "        - InitialInstanceCount: 2\r\n",
      "          InitialVariantWeight: 1.0\r\n",
      "          InstanceType: ml.m5.large\r\n",
      "          ModelName: !GetAtt Model.ModelName\r\n",
      "          VariantName: !Sub ${ModelVariant}-${ModelName}\r\n",
      "      DataCaptureConfig:\r\n",
      "        CaptureContentTypeHeader:\r\n",
      "          CsvContentTypes:\r\n",
      "            - \"text/csv\"\r\n",
      "          JsonContentTypes:\r\n",
      "            - \"application/json\"\r\n",
      "        CaptureOptions:\r\n",
      "          - CaptureMode: Input\r\n",
      "          - CaptureMode: Output\r\n",
      "        DestinationS3Uri: !Sub s3://sagemaker-${AWS::Region}-${AWS::AccountId}/${ModelName}/datacapture\r\n",
      "        EnableCapture: True\r\n",
      "        InitialSamplingPercentage: 100\r\n",
      "        KmsKeyId: !Ref KmsKeyId\r\n",
      "      EndpointConfigName: !Sub mlops-${ModelName}-pec-${TrainJobId}\r\n",
      "      KmsKeyId: !Ref KmsKeyId\r\n",
      "\r\n",
      "  Endpoint:\r\n",
      "    Type: \"AWS::SageMaker::Endpoint\"\r\n",
      "    Properties:\r\n",
      "      EndpointName: !Sub mlops-${ModelName}-prd-${TrainJobId}\r\n",
      "      EndpointConfigName: !GetAtt EndpointConfig.EndpointConfigName\r\n",
      "\r\n",
      "  ApiFunction:\r\n",
      "    Type: AWS::Serverless::Function\r\n",
      "    Properties:\r\n",
      "      FunctionName: !Sub mlops-${ModelName}-api\r\n",
      "      CodeUri: ../api\r\n",
      "      Handler: app.lambda_handler\r\n",
      "      Runtime: python3.7\r\n",
      "      Role: !GetAtt ApiFunctionRole.Arn\r\n",
      "      KmsKeyArn: !Sub arn:aws:kms:${AWS::Region}:${AWS::AccountId}:key/${KmsKeyId}\r\n",
      "      AutoPublishAlias: \"live\"\r\n",
      "      #AutoPublishCodeSha256: !Ref TrainSha256\r\n",
      "      DeploymentPreference:\r\n",
      "        Type: Canary10Percent5Minutes #AllAtOnce\r\n",
      "        Alarms:\r\n",
      "          # A list of alarms that you want to monitor\r\n",
      "          - !Ref AliasErrorMetricGreaterThanZeroAlarm\r\n",
      "          - !Ref LatestVersionErrorMetricGreaterThanZeroAlarm\r\n",
      "        Hooks:\r\n",
      "          # Validation Lambda functions that are run before and after traffic shifting\r\n",
      "          PreTraffic: !Ref PreTrafficLambdaFunction\r\n",
      "          PostTraffic: !Ref PostTrafficLambdaFunction\r\n",
      "        TriggerConfigurations:\r\n",
      "          - TriggerEvents:\r\n",
      "              - DeploymentSuccess\r\n",
      "              - DeploymentFailure\r\n",
      "            TriggerName: DeploymentCompleteTrigger\r\n",
      "            TriggerTargetArn: !Ref NotificationArn\r\n",
      "      Environment:\r\n",
      "        Variables:\r\n",
      "          ENDPOINT_NAME: !GetAtt Endpoint.EndpointName\r\n",
      "      Events:\r\n",
      "        Invoke:\r\n",
      "          Type: Api\r\n",
      "          Properties:\r\n",
      "            Path: /api\r\n",
      "            Method: post\r\n",
      "    Description: \"Api deployment that invokes SageMaker endpoint\"\r\n",
      "\r\n",
      "  ApiFunctionRole:\r\n",
      "    Type: AWS::IAM::Role\r\n",
      "    Properties:\r\n",
      "      AssumeRolePolicyDocument:\r\n",
      "        Statement:\r\n",
      "          - Action:\r\n",
      "              - sts:AssumeRole\r\n",
      "            Effect: Allow\r\n",
      "            Principal:\r\n",
      "              Service:\r\n",
      "                - lambda.amazonaws.com\r\n",
      "        Version: \"2012-10-17\"\r\n",
      "      ManagedPolicyArns:\r\n",
      "        - \"arn:aws:iam::aws:policy/service-role/AWSLambdaBasicExecutionRole\"\r\n",
      "      Policies:\r\n",
      "        - PolicyDocument:\r\n",
      "            Statement:\r\n",
      "              - Sid: AllowSageMaker\r\n",
      "                Effect: Allow\r\n",
      "                Action:\r\n",
      "                  - sagemaker:InvokeEndpoint\r\n",
      "                Resource: \"arn:aws:sagemaker:*:*:endpoint/mlops-*\"\r\n",
      "              - Sid: AlowSNS\r\n",
      "                Effect: Allow\r\n",
      "                Action:\r\n",
      "                  - sns:Publish\r\n",
      "                Resource: !Ref NotificationArn\r\n",
      "            Version: \"2012-10-17\"\r\n",
      "          PolicyName: SageMakerInvokeEndpoint\r\n",
      "\r\n",
      "  PreTrafficLambdaFunction:\r\n",
      "    Type: AWS::Serverless::Function\r\n",
      "    Properties:\r\n",
      "      FunctionName: !Sub \"CodeDeployHook_mlops-${ModelName}-PreTrafficLambdaFunction\"\r\n",
      "      CodeUri: ../api\r\n",
      "      Handler: pre_traffic_hook.lambda_handler\r\n",
      "      Runtime: python3.7\r\n",
      "      Timeout: 30\r\n",
      "      KmsKeyArn: !Sub arn:aws:kms:${AWS::Region}:${AWS::AccountId}:key/${KmsKeyId}\r\n",
      "      Policies:\r\n",
      "        - Version: \"2012-10-17\"\r\n",
      "          Statement:\r\n",
      "            - Sid: AllowSageMaker\r\n",
      "              Effect: Allow\r\n",
      "              Action:\r\n",
      "                - sagemaker:DescribeEndpoint\r\n",
      "                - sagemaker:DescribeEndpointConfig\r\n",
      "                - sagemaker:InvokeEndpoint\r\n",
      "              Resource:\r\n",
      "                - \"arn:aws:sagemaker:*:*:*/mlops-*\"\r\n",
      "            - Sid: AllowCodeDeploy\r\n",
      "              Effect: Allow\r\n",
      "              Action:\r\n",
      "                - codedeploy:PutLifecycleEventHookExecutionStatus\r\n",
      "              Resource: !Sub \"arn:${AWS::Partition}:codedeploy:${AWS::Region}:${AWS::AccountId}:deploymentgroup:${ServerlessDeploymentApplication}/*\"\r\n",
      "      DeploymentPreference:\r\n",
      "        Enabled: False\r\n",
      "      Environment:\r\n",
      "        Variables:\r\n",
      "          ENDPOINT_NAME: !GetAtt Endpoint.EndpointName\r\n",
      "      Description: \"Perform checks pre-shifting traffic to lambda\"\r\n",
      "\r\n",
      "  PostTrafficLambdaFunction:\r\n",
      "    Type: AWS::Serverless::Function\r\n",
      "    Properties:\r\n",
      "      FunctionName: !Sub \"CodeDeployHook_mlops-${ModelName}-PostTrafficLambdaFunction\"\r\n",
      "      CodeUri: ../api\r\n",
      "      Handler: post_traffic_hook.lambda_handler\r\n",
      "      Runtime: python3.7\r\n",
      "      Timeout: 30\r\n",
      "      KmsKeyArn: !Sub arn:aws:kms:${AWS::Region}:${AWS::AccountId}:key/${KmsKeyId}\r\n",
      "      Policies:\r\n",
      "        - Version: \"2012-10-17\"\r\n",
      "          Statement:\r\n",
      "            - Sid: AllowS3List\r\n",
      "              Effect: Allow\r\n",
      "              Action:\r\n",
      "                - s3:ListBucket\r\n",
      "              Resource: !Sub arn:aws:s3:::sagemaker-${AWS::Region}-${AWS::AccountId}\r\n",
      "            - Sid: AllowS3Get\r\n",
      "              Effect: Allow\r\n",
      "              Action:\r\n",
      "                - s3:GetObject\r\n",
      "              Resource: !Sub arn:aws:s3:::sagemaker-${AWS::Region}-${AWS::AccountId}/*\r\n",
      "            - Sid: AllowCodeDeploy\r\n",
      "              Effect: Allow\r\n",
      "              Action:\r\n",
      "                - codedeploy:PutLifecycleEventHookExecutionStatus\r\n",
      "              Resource: !Sub \"arn:${AWS::Partition}:codedeploy:${AWS::Region}:${AWS::AccountId}:deploymentgroup:${ServerlessDeploymentApplication}/*\"\r\n",
      "      DeploymentPreference:\r\n",
      "        Enabled: False\r\n",
      "      Environment:\r\n",
      "        Variables:\r\n",
      "          ENDPOINT_NAME: !GetAtt Endpoint.EndpointName\r\n",
      "          DATA_CAPTURE_URI: !Sub s3://sagemaker-${AWS::Region}-${AWS::AccountId}/${ModelName}/datacapture\r\n",
      "      Description: \"Perform checks post-shifting traffic to lambda\"\r\n",
      "\r\n",
      "  SagemakerMonitoringSchedule:\r\n",
      "    Type: AWS::SageMaker::MonitoringSchedule\r\n",
      "    Properties:\r\n",
      "      EndpointName: !GetAtt Endpoint.EndpointName\r\n",
      "      MonitoringScheduleConfig:\r\n",
      "        MonitoringJobDefinition:\r\n",
      "          BaselineConfig:\r\n",
      "            ConstraintsResource:\r\n",
      "              S3Uri: !Sub s3://sagemaker-${AWS::Region}-${AWS::AccountId}/${ModelName}/monitoring/baseline/mlops-${ModelName}-pbl-${TrainJobId}/constraints.json\r\n",
      "            StatisticsResource:\r\n",
      "              S3Uri: !Sub s3://sagemaker-${AWS::Region}-${AWS::AccountId}/${ModelName}/monitoring/baseline/mlops-${ModelName}-pbl-${TrainJobId}/statistics.json\r\n",
      "          MonitoringAppSpecification:\r\n",
      "            ImageUri:\r\n",
      "              !FindInMap [ModelAnalyzerMap, !Ref \"AWS::Region\", \"ImageUri\"]\r\n",
      "          MonitoringInputs:\r\n",
      "            - EndpointInput:\r\n",
      "                EndpointName: !GetAtt Endpoint.EndpointName\r\n",
      "                LocalPath: \"/opt/ml/processing/endpointdata\"\r\n",
      "          MonitoringOutputConfig:\r\n",
      "            MonitoringOutputs:\r\n",
      "              - S3Output:\r\n",
      "                  LocalPath: \"/opt/ml/processing/localpath\"\r\n",
      "                  S3Uri: !Sub s3://sagemaker-${AWS::Region}-${AWS::AccountId}/${ModelName}/monitoring/reports\r\n",
      "          MonitoringResources:\r\n",
      "            ClusterConfig:\r\n",
      "              InstanceCount: 1\r\n",
      "              InstanceType: ml.m5.xlarge\r\n",
      "              VolumeKmsKeyId: !Ref KmsKeyId\r\n",
      "              VolumeSizeInGB: 30\r\n",
      "          RoleArn: !Ref DeployRoleArn\r\n",
      "          StoppingCondition:\r\n",
      "            MaxRuntimeInSeconds: 1800\r\n",
      "        ScheduleConfig:\r\n",
      "          ScheduleExpression: \"cron(0 * ? * * *)\"\r\n",
      "      MonitoringScheduleName: !Sub mlops-${ModelName}-pms\r\n",
      "\r\n",
      "  SagemakerScheduleAlarm:\r\n",
      "    Type: \"AWS::CloudWatch::Alarm\"\r\n",
      "    Properties:\r\n",
      "      AlarmName: !Sub mlops-${ModelName}-metric-gt-threshold\r\n",
      "      AlarmDescription: Schedule Metric > Threshold\r\n",
      "      ComparisonOperator: GreaterThanThreshold\r\n",
      "      Dimensions:\r\n",
      "        - Name: Endpoint\r\n",
      "          Value: !GetAtt Endpoint.EndpointName\r\n",
      "        - Name: MonitoringSchedule\r\n",
      "          Value: !Sub mlops-${ModelName}-pms\r\n",
      "      EvaluationPeriods: 1\r\n",
      "      DatapointsToAlarm: 1\r\n",
      "      MetricName: !Ref ScheduleMetricName\r\n",
      "      Namespace: aws/sagemaker/Endpoints/data-metrics\r\n",
      "      Period: 60\r\n",
      "      Statistic: Average\r\n",
      "      Threshold: !Ref ScheduleMetricThreshold\r\n",
      "\r\n",
      "  AliasErrorMetricGreaterThanZeroAlarm:\r\n",
      "    Type: \"AWS::CloudWatch::Alarm\"\r\n",
      "    Properties:\r\n",
      "      AlarmName: !Sub mlops-${ModelName}-alias-gt-zero\r\n",
      "      AlarmDescription: Lambda Function Error > 0\r\n",
      "      ComparisonOperator: GreaterThanThreshold\r\n",
      "      Dimensions:\r\n",
      "        - Name: Resource\r\n",
      "          Value: !Sub \"${ApiFunction}:live\"\r\n",
      "        - Name: FunctionName\r\n",
      "          Value: !Ref ApiFunction\r\n",
      "      EvaluationPeriods: 2\r\n",
      "      MetricName: Errors\r\n",
      "      Namespace: AWS/Lambda\r\n",
      "      Period: 60\r\n",
      "      Statistic: Sum\r\n",
      "      Threshold: 0\r\n",
      "\r\n",
      "  LatestVersionErrorMetricGreaterThanZeroAlarm:\r\n",
      "    Type: \"AWS::CloudWatch::Alarm\"\r\n",
      "    Properties:\r\n",
      "      AlarmName: !Sub mlops-${ModelName}-version-gt-zero\r\n",
      "      AlarmDescription: Lambda Function Error > 0\r\n",
      "      ComparisonOperator: GreaterThanThreshold\r\n",
      "      Dimensions:\r\n",
      "        - Name: Resource\r\n",
      "          Value: !Sub \"${ApiFunction}:live\"\r\n",
      "        - Name: FunctionName\r\n",
      "          Value: !Ref ApiFunction\r\n",
      "        - Name: ExecutedVersion\r\n",
      "          Value: !GetAtt ApiFunction.Version.Version\r\n",
      "      EvaluationPeriods: 2\r\n",
      "      MetricName: Errors\r\n",
      "      Namespace: AWS/Lambda\r\n",
      "      Period: 60\r\n",
      "      Statistic: Sum\r\n",
      "      Threshold: 0\r\n",
      "\r\n",
      "  AutoScaling:\r\n",
      "    Type: AWS::ApplicationAutoScaling::ScalableTarget\r\n",
      "    Properties:\r\n",
      "      MaxCapacity: 10\r\n",
      "      MinCapacity: 2\r\n",
      "      ResourceId: !Sub endpoint/mlops-${ModelName}-prd-${TrainJobId}/variant/${ModelVariant}-${ModelName}\r\n",
      "      RoleARN: !Sub arn:aws:iam::${AWS::AccountId}:role/MLOps\r\n",
      "      ScalableDimension: sagemaker:variant:DesiredInstanceCount\r\n",
      "      ServiceNamespace: sagemaker\r\n",
      "    DependsOn: Endpoint\r\n",
      "\r\n",
      "  AutoScalingPolicy:\r\n",
      "    Type: \"AWS::ApplicationAutoScaling::ScalingPolicy\"\r\n",
      "    Properties:\r\n",
      "      PolicyName: SageMakerVariantInvocationsPerInstance\r\n",
      "      PolicyType: TargetTrackingScaling\r\n",
      "      ResourceId: !Sub endpoint/mlops-${ModelName}-prd-${TrainJobId}/variant/${ModelVariant}-${ModelName}\r\n",
      "      ScalableDimension: sagemaker:variant:DesiredInstanceCount\r\n",
      "      ServiceNamespace: sagemaker\r\n",
      "      TargetTrackingScalingPolicyConfiguration:\r\n",
      "        TargetValue: 750.0\r\n",
      "        ScaleInCooldown: 60\r\n",
      "        ScaleOutCooldown: 60\r\n",
      "        PredefinedMetricSpecification:\r\n",
      "          PredefinedMetricType: SageMakerVariantInvocationsPerInstance\r\n",
      "    DependsOn: AutoScaling\r\n",
      "\r\n",
      "Outputs:\r\n",
      "  # ServerlessRestApi is an implicit API created out of Events key under Serverless::Function\r\n",
      "  # Find out more about other implicit resources you can reference within SAM\r\n",
      "  # https://github.com/awslabs/serverless-application-model/blob/master/docs/internals/generated_resources.rst#api\r\n",
      "  DeploymentApplication:\r\n",
      "    Description: \"Regression deployment application\"\r\n",
      "    Value: !Ref ServerlessDeploymentApplication\r\n",
      "  RestApi:\r\n",
      "    Description: \"API Gateway endpoint URL for Prod stage for Regression function\"\r\n",
      "    Value: !Sub \"https://${ServerlessRestApi}.execute-api.${AWS::Region}.amazonaws.com/Prod/api/\"\r\n"
     ]
    }
   ],
   "source": [
    "!cat ../assets/deploy-model-prd.yml"
   ]
  },
  {
   "cell_type": "markdown",
   "metadata": {},
   "source": [
    "Un par de minutos después de que se haya ejecutado el programa de monitoreo del modelo, puede usar el código a continuación para obtener el último estado del programa. Es posible que una ejecución de programación completada haya detectado infracciones."
   ]
  },
  {
   "cell_type": "code",
   "execution_count": 83,
   "metadata": {},
   "outputs": [
    {
     "name": "stdout",
     "output_type": "stream",
     "text": [
      "Schedule status: InProgress, Created: 9 minutes ago\n",
      "Schedule status: InProgress, Created: 9 minutes ago\n",
      "Schedule status: InProgress, Created: 10 minutes ago\n",
      "Schedule status: InProgress, Created: 10 minutes ago\n",
      "Schedule status: InProgress, Created: 10 minutes ago\n",
      "Schedule status: InProgress, Created: 10 minutes ago\n",
      "Schedule status: InProgress, Created: 10 minutes ago\n",
      "Schedule status: InProgress, Created: 10 minutes ago\n",
      "Schedule status: InProgress, Created: 11 minutes ago\n",
      "Schedule status: InProgress, Created: 11 minutes ago\n",
      "Schedule status: InProgress, Created: 11 minutes ago\n",
      "Schedule status: InProgress, Created: 11 minutes ago\n",
      "Schedule status: InProgress, Created: 11 minutes ago\n",
      "Schedule status: InProgress, Created: 11 minutes ago\n",
      "Schedule status: InProgress, Created: 12 minutes ago\n",
      "Schedule status: InProgress, Created: 12 minutes ago\n",
      "Schedule status: InProgress, Created: 12 minutes ago\n",
      "Schedule status: InProgress, Created: 12 minutes ago\n",
      "Schedule status: InProgress, Created: 12 minutes ago\n",
      "Schedule status: InProgress, Created: 12 minutes ago\n",
      "Schedule status: InProgress, Created: 13 minutes ago\n",
      "Schedule status: InProgress, Created: 13 minutes ago\n",
      "Schedule status: CompletedWithViolations, Created: 13 minutes ago\n"
     ]
    }
   ],
   "source": [
    "processing_job_arn = None\n",
    "\n",
    "while processing_job_arn == None:\n",
    "    try:\n",
    "        response = sm.list_monitoring_executions(MonitoringScheduleName=schedule_name)\n",
    "    except ClientError as e:\n",
    "        print(e.response[\"Error\"][\"Message\"])\n",
    "    for mon in response['MonitoringExecutionSummaries']:\n",
    "        status = mon['MonitoringExecutionStatus']\n",
    "        now = datetime.now(tzlocal())\n",
    "        created_diff = (now-mon['CreationTime']).seconds//60\n",
    "        print('Schedule status: {}, Created: {} minutes ago'.format(status, created_diff))\n",
    "        if status in ['Completed', 'CompletedWithViolations']:\n",
    "            processing_job_arn = mon['ProcessingJobArn']\n",
    "            break\n",
    "        if status == 'InProgress':\n",
    "            break\n",
    "    else:\n",
    "        raise(Exception('Please wait.  No Schedules executing'))\n",
    "    time.sleep(10)"
   ]
  },
  {
   "cell_type": "markdown",
   "metadata": {},
   "source": [
    "### View monitoring results\n",
    "\n",
    "Una vez que el programa de monitoreo del modelo haya tenido la oportunidad de ejecutarse al menos una vez, puede ver los resultados. Primero, cargamos los resultados de la ejecución del monitoreo de la última ejecución programada."
   ]
  },
  {
   "cell_type": "code",
   "execution_count": 84,
   "metadata": {},
   "outputs": [
    {
     "name": "stdout",
     "output_type": "stream",
     "text": [
      "Monitoring Execution results: s3://sagemaker-us-east-1-962542737140/nyctaxi/monitoring/reports/mlops-nyctaxi-prd-8088d44e-e8ce-4936-a0c4-97e41805f817/mlops-nyctaxi-pms/2021/09/18/04\n"
     ]
    }
   ],
   "source": [
    "if processing_job_arn:\n",
    "    execution = MonitoringExecution.from_processing_arn(sagemaker_session=sagemaker.Session(),\n",
    "                                                        processing_job_arn=processing_job_arn)\n",
    "    exec_inputs = {inp['InputName']: inp for inp in execution.describe()['ProcessingInputs']}\n",
    "    exec_results_uri = execution.output.destination\n",
    "\n",
    "    print('Monitoring Execution results: {}'.format(exec_results_uri))"
   ]
  },
  {
   "cell_type": "markdown",
   "metadata": {},
   "source": [
    "Echamos un vistazo a los archivos que se han guardado en la ubicación de salida de S3. Si se encontraron infracciones, debería ver un archivo de infracciones de restricciones además del archivo de estadísticas y restricciones que vio antes."
   ]
  },
  {
   "cell_type": "code",
   "execution_count": 85,
   "metadata": {},
   "outputs": [
    {
     "name": "stdout",
     "output_type": "stream",
     "text": [
      "2021-09-18 04:18:37        479 constraint_violations.json\r\n",
      "2021-09-18 04:18:37       1025 constraints.json\r\n",
      "2021-09-18 04:18:37      12041 statistics.json\r\n"
     ]
    }
   ],
   "source": [
    "!aws s3 ls $exec_results_uri/"
   ]
  },
  {
   "cell_type": "markdown",
   "metadata": {},
   "source": [
    "Ahora, buscamos las estadísticas de seguimiento y las infracciones. Luego usamos el código de utils para visualizar los resultados en una tabla. Esta resaltará cualquier desviación del baseline encontrada por el monitor del modelo. La desviación puede ocurrir para features categóricos (para estilos de cadena inferidos) o para features numéricas (por ejemplo, monto total de la tarifa)."
   ]
  },
  {
   "cell_type": "code",
   "execution_count": 86,
   "metadata": {},
   "outputs": [],
   "source": [
    "# Get the baseline and monitoring statistics & violations\n",
    "baseline_statistics = baseline_job.baseline_statistics().body_dict\n",
    "execution_statistics = execution.statistics().body_dict\n",
    "violations = execution.constraint_violations().body_dict['violations']"
   ]
  },
  {
   "cell_type": "code",
   "execution_count": 87,
   "metadata": {},
   "outputs": [
    {
     "data": {
      "text/html": [
       "<style  type=\"text/css\" >\n",
       "#T_8cadbd48_1837_11ec_a705_12a14ba8b81brow0_col0,#T_8cadbd48_1837_11ec_a705_12a14ba8b81brow0_col1,#T_8cadbd48_1837_11ec_a705_12a14ba8b81brow0_col2,#T_8cadbd48_1837_11ec_a705_12a14ba8b81brow0_col3,#T_8cadbd48_1837_11ec_a705_12a14ba8b81brow3_col0,#T_8cadbd48_1837_11ec_a705_12a14ba8b81brow3_col1,#T_8cadbd48_1837_11ec_a705_12a14ba8b81brow3_col2,#T_8cadbd48_1837_11ec_a705_12a14ba8b81brow3_col3{\n",
       "            background-color:  white;\n",
       "        }#T_8cadbd48_1837_11ec_a705_12a14ba8b81brow1_col0,#T_8cadbd48_1837_11ec_a705_12a14ba8b81brow2_col2{\n",
       "            background-color:  white;\n",
       "            background-color:  #fff7dc;\n",
       "            background-color:  orange;\n",
       "        }#T_8cadbd48_1837_11ec_a705_12a14ba8b81brow1_col1,#T_8cadbd48_1837_11ec_a705_12a14ba8b81brow1_col2,#T_8cadbd48_1837_11ec_a705_12a14ba8b81brow1_col3,#T_8cadbd48_1837_11ec_a705_12a14ba8b81brow2_col0,#T_8cadbd48_1837_11ec_a705_12a14ba8b81brow2_col1,#T_8cadbd48_1837_11ec_a705_12a14ba8b81brow2_col3{\n",
       "            background-color:  white;\n",
       "            background-color:  #fff7dc;\n",
       "        }</style><table id=\"T_8cadbd48_1837_11ec_a705_12a14ba8b81b\" ><thead>    <tr>        <th class=\"blank level0\" ></th>        <th class=\"col_heading level0 col0\" >data_type</th>        <th class=\"col_heading level0 col1\" >completeness</th>        <th class=\"col_heading level0 col2\" >baseline_drift</th>        <th class=\"col_heading level0 col3\" >categorical_values</th>    </tr></thead><tbody>\n",
       "                <tr>\n",
       "                        <th id=\"T_8cadbd48_1837_11ec_a705_12a14ba8b81blevel0_row0\" class=\"row_heading level0 row0\" >duration_minutes</th>\n",
       "                        <td id=\"T_8cadbd48_1837_11ec_a705_12a14ba8b81brow0_col0\" class=\"data row0 col0\" >Fractional</td>\n",
       "                        <td id=\"T_8cadbd48_1837_11ec_a705_12a14ba8b81brow0_col1\" class=\"data row0 col1\" >100.00%</td>\n",
       "                        <td id=\"T_8cadbd48_1837_11ec_a705_12a14ba8b81brow0_col2\" class=\"data row0 col2\" >N/A</td>\n",
       "                        <td id=\"T_8cadbd48_1837_11ec_a705_12a14ba8b81brow0_col3\" class=\"data row0 col3\" >N/A</td>\n",
       "            </tr>\n",
       "            <tr>\n",
       "                        <th id=\"T_8cadbd48_1837_11ec_a705_12a14ba8b81blevel0_row1\" class=\"row_heading level0 row1\" >passenger_count</th>\n",
       "                        <td id=\"T_8cadbd48_1837_11ec_a705_12a14ba8b81brow1_col0\" class=\"data row1 col0\" >Fractional</td>\n",
       "                        <td id=\"T_8cadbd48_1837_11ec_a705_12a14ba8b81brow1_col1\" class=\"data row1 col1\" >100.00%</td>\n",
       "                        <td id=\"T_8cadbd48_1837_11ec_a705_12a14ba8b81brow1_col2\" class=\"data row1 col2\" >N/A</td>\n",
       "                        <td id=\"T_8cadbd48_1837_11ec_a705_12a14ba8b81brow1_col3\" class=\"data row1 col3\" >N/A</td>\n",
       "            </tr>\n",
       "            <tr>\n",
       "                        <th id=\"T_8cadbd48_1837_11ec_a705_12a14ba8b81blevel0_row2\" class=\"row_heading level0 row2\" >total_amount</th>\n",
       "                        <td id=\"T_8cadbd48_1837_11ec_a705_12a14ba8b81brow2_col0\" class=\"data row2 col0\" >Fractional</td>\n",
       "                        <td id=\"T_8cadbd48_1837_11ec_a705_12a14ba8b81brow2_col1\" class=\"data row2 col1\" >100.00%</td>\n",
       "                        <td id=\"T_8cadbd48_1837_11ec_a705_12a14ba8b81brow2_col2\" class=\"data row2 col2\" >13.84%</td>\n",
       "                        <td id=\"T_8cadbd48_1837_11ec_a705_12a14ba8b81brow2_col3\" class=\"data row2 col3\" >N/A</td>\n",
       "            </tr>\n",
       "            <tr>\n",
       "                        <th id=\"T_8cadbd48_1837_11ec_a705_12a14ba8b81blevel0_row3\" class=\"row_heading level0 row3\" >trip_distance</th>\n",
       "                        <td id=\"T_8cadbd48_1837_11ec_a705_12a14ba8b81brow3_col0\" class=\"data row3 col0\" >Fractional</td>\n",
       "                        <td id=\"T_8cadbd48_1837_11ec_a705_12a14ba8b81brow3_col1\" class=\"data row3 col1\" >100.00%</td>\n",
       "                        <td id=\"T_8cadbd48_1837_11ec_a705_12a14ba8b81brow3_col2\" class=\"data row3 col2\" >N/A</td>\n",
       "                        <td id=\"T_8cadbd48_1837_11ec_a705_12a14ba8b81brow3_col3\" class=\"data row3 col3\" >N/A</td>\n",
       "            </tr>\n",
       "    </tbody></table>"
      ],
      "text/plain": [
       "<pandas.io.formats.style.Styler at 0x7fe9b4514ac8>"
      ]
     },
     "execution_count": 87,
     "metadata": {},
     "output_type": "execute_result"
    }
   ],
   "source": [
    "mu.show_violation_df(baseline_statistics=baseline_statistics, \n",
    "                     latest_statistics=execution_statistics, \n",
    "                     violations=violations)"
   ]
  },
  {
   "cell_type": "markdown",
   "metadata": {},
   "source": [
    "### Trigger Retraining\n",
    "\n",
    "La instancia de CodePipeline es configurada con [CloudWatch Events](https://docs.aws.amazon.com/codepipeline/latest/userguide/create-cloudtrail-S3-source.html)⇗ para empezar el pipeline para reentrenar cuando la detección de deriva (drift detection) activa alarmas métricas específicas.\n",
    "\n",
    "Puede simular la desviación colocando un valor de métrica por encima del umbral de \"0,2\" directamente en CloudWatch. Esto activará la alarma e iniciará code pipeline.\n",
    "\n",
    "<div class=\"alert alert-block alert-info\">\n",
    "    Tip:Esta alarma está configurada solo para el último endpoint de producción, por lo que el reentrenamiento solo se producirá si compara las métricas con el último endpoint.\n",
    "</div>\n",
    "\n",
    "![Metric graph in CloudWatch](../docs/cloudwatch-alarm.png)\n",
    "\n",
    "Ejecutamos el siguiente código para activar la alarma métrica. La salida de la celda será un enlace a CloudWatch, donde puede ver la alarma (similar a la captura de pantalla anterior) y un enlace a CodePipeline que verá que se ejecuta nuevamente. Tenga en cuenta que pueden pasar un par de minutos hasta que todo se active."
   ]
  },
  {
   "cell_type": "code",
   "execution_count": 88,
   "metadata": {},
   "outputs": [
    {
     "name": "stdout",
     "output_type": "stream",
     "text": [
      "Simluate drift on endpoint: mlops-nyctaxi-prd-8088d44e-e8ce-4936-a0c4-97e41805f817\n",
      "Putting metric: 0.2914\n",
      "Average drift amount: 0\n",
      "Putting metric: 0.2668\n",
      "Average drift amount: 0\n",
      "Putting metric: 0.8599\n",
      "Average drift amount: 0.2791\n"
     ]
    }
   ],
   "source": [
    "from datetime import datetime\n",
    "import random\n",
    "\n",
    "cloudwatch = boto3.client('cloudwatch')\n",
    "\n",
    "# Define the metric name and threshold\n",
    "metric_name = 'feature_baseline_drift_total_amount'\n",
    "metric_threshold = 0.2\n",
    "\n",
    "# Put a new metric to trigger an alaram\n",
    "def put_drift_metric(value):\n",
    "    print('Putting metric: {}'.format(value))\n",
    "    response = cloudwatch.put_metric_data(\n",
    "        Namespace='aws/sagemaker/Endpoints/data-metrics',\n",
    "        MetricData=[\n",
    "            {\n",
    "                'MetricName': metric_name,\n",
    "                'Dimensions': [\n",
    "                    {\n",
    "                        'Name': 'MonitoringSchedule',\n",
    "                        'Value': schedule_name\n",
    "                    },\n",
    "                    {\n",
    "                        'Name': 'Endpoint',\n",
    "                        'Value': prd_endpoint_name\n",
    "                    },\n",
    "                ],\n",
    "                'Timestamp': datetime.now(),\n",
    "                'Value': value,\n",
    "                'Unit': 'None'\n",
    "            },\n",
    "        ]\n",
    "    )\n",
    "    \n",
    "def get_drift_stats():\n",
    "    response = cloudwatch.get_metric_statistics(\n",
    "        Namespace='aws/sagemaker/Endpoints/data-metrics',\n",
    "        MetricName=metric_name,\n",
    "        Dimensions=[\n",
    "            {\n",
    "                'Name': 'MonitoringSchedule',\n",
    "                'Value': schedule_name\n",
    "            },\n",
    "            {\n",
    "                'Name': 'Endpoint',\n",
    "                'Value': prd_endpoint_name\n",
    "            },\n",
    "        ],\n",
    "        StartTime=datetime.now() - timedelta(minutes=2),\n",
    "        EndTime=datetime.now(),\n",
    "        Period=1,\n",
    "        Statistics=['Average'],\n",
    "        Unit='None'\n",
    "    )\n",
    "    if 'Datapoints' in response and len(response['Datapoints']) > 0:        \n",
    "        return response['Datapoints'][0]['Average']\n",
    "    return 0    \n",
    "\n",
    "print('Simluate drift on endpoint: {}'.format(prd_endpoint_name))\n",
    "\n",
    "while True:\n",
    "    put_drift_metric(round(random.uniform(metric_threshold, 1.0), 4))\n",
    "    drift_stats = get_drift_stats()\n",
    "    print('Average drift amount: {}'.format(get_drift_stats()))\n",
    "    if drift_stats > metric_threshold:\n",
    "        break\n",
    "    time.sleep(1)"
   ]
  },
  {
   "cell_type": "markdown",
   "metadata": {},
   "source": [
    "Haga clic en el historial de ejecución de alarmas y CodePipeline con los enlaces a continuación."
   ]
  },
  {
   "cell_type": "code",
   "execution_count": 89,
   "metadata": {},
   "outputs": [
    {
     "data": {
      "text/html": [
       "<a target=\"_blank\" href=\"https://us-east-1.console.aws.amazon.com/cloudwatch/home?region=us-east-1#alarmsV2:alarm/mlops-nyctaxi-metric-gt-threshold\">CloudWatch Alarm</a> triggers\n",
       "     <a target=\"_blank\" href=\"https://us-east-1.console.aws.amazon.com/codesuite/codepipeline/pipelines/nyctaxi/executions?region=us-east-1\">Code Pipeline Execution</a>"
      ],
      "text/plain": [
       "<IPython.core.display.HTML object>"
      ]
     },
     "execution_count": 89,
     "metadata": {},
     "output_type": "execute_result"
    }
   ],
   "source": [
    "# Output a html link to the cloudwatch dashboard\n",
    "metric_alarm_name = 'mlops-{}-metric-gt-threshold'.format(model_name)\n",
    "HTML('''<a target=\"_blank\" href=\"https://{0}.console.aws.amazon.com/cloudwatch/home?region={0}#alarmsV2:alarm/{1}\">CloudWatch Alarm</a> triggers\n",
    "     <a target=\"_blank\" href=\"https://{0}.console.aws.amazon.com/codesuite/codepipeline/pipelines/{2}/executions?region={0}\">Code Pipeline Execution</a>'''.format(region, metric_alarm_name, pipeline_name))"
   ]
  },
  {
   "cell_type": "markdown",
   "metadata": {},
   "source": [
    "Una vez que el pipeline se esté ejecutando de nuevo, podemos volver a [Inspect Training Job](#Inspect-Training-Job)"
   ]
  },
  {
   "cell_type": "markdown",
   "metadata": {},
   "source": [
    "### Crear un dashboard en CloudWatch\n",
    "\n",
    "Por último, utilizaremos el código a continuación para crear un panel de CloudWatch para visualizar las alarmas y métricas de rendimiento clave que ha creado durante esta demo. La celda generará un enlace al dashboard. Este panel muestra 9 gráficos en tres filas, donde la primera fila muestra las métricas de Lambda, la segunda fila muestra las métricas de SageMaker y la tercera fila (que se muestra en la captura de pantalla a continuación) muestra las alarmas configuradas para el pipeline.\n",
    "\n",
    "![Graphs in CloudWatch dashboard](../docs/cloudwatch-dashboard.png)"
   ]
  },
  {
   "cell_type": "code",
   "execution_count": 91,
   "metadata": {},
   "outputs": [
    {
     "data": {
      "text/html": [
       "<a target=\"_blank\" href=\"https://us-east-1.console.aws.amazon.com/cloudwatch/home?region=us-east-1#dashboards:name=mlops-nyctaxi\">CloudWatch Dashboard</a>"
      ],
      "text/plain": [
       "<IPython.core.display.HTML object>"
      ]
     },
     "execution_count": 91,
     "metadata": {},
     "output_type": "execute_result"
    }
   ],
   "source": [
    "sts = boto3.client('sts')\n",
    "account_id = sts.get_caller_identity().get('Account')\n",
    "dashboard_name = 'mlops-{}'.format(model_name)\n",
    "\n",
    "with open('dashboard.json') as f:\n",
    "    dashboard_body = Template(f.read()).substitute(region=region, account_id=account_id, model_name=model_name)\n",
    "    response = cloudwatch.put_dashboard(\n",
    "        DashboardName=dashboard_name,\n",
    "        DashboardBody=dashboard_body\n",
    "    )\n",
    "\n",
    "# Output a html link to the cloudwatch dashboard\n",
    "HTML('<a target=\"_blank\" href=\"https://{0}.console.aws.amazon.com/cloudwatch/home?region={0}#dashboards:name={1}\">CloudWatch Dashboard</a>'.format(region, canary_name))"
   ]
  },
  {
   "cell_type": "markdown",
   "metadata": {},
   "source": [
    "Congratulations! You have made it to the end of this notebook, and have automated a safe MLOps pipeline using a wide range of AWS services. \n",
    "\n",
    "You can use the other notebook in this repository [workflow.ipynb](workflow.ipynb) to implement your own ML model and deploy it as part of this pipeline. Or, if you are finished with the content, follow the instructions in the next section to clean up the resources you have deployed."
   ]
  },
  {
   "cell_type": "markdown",
   "metadata": {},
   "source": [
    "## Cleanup\n",
    "\n",
    "Execute the following cell to delete the stacks created in the pipeline. For a model name of **nyctaxi** these would be:\n",
    "\n",
    "1. *nyctaxi*-deploy-prd\n",
    "2. *nyctaxi*-deploy-dev\n",
    "3. *nyctaxi*-workflow\n",
    "4. sagemaker-custom-resource"
   ]
  },
  {
   "cell_type": "code",
   "execution_count": 92,
   "metadata": {},
   "outputs": [
    {
     "name": "stdout",
     "output_type": "stream",
     "text": [
      "Deleting stack: nyctaxi-deploy-prd\n",
      "Deleting stack: nyctaxi-deploy-dev\n",
      "Deleting stack: nyctaxi-workflow\n",
      "Deleting stack: sagemaker-custom-resource\n"
     ]
    }
   ],
   "source": [
    "cfn = boto3.client('cloudformation')\n",
    "\n",
    "# Delete the prod and then dev stack\n",
    "for stack_name in [f'{pipeline_name}-deploy-prd', \n",
    "                   f'{pipeline_name}-deploy-dev',\n",
    "                   f'{pipeline_name}-workflow',\n",
    "                   'sagemaker-custom-resource']:\n",
    "    print('Deleting stack: {}'.format(stack_name))\n",
    "    cfn.delete_stack(StackName=stack_name)\n",
    "    cfn.get_waiter('stack_delete_complete').wait(StackName=stack_name)"
   ]
  },
  {
   "cell_type": "markdown",
   "metadata": {},
   "source": [
    "The following code will delete the dashboard."
   ]
  },
  {
   "cell_type": "code",
   "execution_count": 95,
   "metadata": {},
   "outputs": [
    {
     "name": "stdout",
     "output_type": "stream",
     "text": [
      "Dashboard deleted\n"
     ]
    }
   ],
   "source": [
    "cloudwatch.delete_dashboards(DashboardNames=[dashboard_name])\n",
    "print(\"Dashboard deleted\")"
   ]
  },
  {
   "cell_type": "markdown",
   "metadata": {},
   "source": [
    "Finally, close this notebook and you can delete the CloudFormation you created to launch this MLOps sample."
   ]
  }
 ],
 "metadata": {
  "kernelspec": {
   "display_name": "conda_python3",
   "language": "python",
   "name": "conda_python3"
  },
  "language_info": {
   "codemirror_mode": {
    "name": "ipython",
    "version": 3
   },
   "file_extension": ".py",
   "mimetype": "text/x-python",
   "name": "python",
   "nbconvert_exporter": "python",
   "pygments_lexer": "ipython3",
   "version": "3.6.13"
  }
 },
 "nbformat": 4,
 "nbformat_minor": 4
}
